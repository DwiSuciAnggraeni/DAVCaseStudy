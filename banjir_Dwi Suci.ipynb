{
 "cells": [
  {
   "attachments": {},
   "cell_type": "markdown",
   "metadata": {},
   "source": [
    "# About Data\n",
    "\n",
    "Data Banjir DKI tahun 2018\\\n",
    "Dataset ini berisi tentang Data Rekapitulasi Bulanan Kejadian Banjir di Provinsi DKI Jakarta Tahun 2018 yang terjadi pada\\\n",
    "bulan Januari, Februari, Maret, April, Mei, Juni, Oktober, November, Desember "
   ]
  },
  {
   "attachments": {},
   "cell_type": "markdown",
   "metadata": {},
   "source": [
    "Import library"
   ]
  },
  {
   "cell_type": "code",
   "execution_count": 1,
   "metadata": {},
   "outputs": [],
   "source": [
    "import pandas as pd\n",
    "import plotly.express as px\n",
    "import plotly.graph_objects as go\n",
    "from plotly.subplots import make_subplots"
   ]
  },
  {
   "attachments": {},
   "cell_type": "markdown",
   "metadata": {},
   "source": [
    "Read data before rename"
   ]
  },
  {
   "cell_type": "code",
   "execution_count": 2,
   "metadata": {},
   "outputs": [
    {
     "data": {
      "text/html": [
       "<div>\n",
       "<style scoped>\n",
       "    .dataframe tbody tr th:only-of-type {\n",
       "        vertical-align: middle;\n",
       "    }\n",
       "\n",
       "    .dataframe tbody tr th {\n",
       "        vertical-align: top;\n",
       "    }\n",
       "\n",
       "    .dataframe thead th {\n",
       "        text-align: right;\n",
       "    }\n",
       "</style>\n",
       "<table border=\"1\" class=\"dataframe\">\n",
       "  <thead>\n",
       "    <tr style=\"text-align: right;\">\n",
       "      <th></th>\n",
       "      <th>kota_administrasi</th>\n",
       "      <th>kecamatan</th>\n",
       "      <th>kelurahan</th>\n",
       "      <th>rw</th>\n",
       "      <th>jumlah_terdampak_rw</th>\n",
       "      <th>jumlah_terdampak_rt</th>\n",
       "      <th>jumlah_terdampak_kk</th>\n",
       "      <th>jumlah_terdampak_jiwa</th>\n",
       "      <th>ketinggian_air</th>\n",
       "      <th>tanggal_kejadian</th>\n",
       "      <th>lama_genangan</th>\n",
       "      <th>jumlah_meninggal</th>\n",
       "      <th>jumlah_hilang</th>\n",
       "      <th>jumlah_luka_berat</th>\n",
       "      <th>jumlah_luka_ringan</th>\n",
       "      <th>jumlah_pengungsi_tertinggi</th>\n",
       "      <th>jumlah_tempat_pengungsian</th>\n",
       "      <th>nilai_kerugian</th>\n",
       "    </tr>\n",
       "  </thead>\n",
       "  <tbody>\n",
       "    <tr>\n",
       "      <th>0</th>\n",
       "      <td>Jakarta Barat</td>\n",
       "      <td>PENJARINGAN</td>\n",
       "      <td>KAMAL MUARA</td>\n",
       "      <td>01, 04</td>\n",
       "      <td>2</td>\n",
       "      <td>12</td>\n",
       "      <td>0</td>\n",
       "      <td>0</td>\n",
       "      <td>20 s/d 30 cm</td>\n",
       "      <td>tgl. 02</td>\n",
       "      <td>0</td>\n",
       "      <td>0</td>\n",
       "      <td>0</td>\n",
       "      <td>0</td>\n",
       "      <td>0</td>\n",
       "      <td>0</td>\n",
       "      <td>0</td>\n",
       "      <td>0</td>\n",
       "    </tr>\n",
       "    <tr>\n",
       "      <th>1</th>\n",
       "      <td>Jakarta Utara</td>\n",
       "      <td>KALIDERES</td>\n",
       "      <td>KAMAL</td>\n",
       "      <td>1, 4</td>\n",
       "      <td>2</td>\n",
       "      <td>3</td>\n",
       "      <td>0</td>\n",
       "      <td>0</td>\n",
       "      <td>10 s/d 25 cm</td>\n",
       "      <td>tgl. 03, 04, 05, 18, 31</td>\n",
       "      <td>0</td>\n",
       "      <td>0</td>\n",
       "      <td>0</td>\n",
       "      <td>0</td>\n",
       "      <td>0</td>\n",
       "      <td>0</td>\n",
       "      <td>0</td>\n",
       "      <td>0</td>\n",
       "    </tr>\n",
       "    <tr>\n",
       "      <th>2</th>\n",
       "      <td>Jakarta Utara</td>\n",
       "      <td>GROGOL PETAMBURAN</td>\n",
       "      <td>JELAMBAR BARU</td>\n",
       "      <td>1</td>\n",
       "      <td>1</td>\n",
       "      <td>2</td>\n",
       "      <td>0</td>\n",
       "      <td>0</td>\n",
       "      <td>15 cm</td>\n",
       "      <td>tgl. 03</td>\n",
       "      <td>0</td>\n",
       "      <td>0</td>\n",
       "      <td>0</td>\n",
       "      <td>0</td>\n",
       "      <td>0</td>\n",
       "      <td>0</td>\n",
       "      <td>0</td>\n",
       "      <td>0</td>\n",
       "    </tr>\n",
       "    <tr>\n",
       "      <th>3</th>\n",
       "      <td>Jakarta Utara</td>\n",
       "      <td>GROGOL PETAMBURAN</td>\n",
       "      <td>JELAMBAR</td>\n",
       "      <td>7</td>\n",
       "      <td>1</td>\n",
       "      <td>1</td>\n",
       "      <td>0</td>\n",
       "      <td>0</td>\n",
       "      <td>20 cm</td>\n",
       "      <td>tgl. 03</td>\n",
       "      <td>0</td>\n",
       "      <td>0</td>\n",
       "      <td>0</td>\n",
       "      <td>0</td>\n",
       "      <td>0</td>\n",
       "      <td>0</td>\n",
       "      <td>0</td>\n",
       "      <td>0</td>\n",
       "    </tr>\n",
       "    <tr>\n",
       "      <th>4</th>\n",
       "      <td>Jakarta Utara</td>\n",
       "      <td>KEMBANGAN</td>\n",
       "      <td>KEMBANGAN UTARA</td>\n",
       "      <td>3, 4, 5, 6</td>\n",
       "      <td>4</td>\n",
       "      <td>2</td>\n",
       "      <td>0</td>\n",
       "      <td>0</td>\n",
       "      <td>5 s/d 20 cm</td>\n",
       "      <td>tgl. 18</td>\n",
       "      <td>0</td>\n",
       "      <td>0</td>\n",
       "      <td>0</td>\n",
       "      <td>0</td>\n",
       "      <td>0</td>\n",
       "      <td>0</td>\n",
       "      <td>0</td>\n",
       "      <td>0</td>\n",
       "    </tr>\n",
       "  </tbody>\n",
       "</table>\n",
       "</div>"
      ],
      "text/plain": [
       "  kota_administrasi          kecamatan        kelurahan          rw  \\\n",
       "0     Jakarta Barat        PENJARINGAN      KAMAL MUARA      01, 04   \n",
       "1     Jakarta Utara          KALIDERES            KAMAL        1, 4   \n",
       "2     Jakarta Utara  GROGOL PETAMBURAN    JELAMBAR BARU           1   \n",
       "3     Jakarta Utara  GROGOL PETAMBURAN         JELAMBAR           7   \n",
       "4     Jakarta Utara          KEMBANGAN  KEMBANGAN UTARA  3, 4, 5, 6   \n",
       "\n",
       "   jumlah_terdampak_rw  jumlah_terdampak_rt  jumlah_terdampak_kk  \\\n",
       "0                    2                   12                    0   \n",
       "1                    2                    3                    0   \n",
       "2                    1                    2                    0   \n",
       "3                    1                    1                    0   \n",
       "4                    4                    2                    0   \n",
       "\n",
       "   jumlah_terdampak_jiwa ketinggian_air         tanggal_kejadian  \\\n",
       "0                      0   20 s/d 30 cm                  tgl. 02   \n",
       "1                      0   10 s/d 25 cm  tgl. 03, 04, 05, 18, 31   \n",
       "2                      0          15 cm                  tgl. 03   \n",
       "3                      0          20 cm                  tgl. 03   \n",
       "4                      0    5 s/d 20 cm                  tgl. 18   \n",
       "\n",
       "   lama_genangan  jumlah_meninggal  jumlah_hilang  jumlah_luka_berat  \\\n",
       "0              0                 0              0                  0   \n",
       "1              0                 0              0                  0   \n",
       "2              0                 0              0                  0   \n",
       "3              0                 0              0                  0   \n",
       "4              0                 0              0                  0   \n",
       "\n",
       "   jumlah_luka_ringan  jumlah_pengungsi_tertinggi  jumlah_tempat_pengungsian  \\\n",
       "0                   0                           0                          0   \n",
       "1                   0                           0                          0   \n",
       "2                   0                           0                          0   \n",
       "3                   0                           0                          0   \n",
       "4                   0                           0                          0   \n",
       "\n",
       "   nilai_kerugian  \n",
       "0               0  \n",
       "1               0  \n",
       "2               0  \n",
       "3               0  \n",
       "4               0  "
      ]
     },
     "execution_count": 2,
     "metadata": {},
     "output_type": "execute_result"
    }
   ],
   "source": [
    "path_relative ='data/data-kejadian-bencana-banjir-di-provinsi-dki-jakarta-tahun-2018-bulan-januari.csv'\n",
    "df_data = pd.read_csv(path_relative)\n",
    "df_data.head()"
   ]
  },
  {
   "attachments": {},
   "cell_type": "markdown",
   "metadata": {},
   "source": [
    "Read data after rename"
   ]
  },
  {
   "cell_type": "code",
   "execution_count": 3,
   "metadata": {},
   "outputs": [
    {
     "data": {
      "text/html": [
       "<div>\n",
       "<style scoped>\n",
       "    .dataframe tbody tr th:only-of-type {\n",
       "        vertical-align: middle;\n",
       "    }\n",
       "\n",
       "    .dataframe tbody tr th {\n",
       "        vertical-align: top;\n",
       "    }\n",
       "\n",
       "    .dataframe thead th {\n",
       "        text-align: right;\n",
       "    }\n",
       "</style>\n",
       "<table border=\"1\" class=\"dataframe\">\n",
       "  <thead>\n",
       "    <tr style=\"text-align: right;\">\n",
       "      <th></th>\n",
       "      <th>kota_administrasi</th>\n",
       "      <th>kecamatan</th>\n",
       "      <th>kelurahan</th>\n",
       "      <th>rw</th>\n",
       "      <th>jumlah_terdampak_rw</th>\n",
       "      <th>jumlah_terdampak_rt</th>\n",
       "      <th>jumlah_terdampak_kk</th>\n",
       "      <th>jumlah_terdampak_jiwa</th>\n",
       "      <th>ketinggian_air</th>\n",
       "      <th>tanggal_kejadian</th>\n",
       "      <th>lama_genangan</th>\n",
       "      <th>jumlah_meninggal</th>\n",
       "      <th>jumlah_hilang</th>\n",
       "      <th>jumlah_luka_berat</th>\n",
       "      <th>jumlah_luka_ringan</th>\n",
       "      <th>jumlah_pengungsi_tertinggi</th>\n",
       "      <th>jumlah_tempat_pengungsian</th>\n",
       "      <th>nilai_kerugian</th>\n",
       "      <th>bulan_kejadian</th>\n",
       "    </tr>\n",
       "  </thead>\n",
       "  <tbody>\n",
       "    <tr>\n",
       "      <th>0</th>\n",
       "      <td>Jakarta Barat</td>\n",
       "      <td>PENJARINGAN</td>\n",
       "      <td>KAMAL MUARA</td>\n",
       "      <td>01, 04</td>\n",
       "      <td>2</td>\n",
       "      <td>12</td>\n",
       "      <td>0</td>\n",
       "      <td>0</td>\n",
       "      <td>20 s/d 30 cm</td>\n",
       "      <td>tgl. 02</td>\n",
       "      <td>0</td>\n",
       "      <td>0</td>\n",
       "      <td>0</td>\n",
       "      <td>0</td>\n",
       "      <td>0</td>\n",
       "      <td>0</td>\n",
       "      <td>0</td>\n",
       "      <td>0</td>\n",
       "      <td>01</td>\n",
       "    </tr>\n",
       "    <tr>\n",
       "      <th>1</th>\n",
       "      <td>Jakarta Utara</td>\n",
       "      <td>KALIDERES</td>\n",
       "      <td>KAMAL</td>\n",
       "      <td>1, 4</td>\n",
       "      <td>2</td>\n",
       "      <td>3</td>\n",
       "      <td>0</td>\n",
       "      <td>0</td>\n",
       "      <td>10 s/d 25 cm</td>\n",
       "      <td>tgl. 03, 04, 05, 18, 31</td>\n",
       "      <td>0</td>\n",
       "      <td>0</td>\n",
       "      <td>0</td>\n",
       "      <td>0</td>\n",
       "      <td>0</td>\n",
       "      <td>0</td>\n",
       "      <td>0</td>\n",
       "      <td>0</td>\n",
       "      <td>01</td>\n",
       "    </tr>\n",
       "    <tr>\n",
       "      <th>2</th>\n",
       "      <td>Jakarta Utara</td>\n",
       "      <td>GROGOL PETAMBURAN</td>\n",
       "      <td>JELAMBAR BARU</td>\n",
       "      <td>1</td>\n",
       "      <td>1</td>\n",
       "      <td>2</td>\n",
       "      <td>0</td>\n",
       "      <td>0</td>\n",
       "      <td>15 cm</td>\n",
       "      <td>tgl. 03</td>\n",
       "      <td>0</td>\n",
       "      <td>0</td>\n",
       "      <td>0</td>\n",
       "      <td>0</td>\n",
       "      <td>0</td>\n",
       "      <td>0</td>\n",
       "      <td>0</td>\n",
       "      <td>0</td>\n",
       "      <td>01</td>\n",
       "    </tr>\n",
       "    <tr>\n",
       "      <th>3</th>\n",
       "      <td>Jakarta Utara</td>\n",
       "      <td>GROGOL PETAMBURAN</td>\n",
       "      <td>JELAMBAR</td>\n",
       "      <td>7</td>\n",
       "      <td>1</td>\n",
       "      <td>1</td>\n",
       "      <td>0</td>\n",
       "      <td>0</td>\n",
       "      <td>20 cm</td>\n",
       "      <td>tgl. 03</td>\n",
       "      <td>0</td>\n",
       "      <td>0</td>\n",
       "      <td>0</td>\n",
       "      <td>0</td>\n",
       "      <td>0</td>\n",
       "      <td>0</td>\n",
       "      <td>0</td>\n",
       "      <td>0</td>\n",
       "      <td>01</td>\n",
       "    </tr>\n",
       "    <tr>\n",
       "      <th>4</th>\n",
       "      <td>Jakarta Utara</td>\n",
       "      <td>KEMBANGAN</td>\n",
       "      <td>KEMBANGAN UTARA</td>\n",
       "      <td>3, 4, 5, 6</td>\n",
       "      <td>4</td>\n",
       "      <td>2</td>\n",
       "      <td>0</td>\n",
       "      <td>0</td>\n",
       "      <td>5 s/d 20 cm</td>\n",
       "      <td>tgl. 18</td>\n",
       "      <td>0</td>\n",
       "      <td>0</td>\n",
       "      <td>0</td>\n",
       "      <td>0</td>\n",
       "      <td>0</td>\n",
       "      <td>0</td>\n",
       "      <td>0</td>\n",
       "      <td>0</td>\n",
       "      <td>01</td>\n",
       "    </tr>\n",
       "  </tbody>\n",
       "</table>\n",
       "</div>"
      ],
      "text/plain": [
       "  kota_administrasi          kecamatan        kelurahan          rw  \\\n",
       "0     Jakarta Barat        PENJARINGAN      KAMAL MUARA      01, 04   \n",
       "1     Jakarta Utara          KALIDERES            KAMAL        1, 4   \n",
       "2     Jakarta Utara  GROGOL PETAMBURAN    JELAMBAR BARU           1   \n",
       "3     Jakarta Utara  GROGOL PETAMBURAN         JELAMBAR           7   \n",
       "4     Jakarta Utara          KEMBANGAN  KEMBANGAN UTARA  3, 4, 5, 6   \n",
       "\n",
       "   jumlah_terdampak_rw  jumlah_terdampak_rt  jumlah_terdampak_kk  \\\n",
       "0                    2                   12                    0   \n",
       "1                    2                    3                    0   \n",
       "2                    1                    2                    0   \n",
       "3                    1                    1                    0   \n",
       "4                    4                    2                    0   \n",
       "\n",
       "   jumlah_terdampak_jiwa ketinggian_air         tanggal_kejadian  \\\n",
       "0                      0   20 s/d 30 cm                  tgl. 02   \n",
       "1                      0   10 s/d 25 cm  tgl. 03, 04, 05, 18, 31   \n",
       "2                      0          15 cm                  tgl. 03   \n",
       "3                      0          20 cm                  tgl. 03   \n",
       "4                      0    5 s/d 20 cm                  tgl. 18   \n",
       "\n",
       "   lama_genangan  jumlah_meninggal  jumlah_hilang  jumlah_luka_berat  \\\n",
       "0              0                 0              0                  0   \n",
       "1              0                 0              0                  0   \n",
       "2              0                 0              0                  0   \n",
       "3              0                 0              0                  0   \n",
       "4              0                 0              0                  0   \n",
       "\n",
       "   jumlah_luka_ringan  jumlah_pengungsi_tertinggi  jumlah_tempat_pengungsian  \\\n",
       "0                   0                           0                          0   \n",
       "1                   0                           0                          0   \n",
       "2                   0                           0                          0   \n",
       "3                   0                           0                          0   \n",
       "4                   0                           0                          0   \n",
       "\n",
       "   nilai_kerugian bulan_kejadian  \n",
       "0               0             01  \n",
       "1               0             01  \n",
       "2               0             01  \n",
       "3               0             01  \n",
       "4               0             01  "
      ]
     },
     "execution_count": 3,
     "metadata": {},
     "output_type": "execute_result"
    }
   ],
   "source": [
    "data = []\n",
    "for file_number in range(1,13):\n",
    "    filename = f'data_rename/{file_number}.csv'\n",
    "    try:\n",
    "        df = pd.read_csv(filename)\n",
    "        df['bulan_kejadian'] = str(file_number).zfill(2) #menambahkan angka 0 jika 1 angka\n",
    "        data.append(df)\n",
    "    except FileNotFoundError:\n",
    "        continue #Jika (FileNotFoundError), iterasi akan dilanjutkan ke iterasi selanjutnya dgn continue\n",
    "\n",
    "df = pd.concat(data, axis=0, ignore_index=True)\n",
    "df.head()"
   ]
  },
  {
   "attachments": {},
   "cell_type": "markdown",
   "metadata": {},
   "source": [
    "# Data Understanding"
   ]
  },
  {
   "attachments": {},
   "cell_type": "markdown",
   "metadata": {},
   "source": [
    "- Column bulan_kejadian harusnya int\n",
    "- Data pada column kecamatan, kelurahan dan ketinggian air tidak konsisten\n",
    "- Ada data 0 pada jumlah_terdampak_rt tp di jumlah_terdampak_rw tidak ada data 0\n",
    "- Column ketinggian air dapat dibagi menjadi ketinggian minimal dan ketinggian maksimal \n",
    "- Pada column jumlah_meninggal, jumlah_luka_berat, jumlah_tempat_pengungsian dan nilai_kerugian hanya berisi nilai 0 "
   ]
  },
  {
   "cell_type": "code",
   "execution_count": 4,
   "metadata": {},
   "outputs": [
    {
     "name": "stdout",
     "output_type": "stream",
     "text": [
      "--------------------------\n",
      "kota_administrasi : object\n",
      "--------------------------\n",
      "Statistika Deskriptif\n",
      "count               135\n",
      "unique                5\n",
      "top       Jakarta Timur\n",
      "freq                 48\n",
      "Name: kota_administrasi, dtype: object \n",
      "\n",
      "Value Counts\n",
      "Jakarta Timur      48\n",
      "Jakarta Selatan    45\n",
      "Jakarta Barat      21\n",
      "Jakarta Utara      18\n",
      "Jakarta Pusat       3\n",
      "Name: kota_administrasi, dtype: int64 \n",
      "\n",
      "Unique Value\n",
      "['Jakarta Barat' 'Jakarta Utara' 'Jakarta Pusat' 'Jakarta Selatan'\n",
      " 'Jakarta Timur'] \n",
      "\n",
      "------------------\n",
      "kecamatan : object\n",
      "------------------\n",
      "Statistika Deskriptif\n",
      "count                 135\n",
      "unique                 45\n",
      "top       KEC. JATINEGARA\n",
      "freq                    9\n",
      "Name: kecamatan, dtype: object \n",
      "\n",
      "Value Counts\n",
      "KEC. JATINEGARA          9\n",
      "KEC. PASAR MINGGU        8\n",
      "CENGKARENG               8\n",
      "KEC. PANCORAN            6\n",
      "KRAMAT JATI              6\n",
      "KEC. KRAMAT JATI         6\n",
      "JATINEGARA               5\n",
      "CAKUNG                   5\n",
      "KEC. PENJARINGAN         5\n",
      "KEC. CILANDAK            5\n",
      "KEC. KEBAYORAN LAMA      4\n",
      "MAKASAR                  4\n",
      "PENJARINGAN              4\n",
      "TEBET                    4\n",
      "KEC. CAKUNG              4\n",
      "GROGOL PETAMBURAN        4\n",
      "KEC. CENGKARENG          4\n",
      "KEC. KALIDERES           3\n",
      "KEC. KEBAYORAN BARU      3\n",
      "PANCORAN                 3\n",
      "KALIDERES                3\n",
      "KEC. CIRACAS             2\n",
      "KEC. MAKASAR             2\n",
      "PASAR MINGGU             2\n",
      "KEMBANGAN                2\n",
      "KEC. PESANGGRAHAN        2\n",
      "JATINEGARA               2\n",
      "JAGAKARSA                2\n",
      "KEC. MAMPANG PRAPATAN    2\n",
      "KEC. TEBET               1\n",
      "KEC. SAWAH BESAR         1\n",
      "PASAR REBO               1\n",
      "PULOGADUNG               1\n",
      "PESANGGRAHAN             1\n",
      "MATRAMAN                 1\n",
      "MAMPANG PRAPATAN         1\n",
      "CILANDAK                 1\n",
      "PALMERAH                 1\n",
      "KEBON JERUK              1\n",
      "KOJA                     1\n",
      "KELAPA GADING            1\n",
      "CILINCING                1\n",
      "KEMAYORAN                1\n",
      "CEMPAKA PUTIH            1\n",
      "KEC. KEMBANGAN           1\n",
      "Name: kecamatan, dtype: int64 \n",
      "\n",
      "Unique Value\n",
      "['PENJARINGAN' 'KALIDERES' 'GROGOL PETAMBURAN' 'KEMBANGAN' 'CENGKARENG'\n",
      " 'CEMPAKA PUTIH' 'KEMAYORAN' 'CILINCING' 'KELAPA GADING' 'KOJA'\n",
      " 'KEBON JERUK' 'PALMERAH' 'CILANDAK' 'PANCORAN' 'PASAR MINGGU' 'TEBET'\n",
      " 'JAGAKARSA' 'MAMPANG PRAPATAN' 'CAKUNG' 'JATINEGARA' 'MAKASAR'\n",
      " 'KRAMAT JATI' 'PASAR REBO' 'MATRAMAN' 'PESANGGRAHAN' 'PULOGADUNG'\n",
      " 'JATINEGARA ' 'KEC. KALIDERES' 'KEC. PASAR MINGGU'\n",
      " 'KEC. MAMPANG PRAPATAN' 'KEC. PANCORAN' 'KEC. CILANDAK'\n",
      " 'KEC. KEBAYORAN BARU' 'KEC. TEBET' 'KEC. JATINEGARA' 'KEC. KRAMAT JATI'\n",
      " 'KEC. KEBAYORAN LAMA' 'KEC. SAWAH BESAR' 'KEC. CENGKARENG'\n",
      " 'KEC. PENJARINGAN' 'KEC. PESANGGRAHAN' 'KEC. MAKASAR' 'KEC. CIRACAS'\n",
      " 'KEC. CAKUNG' 'KEC. KEMBANGAN'] \n",
      "\n",
      "------------------\n",
      "kelurahan : object\n",
      "------------------\n",
      "Statistika Deskriptif\n",
      "count             135\n",
      "unique             88\n",
      "top       KEL. CAWANG\n",
      "freq                4\n",
      "Name: kelurahan, dtype: object \n",
      "\n",
      "Value Counts\n",
      "KEL. CAWANG            4\n",
      "KEL. BIDARA CINA       4\n",
      "KEL. KAMPUNG MELAYU    4\n",
      "KEL. KAMAL             3\n",
      "BIDARA CINA            3\n",
      "                      ..\n",
      "RAWA TERATE            1\n",
      "BANGKA                 1\n",
      "SRENGSENG SAWAH        1\n",
      "LENTENG AGUNG          1\n",
      "KEL. CAKUNG TIMUR      1\n",
      "Name: kelurahan, Length: 88, dtype: int64 \n",
      "\n",
      "Unique Value\n",
      "['KAMAL MUARA' 'KAMAL' 'JELAMBAR BARU' 'JELAMBAR' 'KEMBANGAN UTARA'\n",
      " 'KAPUK' 'RAWA BUAYA' 'CENGKARENG TIMUR' 'CEMPAKA PUTIH TIMUR' 'SERDANG'\n",
      " 'PENJARINGAN' 'KAPUK MUARA' 'SUKAPURA' 'PEGANGSAAN DUA' 'TUGU SELATAN'\n",
      " 'TEGAL ALUR' 'DURI KOSAMBI' 'CENGKARENG BARAT' 'DURI KEPA'\n",
      " 'WIJAYA KUSUMA' 'JATI PULO' 'PONDOK LABU' 'PANGADEGAN' 'RAWA JATI'\n",
      " 'PEJATEN TIMUR' 'KEBON BARU' 'MANGGARAI' 'BUKIT DURI' 'LENTENG AGUNG'\n",
      " 'SRENGSENG SAWAH' 'BANGKA' 'RAWA TERATE' 'CAKUNG BARAT' 'JATINEGARA'\n",
      " 'KAMPUNG MELAYU' 'BIDARA CINA' 'CIPINANG MUARA' 'CIPINANG MELAYU'\n",
      " 'MAKASAR' 'CAWANG' 'CILILITAN' 'BALE KAMBANG' 'GEDONG' 'KEBON MANGGIS'\n",
      " 'RAWAJATI' 'ULUJAMI' 'JATINEGARA ' ' PENGGILINGAN ' 'RAWAMANGUN'\n",
      " 'CAWANG ' 'KEL. KAMAL' 'KEL. JATI PADANG' 'KEL. RAGUNAN'\n",
      " 'KEL. CILANDAK TIMUR' 'KEL. PEJATEN TIMUR' 'KEL. BANGKA'\n",
      " 'KEL. DUREN TIGA' 'KEL. RAWAJATI' 'KEL. PENGADEGAN' 'KEL. PONDOK LABU'\n",
      " 'KEL. CIPETE SELATAN' 'KEL. PETOGOGAN' 'KEL. KEBON BARU'\n",
      " 'KEL. KAMPUNG MELAYU' 'KEL. BIDARA CINA' 'KEL. CAWANG' 'KEL. CILILITAN'\n",
      " 'KEL. PONDOK PINANG' 'KEL. CIPULIR' 'KEL. GUNUNG SAHARI UTARA'\n",
      " 'KEL. RAWA BUAYA' 'KEL. PLUIT' 'KEL. KAMAL MUARA' 'KEL. GANDARIA SELATAN'\n",
      " 'KEL. ULUJAMI' 'KEL. CIPINANG MELAYU' 'KEL. CIPINANG MUARA'\n",
      " 'KEL. RAMBUTAN' 'KEL. JATINEGARA' 'KEL. RAWA TERATE' 'KEL. PENJARINGAN'\n",
      " 'KEL. CENGKARENG TIMUR' 'KEL. DURI KOSAMBI' 'KEL. KEMBANGAN UTARA'\n",
      " 'KEL. CILANDAK BARAT' 'KEL. KALIBATA' 'KEL. CIPETE UTARA'\n",
      " 'KEL. CAKUNG TIMUR'] \n",
      "\n",
      "-----------\n",
      "rw : object\n",
      "-----------\n",
      "Statistika Deskriptif\n",
      "count     135\n",
      "unique     80\n",
      "top         1\n",
      "freq       11\n",
      "Name: rw, dtype: object \n",
      "\n",
      "Value Counts\n",
      "1                                     11\n",
      "5                                      7\n",
      "4                                      6\n",
      "07, 11                                 5\n",
      "7                                      4\n",
      "                                      ..\n",
      "03, 05, 06, 07, 11, 12, 14, 15, 16     1\n",
      "03, 04, 05                             1\n",
      "01, 02, 03, 05, 08, 12                 1\n",
      "1, 4                                   1\n",
      "03, 05                                 1\n",
      "Name: rw, Length: 80, dtype: int64 \n",
      "\n",
      "Unique Value\n",
      "['01, 04' '1, 4' '1' '7' '3, 4, 5, 6' '02, 05, 06, 07, 09, 12, 13, 15, 16'\n",
      " '01, 02' '03, 04, 12, 13' '05, 07, 08' '01, 07' '01, 02, 04' '12, 17'\n",
      " '01, 10' '3' '4'\n",
      " '01, 02, 03, 04, 05, 06, 07, 08, 09, 10, 11, 12, 13, 14, 15, 16'\n",
      " '01, 02, 03, 04, 05, 06, 07, 08, 09'\n",
      " '01, 02, 03, 04, 05, 06, 07, 09, 10, 11, 12, 13, 15, 16' '01, 02, 05, 11'\n",
      " '04, 06, 09, 10, 11, 16' '03, 12, 13, 14, 16' '04, 10'\n",
      " '01, 02, 03, 04, 10' '03, 16' '5' '01, 03, 07' '05, 06, 07, 08' '10'\n",
      " '10, 11' '02, 03, 04, 06, 07' '01, 02, 05, 06, 07, 08, 12' '2' '04, 05'\n",
      " '03, 07, 08' '01, 02, 03, 05, 06, 07, 08, 11, 14'\n",
      " '01, 02, 04, 05, 06, 07, 08' '03, 05, 06, 07, 11, 12, 14, 15, 16' '13'\n",
      " '03, 04, 05' '01, 02, 03, 05, 08, 12' '05, 06, 07, 15, 16' '01, 02, 05'\n",
      " '03, 04' '05, 06, 08' '07, 11' '04, 05, 06, 07, 08' '01, 02, 03, 05, 08'\n",
      " '06, 07' '12' '3 , 4' '14' '04 , 05, 06, 07, 08 ' '5, 7, 11 ' '01'\n",
      " '02, 04, 05, 06, 09' '07, 08' '01, 03, 04, 09, 13' '01, 02, 03, 04' '07'\n",
      " '01, 02, 03, 07' '02' '04, 05, 07, 08' '03, 05, 08' '03, 11'\n",
      " '01, 02, 03, 05' '22' '03, 09' '05, 07' '02, 03, 05, 08' '8' '17'\n",
      " '1, 2, 3, 4, 7, 8, 11' '4, 5, 6' '02, 06' '9' '02, 03, 04' '1, 2, 3, 5'\n",
      " '6' '1, 3' '03, 05'] \n",
      "\n",
      "---------------------------\n",
      "jumlah_terdampak_rw : int64\n",
      "---------------------------\n",
      "Statistika Deskriptif\n",
      "count    135.000000\n",
      "mean       2.748148\n",
      "std        2.457758\n",
      "min        1.000000\n",
      "25%        1.000000\n",
      "50%        2.000000\n",
      "75%        4.000000\n",
      "max       16.000000\n",
      "Name: jumlah_terdampak_rw, dtype: float64 \n",
      "\n",
      "Value Counts\n",
      "1     54\n",
      "2     31\n",
      "4     14\n",
      "3     13\n",
      "5     12\n",
      "9      4\n",
      "6      2\n",
      "7      2\n",
      "16     1\n",
      "14     1\n",
      "8      1\n",
      "Name: jumlah_terdampak_rw, dtype: int64 \n",
      "\n",
      "Unique Value\n",
      "[ 2  1  4  9  3 16 14  6  5  7  8] \n",
      "\n",
      "---------------------------\n",
      "jumlah_terdampak_rt : int64\n",
      "---------------------------\n",
      "Statistika Deskriptif\n",
      "count    135.000000\n",
      "mean       7.874074\n",
      "std       14.925401\n",
      "min        0.000000\n",
      "25%        1.000000\n",
      "50%        3.000000\n",
      "75%        8.000000\n",
      "max      143.000000\n",
      "Name: jumlah_terdampak_rt, dtype: float64 \n",
      "\n",
      "Value Counts\n",
      "1      32\n",
      "3      19\n",
      "2      14\n",
      "4      12\n",
      "5       8\n",
      "8       6\n",
      "12      5\n",
      "0       5\n",
      "10      5\n",
      "6       4\n",
      "27      4\n",
      "21      3\n",
      "7       3\n",
      "25      2\n",
      "9       2\n",
      "13      2\n",
      "39      1\n",
      "14      1\n",
      "55      1\n",
      "32      1\n",
      "15      1\n",
      "47      1\n",
      "26      1\n",
      "143     1\n",
      "19      1\n",
      "Name: jumlah_terdampak_rt, dtype: int64 \n",
      "\n",
      "Unique Value\n",
      "[ 12   3   2   1  21   7   6   5   8 143  47  15  13  39   4   0  10  14\n",
      "  55  32  27   9  26  25  19] \n",
      "\n",
      "---------------------------\n",
      "jumlah_terdampak_kk : int64\n",
      "---------------------------\n",
      "Statistika Deskriptif\n",
      "count     135.000000\n",
      "mean       67.340741\n",
      "std       190.169805\n",
      "min         0.000000\n",
      "25%         0.000000\n",
      "50%         0.000000\n",
      "75%         0.000000\n",
      "max      1066.000000\n",
      "Name: jumlah_terdampak_kk, dtype: float64 \n",
      "\n",
      "Value Counts\n",
      "0       103\n",
      "18        2\n",
      "7         2\n",
      "300       1\n",
      "34        1\n",
      "168       1\n",
      "235       1\n",
      "60        1\n",
      "560       1\n",
      "825       1\n",
      "175       1\n",
      "212       1\n",
      "1         1\n",
      "327       1\n",
      "187       1\n",
      "20        1\n",
      "41        1\n",
      "303       1\n",
      "251       1\n",
      "1066      1\n",
      "876       1\n",
      "983       1\n",
      "113       1\n",
      "540       1\n",
      "324       1\n",
      "464       1\n",
      "600       1\n",
      "98        1\n",
      "38        1\n",
      "30        1\n",
      "210       1\n",
      "Name: jumlah_terdampak_kk, dtype: int64 \n",
      "\n",
      "Unique Value\n",
      "[   0    7   30   38   98  600  464  324  540  113   18  983  876 1066\n",
      "  251   41  303  300   20  187  327    1  212  175  825  560   60  235\n",
      "  168   34  210] \n",
      "\n",
      "-----------------------------\n",
      "jumlah_terdampak_jiwa : int64\n",
      "-----------------------------\n",
      "Statistika Deskriptif\n",
      "count     135.000000\n",
      "mean      242.244444\n",
      "std       699.523169\n",
      "min         0.000000\n",
      "25%         0.000000\n",
      "50%         0.000000\n",
      "75%         0.000000\n",
      "max      4000.000000\n",
      "Name: jumlah_terdampak_jiwa, dtype: float64 \n",
      "\n",
      "Value Counts\n",
      "0       103\n",
      "1000      1\n",
      "77        1\n",
      "710       1\n",
      "789       1\n",
      "240       1\n",
      "1858      1\n",
      "4000      1\n",
      "290       1\n",
      "711       1\n",
      "3         1\n",
      "1065      1\n",
      "636       1\n",
      "60        1\n",
      "20        1\n",
      "988       1\n",
      "414       1\n",
      "30        1\n",
      "54        1\n",
      "806       1\n",
      "3584      1\n",
      "2642      1\n",
      "3074      1\n",
      "56        1\n",
      "265       1\n",
      "2347      1\n",
      "962       1\n",
      "1509      1\n",
      "2993      1\n",
      "480       1\n",
      "140       1\n",
      "100       1\n",
      "800       1\n",
      "Name: jumlah_terdampak_jiwa, dtype: int64 \n",
      "\n",
      "Unique Value\n",
      "[   0   30  100  140  480 2993 1509  962 2347  265   56 3074 2642 3584\n",
      "  806   54  414 1000  988   20   60  636 1065    3  711  290 4000 1858\n",
      "  240  789  710   77  800] \n",
      "\n",
      "-----------------------\n",
      "ketinggian_air : object\n",
      "-----------------------\n",
      "Statistika Deskriptif\n",
      "count              135\n",
      "unique              74\n",
      "top       10 s/d 30 cm\n",
      "freq                11\n",
      "Name: ketinggian_air, dtype: object \n",
      "\n",
      "Value Counts\n",
      "10 s/d 30 cm     11\n",
      "10 s/d 50 cm      8\n",
      "10 s/d 40 cm      6\n",
      "10 s/d 100 cm     5\n",
      "5 s/d 10 cm       4\n",
      "                 ..\n",
      "50 - 100 cm       1\n",
      "10 cm             1\n",
      "20 - 30 CM        1\n",
      "50 - 90 cm        1\n",
      "10 s/d 50         1\n",
      "Name: ketinggian_air, Length: 74, dtype: int64 \n",
      "\n",
      "Unique Value\n",
      "['20 s/d 30 cm' '10 s/d 25 cm' '15 cm' '20 cm' '5 s/d 20 cm' '5 s/d 30 cm'\n",
      " '15 s/d 20 cm ' '10 s/d 40 cm' '10 s/d 35 cm' '10 s/d 50 cm'\n",
      " '5 s/d 10 cm' '05 s/d 15 cm' '60 s/d 70 cm' '40 cm' '30 s/d 50 cm'\n",
      " '5 s/d 60 cm' '10 s/d 80 cm' '15 s/d 30 cm' '15 s/d 60 cm' '10 s/d 30 cm'\n",
      " '40 s/d 50 cm' '10 s/d 300 cm' '10 s/d 250 cm' '30 s/d 200 cm'\n",
      " '20 s/d 80 cm' '50 s/d 200 cm' '100 s/d 300 cm' '30 s/d 40 cm'\n",
      " '10 s/d 120 cm' '30 s/d 70 cm' '10 s/d 220 cm' '20 s/d 90 cm'\n",
      " '20 s/d 50 cm' '20 s/d 270 cm' '30 s/d 250 cm' '60 s/d 300 cm'\n",
      " '50 s/d 150 cm' '30 - 80 cm' '10 - 50 cm' '30 cm' '10 - 100 cm'\n",
      " '50 - 100 cm' '10 cm' '20 - 30 CM' '50 - 90 cm' '20 - 30 cm' '5 - 10 cm'\n",
      " '20 - 50 cm' '05 - 60 cm' '10 - 35 cm' '10 - 60 cm' '100 s/d 150 cm'\n",
      " '10 s/d 60 cm' '30 s/d 60 cm' '20 s/d 40 cm' '10 s/d 20 cm'\n",
      " '10 s/d 100 cm' '70 s/d 110 cm' '10 s/d 70 cm' '10 s/d 15 cm'\n",
      " '50 s/d 75 cm' '20 S/D 30' '30 s/d 80 cm' '50 s/d 60 cm' '2 s/d 15 cm'\n",
      " '40 s/d 70 cm' '60 s/d 80 cm' '20 s/d 60 cm' '3 s/d 10 cm' '6 s/d 10 cm'\n",
      " '50 cm' '70 cm' '50 s/d 80 cm' '10 s/d 50'] \n",
      "\n",
      "-------------------------\n",
      "tanggal_kejadian : object\n",
      "-------------------------\n",
      "Statistika Deskriptif\n",
      "count             135\n",
      "unique             51\n",
      "top       tgl. 15, 16\n",
      "freq               12\n",
      "Name: tanggal_kejadian, dtype: object \n",
      "\n",
      "Value Counts\n",
      "tgl. 15, 16                        12\n",
      "tgl. 03                             9\n",
      "tgl. 12                             9\n",
      "tgl. 15                             8\n",
      "tgl. 29                             6\n",
      "tgl. 21                             6\n",
      "tgl. 4                              6\n",
      "tgl. 05, 06                         6\n",
      "tgl. 25                             6\n",
      "tgl. 18                             5\n",
      "tgl. 11                             5\n",
      "tgl. 13                             4\n",
      "tgl. 05, 06, 07                     4\n",
      "tgl. 28                             3\n",
      "tgl. 08, 10 , 17                    3\n",
      "tgl. 05                             2\n",
      "tgl. 20, 21                         2\n",
      "tgl. 10                             2\n",
      "tgl. 24, 25                         2\n",
      "tgl. 4, 10                          2\n",
      "tgl. 4, 10, 13                      2\n",
      "tgl. 3                              2\n",
      "tgl. 27, 28, 29                     1\n",
      "tgl. 26, 29                         1\n",
      "tgl. 26, 27                         1\n",
      "tgl. 02                             1\n",
      "tgl. 09                             1\n",
      "tgl. 23, 29                         1\n",
      "tgl. 4, 5, 6, 7, 8, 11, 13          1\n",
      "tgl. 07                             1\n",
      "tgl. 4, 5, 6, 11, 12                1\n",
      "tgl. 10, 13                         1\n",
      "tgl. 10, 12, 13                     1\n",
      "tgl. 4, 5, 7                        1\n",
      "tgl. 4                              1\n",
      "tgl. 03, 20                         1\n",
      "tgl. 17                             1\n",
      "tgl. 03, 04, 05, 18, 31             1\n",
      "tgl. 22                             1\n",
      "tgl. 06, 07                         1\n",
      "tgl. 05, 06, 07, 08, 09, 10         1\n",
      "tgl. 05, 06, 07, 26                 1\n",
      "tgl. 05, 06, 07, 08, 09, 26         1\n",
      "tgl. 03, 05, 06, 07, 08, 13, 26     1\n",
      "tgl. 03, 05, 06,15, 16, 17          1\n",
      "tgl. 06                             1\n",
      "tgl. 05, 06, 07, 25, 26             1\n",
      "tgl. 05, 06, 07, 08, 09             1\n",
      "tgl, 5, 15, 17                      1\n",
      "tgl. 01, 15                         1\n",
      "tgl. 6                              1\n",
      "Name: tanggal_kejadian, dtype: int64 \n",
      "\n",
      "Unique Value\n",
      "['tgl. 02' 'tgl. 03, 04, 05, 18, 31' 'tgl. 03' 'tgl. 18' 'tgl. 15, 16'\n",
      " 'tgl. 15' 'tgl. 01, 15' 'tgl, 5, 15, 17' 'tgl. 05, 06'\n",
      " 'tgl. 05, 06, 07, 08, 09' 'tgl. 05, 06, 07' 'tgl. 05, 06, 07, 25, 26'\n",
      " 'tgl. 06' 'tgl. 05' 'tgl. 03, 05, 06,15, 16, 17'\n",
      " 'tgl. 03, 05, 06, 07, 08, 13, 26' 'tgl. 05, 06, 07, 08, 09, 26'\n",
      " 'tgl. 05, 06, 07, 26' 'tgl. 05, 06, 07, 08, 09, 10' 'tgl. 06, 07'\n",
      " 'tgl. 4' 'tgl. 4, 10' 'tgl. 4, 10, 13' 'tgl. 12' 'tgl. 22' 'tgl. 4 '\n",
      " 'tgl. 08, 10 , 17' 'tgl. 17' 'tgl. 03, 20' 'tgl. 21' 'tgl. 20, 21'\n",
      " 'tgl. 25' 'tgl. 24, 25' 'tgl. 29' 'tgl. 23, 29' 'tgl. 26, 29'\n",
      " 'tgl. 26, 27' 'tgl. 27, 28, 29' 'tgl. 09' 'tgl. 28' 'tgl. 11'\n",
      " 'tgl. 4, 5, 7' 'tgl. 4, 5, 6, 7, 8, 11, 13' 'tgl. 07'\n",
      " 'tgl. 4, 5, 6, 11, 12' 'tgl. 13' 'tgl. 10' 'tgl. 10, 13'\n",
      " 'tgl. 10, 12, 13' 'tgl. 3' 'tgl. 6'] \n",
      "\n",
      "---------------------\n",
      "lama_genangan : int64\n",
      "---------------------\n",
      "Statistika Deskriptif\n",
      "count    135.000000\n",
      "mean       0.007407\n",
      "std        0.086066\n",
      "min        0.000000\n",
      "25%        0.000000\n",
      "50%        0.000000\n",
      "75%        0.000000\n",
      "max        1.000000\n",
      "Name: lama_genangan, dtype: float64 \n",
      "\n",
      "Value Counts\n",
      "0    134\n",
      "1      1\n",
      "Name: lama_genangan, dtype: int64 \n",
      "\n",
      "Unique Value\n",
      "[0 1] \n",
      "\n",
      "------------------------\n",
      "jumlah_meninggal : int64\n",
      "------------------------\n",
      "Statistika Deskriptif\n",
      "count    135.0\n",
      "mean       0.0\n",
      "std        0.0\n",
      "min        0.0\n",
      "25%        0.0\n",
      "50%        0.0\n",
      "75%        0.0\n",
      "max        0.0\n",
      "Name: jumlah_meninggal, dtype: float64 \n",
      "\n",
      "Value Counts\n",
      "0    135\n",
      "Name: jumlah_meninggal, dtype: int64 \n",
      "\n",
      "Unique Value\n",
      "[0] \n",
      "\n",
      "---------------------\n",
      "jumlah_hilang : int64\n",
      "---------------------\n",
      "Statistika Deskriptif\n",
      "count    135.000000\n",
      "mean       0.007407\n",
      "std        0.086066\n",
      "min        0.000000\n",
      "25%        0.000000\n",
      "50%        0.000000\n",
      "75%        0.000000\n",
      "max        1.000000\n",
      "Name: jumlah_hilang, dtype: float64 \n",
      "\n",
      "Value Counts\n",
      "0    134\n",
      "1      1\n",
      "Name: jumlah_hilang, dtype: int64 \n",
      "\n",
      "Unique Value\n",
      "[0 1] \n",
      "\n",
      "-------------------------\n",
      "jumlah_luka_berat : int64\n",
      "-------------------------\n",
      "Statistika Deskriptif\n",
      "count    135.0\n",
      "mean       0.0\n",
      "std        0.0\n",
      "min        0.0\n",
      "25%        0.0\n",
      "50%        0.0\n",
      "75%        0.0\n",
      "max        0.0\n",
      "Name: jumlah_luka_berat, dtype: float64 \n",
      "\n",
      "Value Counts\n",
      "0    135\n",
      "Name: jumlah_luka_berat, dtype: int64 \n",
      "\n",
      "Unique Value\n",
      "[0] \n",
      "\n",
      "--------------------------\n",
      "jumlah_luka_ringan : int64\n",
      "--------------------------\n",
      "Statistika Deskriptif\n",
      "count     135.000000\n",
      "mean      115.755556\n",
      "std       450.404735\n",
      "min         0.000000\n",
      "25%         0.000000\n",
      "50%         0.000000\n",
      "75%         0.000000\n",
      "max      3200.000000\n",
      "Name: jumlah_luka_ringan, dtype: float64 \n",
      "\n",
      "Value Counts\n",
      "0       118\n",
      "30        1\n",
      "9         1\n",
      "414       1\n",
      "1560      1\n",
      "350       1\n",
      "557       1\n",
      "553       1\n",
      "1392      1\n",
      "46        1\n",
      "2119      1\n",
      "1278      1\n",
      "1811      1\n",
      "2008      1\n",
      "3200      1\n",
      "140       1\n",
      "100       1\n",
      "60        1\n",
      "Name: jumlah_luka_ringan, dtype: int64 \n",
      "\n",
      "Unique Value\n",
      "[   0   30  100  140 3200 2008 1811 1278 2119   46 1392  553  557  350\n",
      " 1560  414    9   60] \n",
      "\n",
      "----------------------------------\n",
      "jumlah_pengungsi_tertinggi : int64\n",
      "----------------------------------\n",
      "Statistika Deskriptif\n",
      "count    135.000000\n",
      "mean       0.459259\n",
      "std        1.605787\n",
      "min        0.000000\n",
      "25%        0.000000\n",
      "50%        0.000000\n",
      "75%        0.000000\n",
      "max       10.000000\n",
      "Name: jumlah_pengungsi_tertinggi, dtype: float64 \n",
      "\n",
      "Value Counts\n",
      "0     118\n",
      "1       7\n",
      "8       2\n",
      "3       2\n",
      "4       2\n",
      "7       1\n",
      "6       1\n",
      "10      1\n",
      "2       1\n",
      "Name: jumlah_pengungsi_tertinggi, dtype: int64 \n",
      "\n",
      "Unique Value\n",
      "[ 0  1  7  8  6  3 10  4  2] \n",
      "\n",
      "---------------------------------\n",
      "jumlah_tempat_pengungsian : int64\n",
      "---------------------------------\n",
      "Statistika Deskriptif\n",
      "count    135.0\n",
      "mean       0.0\n",
      "std        0.0\n",
      "min        0.0\n",
      "25%        0.0\n",
      "50%        0.0\n",
      "75%        0.0\n",
      "max        0.0\n",
      "Name: jumlah_tempat_pengungsian, dtype: float64 \n",
      "\n",
      "Value Counts\n",
      "0    135\n",
      "Name: jumlah_tempat_pengungsian, dtype: int64 \n",
      "\n",
      "Unique Value\n",
      "[0] \n",
      "\n",
      "----------------------\n",
      "nilai_kerugian : int64\n",
      "----------------------\n",
      "Statistika Deskriptif\n",
      "count    135.0\n",
      "mean       0.0\n",
      "std        0.0\n",
      "min        0.0\n",
      "25%        0.0\n",
      "50%        0.0\n",
      "75%        0.0\n",
      "max        0.0\n",
      "Name: nilai_kerugian, dtype: float64 \n",
      "\n",
      "Value Counts\n",
      "0    135\n",
      "Name: nilai_kerugian, dtype: int64 \n",
      "\n",
      "Unique Value\n",
      "[0] \n",
      "\n",
      "-----------------------\n",
      "bulan_kejadian : object\n",
      "-----------------------\n",
      "Statistika Deskriptif\n",
      "count     135\n",
      "unique      9\n",
      "top        02\n",
      "freq       43\n",
      "Name: bulan_kejadian, dtype: object \n",
      "\n",
      "Value Counts\n",
      "02    43\n",
      "12    22\n",
      "05    17\n",
      "11    16\n",
      "01     8\n",
      "03     8\n",
      "04     8\n",
      "06     8\n",
      "10     5\n",
      "Name: bulan_kejadian, dtype: int64 \n",
      "\n",
      "Unique Value\n",
      "['01' '02' '03' '04' '05' '06' '10' '11' '12'] \n",
      "\n"
     ]
    }
   ],
   "source": [
    "for col in df.columns:\n",
    "    nama_kolom = col + ' : ' + str(df[col].dtypes)\n",
    "    print('-'*len(nama_kolom))\n",
    "    print(nama_kolom)\n",
    "    print('-'*len(nama_kolom))\n",
    "    print('Statistika Deskriptif')\n",
    "    print(df[col].describe(), '\\n')\n",
    "    print('Value Counts')\n",
    "    print(df[col].value_counts(), '\\n')\n",
    "    print('Unique Value')\n",
    "    print(df[col].unique(), '\\n')"
   ]
  },
  {
   "cell_type": "code",
   "execution_count": 5,
   "metadata": {},
   "outputs": [
    {
     "data": {
      "text/plain": [
       "kota_administrasi  kecamatan          kelurahan         rw                  jumlah_terdampak_rw  jumlah_terdampak_rt  jumlah_terdampak_kk  jumlah_terdampak_jiwa  ketinggian_air  tanggal_kejadian  lama_genangan  jumlah_meninggal  jumlah_hilang  jumlah_luka_berat  jumlah_luka_ringan  jumlah_pengungsi_tertinggi  jumlah_tempat_pengungsian  nilai_kerugian  bulan_kejadian\n",
       "Jakarta Barat      GROGOL PETAMBURAN  JELAMBAR BARU     1                   1                    0                    0                    0                      10 s/d 30 cm    tgl. 15, 16       0              0                 0              0                  0                   0                           0                          0               02                1\n",
       "Jakarta Selatan    JAGAKARSA          LENTENG AGUNG     02, 03, 04, 06, 07  5                    0                    0                    0                      50 s/d 200 cm   tgl. 05           0              0                 0              0                  0                   0                           0                          0               02                1\n",
       "Jakarta Timur      KRAMAT JATI        CAWANG            01, 02, 03, 05, 08  5                    0                    0                    0                      10 - 50 cm      tgl. 4, 10, 13    0              0                 0              0                  0                   0                           0                          0               03                1\n",
       "                                      CILILITAN         06, 07              2                    0                    0                    0                      50 - 100 cm     tgl. 4            0              0                 0              0                  0                   0                           0                          0               03                1\n",
       "Jakarta Utara      KEC. PENJARINGAN   KEL. PENJARINGAN  17                  1                    0                    0                    0                      5 s/d 10 cm     tgl. 07           0              0                 0              0                  0                   0                           0                          0               12                1\n",
       "dtype: int64"
      ]
     },
     "execution_count": 5,
     "metadata": {},
     "output_type": "execute_result"
    }
   ],
   "source": [
    "#Melihat jumlah_terdampak_rt yang nilainya 0\n",
    "df[df['jumlah_terdampak_rt'] == 0].value_counts()"
   ]
  },
  {
   "attachments": {},
   "cell_type": "markdown",
   "metadata": {},
   "source": [
    "- Ada beberapa yang kota administrasinya tidak sesuai"
   ]
  },
  {
   "cell_type": "code",
   "execution_count": 6,
   "metadata": {},
   "outputs": [
    {
     "data": {
      "text/html": [
       "<div>\n",
       "<style scoped>\n",
       "    .dataframe tbody tr th:only-of-type {\n",
       "        vertical-align: middle;\n",
       "    }\n",
       "\n",
       "    .dataframe tbody tr th {\n",
       "        vertical-align: top;\n",
       "    }\n",
       "\n",
       "    .dataframe thead th {\n",
       "        text-align: right;\n",
       "    }\n",
       "</style>\n",
       "<table border=\"1\" class=\"dataframe\">\n",
       "  <thead>\n",
       "    <tr style=\"text-align: right;\">\n",
       "      <th></th>\n",
       "      <th>kota_administrasi</th>\n",
       "      <th>kecamatan</th>\n",
       "      <th>kelurahan</th>\n",
       "      <th>rw</th>\n",
       "      <th>jumlah_terdampak_rw</th>\n",
       "      <th>jumlah_terdampak_rt</th>\n",
       "      <th>jumlah_terdampak_kk</th>\n",
       "      <th>jumlah_terdampak_jiwa</th>\n",
       "      <th>ketinggian_air</th>\n",
       "      <th>tanggal_kejadian</th>\n",
       "      <th>lama_genangan</th>\n",
       "      <th>jumlah_meninggal</th>\n",
       "      <th>jumlah_hilang</th>\n",
       "      <th>jumlah_luka_berat</th>\n",
       "      <th>jumlah_luka_ringan</th>\n",
       "      <th>jumlah_pengungsi_tertinggi</th>\n",
       "      <th>jumlah_tempat_pengungsian</th>\n",
       "      <th>nilai_kerugian</th>\n",
       "      <th>bulan_kejadian</th>\n",
       "    </tr>\n",
       "  </thead>\n",
       "  <tbody>\n",
       "    <tr>\n",
       "      <th>2</th>\n",
       "      <td>Jakarta Utara</td>\n",
       "      <td>GROGOL PETAMBURAN</td>\n",
       "      <td>JELAMBAR BARU</td>\n",
       "      <td>1</td>\n",
       "      <td>1</td>\n",
       "      <td>2</td>\n",
       "      <td>0</td>\n",
       "      <td>0</td>\n",
       "      <td>15 cm</td>\n",
       "      <td>tgl. 03</td>\n",
       "      <td>0</td>\n",
       "      <td>0</td>\n",
       "      <td>0</td>\n",
       "      <td>0</td>\n",
       "      <td>0</td>\n",
       "      <td>0</td>\n",
       "      <td>0</td>\n",
       "      <td>0</td>\n",
       "      <td>01</td>\n",
       "    </tr>\n",
       "    <tr>\n",
       "      <th>26</th>\n",
       "      <td>Jakarta Barat</td>\n",
       "      <td>GROGOL PETAMBURAN</td>\n",
       "      <td>JELAMBAR BARU</td>\n",
       "      <td>1</td>\n",
       "      <td>1</td>\n",
       "      <td>0</td>\n",
       "      <td>0</td>\n",
       "      <td>0</td>\n",
       "      <td>10 s/d 30 cm</td>\n",
       "      <td>tgl. 15, 16</td>\n",
       "      <td>0</td>\n",
       "      <td>0</td>\n",
       "      <td>0</td>\n",
       "      <td>0</td>\n",
       "      <td>0</td>\n",
       "      <td>0</td>\n",
       "      <td>0</td>\n",
       "      <td>0</td>\n",
       "      <td>02</td>\n",
       "    </tr>\n",
       "  </tbody>\n",
       "</table>\n",
       "</div>"
      ],
      "text/plain": [
       "   kota_administrasi          kecamatan      kelurahan rw  \\\n",
       "2      Jakarta Utara  GROGOL PETAMBURAN  JELAMBAR BARU  1   \n",
       "26     Jakarta Barat  GROGOL PETAMBURAN  JELAMBAR BARU  1   \n",
       "\n",
       "    jumlah_terdampak_rw  jumlah_terdampak_rt  jumlah_terdampak_kk  \\\n",
       "2                     1                    2                    0   \n",
       "26                    1                    0                    0   \n",
       "\n",
       "    jumlah_terdampak_jiwa ketinggian_air tanggal_kejadian  lama_genangan  \\\n",
       "2                       0          15 cm          tgl. 03              0   \n",
       "26                      0   10 s/d 30 cm      tgl. 15, 16              0   \n",
       "\n",
       "    jumlah_meninggal  jumlah_hilang  jumlah_luka_berat  jumlah_luka_ringan  \\\n",
       "2                  0              0                  0                   0   \n",
       "26                 0              0                  0                   0   \n",
       "\n",
       "    jumlah_pengungsi_tertinggi  jumlah_tempat_pengungsian  nilai_kerugian  \\\n",
       "2                            0                          0               0   \n",
       "26                           0                          0               0   \n",
       "\n",
       "   bulan_kejadian  \n",
       "2              01  \n",
       "26             02  "
      ]
     },
     "execution_count": 6,
     "metadata": {},
     "output_type": "execute_result"
    }
   ],
   "source": [
    "df[df['kelurahan'] == 'JELAMBAR BARU'] #di jkt barat"
   ]
  },
  {
   "cell_type": "code",
   "execution_count": 7,
   "metadata": {},
   "outputs": [
    {
     "data": {
      "text/html": [
       "<div>\n",
       "<style scoped>\n",
       "    .dataframe tbody tr th:only-of-type {\n",
       "        vertical-align: middle;\n",
       "    }\n",
       "\n",
       "    .dataframe tbody tr th {\n",
       "        vertical-align: top;\n",
       "    }\n",
       "\n",
       "    .dataframe thead th {\n",
       "        text-align: right;\n",
       "    }\n",
       "</style>\n",
       "<table border=\"1\" class=\"dataframe\">\n",
       "  <thead>\n",
       "    <tr style=\"text-align: right;\">\n",
       "      <th></th>\n",
       "      <th>kota_administrasi</th>\n",
       "      <th>kecamatan</th>\n",
       "      <th>kelurahan</th>\n",
       "      <th>rw</th>\n",
       "      <th>jumlah_terdampak_rw</th>\n",
       "      <th>jumlah_terdampak_rt</th>\n",
       "      <th>jumlah_terdampak_kk</th>\n",
       "      <th>jumlah_terdampak_jiwa</th>\n",
       "      <th>ketinggian_air</th>\n",
       "      <th>tanggal_kejadian</th>\n",
       "      <th>lama_genangan</th>\n",
       "      <th>jumlah_meninggal</th>\n",
       "      <th>jumlah_hilang</th>\n",
       "      <th>jumlah_luka_berat</th>\n",
       "      <th>jumlah_luka_ringan</th>\n",
       "      <th>jumlah_pengungsi_tertinggi</th>\n",
       "      <th>jumlah_tempat_pengungsian</th>\n",
       "      <th>nilai_kerugian</th>\n",
       "      <th>bulan_kejadian</th>\n",
       "    </tr>\n",
       "  </thead>\n",
       "  <tbody>\n",
       "    <tr>\n",
       "      <th>35</th>\n",
       "      <td>Jakarta Selatan</td>\n",
       "      <td>JAGAKARSA</td>\n",
       "      <td>LENTENG AGUNG</td>\n",
       "      <td>02, 03, 04, 06, 07</td>\n",
       "      <td>5</td>\n",
       "      <td>0</td>\n",
       "      <td>0</td>\n",
       "      <td>0</td>\n",
       "      <td>50 s/d 200 cm</td>\n",
       "      <td>tgl. 05</td>\n",
       "      <td>0</td>\n",
       "      <td>0</td>\n",
       "      <td>0</td>\n",
       "      <td>0</td>\n",
       "      <td>0</td>\n",
       "      <td>0</td>\n",
       "      <td>0</td>\n",
       "      <td>0</td>\n",
       "      <td>02</td>\n",
       "    </tr>\n",
       "  </tbody>\n",
       "</table>\n",
       "</div>"
      ],
      "text/plain": [
       "   kota_administrasi  kecamatan      kelurahan                  rw  \\\n",
       "35   Jakarta Selatan  JAGAKARSA  LENTENG AGUNG  02, 03, 04, 06, 07   \n",
       "\n",
       "    jumlah_terdampak_rw  jumlah_terdampak_rt  jumlah_terdampak_kk  \\\n",
       "35                    5                    0                    0   \n",
       "\n",
       "    jumlah_terdampak_jiwa ketinggian_air tanggal_kejadian  lama_genangan  \\\n",
       "35                      0  50 s/d 200 cm          tgl. 05              0   \n",
       "\n",
       "    jumlah_meninggal  jumlah_hilang  jumlah_luka_berat  jumlah_luka_ringan  \\\n",
       "35                 0              0                  0                   0   \n",
       "\n",
       "    jumlah_pengungsi_tertinggi  jumlah_tempat_pengungsian  nilai_kerugian  \\\n",
       "35                           0                          0               0   \n",
       "\n",
       "   bulan_kejadian  \n",
       "35             02  "
      ]
     },
     "execution_count": 7,
     "metadata": {},
     "output_type": "execute_result"
    }
   ],
   "source": [
    "df[df['kelurahan'] == 'LENTENG AGUNG']"
   ]
  },
  {
   "cell_type": "code",
   "execution_count": 8,
   "metadata": {},
   "outputs": [
    {
     "data": {
      "text/html": [
       "<div>\n",
       "<style scoped>\n",
       "    .dataframe tbody tr th:only-of-type {\n",
       "        vertical-align: middle;\n",
       "    }\n",
       "\n",
       "    .dataframe tbody tr th {\n",
       "        vertical-align: top;\n",
       "    }\n",
       "\n",
       "    .dataframe thead th {\n",
       "        text-align: right;\n",
       "    }\n",
       "</style>\n",
       "<table border=\"1\" class=\"dataframe\">\n",
       "  <thead>\n",
       "    <tr style=\"text-align: right;\">\n",
       "      <th></th>\n",
       "      <th>kota_administrasi</th>\n",
       "      <th>kecamatan</th>\n",
       "      <th>kelurahan</th>\n",
       "      <th>rw</th>\n",
       "      <th>jumlah_terdampak_rw</th>\n",
       "      <th>jumlah_terdampak_rt</th>\n",
       "      <th>jumlah_terdampak_kk</th>\n",
       "      <th>jumlah_terdampak_jiwa</th>\n",
       "      <th>ketinggian_air</th>\n",
       "      <th>tanggal_kejadian</th>\n",
       "      <th>lama_genangan</th>\n",
       "      <th>jumlah_meninggal</th>\n",
       "      <th>jumlah_hilang</th>\n",
       "      <th>jumlah_luka_berat</th>\n",
       "      <th>jumlah_luka_ringan</th>\n",
       "      <th>jumlah_pengungsi_tertinggi</th>\n",
       "      <th>jumlah_tempat_pengungsian</th>\n",
       "      <th>nilai_kerugian</th>\n",
       "      <th>bulan_kejadian</th>\n",
       "    </tr>\n",
       "  </thead>\n",
       "  <tbody>\n",
       "    <tr>\n",
       "      <th>46</th>\n",
       "      <td>Jakarta Timur</td>\n",
       "      <td>KRAMAT JATI</td>\n",
       "      <td>CAWANG</td>\n",
       "      <td>01, 02, 03, 05, 08, 12</td>\n",
       "      <td>6</td>\n",
       "      <td>27</td>\n",
       "      <td>1066</td>\n",
       "      <td>3584</td>\n",
       "      <td>20 s/d 270 cm</td>\n",
       "      <td>tgl. 05, 06, 07, 26</td>\n",
       "      <td>0</td>\n",
       "      <td>0</td>\n",
       "      <td>0</td>\n",
       "      <td>0</td>\n",
       "      <td>557</td>\n",
       "      <td>4</td>\n",
       "      <td>0</td>\n",
       "      <td>0</td>\n",
       "      <td>02</td>\n",
       "    </tr>\n",
       "    <tr>\n",
       "      <th>56</th>\n",
       "      <td>Jakarta Timur</td>\n",
       "      <td>KRAMAT JATI</td>\n",
       "      <td>CAWANG</td>\n",
       "      <td>01, 02, 03, 05, 08</td>\n",
       "      <td>5</td>\n",
       "      <td>0</td>\n",
       "      <td>0</td>\n",
       "      <td>0</td>\n",
       "      <td>10 - 50 cm</td>\n",
       "      <td>tgl. 4, 10, 13</td>\n",
       "      <td>0</td>\n",
       "      <td>0</td>\n",
       "      <td>0</td>\n",
       "      <td>0</td>\n",
       "      <td>0</td>\n",
       "      <td>0</td>\n",
       "      <td>0</td>\n",
       "      <td>0</td>\n",
       "      <td>03</td>\n",
       "    </tr>\n",
       "  </tbody>\n",
       "</table>\n",
       "</div>"
      ],
      "text/plain": [
       "   kota_administrasi    kecamatan kelurahan                      rw  \\\n",
       "46     Jakarta Timur  KRAMAT JATI    CAWANG  01, 02, 03, 05, 08, 12   \n",
       "56     Jakarta Timur  KRAMAT JATI    CAWANG      01, 02, 03, 05, 08   \n",
       "\n",
       "    jumlah_terdampak_rw  jumlah_terdampak_rt  jumlah_terdampak_kk  \\\n",
       "46                    6                   27                 1066   \n",
       "56                    5                    0                    0   \n",
       "\n",
       "    jumlah_terdampak_jiwa ketinggian_air     tanggal_kejadian  lama_genangan  \\\n",
       "46                   3584  20 s/d 270 cm  tgl. 05, 06, 07, 26              0   \n",
       "56                      0     10 - 50 cm       tgl. 4, 10, 13              0   \n",
       "\n",
       "    jumlah_meninggal  jumlah_hilang  jumlah_luka_berat  jumlah_luka_ringan  \\\n",
       "46                 0              0                  0                 557   \n",
       "56                 0              0                  0                   0   \n",
       "\n",
       "    jumlah_pengungsi_tertinggi  jumlah_tempat_pengungsian  nilai_kerugian  \\\n",
       "46                           4                          0               0   \n",
       "56                           0                          0               0   \n",
       "\n",
       "   bulan_kejadian  \n",
       "46             02  \n",
       "56             03  "
      ]
     },
     "execution_count": 8,
     "metadata": {},
     "output_type": "execute_result"
    }
   ],
   "source": [
    "df[df['kelurahan'] == 'CAWANG']"
   ]
  },
  {
   "cell_type": "code",
   "execution_count": 9,
   "metadata": {},
   "outputs": [
    {
     "data": {
      "text/html": [
       "<div>\n",
       "<style scoped>\n",
       "    .dataframe tbody tr th:only-of-type {\n",
       "        vertical-align: middle;\n",
       "    }\n",
       "\n",
       "    .dataframe tbody tr th {\n",
       "        vertical-align: top;\n",
       "    }\n",
       "\n",
       "    .dataframe thead th {\n",
       "        text-align: right;\n",
       "    }\n",
       "</style>\n",
       "<table border=\"1\" class=\"dataframe\">\n",
       "  <thead>\n",
       "    <tr style=\"text-align: right;\">\n",
       "      <th></th>\n",
       "      <th>kota_administrasi</th>\n",
       "      <th>kecamatan</th>\n",
       "      <th>kelurahan</th>\n",
       "      <th>rw</th>\n",
       "      <th>jumlah_terdampak_rw</th>\n",
       "      <th>jumlah_terdampak_rt</th>\n",
       "      <th>jumlah_terdampak_kk</th>\n",
       "      <th>jumlah_terdampak_jiwa</th>\n",
       "      <th>ketinggian_air</th>\n",
       "      <th>tanggal_kejadian</th>\n",
       "      <th>lama_genangan</th>\n",
       "      <th>jumlah_meninggal</th>\n",
       "      <th>jumlah_hilang</th>\n",
       "      <th>jumlah_luka_berat</th>\n",
       "      <th>jumlah_luka_ringan</th>\n",
       "      <th>jumlah_pengungsi_tertinggi</th>\n",
       "      <th>jumlah_tempat_pengungsian</th>\n",
       "      <th>nilai_kerugian</th>\n",
       "      <th>bulan_kejadian</th>\n",
       "    </tr>\n",
       "  </thead>\n",
       "  <tbody>\n",
       "    <tr>\n",
       "      <th>47</th>\n",
       "      <td>Jakarta Timur</td>\n",
       "      <td>KRAMAT JATI</td>\n",
       "      <td>CILILITAN</td>\n",
       "      <td>05, 06, 07, 15, 16</td>\n",
       "      <td>5</td>\n",
       "      <td>10</td>\n",
       "      <td>251</td>\n",
       "      <td>806</td>\n",
       "      <td>30 s/d 250 cm</td>\n",
       "      <td>tgl. 05, 06, 07</td>\n",
       "      <td>0</td>\n",
       "      <td>0</td>\n",
       "      <td>0</td>\n",
       "      <td>0</td>\n",
       "      <td>350</td>\n",
       "      <td>3</td>\n",
       "      <td>0</td>\n",
       "      <td>0</td>\n",
       "      <td>02</td>\n",
       "    </tr>\n",
       "    <tr>\n",
       "      <th>57</th>\n",
       "      <td>Jakarta Timur</td>\n",
       "      <td>KRAMAT JATI</td>\n",
       "      <td>CILILITAN</td>\n",
       "      <td>06, 07</td>\n",
       "      <td>2</td>\n",
       "      <td>0</td>\n",
       "      <td>0</td>\n",
       "      <td>0</td>\n",
       "      <td>50 - 100 cm</td>\n",
       "      <td>tgl. 4</td>\n",
       "      <td>0</td>\n",
       "      <td>0</td>\n",
       "      <td>0</td>\n",
       "      <td>0</td>\n",
       "      <td>0</td>\n",
       "      <td>0</td>\n",
       "      <td>0</td>\n",
       "      <td>0</td>\n",
       "      <td>03</td>\n",
       "    </tr>\n",
       "  </tbody>\n",
       "</table>\n",
       "</div>"
      ],
      "text/plain": [
       "   kota_administrasi    kecamatan  kelurahan                  rw  \\\n",
       "47     Jakarta Timur  KRAMAT JATI  CILILITAN  05, 06, 07, 15, 16   \n",
       "57     Jakarta Timur  KRAMAT JATI  CILILITAN              06, 07   \n",
       "\n",
       "    jumlah_terdampak_rw  jumlah_terdampak_rt  jumlah_terdampak_kk  \\\n",
       "47                    5                   10                  251   \n",
       "57                    2                    0                    0   \n",
       "\n",
       "    jumlah_terdampak_jiwa ketinggian_air tanggal_kejadian  lama_genangan  \\\n",
       "47                    806  30 s/d 250 cm  tgl. 05, 06, 07              0   \n",
       "57                      0    50 - 100 cm           tgl. 4              0   \n",
       "\n",
       "    jumlah_meninggal  jumlah_hilang  jumlah_luka_berat  jumlah_luka_ringan  \\\n",
       "47                 0              0                  0                 350   \n",
       "57                 0              0                  0                   0   \n",
       "\n",
       "    jumlah_pengungsi_tertinggi  jumlah_tempat_pengungsian  nilai_kerugian  \\\n",
       "47                           3                          0               0   \n",
       "57                           0                          0               0   \n",
       "\n",
       "   bulan_kejadian  \n",
       "47             02  \n",
       "57             03  "
      ]
     },
     "execution_count": 9,
     "metadata": {},
     "output_type": "execute_result"
    }
   ],
   "source": [
    "df[df['kelurahan'] == 'CILILITAN']"
   ]
  },
  {
   "cell_type": "code",
   "execution_count": 10,
   "metadata": {},
   "outputs": [
    {
     "data": {
      "text/html": [
       "<div>\n",
       "<style scoped>\n",
       "    .dataframe tbody tr th:only-of-type {\n",
       "        vertical-align: middle;\n",
       "    }\n",
       "\n",
       "    .dataframe tbody tr th {\n",
       "        vertical-align: top;\n",
       "    }\n",
       "\n",
       "    .dataframe thead th {\n",
       "        text-align: right;\n",
       "    }\n",
       "</style>\n",
       "<table border=\"1\" class=\"dataframe\">\n",
       "  <thead>\n",
       "    <tr style=\"text-align: right;\">\n",
       "      <th></th>\n",
       "      <th>kota_administrasi</th>\n",
       "      <th>kecamatan</th>\n",
       "      <th>kelurahan</th>\n",
       "      <th>rw</th>\n",
       "      <th>jumlah_terdampak_rw</th>\n",
       "      <th>jumlah_terdampak_rt</th>\n",
       "      <th>jumlah_terdampak_kk</th>\n",
       "      <th>jumlah_terdampak_jiwa</th>\n",
       "      <th>ketinggian_air</th>\n",
       "      <th>tanggal_kejadian</th>\n",
       "      <th>lama_genangan</th>\n",
       "      <th>jumlah_meninggal</th>\n",
       "      <th>jumlah_hilang</th>\n",
       "      <th>jumlah_luka_berat</th>\n",
       "      <th>jumlah_luka_ringan</th>\n",
       "      <th>jumlah_pengungsi_tertinggi</th>\n",
       "      <th>jumlah_tempat_pengungsian</th>\n",
       "      <th>nilai_kerugian</th>\n",
       "      <th>bulan_kejadian</th>\n",
       "    </tr>\n",
       "  </thead>\n",
       "  <tbody>\n",
       "    <tr>\n",
       "      <th>11</th>\n",
       "      <td>Jakarta Utara</td>\n",
       "      <td>PENJARINGAN</td>\n",
       "      <td>PENJARINGAN</td>\n",
       "      <td>12, 17</td>\n",
       "      <td>2</td>\n",
       "      <td>3</td>\n",
       "      <td>0</td>\n",
       "      <td>0</td>\n",
       "      <td>10 s/d 35 cm</td>\n",
       "      <td>tgl. 15</td>\n",
       "      <td>0</td>\n",
       "      <td>0</td>\n",
       "      <td>0</td>\n",
       "      <td>0</td>\n",
       "      <td>0</td>\n",
       "      <td>0</td>\n",
       "      <td>0</td>\n",
       "      <td>0</td>\n",
       "      <td>02</td>\n",
       "    </tr>\n",
       "    <tr>\n",
       "      <th>115</th>\n",
       "      <td>Jakarta Utara</td>\n",
       "      <td>KEC. PENJARINGAN</td>\n",
       "      <td>KEL. PENJARINGAN</td>\n",
       "      <td>17</td>\n",
       "      <td>1</td>\n",
       "      <td>0</td>\n",
       "      <td>0</td>\n",
       "      <td>0</td>\n",
       "      <td>5 s/d 10 cm</td>\n",
       "      <td>tgl. 07</td>\n",
       "      <td>0</td>\n",
       "      <td>0</td>\n",
       "      <td>0</td>\n",
       "      <td>0</td>\n",
       "      <td>0</td>\n",
       "      <td>0</td>\n",
       "      <td>0</td>\n",
       "      <td>0</td>\n",
       "      <td>12</td>\n",
       "    </tr>\n",
       "  </tbody>\n",
       "</table>\n",
       "</div>"
      ],
      "text/plain": [
       "    kota_administrasi         kecamatan         kelurahan      rw  \\\n",
       "11      Jakarta Utara       PENJARINGAN       PENJARINGAN  12, 17   \n",
       "115     Jakarta Utara  KEC. PENJARINGAN  KEL. PENJARINGAN      17   \n",
       "\n",
       "     jumlah_terdampak_rw  jumlah_terdampak_rt  jumlah_terdampak_kk  \\\n",
       "11                     2                    3                    0   \n",
       "115                    1                    0                    0   \n",
       "\n",
       "     jumlah_terdampak_jiwa ketinggian_air tanggal_kejadian  lama_genangan  \\\n",
       "11                       0   10 s/d 35 cm          tgl. 15              0   \n",
       "115                      0    5 s/d 10 cm          tgl. 07              0   \n",
       "\n",
       "     jumlah_meninggal  jumlah_hilang  jumlah_luka_berat  jumlah_luka_ringan  \\\n",
       "11                  0              0                  0                   0   \n",
       "115                 0              0                  0                   0   \n",
       "\n",
       "     jumlah_pengungsi_tertinggi  jumlah_tempat_pengungsian  nilai_kerugian  \\\n",
       "11                            0                          0               0   \n",
       "115                           0                          0               0   \n",
       "\n",
       "    bulan_kejadian  \n",
       "11              02  \n",
       "115             12  "
      ]
     },
     "execution_count": 10,
     "metadata": {},
     "output_type": "execute_result"
    }
   ],
   "source": [
    "df[(df['kelurahan'] == 'KEL. PENJARINGAN') | (df['kelurahan'] == 'PENJARINGAN')]"
   ]
  },
  {
   "attachments": {},
   "cell_type": "markdown",
   "metadata": {},
   "source": [
    "Cek nilai unique dari masing2 kota administrasi berdasarkan kecamatan"
   ]
  },
  {
   "cell_type": "code",
   "execution_count": 11,
   "metadata": {},
   "outputs": [
    {
     "data": {
      "text/plain": [
       "array(['CEMPAKA PUTIH', 'KEMAYORAN', 'KEC. SAWAH BESAR'], dtype=object)"
      ]
     },
     "execution_count": 11,
     "metadata": {},
     "output_type": "execute_result"
    }
   ],
   "source": [
    "df[df['kota_administrasi'] == 'Jakarta Pusat']['kecamatan'].unique() #Sudah sesuai"
   ]
  },
  {
   "cell_type": "code",
   "execution_count": 12,
   "metadata": {},
   "outputs": [
    {
     "name": "stdout",
     "output_type": "stream",
     "text": [
      "Jakarta Utara : ['KALIDERES' 'GROGOL PETAMBURAN' 'KEMBANGAN' 'CENGKARENG' 'PENJARINGAN'\n",
      " 'CILINCING' 'KELAPA GADING' 'KOJA' 'KEC. PENJARINGAN']\n"
     ]
    }
   ],
   "source": [
    "print(f\"Jakarta Utara : {df[df['kota_administrasi'] == 'Jakarta Utara']['kecamatan'].unique()}\")\n",
    "#kalideres,grogol petamburan,kembangan,cengkareng (Jakarta Barat)"
   ]
  },
  {
   "cell_type": "code",
   "execution_count": 13,
   "metadata": {},
   "outputs": [
    {
     "data": {
      "text/plain": [
       "array(['CAKUNG', 'JATINEGARA', 'MAKASAR', 'KRAMAT JATI', 'PASAR REBO',\n",
       "       'MATRAMAN', 'PULOGADUNG', 'JATINEGARA ', 'KEC. JATINEGARA',\n",
       "       'KEC. KRAMAT JATI', 'KEC. MAKASAR', 'KEC. CIRACAS', 'KEC. CAKUNG'],\n",
       "      dtype=object)"
      ]
     },
     "execution_count": 13,
     "metadata": {},
     "output_type": "execute_result"
    }
   ],
   "source": [
    "df[df['kota_administrasi'] == 'Jakarta Timur']['kecamatan'].unique() #sudah sesuai"
   ]
  },
  {
   "cell_type": "code",
   "execution_count": 14,
   "metadata": {},
   "outputs": [
    {
     "data": {
      "text/plain": [
       "array(['CILANDAK', 'PANCORAN', 'PASAR MINGGU', 'TEBET', 'JAGAKARSA',\n",
       "       'MAMPANG PRAPATAN', 'PESANGGRAHAN', 'KEC. PASAR MINGGU',\n",
       "       'KEC. MAMPANG PRAPATAN', 'KEC. PANCORAN', 'KEC. CILANDAK',\n",
       "       'KEC. KEBAYORAN BARU', 'KEC. TEBET', 'KEC. KEBAYORAN LAMA',\n",
       "       'KEC. PESANGGRAHAN'], dtype=object)"
      ]
     },
     "execution_count": 14,
     "metadata": {},
     "output_type": "execute_result"
    }
   ],
   "source": [
    "df[df['kota_administrasi'] == 'Jakarta Selatan']['kecamatan'].unique() #sudah sesuai "
   ]
  },
  {
   "cell_type": "code",
   "execution_count": 15,
   "metadata": {},
   "outputs": [
    {
     "name": "stdout",
     "output_type": "stream",
     "text": [
      "Jakarta Barat : ['PENJARINGAN' 'KALIDERES' 'CENGKARENG' 'KEMBANGAN' 'KEBON JERUK'\n",
      " 'GROGOL PETAMBURAN' 'PALMERAH' 'KEC. KALIDERES' 'KEC. CENGKARENG'\n",
      " 'KEC. KEMBANGAN']\n"
     ]
    }
   ],
   "source": [
    "print(f\"Jakarta Barat : {df[df['kota_administrasi'] == 'Jakarta Barat']['kecamatan'].unique()}\")\n",
    "#penjaringan = Jakarta Utara "
   ]
  },
  {
   "attachments": {},
   "cell_type": "markdown",
   "metadata": {},
   "source": [
    "# Data Cleaning"
   ]
  },
  {
   "attachments": {},
   "cell_type": "markdown",
   "metadata": {},
   "source": [
    "### Mengubah tipe data"
   ]
  },
  {
   "cell_type": "code",
   "execution_count": 16,
   "metadata": {},
   "outputs": [
    {
     "name": "stdout",
     "output_type": "stream",
     "text": [
      "bulan_kejadian: int32\n"
     ]
    }
   ],
   "source": [
    "df['bulan_kejadian'] = df['bulan_kejadian'].astype(int)\n",
    "print(f\"bulan_kejadian: {df['bulan_kejadian'].dtype}\")"
   ]
  },
  {
   "attachments": {},
   "cell_type": "markdown",
   "metadata": {},
   "source": [
    "### Handle inconsistent data"
   ]
  },
  {
   "attachments": {},
   "cell_type": "markdown",
   "metadata": {},
   "source": [
    "Menghilangkan kata KEC., KEL., cm, dan mengganti s/d dengan -"
   ]
  },
  {
   "cell_type": "code",
   "execution_count": 17,
   "metadata": {},
   "outputs": [
    {
     "name": "stderr",
     "output_type": "stream",
     "text": [
      "C:\\Users\\dwisu\\AppData\\Local\\Temp\\ipykernel_8532\\481649073.py:1: FutureWarning: The default value of regex will change from True to False in a future version.\n",
      "  df['kecamatan'] = df['kecamatan'].str.replace('KEC.', '').str.strip()\n"
     ]
    }
   ],
   "source": [
    "df['kecamatan'] = df['kecamatan'].str.replace('KEC.', '').str.strip()"
   ]
  },
  {
   "cell_type": "code",
   "execution_count": 18,
   "metadata": {},
   "outputs": [
    {
     "data": {
      "text/plain": [
       "array(['PENJARINGAN', 'KALIDERES', 'GROGOL PETAMBURAN', 'KEMBANGAN',\n",
       "       'CENGKARENG', 'CEMPAKA PUTIH', 'KEMAYORAN', 'CILINCING',\n",
       "       'KELAPA GADING', 'KOJA', 'KEBON JERUK', 'PALMERAH', 'CILANDAK',\n",
       "       'PANCORAN', 'PASAR MINGGU', 'TEBET', 'JAGAKARSA',\n",
       "       'MAMPANG PRAPATAN', 'CAKUNG', 'JATINEGARA', 'MAKASAR',\n",
       "       'KRAMAT JATI', 'PASAR REBO', 'MATRAMAN', 'PESANGGRAHAN',\n",
       "       'PULOGADUNG', 'KEBAYORAN BARU', 'KEBAYORAN LAMA', 'SAWAH BESAR',\n",
       "       'CIRACAS'], dtype=object)"
      ]
     },
     "execution_count": 18,
     "metadata": {},
     "output_type": "execute_result"
    }
   ],
   "source": [
    "df['kecamatan'].unique()"
   ]
  },
  {
   "cell_type": "code",
   "execution_count": 19,
   "metadata": {},
   "outputs": [
    {
     "name": "stderr",
     "output_type": "stream",
     "text": [
      "C:\\Users\\dwisu\\AppData\\Local\\Temp\\ipykernel_8532\\3318512633.py:2: FutureWarning: The default value of regex will change from True to False in a future version.\n",
      "  df[col] = df[col].str.replace('KEL.', '').str.strip()\n"
     ]
    }
   ],
   "source": [
    "for col in ['kelurahan', 'ketinggian_air']:\n",
    "    df[col] = df[col].str.replace('KEL.', '').str.strip()\n",
    "    df[col] = df[col].str.replace('s/d', '-', case=False).str.replace('cm', '', case=False)"
   ]
  },
  {
   "cell_type": "code",
   "execution_count": 20,
   "metadata": {},
   "outputs": [],
   "source": [
    "df['kelurahan'] = df['kelurahan'].str.replace('RAWA JATI', 'RAWAJATI').str.strip()\n",
    "df['kelurahan'] = df['kelurahan'].str.replace('PANGADEGAN', 'PENGADEGAN').str.strip()"
   ]
  },
  {
   "cell_type": "code",
   "execution_count": 21,
   "metadata": {},
   "outputs": [
    {
     "data": {
      "text/plain": [
       "array(['KAMAL MUARA', 'KAMAL', 'JELAMBAR BARU', 'JELAMBAR',\n",
       "       'KEMBANGAN UTARA', 'KAPUK', 'RAWA BUAYA', 'CENGKARENG TIMUR',\n",
       "       'CEMPAKA PUTIH TIMUR', 'SERDANG', 'PENJARINGAN', 'KAPUK MUARA',\n",
       "       'SUKAPURA', 'PEGANGSAAN DUA', 'TUGU SELATAN', 'TEGAL ALUR',\n",
       "       'DURI KOSAMBI', 'CENGKARENG BARAT', 'DURI KEPA', 'WIJAYA KUSUMA',\n",
       "       'JATI PULO', 'PONDOK LABU', 'PENGADEGAN', 'RAWAJATI',\n",
       "       'PEJATEN TIMUR', 'KEBON BARU', 'MANGGARAI', 'BUKIT DURI',\n",
       "       'LENTENG AGUNG', 'SRENGSENG SAWAH', 'BANGKA', 'RAWA TERATE',\n",
       "       'CAKUNG BARAT', 'JATINEGARA', 'KAMPUNG MELAYU', 'BIDARA CINA',\n",
       "       'CIPINANG MUARA', 'CIPINANG MELAYU', 'MAKASAR', 'CAWANG',\n",
       "       'CILILITAN', 'BALE KAMBANG', 'GEDONG', 'KEBON MANGGIS', 'ULUJAMI',\n",
       "       'PENGGILINGAN', 'RAWAMANGUN', 'JATI PADANG', 'RAGUNAN',\n",
       "       'CILANDAK TIMUR', 'DUREN TIGA', 'CIPETE SELATAN', 'PETOGOGAN',\n",
       "       'PONDOK PINANG', 'CIPULIR', 'GUNUNG SAHARI UTARA', 'PLUIT',\n",
       "       'GANDARIA SELATAN', 'RAMBUTAN', 'CILANDAK BARAT', 'KALIBATA',\n",
       "       'CIPETE UTARA', 'CAKUNG TIMUR'], dtype=object)"
      ]
     },
     "execution_count": 21,
     "metadata": {},
     "output_type": "execute_result"
    }
   ],
   "source": [
    "df['kelurahan'].unique()"
   ]
  },
  {
   "cell_type": "code",
   "execution_count": 22,
   "metadata": {},
   "outputs": [
    {
     "data": {
      "text/plain": [
       "array(['20 - 30 ', '10 - 25 ', '15 ', '20 ', '5 - 20 ', '5 - 30 ',\n",
       "       '15 - 20 ', '10 - 40 ', '10 - 35 ', '10 - 50 ', '5 - 10 ',\n",
       "       '05 - 15 ', '60 - 70 ', '40 ', '30 - 50 ', '5 - 60 ', '10 - 80 ',\n",
       "       '15 - 30 ', '15 - 60 ', '10 - 30 ', '40 - 50 ', '10 - 300 ',\n",
       "       '10 - 250 ', '30 - 200 ', '20 - 80 ', '50 - 200 ', '100 - 300 ',\n",
       "       '30 - 40 ', '10 - 120 ', '30 - 70 ', '10 - 220 ', '20 - 90 ',\n",
       "       '20 - 50 ', '20 - 270 ', '30 - 250 ', '60 - 300 ', '50 - 150 ',\n",
       "       '30 - 80 ', '30 ', '10 - 100 ', '50 - 100 ', '10 ', '50 - 90 ',\n",
       "       '05 - 60 ', '10 - 60 ', '100 - 150 ', '30 - 60 ', '20 - 40 ',\n",
       "       '10 - 20 ', '70 - 110 ', '10 - 70 ', '10 - 15 ', '50 - 75 ',\n",
       "       '20 - 30', '50 - 60 ', '2 - 15 ', '40 - 70 ', '60 - 80 ',\n",
       "       '20 - 60 ', '3 - 10 ', '6 - 10 ', '50 ', '70 ', '50 - 80 ',\n",
       "       '10 - 50'], dtype=object)"
      ]
     },
     "execution_count": 22,
     "metadata": {},
     "output_type": "execute_result"
    }
   ],
   "source": [
    "df['ketinggian_air'].unique()"
   ]
  },
  {
   "attachments": {},
   "cell_type": "markdown",
   "metadata": {},
   "source": [
    "Split column ketinggian_air dengan ketinggian_min, ketinggian_max"
   ]
  },
  {
   "cell_type": "code",
   "execution_count": 23,
   "metadata": {},
   "outputs": [],
   "source": [
    "df[['ketinggian_air_min', 'ketinggian_air_max']] = df['ketinggian_air'].str.split('-', expand=True) #menjadi kolom terpisah"
   ]
  },
  {
   "cell_type": "code",
   "execution_count": 24,
   "metadata": {},
   "outputs": [],
   "source": [
    "df['ketinggian_air_min'] = df['ketinggian_air_min'].str.strip() #menghapus spasi di awal dan akhir\n",
    "df['ketinggian_air_max'] = df['ketinggian_air_max'].str.strip()"
   ]
  },
  {
   "attachments": {},
   "cell_type": "markdown",
   "metadata": {},
   "source": [
    "Imputasi nilai ketinggian_max dengan ketinggian_min"
   ]
  },
  {
   "cell_type": "code",
   "execution_count": 25,
   "metadata": {},
   "outputs": [],
   "source": [
    "df['ketinggian_air_max'].fillna(df['ketinggian_air_min'], inplace=True) #merubah lgsg df"
   ]
  },
  {
   "attachments": {},
   "cell_type": "markdown",
   "metadata": {},
   "source": [
    "Mengubah type data ketinggian_min dan ketinggian_max"
   ]
  },
  {
   "cell_type": "code",
   "execution_count": 26,
   "metadata": {},
   "outputs": [
    {
     "data": {
      "text/plain": [
       "array(['20', '10', '15', '5', '05', '60', '40', '30', '50', '100', '70',\n",
       "       '2', '3', '6'], dtype=object)"
      ]
     },
     "execution_count": 26,
     "metadata": {},
     "output_type": "execute_result"
    }
   ],
   "source": [
    "df['ketinggian_air_min'].unique()"
   ]
  },
  {
   "cell_type": "code",
   "execution_count": 27,
   "metadata": {},
   "outputs": [
    {
     "data": {
      "text/plain": [
       "array(['30', '25', '15', '20', '40', '35', '50', '10', '70', '60', '80',\n",
       "       '300', '250', '200', '120', '220', '90', '270', '150', '100',\n",
       "       '110', '75'], dtype=object)"
      ]
     },
     "execution_count": 27,
     "metadata": {},
     "output_type": "execute_result"
    }
   ],
   "source": [
    "df['ketinggian_air_max'].unique()"
   ]
  },
  {
   "cell_type": "code",
   "execution_count": 28,
   "metadata": {},
   "outputs": [
    {
     "data": {
      "text/plain": [
       "ketinggian_air_min    int32\n",
       "ketinggian_air_max    int32\n",
       "dtype: object"
      ]
     },
     "execution_count": 28,
     "metadata": {},
     "output_type": "execute_result"
    }
   ],
   "source": [
    "df[['ketinggian_air_min', 'ketinggian_air_max']] = df[['ketinggian_air_min', 'ketinggian_air_max']].astype(int)\n",
    "df[['ketinggian_air_min', 'ketinggian_air_max']].dtypes"
   ]
  },
  {
   "cell_type": "code",
   "execution_count": 29,
   "metadata": {},
   "outputs": [
    {
     "data": {
      "text/html": [
       "<div>\n",
       "<style scoped>\n",
       "    .dataframe tbody tr th:only-of-type {\n",
       "        vertical-align: middle;\n",
       "    }\n",
       "\n",
       "    .dataframe tbody tr th {\n",
       "        vertical-align: top;\n",
       "    }\n",
       "\n",
       "    .dataframe thead th {\n",
       "        text-align: right;\n",
       "    }\n",
       "</style>\n",
       "<table border=\"1\" class=\"dataframe\">\n",
       "  <thead>\n",
       "    <tr style=\"text-align: right;\">\n",
       "      <th></th>\n",
       "      <th>ketinggian_air_min</th>\n",
       "      <th>ketinggian_air_max</th>\n",
       "    </tr>\n",
       "  </thead>\n",
       "  <tbody>\n",
       "    <tr>\n",
       "      <th>0</th>\n",
       "      <td>20</td>\n",
       "      <td>30</td>\n",
       "    </tr>\n",
       "    <tr>\n",
       "      <th>1</th>\n",
       "      <td>10</td>\n",
       "      <td>25</td>\n",
       "    </tr>\n",
       "    <tr>\n",
       "      <th>2</th>\n",
       "      <td>15</td>\n",
       "      <td>15</td>\n",
       "    </tr>\n",
       "    <tr>\n",
       "      <th>3</th>\n",
       "      <td>20</td>\n",
       "      <td>20</td>\n",
       "    </tr>\n",
       "    <tr>\n",
       "      <th>4</th>\n",
       "      <td>5</td>\n",
       "      <td>20</td>\n",
       "    </tr>\n",
       "  </tbody>\n",
       "</table>\n",
       "</div>"
      ],
      "text/plain": [
       "   ketinggian_air_min  ketinggian_air_max\n",
       "0                  20                  30\n",
       "1                  10                  25\n",
       "2                  15                  15\n",
       "3                  20                  20\n",
       "4                   5                  20"
      ]
     },
     "execution_count": 29,
     "metadata": {},
     "output_type": "execute_result"
    }
   ],
   "source": [
    "df[['ketinggian_air_min', 'ketinggian_air_max']].head()"
   ]
  },
  {
   "attachments": {},
   "cell_type": "markdown",
   "metadata": {},
   "source": [
    "Replace beberapa kota_administrasi yang sesuai "
   ]
  },
  {
   "cell_type": "code",
   "execution_count": 30,
   "metadata": {},
   "outputs": [],
   "source": [
    "df.loc[(df['kecamatan'] == 'KALIDERES') | (df['kecamatan'] == 'GROGOL PETAMBURAN') | \n",
    "       (df['kecamatan'] == 'KEMBANGAN') | (df['kecamatan'] == 'CENGKARENG'), 'kota_administrasi'] = 'Jakarta Barat'"
   ]
  },
  {
   "cell_type": "code",
   "execution_count": 31,
   "metadata": {},
   "outputs": [],
   "source": [
    "df.loc[df['kecamatan'] == 'PENJARINGAN', 'kota_administrasi'] = 'Jakarta Utara'"
   ]
  },
  {
   "cell_type": "code",
   "execution_count": 32,
   "metadata": {},
   "outputs": [
    {
     "name": "stdout",
     "output_type": "stream",
     "text": [
      "Jakarta Barat : ['KALIDERES' 'GROGOL PETAMBURAN' 'KEMBANGAN' 'CENGKARENG' 'KEBON JERUK'\n",
      " 'PALMERAH']\n"
     ]
    }
   ],
   "source": [
    "print(f\"Jakarta Barat : {df[df['kota_administrasi'] == 'Jakarta Barat']['kecamatan'].unique()}\")"
   ]
  },
  {
   "cell_type": "code",
   "execution_count": 33,
   "metadata": {},
   "outputs": [
    {
     "name": "stdout",
     "output_type": "stream",
     "text": [
      "Jakarta Utara : ['PENJARINGAN' 'CILINCING' 'KELAPA GADING' 'KOJA']\n"
     ]
    }
   ],
   "source": [
    "print(f\"Jakarta Utara : {df[df['kota_administrasi'] == 'Jakarta Utara']['kecamatan'].unique()}\")"
   ]
  },
  {
   "cell_type": "code",
   "execution_count": 34,
   "metadata": {},
   "outputs": [],
   "source": [
    "df['kota_administrasi'] = df['kota_administrasi'].str.strip()"
   ]
  },
  {
   "attachments": {},
   "cell_type": "markdown",
   "metadata": {},
   "source": [
    "Add column 'terjadi_banjir' untuk mengetahui jumlah banjir berdasarkan tgl kejadian"
   ]
  },
  {
   "cell_type": "code",
   "execution_count": 35,
   "metadata": {},
   "outputs": [
    {
     "data": {
      "text/html": [
       "<div>\n",
       "<style scoped>\n",
       "    .dataframe tbody tr th:only-of-type {\n",
       "        vertical-align: middle;\n",
       "    }\n",
       "\n",
       "    .dataframe tbody tr th {\n",
       "        vertical-align: top;\n",
       "    }\n",
       "\n",
       "    .dataframe thead th {\n",
       "        text-align: right;\n",
       "    }\n",
       "</style>\n",
       "<table border=\"1\" class=\"dataframe\">\n",
       "  <thead>\n",
       "    <tr style=\"text-align: right;\">\n",
       "      <th></th>\n",
       "      <th>kota_administrasi</th>\n",
       "      <th>kecamatan</th>\n",
       "      <th>kelurahan</th>\n",
       "      <th>rw</th>\n",
       "      <th>jumlah_terdampak_rw</th>\n",
       "      <th>jumlah_terdampak_rt</th>\n",
       "      <th>jumlah_terdampak_kk</th>\n",
       "      <th>jumlah_terdampak_jiwa</th>\n",
       "      <th>ketinggian_air</th>\n",
       "      <th>tanggal_kejadian</th>\n",
       "      <th>...</th>\n",
       "      <th>jumlah_hilang</th>\n",
       "      <th>jumlah_luka_berat</th>\n",
       "      <th>jumlah_luka_ringan</th>\n",
       "      <th>jumlah_pengungsi_tertinggi</th>\n",
       "      <th>jumlah_tempat_pengungsian</th>\n",
       "      <th>nilai_kerugian</th>\n",
       "      <th>bulan_kejadian</th>\n",
       "      <th>ketinggian_air_min</th>\n",
       "      <th>ketinggian_air_max</th>\n",
       "      <th>terjadi_banjir</th>\n",
       "    </tr>\n",
       "  </thead>\n",
       "  <tbody>\n",
       "    <tr>\n",
       "      <th>0</th>\n",
       "      <td>Jakarta Utara</td>\n",
       "      <td>PENJARINGAN</td>\n",
       "      <td>KAMAL MUARA</td>\n",
       "      <td>01, 04</td>\n",
       "      <td>2</td>\n",
       "      <td>12</td>\n",
       "      <td>0</td>\n",
       "      <td>0</td>\n",
       "      <td>20 - 30</td>\n",
       "      <td>02</td>\n",
       "      <td>...</td>\n",
       "      <td>0</td>\n",
       "      <td>0</td>\n",
       "      <td>0</td>\n",
       "      <td>0</td>\n",
       "      <td>0</td>\n",
       "      <td>0</td>\n",
       "      <td>1</td>\n",
       "      <td>20</td>\n",
       "      <td>30</td>\n",
       "      <td>1</td>\n",
       "    </tr>\n",
       "    <tr>\n",
       "      <th>1</th>\n",
       "      <td>Jakarta Barat</td>\n",
       "      <td>KALIDERES</td>\n",
       "      <td>KAMAL</td>\n",
       "      <td>1, 4</td>\n",
       "      <td>2</td>\n",
       "      <td>3</td>\n",
       "      <td>0</td>\n",
       "      <td>0</td>\n",
       "      <td>10 - 25</td>\n",
       "      <td>03, 04, 05, 18, 31</td>\n",
       "      <td>...</td>\n",
       "      <td>0</td>\n",
       "      <td>0</td>\n",
       "      <td>0</td>\n",
       "      <td>0</td>\n",
       "      <td>0</td>\n",
       "      <td>0</td>\n",
       "      <td>1</td>\n",
       "      <td>10</td>\n",
       "      <td>25</td>\n",
       "      <td>5</td>\n",
       "    </tr>\n",
       "    <tr>\n",
       "      <th>2</th>\n",
       "      <td>Jakarta Barat</td>\n",
       "      <td>GROGOL PETAMBURAN</td>\n",
       "      <td>JELAMBAR BARU</td>\n",
       "      <td>1</td>\n",
       "      <td>1</td>\n",
       "      <td>2</td>\n",
       "      <td>0</td>\n",
       "      <td>0</td>\n",
       "      <td>15</td>\n",
       "      <td>03</td>\n",
       "      <td>...</td>\n",
       "      <td>0</td>\n",
       "      <td>0</td>\n",
       "      <td>0</td>\n",
       "      <td>0</td>\n",
       "      <td>0</td>\n",
       "      <td>0</td>\n",
       "      <td>1</td>\n",
       "      <td>15</td>\n",
       "      <td>15</td>\n",
       "      <td>1</td>\n",
       "    </tr>\n",
       "    <tr>\n",
       "      <th>3</th>\n",
       "      <td>Jakarta Barat</td>\n",
       "      <td>GROGOL PETAMBURAN</td>\n",
       "      <td>JELAMBAR</td>\n",
       "      <td>7</td>\n",
       "      <td>1</td>\n",
       "      <td>1</td>\n",
       "      <td>0</td>\n",
       "      <td>0</td>\n",
       "      <td>20</td>\n",
       "      <td>03</td>\n",
       "      <td>...</td>\n",
       "      <td>0</td>\n",
       "      <td>0</td>\n",
       "      <td>0</td>\n",
       "      <td>0</td>\n",
       "      <td>0</td>\n",
       "      <td>0</td>\n",
       "      <td>1</td>\n",
       "      <td>20</td>\n",
       "      <td>20</td>\n",
       "      <td>1</td>\n",
       "    </tr>\n",
       "    <tr>\n",
       "      <th>4</th>\n",
       "      <td>Jakarta Barat</td>\n",
       "      <td>KEMBANGAN</td>\n",
       "      <td>KEMBANGAN UTARA</td>\n",
       "      <td>3, 4, 5, 6</td>\n",
       "      <td>4</td>\n",
       "      <td>2</td>\n",
       "      <td>0</td>\n",
       "      <td>0</td>\n",
       "      <td>5 - 20</td>\n",
       "      <td>18</td>\n",
       "      <td>...</td>\n",
       "      <td>0</td>\n",
       "      <td>0</td>\n",
       "      <td>0</td>\n",
       "      <td>0</td>\n",
       "      <td>0</td>\n",
       "      <td>0</td>\n",
       "      <td>1</td>\n",
       "      <td>5</td>\n",
       "      <td>20</td>\n",
       "      <td>1</td>\n",
       "    </tr>\n",
       "    <tr>\n",
       "      <th>...</th>\n",
       "      <td>...</td>\n",
       "      <td>...</td>\n",
       "      <td>...</td>\n",
       "      <td>...</td>\n",
       "      <td>...</td>\n",
       "      <td>...</td>\n",
       "      <td>...</td>\n",
       "      <td>...</td>\n",
       "      <td>...</td>\n",
       "      <td>...</td>\n",
       "      <td>...</td>\n",
       "      <td>...</td>\n",
       "      <td>...</td>\n",
       "      <td>...</td>\n",
       "      <td>...</td>\n",
       "      <td>...</td>\n",
       "      <td>...</td>\n",
       "      <td>...</td>\n",
       "      <td>...</td>\n",
       "      <td>...</td>\n",
       "      <td>...</td>\n",
       "    </tr>\n",
       "    <tr>\n",
       "      <th>130</th>\n",
       "      <td>Jakarta Selatan</td>\n",
       "      <td>PESANGGRAHAN</td>\n",
       "      <td>ULUJAMI</td>\n",
       "      <td>1</td>\n",
       "      <td>1</td>\n",
       "      <td>8</td>\n",
       "      <td>0</td>\n",
       "      <td>0</td>\n",
       "      <td>20 - 40</td>\n",
       "      <td>11</td>\n",
       "      <td>...</td>\n",
       "      <td>0</td>\n",
       "      <td>0</td>\n",
       "      <td>0</td>\n",
       "      <td>0</td>\n",
       "      <td>0</td>\n",
       "      <td>0</td>\n",
       "      <td>12</td>\n",
       "      <td>20</td>\n",
       "      <td>40</td>\n",
       "      <td>1</td>\n",
       "    </tr>\n",
       "    <tr>\n",
       "      <th>131</th>\n",
       "      <td>Jakarta Timur</td>\n",
       "      <td>CAKUNG</td>\n",
       "      <td>RAWA TERATE</td>\n",
       "      <td>5</td>\n",
       "      <td>1</td>\n",
       "      <td>1</td>\n",
       "      <td>0</td>\n",
       "      <td>0</td>\n",
       "      <td>10 - 100</td>\n",
       "      <td>3</td>\n",
       "      <td>...</td>\n",
       "      <td>0</td>\n",
       "      <td>0</td>\n",
       "      <td>0</td>\n",
       "      <td>0</td>\n",
       "      <td>0</td>\n",
       "      <td>0</td>\n",
       "      <td>12</td>\n",
       "      <td>10</td>\n",
       "      <td>100</td>\n",
       "      <td>1</td>\n",
       "    </tr>\n",
       "    <tr>\n",
       "      <th>132</th>\n",
       "      <td>Jakarta Timur</td>\n",
       "      <td>CAKUNG</td>\n",
       "      <td>CAKUNG TIMUR</td>\n",
       "      <td>9</td>\n",
       "      <td>1</td>\n",
       "      <td>4</td>\n",
       "      <td>210</td>\n",
       "      <td>800</td>\n",
       "      <td>20</td>\n",
       "      <td>3</td>\n",
       "      <td>...</td>\n",
       "      <td>0</td>\n",
       "      <td>0</td>\n",
       "      <td>0</td>\n",
       "      <td>0</td>\n",
       "      <td>0</td>\n",
       "      <td>0</td>\n",
       "      <td>12</td>\n",
       "      <td>20</td>\n",
       "      <td>20</td>\n",
       "      <td>1</td>\n",
       "    </tr>\n",
       "    <tr>\n",
       "      <th>133</th>\n",
       "      <td>Jakarta Timur</td>\n",
       "      <td>MAKASAR</td>\n",
       "      <td>CIPINANG MELAYU</td>\n",
       "      <td>4</td>\n",
       "      <td>1</td>\n",
       "      <td>1</td>\n",
       "      <td>0</td>\n",
       "      <td>0</td>\n",
       "      <td>10 - 30</td>\n",
       "      <td>6</td>\n",
       "      <td>...</td>\n",
       "      <td>0</td>\n",
       "      <td>0</td>\n",
       "      <td>0</td>\n",
       "      <td>0</td>\n",
       "      <td>0</td>\n",
       "      <td>0</td>\n",
       "      <td>12</td>\n",
       "      <td>10</td>\n",
       "      <td>30</td>\n",
       "      <td>1</td>\n",
       "    </tr>\n",
       "    <tr>\n",
       "      <th>134</th>\n",
       "      <td>Jakarta Timur</td>\n",
       "      <td>CIRACAS</td>\n",
       "      <td>RAMBUTAN</td>\n",
       "      <td>03, 05</td>\n",
       "      <td>2</td>\n",
       "      <td>4</td>\n",
       "      <td>0</td>\n",
       "      <td>0</td>\n",
       "      <td>10 - 50</td>\n",
       "      <td>11</td>\n",
       "      <td>...</td>\n",
       "      <td>0</td>\n",
       "      <td>0</td>\n",
       "      <td>0</td>\n",
       "      <td>0</td>\n",
       "      <td>0</td>\n",
       "      <td>0</td>\n",
       "      <td>12</td>\n",
       "      <td>10</td>\n",
       "      <td>50</td>\n",
       "      <td>1</td>\n",
       "    </tr>\n",
       "  </tbody>\n",
       "</table>\n",
       "<p>135 rows × 22 columns</p>\n",
       "</div>"
      ],
      "text/plain": [
       "    kota_administrasi          kecamatan        kelurahan          rw  \\\n",
       "0       Jakarta Utara        PENJARINGAN      KAMAL MUARA      01, 04   \n",
       "1       Jakarta Barat          KALIDERES            KAMAL        1, 4   \n",
       "2       Jakarta Barat  GROGOL PETAMBURAN    JELAMBAR BARU           1   \n",
       "3       Jakarta Barat  GROGOL PETAMBURAN         JELAMBAR           7   \n",
       "4       Jakarta Barat          KEMBANGAN  KEMBANGAN UTARA  3, 4, 5, 6   \n",
       "..                ...                ...              ...         ...   \n",
       "130   Jakarta Selatan       PESANGGRAHAN          ULUJAMI           1   \n",
       "131     Jakarta Timur             CAKUNG      RAWA TERATE           5   \n",
       "132     Jakarta Timur             CAKUNG     CAKUNG TIMUR           9   \n",
       "133     Jakarta Timur            MAKASAR  CIPINANG MELAYU           4   \n",
       "134     Jakarta Timur            CIRACAS         RAMBUTAN      03, 05   \n",
       "\n",
       "     jumlah_terdampak_rw  jumlah_terdampak_rt  jumlah_terdampak_kk  \\\n",
       "0                      2                   12                    0   \n",
       "1                      2                    3                    0   \n",
       "2                      1                    2                    0   \n",
       "3                      1                    1                    0   \n",
       "4                      4                    2                    0   \n",
       "..                   ...                  ...                  ...   \n",
       "130                    1                    8                    0   \n",
       "131                    1                    1                    0   \n",
       "132                    1                    4                  210   \n",
       "133                    1                    1                    0   \n",
       "134                    2                    4                    0   \n",
       "\n",
       "     jumlah_terdampak_jiwa ketinggian_air     tanggal_kejadian  ...  \\\n",
       "0                        0       20 - 30                    02  ...   \n",
       "1                        0       10 - 25    03, 04, 05, 18, 31  ...   \n",
       "2                        0            15                    03  ...   \n",
       "3                        0            20                    03  ...   \n",
       "4                        0        5 - 20                    18  ...   \n",
       "..                     ...            ...                  ...  ...   \n",
       "130                      0       20 - 40                    11  ...   \n",
       "131                      0      10 - 100                     3  ...   \n",
       "132                    800            20                     3  ...   \n",
       "133                      0       10 - 30                     6  ...   \n",
       "134                      0        10 - 50                   11  ...   \n",
       "\n",
       "     jumlah_hilang  jumlah_luka_berat  jumlah_luka_ringan  \\\n",
       "0                0                  0                   0   \n",
       "1                0                  0                   0   \n",
       "2                0                  0                   0   \n",
       "3                0                  0                   0   \n",
       "4                0                  0                   0   \n",
       "..             ...                ...                 ...   \n",
       "130              0                  0                   0   \n",
       "131              0                  0                   0   \n",
       "132              0                  0                   0   \n",
       "133              0                  0                   0   \n",
       "134              0                  0                   0   \n",
       "\n",
       "     jumlah_pengungsi_tertinggi  jumlah_tempat_pengungsian  nilai_kerugian  \\\n",
       "0                             0                          0               0   \n",
       "1                             0                          0               0   \n",
       "2                             0                          0               0   \n",
       "3                             0                          0               0   \n",
       "4                             0                          0               0   \n",
       "..                          ...                        ...             ...   \n",
       "130                           0                          0               0   \n",
       "131                           0                          0               0   \n",
       "132                           0                          0               0   \n",
       "133                           0                          0               0   \n",
       "134                           0                          0               0   \n",
       "\n",
       "     bulan_kejadian  ketinggian_air_min  ketinggian_air_max  terjadi_banjir  \n",
       "0                 1                  20                  30               1  \n",
       "1                 1                  10                  25               5  \n",
       "2                 1                  15                  15               1  \n",
       "3                 1                  20                  20               1  \n",
       "4                 1                   5                  20               1  \n",
       "..              ...                 ...                 ...             ...  \n",
       "130              12                  20                  40               1  \n",
       "131              12                  10                 100               1  \n",
       "132              12                  20                  20               1  \n",
       "133              12                  10                  30               1  \n",
       "134              12                  10                  50               1  \n",
       "\n",
       "[135 rows x 22 columns]"
      ]
     },
     "execution_count": 35,
     "metadata": {},
     "output_type": "execute_result"
    }
   ],
   "source": [
    "df['tanggal_kejadian'] = df['tanggal_kejadian'].replace('tgl.', '',regex=True)\n",
    "df['terjadi_banjir'] = df['tanggal_kejadian'].str.split(',').apply(lambda x: len(x))\n",
    "df"
   ]
  },
  {
   "attachments": {},
   "cell_type": "markdown",
   "metadata": {},
   "source": [
    "Drop column \n",
    "\n",
    "jumlah_meninggal, jumlah_luka_berat, jumlah_tempat_pengungsian dan nilai_kerugian"
   ]
  },
  {
   "cell_type": "code",
   "execution_count": 36,
   "metadata": {},
   "outputs": [
    {
     "name": "stdout",
     "output_type": "stream",
     "text": [
      "Banyaknya kolom : 22\n",
      "Nama kolom : Index(['kota_administrasi', 'kecamatan', 'kelurahan', 'rw',\n",
      "       'jumlah_terdampak_rw', 'jumlah_terdampak_rt', 'jumlah_terdampak_kk',\n",
      "       'jumlah_terdampak_jiwa', 'ketinggian_air', 'tanggal_kejadian',\n",
      "       'lama_genangan', 'jumlah_meninggal', 'jumlah_hilang',\n",
      "       'jumlah_luka_berat', 'jumlah_luka_ringan', 'jumlah_pengungsi_tertinggi',\n",
      "       'jumlah_tempat_pengungsian', 'nilai_kerugian', 'bulan_kejadian',\n",
      "       'ketinggian_air_min', 'ketinggian_air_max', 'terjadi_banjir'],\n",
      "      dtype='object')\n"
     ]
    }
   ],
   "source": [
    "print(f\"Banyaknya kolom : {len(df.columns)}\")\n",
    "print(f\"Nama kolom : {df.columns}\")"
   ]
  },
  {
   "cell_type": "code",
   "execution_count": 37,
   "metadata": {},
   "outputs": [],
   "source": [
    "df.drop(['ketinggian_air','jumlah_meninggal','jumlah_luka_berat','jumlah_tempat_pengungsian','nilai_kerugian'],axis=1,inplace=True)"
   ]
  },
  {
   "cell_type": "code",
   "execution_count": 38,
   "metadata": {},
   "outputs": [
    {
     "name": "stdout",
     "output_type": "stream",
     "text": [
      "Banyaknya kolom : 17\n",
      "Nama kolom : Index(['kota_administrasi', 'kecamatan', 'kelurahan', 'rw',\n",
      "       'jumlah_terdampak_rw', 'jumlah_terdampak_rt', 'jumlah_terdampak_kk',\n",
      "       'jumlah_terdampak_jiwa', 'tanggal_kejadian', 'lama_genangan',\n",
      "       'jumlah_hilang', 'jumlah_luka_ringan', 'jumlah_pengungsi_tertinggi',\n",
      "       'bulan_kejadian', 'ketinggian_air_min', 'ketinggian_air_max',\n",
      "       'terjadi_banjir'],\n",
      "      dtype='object')\n"
     ]
    }
   ],
   "source": [
    "print(f\"Banyaknya kolom : {len(df.columns)}\")\n",
    "print(f\"Nama kolom : {df.columns}\")"
   ]
  },
  {
   "attachments": {},
   "cell_type": "markdown",
   "metadata": {},
   "source": [
    "### Cek duplicate"
   ]
  },
  {
   "cell_type": "code",
   "execution_count": 39,
   "metadata": {},
   "outputs": [
    {
     "data": {
      "text/plain": [
       "0"
      ]
     },
     "execution_count": 39,
     "metadata": {},
     "output_type": "execute_result"
    }
   ],
   "source": [
    "df.duplicated().sum()"
   ]
  },
  {
   "cell_type": "code",
   "execution_count": 40,
   "metadata": {},
   "outputs": [
    {
     "data": {
      "text/html": [
       "<div>\n",
       "<style scoped>\n",
       "    .dataframe tbody tr th:only-of-type {\n",
       "        vertical-align: middle;\n",
       "    }\n",
       "\n",
       "    .dataframe tbody tr th {\n",
       "        vertical-align: top;\n",
       "    }\n",
       "\n",
       "    .dataframe thead th {\n",
       "        text-align: right;\n",
       "    }\n",
       "</style>\n",
       "<table border=\"1\" class=\"dataframe\">\n",
       "  <thead>\n",
       "    <tr style=\"text-align: right;\">\n",
       "      <th></th>\n",
       "      <th>kota_administrasi</th>\n",
       "      <th>kecamatan</th>\n",
       "      <th>kelurahan</th>\n",
       "      <th>rw</th>\n",
       "      <th>jumlah_terdampak_rw</th>\n",
       "      <th>jumlah_terdampak_rt</th>\n",
       "      <th>jumlah_terdampak_kk</th>\n",
       "      <th>jumlah_terdampak_jiwa</th>\n",
       "      <th>tanggal_kejadian</th>\n",
       "      <th>lama_genangan</th>\n",
       "      <th>jumlah_hilang</th>\n",
       "      <th>jumlah_luka_ringan</th>\n",
       "      <th>jumlah_pengungsi_tertinggi</th>\n",
       "      <th>bulan_kejadian</th>\n",
       "      <th>ketinggian_air_min</th>\n",
       "      <th>ketinggian_air_max</th>\n",
       "      <th>terjadi_banjir</th>\n",
       "    </tr>\n",
       "  </thead>\n",
       "  <tbody>\n",
       "    <tr>\n",
       "      <th>0</th>\n",
       "      <td>Jakarta Utara</td>\n",
       "      <td>PENJARINGAN</td>\n",
       "      <td>KAMAL MUARA</td>\n",
       "      <td>01, 04</td>\n",
       "      <td>2</td>\n",
       "      <td>12</td>\n",
       "      <td>0</td>\n",
       "      <td>0</td>\n",
       "      <td>02</td>\n",
       "      <td>0</td>\n",
       "      <td>0</td>\n",
       "      <td>0</td>\n",
       "      <td>0</td>\n",
       "      <td>1</td>\n",
       "      <td>20</td>\n",
       "      <td>30</td>\n",
       "      <td>1</td>\n",
       "    </tr>\n",
       "    <tr>\n",
       "      <th>1</th>\n",
       "      <td>Jakarta Barat</td>\n",
       "      <td>KALIDERES</td>\n",
       "      <td>KAMAL</td>\n",
       "      <td>1, 4</td>\n",
       "      <td>2</td>\n",
       "      <td>3</td>\n",
       "      <td>0</td>\n",
       "      <td>0</td>\n",
       "      <td>03, 04, 05, 18, 31</td>\n",
       "      <td>0</td>\n",
       "      <td>0</td>\n",
       "      <td>0</td>\n",
       "      <td>0</td>\n",
       "      <td>1</td>\n",
       "      <td>10</td>\n",
       "      <td>25</td>\n",
       "      <td>5</td>\n",
       "    </tr>\n",
       "    <tr>\n",
       "      <th>2</th>\n",
       "      <td>Jakarta Barat</td>\n",
       "      <td>GROGOL PETAMBURAN</td>\n",
       "      <td>JELAMBAR BARU</td>\n",
       "      <td>1</td>\n",
       "      <td>1</td>\n",
       "      <td>2</td>\n",
       "      <td>0</td>\n",
       "      <td>0</td>\n",
       "      <td>03</td>\n",
       "      <td>0</td>\n",
       "      <td>0</td>\n",
       "      <td>0</td>\n",
       "      <td>0</td>\n",
       "      <td>1</td>\n",
       "      <td>15</td>\n",
       "      <td>15</td>\n",
       "      <td>1</td>\n",
       "    </tr>\n",
       "    <tr>\n",
       "      <th>3</th>\n",
       "      <td>Jakarta Barat</td>\n",
       "      <td>GROGOL PETAMBURAN</td>\n",
       "      <td>JELAMBAR</td>\n",
       "      <td>7</td>\n",
       "      <td>1</td>\n",
       "      <td>1</td>\n",
       "      <td>0</td>\n",
       "      <td>0</td>\n",
       "      <td>03</td>\n",
       "      <td>0</td>\n",
       "      <td>0</td>\n",
       "      <td>0</td>\n",
       "      <td>0</td>\n",
       "      <td>1</td>\n",
       "      <td>20</td>\n",
       "      <td>20</td>\n",
       "      <td>1</td>\n",
       "    </tr>\n",
       "    <tr>\n",
       "      <th>4</th>\n",
       "      <td>Jakarta Barat</td>\n",
       "      <td>KEMBANGAN</td>\n",
       "      <td>KEMBANGAN UTARA</td>\n",
       "      <td>3, 4, 5, 6</td>\n",
       "      <td>4</td>\n",
       "      <td>2</td>\n",
       "      <td>0</td>\n",
       "      <td>0</td>\n",
       "      <td>18</td>\n",
       "      <td>0</td>\n",
       "      <td>0</td>\n",
       "      <td>0</td>\n",
       "      <td>0</td>\n",
       "      <td>1</td>\n",
       "      <td>5</td>\n",
       "      <td>20</td>\n",
       "      <td>1</td>\n",
       "    </tr>\n",
       "    <tr>\n",
       "      <th>...</th>\n",
       "      <td>...</td>\n",
       "      <td>...</td>\n",
       "      <td>...</td>\n",
       "      <td>...</td>\n",
       "      <td>...</td>\n",
       "      <td>...</td>\n",
       "      <td>...</td>\n",
       "      <td>...</td>\n",
       "      <td>...</td>\n",
       "      <td>...</td>\n",
       "      <td>...</td>\n",
       "      <td>...</td>\n",
       "      <td>...</td>\n",
       "      <td>...</td>\n",
       "      <td>...</td>\n",
       "      <td>...</td>\n",
       "      <td>...</td>\n",
       "    </tr>\n",
       "    <tr>\n",
       "      <th>130</th>\n",
       "      <td>Jakarta Selatan</td>\n",
       "      <td>PESANGGRAHAN</td>\n",
       "      <td>ULUJAMI</td>\n",
       "      <td>1</td>\n",
       "      <td>1</td>\n",
       "      <td>8</td>\n",
       "      <td>0</td>\n",
       "      <td>0</td>\n",
       "      <td>11</td>\n",
       "      <td>0</td>\n",
       "      <td>0</td>\n",
       "      <td>0</td>\n",
       "      <td>0</td>\n",
       "      <td>12</td>\n",
       "      <td>20</td>\n",
       "      <td>40</td>\n",
       "      <td>1</td>\n",
       "    </tr>\n",
       "    <tr>\n",
       "      <th>131</th>\n",
       "      <td>Jakarta Timur</td>\n",
       "      <td>CAKUNG</td>\n",
       "      <td>RAWA TERATE</td>\n",
       "      <td>5</td>\n",
       "      <td>1</td>\n",
       "      <td>1</td>\n",
       "      <td>0</td>\n",
       "      <td>0</td>\n",
       "      <td>3</td>\n",
       "      <td>0</td>\n",
       "      <td>0</td>\n",
       "      <td>0</td>\n",
       "      <td>0</td>\n",
       "      <td>12</td>\n",
       "      <td>10</td>\n",
       "      <td>100</td>\n",
       "      <td>1</td>\n",
       "    </tr>\n",
       "    <tr>\n",
       "      <th>132</th>\n",
       "      <td>Jakarta Timur</td>\n",
       "      <td>CAKUNG</td>\n",
       "      <td>CAKUNG TIMUR</td>\n",
       "      <td>9</td>\n",
       "      <td>1</td>\n",
       "      <td>4</td>\n",
       "      <td>210</td>\n",
       "      <td>800</td>\n",
       "      <td>3</td>\n",
       "      <td>0</td>\n",
       "      <td>0</td>\n",
       "      <td>0</td>\n",
       "      <td>0</td>\n",
       "      <td>12</td>\n",
       "      <td>20</td>\n",
       "      <td>20</td>\n",
       "      <td>1</td>\n",
       "    </tr>\n",
       "    <tr>\n",
       "      <th>133</th>\n",
       "      <td>Jakarta Timur</td>\n",
       "      <td>MAKASAR</td>\n",
       "      <td>CIPINANG MELAYU</td>\n",
       "      <td>4</td>\n",
       "      <td>1</td>\n",
       "      <td>1</td>\n",
       "      <td>0</td>\n",
       "      <td>0</td>\n",
       "      <td>6</td>\n",
       "      <td>0</td>\n",
       "      <td>0</td>\n",
       "      <td>0</td>\n",
       "      <td>0</td>\n",
       "      <td>12</td>\n",
       "      <td>10</td>\n",
       "      <td>30</td>\n",
       "      <td>1</td>\n",
       "    </tr>\n",
       "    <tr>\n",
       "      <th>134</th>\n",
       "      <td>Jakarta Timur</td>\n",
       "      <td>CIRACAS</td>\n",
       "      <td>RAMBUTAN</td>\n",
       "      <td>03, 05</td>\n",
       "      <td>2</td>\n",
       "      <td>4</td>\n",
       "      <td>0</td>\n",
       "      <td>0</td>\n",
       "      <td>11</td>\n",
       "      <td>0</td>\n",
       "      <td>0</td>\n",
       "      <td>0</td>\n",
       "      <td>0</td>\n",
       "      <td>12</td>\n",
       "      <td>10</td>\n",
       "      <td>50</td>\n",
       "      <td>1</td>\n",
       "    </tr>\n",
       "  </tbody>\n",
       "</table>\n",
       "<p>135 rows × 17 columns</p>\n",
       "</div>"
      ],
      "text/plain": [
       "    kota_administrasi          kecamatan        kelurahan          rw  \\\n",
       "0       Jakarta Utara        PENJARINGAN      KAMAL MUARA      01, 04   \n",
       "1       Jakarta Barat          KALIDERES            KAMAL        1, 4   \n",
       "2       Jakarta Barat  GROGOL PETAMBURAN    JELAMBAR BARU           1   \n",
       "3       Jakarta Barat  GROGOL PETAMBURAN         JELAMBAR           7   \n",
       "4       Jakarta Barat          KEMBANGAN  KEMBANGAN UTARA  3, 4, 5, 6   \n",
       "..                ...                ...              ...         ...   \n",
       "130   Jakarta Selatan       PESANGGRAHAN          ULUJAMI           1   \n",
       "131     Jakarta Timur             CAKUNG      RAWA TERATE           5   \n",
       "132     Jakarta Timur             CAKUNG     CAKUNG TIMUR           9   \n",
       "133     Jakarta Timur            MAKASAR  CIPINANG MELAYU           4   \n",
       "134     Jakarta Timur            CIRACAS         RAMBUTAN      03, 05   \n",
       "\n",
       "     jumlah_terdampak_rw  jumlah_terdampak_rt  jumlah_terdampak_kk  \\\n",
       "0                      2                   12                    0   \n",
       "1                      2                    3                    0   \n",
       "2                      1                    2                    0   \n",
       "3                      1                    1                    0   \n",
       "4                      4                    2                    0   \n",
       "..                   ...                  ...                  ...   \n",
       "130                    1                    8                    0   \n",
       "131                    1                    1                    0   \n",
       "132                    1                    4                  210   \n",
       "133                    1                    1                    0   \n",
       "134                    2                    4                    0   \n",
       "\n",
       "     jumlah_terdampak_jiwa     tanggal_kejadian  lama_genangan  jumlah_hilang  \\\n",
       "0                        0                   02              0              0   \n",
       "1                        0   03, 04, 05, 18, 31              0              0   \n",
       "2                        0                   03              0              0   \n",
       "3                        0                   03              0              0   \n",
       "4                        0                   18              0              0   \n",
       "..                     ...                  ...            ...            ...   \n",
       "130                      0                   11              0              0   \n",
       "131                      0                    3              0              0   \n",
       "132                    800                    3              0              0   \n",
       "133                      0                    6              0              0   \n",
       "134                      0                   11              0              0   \n",
       "\n",
       "     jumlah_luka_ringan  jumlah_pengungsi_tertinggi  bulan_kejadian  \\\n",
       "0                     0                           0               1   \n",
       "1                     0                           0               1   \n",
       "2                     0                           0               1   \n",
       "3                     0                           0               1   \n",
       "4                     0                           0               1   \n",
       "..                  ...                         ...             ...   \n",
       "130                   0                           0              12   \n",
       "131                   0                           0              12   \n",
       "132                   0                           0              12   \n",
       "133                   0                           0              12   \n",
       "134                   0                           0              12   \n",
       "\n",
       "     ketinggian_air_min  ketinggian_air_max  terjadi_banjir  \n",
       "0                    20                  30               1  \n",
       "1                    10                  25               5  \n",
       "2                    15                  15               1  \n",
       "3                    20                  20               1  \n",
       "4                     5                  20               1  \n",
       "..                  ...                 ...             ...  \n",
       "130                  20                  40               1  \n",
       "131                  10                 100               1  \n",
       "132                  20                  20               1  \n",
       "133                  10                  30               1  \n",
       "134                  10                  50               1  \n",
       "\n",
       "[135 rows x 17 columns]"
      ]
     },
     "execution_count": 40,
     "metadata": {},
     "output_type": "execute_result"
    }
   ],
   "source": [
    "df"
   ]
  },
  {
   "attachments": {},
   "cell_type": "markdown",
   "metadata": {},
   "source": [
    "# Exploratory Data Analysis"
   ]
  },
  {
   "cell_type": "code",
   "execution_count": 41,
   "metadata": {},
   "outputs": [
    {
     "data": {
      "text/plain": [
       "Index(['kota_administrasi', 'kecamatan', 'kelurahan', 'rw',\n",
       "       'jumlah_terdampak_rw', 'jumlah_terdampak_rt', 'jumlah_terdampak_kk',\n",
       "       'jumlah_terdampak_jiwa', 'tanggal_kejadian', 'lama_genangan',\n",
       "       'jumlah_hilang', 'jumlah_luka_ringan', 'jumlah_pengungsi_tertinggi',\n",
       "       'bulan_kejadian', 'ketinggian_air_min', 'ketinggian_air_max',\n",
       "       'terjadi_banjir'],\n",
       "      dtype='object')"
      ]
     },
     "execution_count": 41,
     "metadata": {},
     "output_type": "execute_result"
    }
   ],
   "source": [
    "df.columns"
   ]
  },
  {
   "attachments": {},
   "cell_type": "markdown",
   "metadata": {},
   "source": [
    "Kejadian banjir berdasarkan kota administrasi - pie chart"
   ]
  },
  {
   "cell_type": "code",
   "execution_count": 42,
   "metadata": {},
   "outputs": [
    {
     "data": {
      "application/vnd.plotly.v1+json": {
       "config": {
        "plotlyServerURL": "https://plot.ly"
       },
       "data": [
        {
         "domain": {
          "x": [
           0,
           1
          ],
          "y": [
           0,
           1
          ]
         },
         "hole": 0.4,
         "hovertemplate": "label=%{label}<br>value=%{value}<extra></extra>",
         "labels": [
          "Jakarta Barat",
          "Jakarta Pusat",
          "Jakarta Selatan",
          "Jakarta Timur",
          "Jakarta Utara"
         ],
         "legendgroup": "",
         "name": "",
         "pull": [
          0.01,
          0.01,
          0.01,
          0.01,
          0.01
         ],
         "showlegend": true,
         "textinfo": "percent+label+value",
         "textposition": "outside",
         "type": "pie",
         "values": [
          46,
          4,
          67,
          95,
          26
         ]
        }
       ],
       "layout": {
        "height": 320,
        "legend": {
         "tracegroupgap": 0
        },
        "margin": {
         "t": 60
        },
        "piecolorway": [
         "rgb(8,48,107)",
         "rgb(8,81,156)",
         "rgb(33,113,181)",
         "rgb(66,146,198)",
         "rgb(107,174,214)",
         "rgb(158,202,225)",
         "rgb(198,219,239)",
         "rgb(222,235,247)",
         "rgb(247,251,255)"
        ],
        "showlegend": true,
        "template": {
         "data": {
          "bar": [
           {
            "error_x": {
             "color": "#2a3f5f"
            },
            "error_y": {
             "color": "#2a3f5f"
            },
            "marker": {
             "line": {
              "color": "#E5ECF6",
              "width": 0.5
             },
             "pattern": {
              "fillmode": "overlay",
              "size": 10,
              "solidity": 0.2
             }
            },
            "type": "bar"
           }
          ],
          "barpolar": [
           {
            "marker": {
             "line": {
              "color": "#E5ECF6",
              "width": 0.5
             },
             "pattern": {
              "fillmode": "overlay",
              "size": 10,
              "solidity": 0.2
             }
            },
            "type": "barpolar"
           }
          ],
          "carpet": [
           {
            "aaxis": {
             "endlinecolor": "#2a3f5f",
             "gridcolor": "white",
             "linecolor": "white",
             "minorgridcolor": "white",
             "startlinecolor": "#2a3f5f"
            },
            "baxis": {
             "endlinecolor": "#2a3f5f",
             "gridcolor": "white",
             "linecolor": "white",
             "minorgridcolor": "white",
             "startlinecolor": "#2a3f5f"
            },
            "type": "carpet"
           }
          ],
          "choropleth": [
           {
            "colorbar": {
             "outlinewidth": 0,
             "ticks": ""
            },
            "type": "choropleth"
           }
          ],
          "contour": [
           {
            "colorbar": {
             "outlinewidth": 0,
             "ticks": ""
            },
            "colorscale": [
             [
              0,
              "#0d0887"
             ],
             [
              0.1111111111111111,
              "#46039f"
             ],
             [
              0.2222222222222222,
              "#7201a8"
             ],
             [
              0.3333333333333333,
              "#9c179e"
             ],
             [
              0.4444444444444444,
              "#bd3786"
             ],
             [
              0.5555555555555556,
              "#d8576b"
             ],
             [
              0.6666666666666666,
              "#ed7953"
             ],
             [
              0.7777777777777778,
              "#fb9f3a"
             ],
             [
              0.8888888888888888,
              "#fdca26"
             ],
             [
              1,
              "#f0f921"
             ]
            ],
            "type": "contour"
           }
          ],
          "contourcarpet": [
           {
            "colorbar": {
             "outlinewidth": 0,
             "ticks": ""
            },
            "type": "contourcarpet"
           }
          ],
          "heatmap": [
           {
            "colorbar": {
             "outlinewidth": 0,
             "ticks": ""
            },
            "colorscale": [
             [
              0,
              "#0d0887"
             ],
             [
              0.1111111111111111,
              "#46039f"
             ],
             [
              0.2222222222222222,
              "#7201a8"
             ],
             [
              0.3333333333333333,
              "#9c179e"
             ],
             [
              0.4444444444444444,
              "#bd3786"
             ],
             [
              0.5555555555555556,
              "#d8576b"
             ],
             [
              0.6666666666666666,
              "#ed7953"
             ],
             [
              0.7777777777777778,
              "#fb9f3a"
             ],
             [
              0.8888888888888888,
              "#fdca26"
             ],
             [
              1,
              "#f0f921"
             ]
            ],
            "type": "heatmap"
           }
          ],
          "heatmapgl": [
           {
            "colorbar": {
             "outlinewidth": 0,
             "ticks": ""
            },
            "colorscale": [
             [
              0,
              "#0d0887"
             ],
             [
              0.1111111111111111,
              "#46039f"
             ],
             [
              0.2222222222222222,
              "#7201a8"
             ],
             [
              0.3333333333333333,
              "#9c179e"
             ],
             [
              0.4444444444444444,
              "#bd3786"
             ],
             [
              0.5555555555555556,
              "#d8576b"
             ],
             [
              0.6666666666666666,
              "#ed7953"
             ],
             [
              0.7777777777777778,
              "#fb9f3a"
             ],
             [
              0.8888888888888888,
              "#fdca26"
             ],
             [
              1,
              "#f0f921"
             ]
            ],
            "type": "heatmapgl"
           }
          ],
          "histogram": [
           {
            "marker": {
             "pattern": {
              "fillmode": "overlay",
              "size": 10,
              "solidity": 0.2
             }
            },
            "type": "histogram"
           }
          ],
          "histogram2d": [
           {
            "colorbar": {
             "outlinewidth": 0,
             "ticks": ""
            },
            "colorscale": [
             [
              0,
              "#0d0887"
             ],
             [
              0.1111111111111111,
              "#46039f"
             ],
             [
              0.2222222222222222,
              "#7201a8"
             ],
             [
              0.3333333333333333,
              "#9c179e"
             ],
             [
              0.4444444444444444,
              "#bd3786"
             ],
             [
              0.5555555555555556,
              "#d8576b"
             ],
             [
              0.6666666666666666,
              "#ed7953"
             ],
             [
              0.7777777777777778,
              "#fb9f3a"
             ],
             [
              0.8888888888888888,
              "#fdca26"
             ],
             [
              1,
              "#f0f921"
             ]
            ],
            "type": "histogram2d"
           }
          ],
          "histogram2dcontour": [
           {
            "colorbar": {
             "outlinewidth": 0,
             "ticks": ""
            },
            "colorscale": [
             [
              0,
              "#0d0887"
             ],
             [
              0.1111111111111111,
              "#46039f"
             ],
             [
              0.2222222222222222,
              "#7201a8"
             ],
             [
              0.3333333333333333,
              "#9c179e"
             ],
             [
              0.4444444444444444,
              "#bd3786"
             ],
             [
              0.5555555555555556,
              "#d8576b"
             ],
             [
              0.6666666666666666,
              "#ed7953"
             ],
             [
              0.7777777777777778,
              "#fb9f3a"
             ],
             [
              0.8888888888888888,
              "#fdca26"
             ],
             [
              1,
              "#f0f921"
             ]
            ],
            "type": "histogram2dcontour"
           }
          ],
          "mesh3d": [
           {
            "colorbar": {
             "outlinewidth": 0,
             "ticks": ""
            },
            "type": "mesh3d"
           }
          ],
          "parcoords": [
           {
            "line": {
             "colorbar": {
              "outlinewidth": 0,
              "ticks": ""
             }
            },
            "type": "parcoords"
           }
          ],
          "pie": [
           {
            "automargin": true,
            "type": "pie"
           }
          ],
          "scatter": [
           {
            "fillpattern": {
             "fillmode": "overlay",
             "size": 10,
             "solidity": 0.2
            },
            "type": "scatter"
           }
          ],
          "scatter3d": [
           {
            "line": {
             "colorbar": {
              "outlinewidth": 0,
              "ticks": ""
             }
            },
            "marker": {
             "colorbar": {
              "outlinewidth": 0,
              "ticks": ""
             }
            },
            "type": "scatter3d"
           }
          ],
          "scattercarpet": [
           {
            "marker": {
             "colorbar": {
              "outlinewidth": 0,
              "ticks": ""
             }
            },
            "type": "scattercarpet"
           }
          ],
          "scattergeo": [
           {
            "marker": {
             "colorbar": {
              "outlinewidth": 0,
              "ticks": ""
             }
            },
            "type": "scattergeo"
           }
          ],
          "scattergl": [
           {
            "marker": {
             "colorbar": {
              "outlinewidth": 0,
              "ticks": ""
             }
            },
            "type": "scattergl"
           }
          ],
          "scattermapbox": [
           {
            "marker": {
             "colorbar": {
              "outlinewidth": 0,
              "ticks": ""
             }
            },
            "type": "scattermapbox"
           }
          ],
          "scatterpolar": [
           {
            "marker": {
             "colorbar": {
              "outlinewidth": 0,
              "ticks": ""
             }
            },
            "type": "scatterpolar"
           }
          ],
          "scatterpolargl": [
           {
            "marker": {
             "colorbar": {
              "outlinewidth": 0,
              "ticks": ""
             }
            },
            "type": "scatterpolargl"
           }
          ],
          "scatterternary": [
           {
            "marker": {
             "colorbar": {
              "outlinewidth": 0,
              "ticks": ""
             }
            },
            "type": "scatterternary"
           }
          ],
          "surface": [
           {
            "colorbar": {
             "outlinewidth": 0,
             "ticks": ""
            },
            "colorscale": [
             [
              0,
              "#0d0887"
             ],
             [
              0.1111111111111111,
              "#46039f"
             ],
             [
              0.2222222222222222,
              "#7201a8"
             ],
             [
              0.3333333333333333,
              "#9c179e"
             ],
             [
              0.4444444444444444,
              "#bd3786"
             ],
             [
              0.5555555555555556,
              "#d8576b"
             ],
             [
              0.6666666666666666,
              "#ed7953"
             ],
             [
              0.7777777777777778,
              "#fb9f3a"
             ],
             [
              0.8888888888888888,
              "#fdca26"
             ],
             [
              1,
              "#f0f921"
             ]
            ],
            "type": "surface"
           }
          ],
          "table": [
           {
            "cells": {
             "fill": {
              "color": "#EBF0F8"
             },
             "line": {
              "color": "white"
             }
            },
            "header": {
             "fill": {
              "color": "#C8D4E3"
             },
             "line": {
              "color": "white"
             }
            },
            "type": "table"
           }
          ]
         },
         "layout": {
          "annotationdefaults": {
           "arrowcolor": "#2a3f5f",
           "arrowhead": 0,
           "arrowwidth": 1
          },
          "autotypenumbers": "strict",
          "coloraxis": {
           "colorbar": {
            "outlinewidth": 0,
            "ticks": ""
           }
          },
          "colorscale": {
           "diverging": [
            [
             0,
             "#8e0152"
            ],
            [
             0.1,
             "#c51b7d"
            ],
            [
             0.2,
             "#de77ae"
            ],
            [
             0.3,
             "#f1b6da"
            ],
            [
             0.4,
             "#fde0ef"
            ],
            [
             0.5,
             "#f7f7f7"
            ],
            [
             0.6,
             "#e6f5d0"
            ],
            [
             0.7,
             "#b8e186"
            ],
            [
             0.8,
             "#7fbc41"
            ],
            [
             0.9,
             "#4d9221"
            ],
            [
             1,
             "#276419"
            ]
           ],
           "sequential": [
            [
             0,
             "#0d0887"
            ],
            [
             0.1111111111111111,
             "#46039f"
            ],
            [
             0.2222222222222222,
             "#7201a8"
            ],
            [
             0.3333333333333333,
             "#9c179e"
            ],
            [
             0.4444444444444444,
             "#bd3786"
            ],
            [
             0.5555555555555556,
             "#d8576b"
            ],
            [
             0.6666666666666666,
             "#ed7953"
            ],
            [
             0.7777777777777778,
             "#fb9f3a"
            ],
            [
             0.8888888888888888,
             "#fdca26"
            ],
            [
             1,
             "#f0f921"
            ]
           ],
           "sequentialminus": [
            [
             0,
             "#0d0887"
            ],
            [
             0.1111111111111111,
             "#46039f"
            ],
            [
             0.2222222222222222,
             "#7201a8"
            ],
            [
             0.3333333333333333,
             "#9c179e"
            ],
            [
             0.4444444444444444,
             "#bd3786"
            ],
            [
             0.5555555555555556,
             "#d8576b"
            ],
            [
             0.6666666666666666,
             "#ed7953"
            ],
            [
             0.7777777777777778,
             "#fb9f3a"
            ],
            [
             0.8888888888888888,
             "#fdca26"
            ],
            [
             1,
             "#f0f921"
            ]
           ]
          },
          "colorway": [
           "#636efa",
           "#EF553B",
           "#00cc96",
           "#ab63fa",
           "#FFA15A",
           "#19d3f3",
           "#FF6692",
           "#B6E880",
           "#FF97FF",
           "#FECB52"
          ],
          "font": {
           "color": "#2a3f5f"
          },
          "geo": {
           "bgcolor": "white",
           "lakecolor": "white",
           "landcolor": "#E5ECF6",
           "showlakes": true,
           "showland": true,
           "subunitcolor": "white"
          },
          "hoverlabel": {
           "align": "left"
          },
          "hovermode": "closest",
          "mapbox": {
           "style": "light"
          },
          "paper_bgcolor": "white",
          "plot_bgcolor": "#E5ECF6",
          "polar": {
           "angularaxis": {
            "gridcolor": "white",
            "linecolor": "white",
            "ticks": ""
           },
           "bgcolor": "#E5ECF6",
           "radialaxis": {
            "gridcolor": "white",
            "linecolor": "white",
            "ticks": ""
           }
          },
          "scene": {
           "xaxis": {
            "backgroundcolor": "#E5ECF6",
            "gridcolor": "white",
            "gridwidth": 2,
            "linecolor": "white",
            "showbackground": true,
            "ticks": "",
            "zerolinecolor": "white"
           },
           "yaxis": {
            "backgroundcolor": "#E5ECF6",
            "gridcolor": "white",
            "gridwidth": 2,
            "linecolor": "white",
            "showbackground": true,
            "ticks": "",
            "zerolinecolor": "white"
           },
           "zaxis": {
            "backgroundcolor": "#E5ECF6",
            "gridcolor": "white",
            "gridwidth": 2,
            "linecolor": "white",
            "showbackground": true,
            "ticks": "",
            "zerolinecolor": "white"
           }
          },
          "shapedefaults": {
           "line": {
            "color": "#2a3f5f"
           }
          },
          "ternary": {
           "aaxis": {
            "gridcolor": "white",
            "linecolor": "white",
            "ticks": ""
           },
           "baxis": {
            "gridcolor": "white",
            "linecolor": "white",
            "ticks": ""
           },
           "bgcolor": "#E5ECF6",
           "caxis": {
            "gridcolor": "white",
            "linecolor": "white",
            "ticks": ""
           }
          },
          "title": {
           "x": 0.05
          },
          "xaxis": {
           "automargin": true,
           "gridcolor": "white",
           "linecolor": "white",
           "ticks": "",
           "title": {
            "standoff": 15
           },
           "zerolinecolor": "white",
           "zerolinewidth": 2
          },
          "yaxis": {
           "automargin": true,
           "gridcolor": "white",
           "linecolor": "white",
           "ticks": "",
           "title": {
            "standoff": 15
           },
           "zerolinecolor": "white",
           "zerolinewidth": 2
          }
         }
        },
        "width": 700
       }
      }
     },
     "metadata": {},
     "output_type": "display_data"
    }
   ],
   "source": [
    "df_pie_label = df.groupby('kota_administrasi', as_index=False)[['terjadi_banjir']].sum()\n",
    "fig = px.pie(values= df_pie_label['terjadi_banjir'], names= df_pie_label['kota_administrasi'], hole=0.4,\n",
    "             color_discrete_sequence = px.colors.sequential.Blues_r)\n",
    "fig.update_layout(height = 320,\n",
    "                  width = 700,\n",
    "                  showlegend = True)\n",
    "fig.update_traces(textposition = 'outside', textinfo = 'percent+label+value',\n",
    "                  pull= [0.01,0.01,0.01,0.01,0.01]) \n",
    "fig.show()"
   ]
  },
  {
   "attachments": {},
   "cell_type": "markdown",
   "metadata": {},
   "source": [
    "Kejadian banjir berdasarkan kecamatan - hist chart"
   ]
  },
  {
   "cell_type": "code",
   "execution_count": 43,
   "metadata": {},
   "outputs": [],
   "source": [
    "def create_hist(col):\n",
    "    df_hist = df.groupby(['kota_administrasi', col])['terjadi_banjir'].sum().reset_index()\n",
    "    fig = px.histogram(df_hist, x=col, y='terjadi_banjir', color='kota_administrasi', \n",
    "                       color_discrete_sequence=px.colors.sequential.Blues_r, text_auto=True)\n",
    "    fig.update_layout(width=800, legend_title_text='Kota Administrasi',\n",
    "                      title=f'{col.title()} Bar Chart')\n",
    "    fig.update_xaxes(title='')\n",
    "    fig.update_yaxes(title='Jumlah')\n",
    "    return fig"
   ]
  },
  {
   "cell_type": "code",
   "execution_count": 44,
   "metadata": {},
   "outputs": [
    {
     "data": {
      "application/vnd.plotly.v1+json": {
       "config": {
        "plotlyServerURL": "https://plot.ly"
       },
       "data": [
        {
         "alignmentgroup": "True",
         "bingroup": "x",
         "histfunc": "sum",
         "hovertemplate": "kota_administrasi=Jakarta Barat<br>kecamatan=%{x}<br>sum of terjadi_banjir=%{y}<extra></extra>",
         "legendgroup": "Jakarta Barat",
         "marker": {
          "color": "rgb(8,48,107)",
          "pattern": {
           "shape": ""
          }
         },
         "name": "Jakarta Barat",
         "offsetgroup": "Jakarta Barat",
         "orientation": "v",
         "showlegend": true,
         "texttemplate": "%{value}",
         "type": "histogram",
         "x": [
          "CENGKARENG",
          "GROGOL PETAMBURAN",
          "KALIDERES",
          "KEBON JERUK",
          "KEMBANGAN",
          "PALMERAH"
         ],
         "xaxis": "x",
         "y": [
          16,
          6,
          18,
          1,
          3,
          2
         ],
         "yaxis": "y"
        },
        {
         "alignmentgroup": "True",
         "bingroup": "x",
         "histfunc": "sum",
         "hovertemplate": "kota_administrasi=Jakarta Pusat<br>kecamatan=%{x}<br>sum of terjadi_banjir=%{y}<extra></extra>",
         "legendgroup": "Jakarta Pusat",
         "marker": {
          "color": "rgb(8,81,156)",
          "pattern": {
           "shape": ""
          }
         },
         "name": "Jakarta Pusat",
         "offsetgroup": "Jakarta Pusat",
         "orientation": "v",
         "showlegend": true,
         "texttemplate": "%{value}",
         "type": "histogram",
         "x": [
          "CEMPAKA PUTIH",
          "KEMAYORAN",
          "SAWAH BESAR"
         ],
         "xaxis": "x",
         "y": [
          2,
          1,
          1
         ],
         "yaxis": "y"
        },
        {
         "alignmentgroup": "True",
         "bingroup": "x",
         "histfunc": "sum",
         "hovertemplate": "kota_administrasi=Jakarta Selatan<br>kecamatan=%{x}<br>sum of terjadi_banjir=%{y}<extra></extra>",
         "legendgroup": "Jakarta Selatan",
         "marker": {
          "color": "rgb(33,113,181)",
          "pattern": {
           "shape": ""
          }
         },
         "name": "Jakarta Selatan",
         "offsetgroup": "Jakarta Selatan",
         "orientation": "v",
         "showlegend": true,
         "texttemplate": "%{value}",
         "type": "histogram",
         "x": [
          "CILANDAK",
          "JAGAKARSA",
          "KEBAYORAN BARU",
          "KEBAYORAN LAMA",
          "MAMPANG PRAPATAN",
          "PANCORAN",
          "PASAR MINGGU",
          "PESANGGRAHAN",
          "TEBET"
         ],
         "xaxis": "x",
         "y": [
          7,
          3,
          5,
          4,
          5,
          15,
          16,
          3,
          9
         ],
         "yaxis": "y"
        },
        {
         "alignmentgroup": "True",
         "bingroup": "x",
         "histfunc": "sum",
         "hovertemplate": "kota_administrasi=Jakarta Timur<br>kecamatan=%{x}<br>sum of terjadi_banjir=%{y}<extra></extra>",
         "legendgroup": "Jakarta Timur",
         "marker": {
          "color": "rgb(66,146,198)",
          "pattern": {
           "shape": ""
          }
         },
         "name": "Jakarta Timur",
         "offsetgroup": "Jakarta Timur",
         "orientation": "v",
         "showlegend": true,
         "texttemplate": "%{value}",
         "type": "histogram",
         "x": [
          "CAKUNG",
          "CIRACAS",
          "JATINEGARA",
          "KRAMAT JATI",
          "MAKASAR",
          "MATRAMAN",
          "PASAR REBO",
          "PULOGADUNG"
         ],
         "xaxis": "x",
         "y": [
          15,
          2,
          38,
          28,
          7,
          2,
          2,
          1
         ],
         "yaxis": "y"
        },
        {
         "alignmentgroup": "True",
         "bingroup": "x",
         "histfunc": "sum",
         "hovertemplate": "kota_administrasi=Jakarta Utara<br>kecamatan=%{x}<br>sum of terjadi_banjir=%{y}<extra></extra>",
         "legendgroup": "Jakarta Utara",
         "marker": {
          "color": "rgb(107,174,214)",
          "pattern": {
           "shape": ""
          }
         },
         "name": "Jakarta Utara",
         "offsetgroup": "Jakarta Utara",
         "orientation": "v",
         "showlegend": true,
         "texttemplate": "%{value}",
         "type": "histogram",
         "x": [
          "CILINCING",
          "KELAPA GADING",
          "KOJA",
          "PENJARINGAN"
         ],
         "xaxis": "x",
         "y": [
          2,
          2,
          2,
          20
         ],
         "yaxis": "y"
        }
       ],
       "layout": {
        "barmode": "relative",
        "legend": {
         "title": {
          "text": "Kota Administrasi"
         },
         "tracegroupgap": 0
        },
        "margin": {
         "t": 60
        },
        "template": {
         "data": {
          "bar": [
           {
            "error_x": {
             "color": "#2a3f5f"
            },
            "error_y": {
             "color": "#2a3f5f"
            },
            "marker": {
             "line": {
              "color": "#E5ECF6",
              "width": 0.5
             },
             "pattern": {
              "fillmode": "overlay",
              "size": 10,
              "solidity": 0.2
             }
            },
            "type": "bar"
           }
          ],
          "barpolar": [
           {
            "marker": {
             "line": {
              "color": "#E5ECF6",
              "width": 0.5
             },
             "pattern": {
              "fillmode": "overlay",
              "size": 10,
              "solidity": 0.2
             }
            },
            "type": "barpolar"
           }
          ],
          "carpet": [
           {
            "aaxis": {
             "endlinecolor": "#2a3f5f",
             "gridcolor": "white",
             "linecolor": "white",
             "minorgridcolor": "white",
             "startlinecolor": "#2a3f5f"
            },
            "baxis": {
             "endlinecolor": "#2a3f5f",
             "gridcolor": "white",
             "linecolor": "white",
             "minorgridcolor": "white",
             "startlinecolor": "#2a3f5f"
            },
            "type": "carpet"
           }
          ],
          "choropleth": [
           {
            "colorbar": {
             "outlinewidth": 0,
             "ticks": ""
            },
            "type": "choropleth"
           }
          ],
          "contour": [
           {
            "colorbar": {
             "outlinewidth": 0,
             "ticks": ""
            },
            "colorscale": [
             [
              0,
              "#0d0887"
             ],
             [
              0.1111111111111111,
              "#46039f"
             ],
             [
              0.2222222222222222,
              "#7201a8"
             ],
             [
              0.3333333333333333,
              "#9c179e"
             ],
             [
              0.4444444444444444,
              "#bd3786"
             ],
             [
              0.5555555555555556,
              "#d8576b"
             ],
             [
              0.6666666666666666,
              "#ed7953"
             ],
             [
              0.7777777777777778,
              "#fb9f3a"
             ],
             [
              0.8888888888888888,
              "#fdca26"
             ],
             [
              1,
              "#f0f921"
             ]
            ],
            "type": "contour"
           }
          ],
          "contourcarpet": [
           {
            "colorbar": {
             "outlinewidth": 0,
             "ticks": ""
            },
            "type": "contourcarpet"
           }
          ],
          "heatmap": [
           {
            "colorbar": {
             "outlinewidth": 0,
             "ticks": ""
            },
            "colorscale": [
             [
              0,
              "#0d0887"
             ],
             [
              0.1111111111111111,
              "#46039f"
             ],
             [
              0.2222222222222222,
              "#7201a8"
             ],
             [
              0.3333333333333333,
              "#9c179e"
             ],
             [
              0.4444444444444444,
              "#bd3786"
             ],
             [
              0.5555555555555556,
              "#d8576b"
             ],
             [
              0.6666666666666666,
              "#ed7953"
             ],
             [
              0.7777777777777778,
              "#fb9f3a"
             ],
             [
              0.8888888888888888,
              "#fdca26"
             ],
             [
              1,
              "#f0f921"
             ]
            ],
            "type": "heatmap"
           }
          ],
          "heatmapgl": [
           {
            "colorbar": {
             "outlinewidth": 0,
             "ticks": ""
            },
            "colorscale": [
             [
              0,
              "#0d0887"
             ],
             [
              0.1111111111111111,
              "#46039f"
             ],
             [
              0.2222222222222222,
              "#7201a8"
             ],
             [
              0.3333333333333333,
              "#9c179e"
             ],
             [
              0.4444444444444444,
              "#bd3786"
             ],
             [
              0.5555555555555556,
              "#d8576b"
             ],
             [
              0.6666666666666666,
              "#ed7953"
             ],
             [
              0.7777777777777778,
              "#fb9f3a"
             ],
             [
              0.8888888888888888,
              "#fdca26"
             ],
             [
              1,
              "#f0f921"
             ]
            ],
            "type": "heatmapgl"
           }
          ],
          "histogram": [
           {
            "marker": {
             "pattern": {
              "fillmode": "overlay",
              "size": 10,
              "solidity": 0.2
             }
            },
            "type": "histogram"
           }
          ],
          "histogram2d": [
           {
            "colorbar": {
             "outlinewidth": 0,
             "ticks": ""
            },
            "colorscale": [
             [
              0,
              "#0d0887"
             ],
             [
              0.1111111111111111,
              "#46039f"
             ],
             [
              0.2222222222222222,
              "#7201a8"
             ],
             [
              0.3333333333333333,
              "#9c179e"
             ],
             [
              0.4444444444444444,
              "#bd3786"
             ],
             [
              0.5555555555555556,
              "#d8576b"
             ],
             [
              0.6666666666666666,
              "#ed7953"
             ],
             [
              0.7777777777777778,
              "#fb9f3a"
             ],
             [
              0.8888888888888888,
              "#fdca26"
             ],
             [
              1,
              "#f0f921"
             ]
            ],
            "type": "histogram2d"
           }
          ],
          "histogram2dcontour": [
           {
            "colorbar": {
             "outlinewidth": 0,
             "ticks": ""
            },
            "colorscale": [
             [
              0,
              "#0d0887"
             ],
             [
              0.1111111111111111,
              "#46039f"
             ],
             [
              0.2222222222222222,
              "#7201a8"
             ],
             [
              0.3333333333333333,
              "#9c179e"
             ],
             [
              0.4444444444444444,
              "#bd3786"
             ],
             [
              0.5555555555555556,
              "#d8576b"
             ],
             [
              0.6666666666666666,
              "#ed7953"
             ],
             [
              0.7777777777777778,
              "#fb9f3a"
             ],
             [
              0.8888888888888888,
              "#fdca26"
             ],
             [
              1,
              "#f0f921"
             ]
            ],
            "type": "histogram2dcontour"
           }
          ],
          "mesh3d": [
           {
            "colorbar": {
             "outlinewidth": 0,
             "ticks": ""
            },
            "type": "mesh3d"
           }
          ],
          "parcoords": [
           {
            "line": {
             "colorbar": {
              "outlinewidth": 0,
              "ticks": ""
             }
            },
            "type": "parcoords"
           }
          ],
          "pie": [
           {
            "automargin": true,
            "type": "pie"
           }
          ],
          "scatter": [
           {
            "fillpattern": {
             "fillmode": "overlay",
             "size": 10,
             "solidity": 0.2
            },
            "type": "scatter"
           }
          ],
          "scatter3d": [
           {
            "line": {
             "colorbar": {
              "outlinewidth": 0,
              "ticks": ""
             }
            },
            "marker": {
             "colorbar": {
              "outlinewidth": 0,
              "ticks": ""
             }
            },
            "type": "scatter3d"
           }
          ],
          "scattercarpet": [
           {
            "marker": {
             "colorbar": {
              "outlinewidth": 0,
              "ticks": ""
             }
            },
            "type": "scattercarpet"
           }
          ],
          "scattergeo": [
           {
            "marker": {
             "colorbar": {
              "outlinewidth": 0,
              "ticks": ""
             }
            },
            "type": "scattergeo"
           }
          ],
          "scattergl": [
           {
            "marker": {
             "colorbar": {
              "outlinewidth": 0,
              "ticks": ""
             }
            },
            "type": "scattergl"
           }
          ],
          "scattermapbox": [
           {
            "marker": {
             "colorbar": {
              "outlinewidth": 0,
              "ticks": ""
             }
            },
            "type": "scattermapbox"
           }
          ],
          "scatterpolar": [
           {
            "marker": {
             "colorbar": {
              "outlinewidth": 0,
              "ticks": ""
             }
            },
            "type": "scatterpolar"
           }
          ],
          "scatterpolargl": [
           {
            "marker": {
             "colorbar": {
              "outlinewidth": 0,
              "ticks": ""
             }
            },
            "type": "scatterpolargl"
           }
          ],
          "scatterternary": [
           {
            "marker": {
             "colorbar": {
              "outlinewidth": 0,
              "ticks": ""
             }
            },
            "type": "scatterternary"
           }
          ],
          "surface": [
           {
            "colorbar": {
             "outlinewidth": 0,
             "ticks": ""
            },
            "colorscale": [
             [
              0,
              "#0d0887"
             ],
             [
              0.1111111111111111,
              "#46039f"
             ],
             [
              0.2222222222222222,
              "#7201a8"
             ],
             [
              0.3333333333333333,
              "#9c179e"
             ],
             [
              0.4444444444444444,
              "#bd3786"
             ],
             [
              0.5555555555555556,
              "#d8576b"
             ],
             [
              0.6666666666666666,
              "#ed7953"
             ],
             [
              0.7777777777777778,
              "#fb9f3a"
             ],
             [
              0.8888888888888888,
              "#fdca26"
             ],
             [
              1,
              "#f0f921"
             ]
            ],
            "type": "surface"
           }
          ],
          "table": [
           {
            "cells": {
             "fill": {
              "color": "#EBF0F8"
             },
             "line": {
              "color": "white"
             }
            },
            "header": {
             "fill": {
              "color": "#C8D4E3"
             },
             "line": {
              "color": "white"
             }
            },
            "type": "table"
           }
          ]
         },
         "layout": {
          "annotationdefaults": {
           "arrowcolor": "#2a3f5f",
           "arrowhead": 0,
           "arrowwidth": 1
          },
          "autotypenumbers": "strict",
          "coloraxis": {
           "colorbar": {
            "outlinewidth": 0,
            "ticks": ""
           }
          },
          "colorscale": {
           "diverging": [
            [
             0,
             "#8e0152"
            ],
            [
             0.1,
             "#c51b7d"
            ],
            [
             0.2,
             "#de77ae"
            ],
            [
             0.3,
             "#f1b6da"
            ],
            [
             0.4,
             "#fde0ef"
            ],
            [
             0.5,
             "#f7f7f7"
            ],
            [
             0.6,
             "#e6f5d0"
            ],
            [
             0.7,
             "#b8e186"
            ],
            [
             0.8,
             "#7fbc41"
            ],
            [
             0.9,
             "#4d9221"
            ],
            [
             1,
             "#276419"
            ]
           ],
           "sequential": [
            [
             0,
             "#0d0887"
            ],
            [
             0.1111111111111111,
             "#46039f"
            ],
            [
             0.2222222222222222,
             "#7201a8"
            ],
            [
             0.3333333333333333,
             "#9c179e"
            ],
            [
             0.4444444444444444,
             "#bd3786"
            ],
            [
             0.5555555555555556,
             "#d8576b"
            ],
            [
             0.6666666666666666,
             "#ed7953"
            ],
            [
             0.7777777777777778,
             "#fb9f3a"
            ],
            [
             0.8888888888888888,
             "#fdca26"
            ],
            [
             1,
             "#f0f921"
            ]
           ],
           "sequentialminus": [
            [
             0,
             "#0d0887"
            ],
            [
             0.1111111111111111,
             "#46039f"
            ],
            [
             0.2222222222222222,
             "#7201a8"
            ],
            [
             0.3333333333333333,
             "#9c179e"
            ],
            [
             0.4444444444444444,
             "#bd3786"
            ],
            [
             0.5555555555555556,
             "#d8576b"
            ],
            [
             0.6666666666666666,
             "#ed7953"
            ],
            [
             0.7777777777777778,
             "#fb9f3a"
            ],
            [
             0.8888888888888888,
             "#fdca26"
            ],
            [
             1,
             "#f0f921"
            ]
           ]
          },
          "colorway": [
           "#636efa",
           "#EF553B",
           "#00cc96",
           "#ab63fa",
           "#FFA15A",
           "#19d3f3",
           "#FF6692",
           "#B6E880",
           "#FF97FF",
           "#FECB52"
          ],
          "font": {
           "color": "#2a3f5f"
          },
          "geo": {
           "bgcolor": "white",
           "lakecolor": "white",
           "landcolor": "#E5ECF6",
           "showlakes": true,
           "showland": true,
           "subunitcolor": "white"
          },
          "hoverlabel": {
           "align": "left"
          },
          "hovermode": "closest",
          "mapbox": {
           "style": "light"
          },
          "paper_bgcolor": "white",
          "plot_bgcolor": "#E5ECF6",
          "polar": {
           "angularaxis": {
            "gridcolor": "white",
            "linecolor": "white",
            "ticks": ""
           },
           "bgcolor": "#E5ECF6",
           "radialaxis": {
            "gridcolor": "white",
            "linecolor": "white",
            "ticks": ""
           }
          },
          "scene": {
           "xaxis": {
            "backgroundcolor": "#E5ECF6",
            "gridcolor": "white",
            "gridwidth": 2,
            "linecolor": "white",
            "showbackground": true,
            "ticks": "",
            "zerolinecolor": "white"
           },
           "yaxis": {
            "backgroundcolor": "#E5ECF6",
            "gridcolor": "white",
            "gridwidth": 2,
            "linecolor": "white",
            "showbackground": true,
            "ticks": "",
            "zerolinecolor": "white"
           },
           "zaxis": {
            "backgroundcolor": "#E5ECF6",
            "gridcolor": "white",
            "gridwidth": 2,
            "linecolor": "white",
            "showbackground": true,
            "ticks": "",
            "zerolinecolor": "white"
           }
          },
          "shapedefaults": {
           "line": {
            "color": "#2a3f5f"
           }
          },
          "ternary": {
           "aaxis": {
            "gridcolor": "white",
            "linecolor": "white",
            "ticks": ""
           },
           "baxis": {
            "gridcolor": "white",
            "linecolor": "white",
            "ticks": ""
           },
           "bgcolor": "#E5ECF6",
           "caxis": {
            "gridcolor": "white",
            "linecolor": "white",
            "ticks": ""
           }
          },
          "title": {
           "x": 0.05
          },
          "xaxis": {
           "automargin": true,
           "gridcolor": "white",
           "linecolor": "white",
           "ticks": "",
           "title": {
            "standoff": 15
           },
           "zerolinecolor": "white",
           "zerolinewidth": 2
          },
          "yaxis": {
           "automargin": true,
           "gridcolor": "white",
           "linecolor": "white",
           "ticks": "",
           "title": {
            "standoff": 15
           },
           "zerolinecolor": "white",
           "zerolinewidth": 2
          }
         }
        },
        "title": {
         "text": "Kecamatan Bar Chart"
        },
        "width": 800,
        "xaxis": {
         "anchor": "y",
         "domain": [
          0,
          1
         ],
         "title": {
          "text": ""
         }
        },
        "yaxis": {
         "anchor": "x",
         "domain": [
          0,
          1
         ],
         "title": {
          "text": "Jumlah"
         }
        }
       }
      }
     },
     "metadata": {},
     "output_type": "display_data"
    }
   ],
   "source": [
    "create_hist('kecamatan')"
   ]
  },
  {
   "attachments": {},
   "cell_type": "markdown",
   "metadata": {},
   "source": [
    "Kejadian banjir berdasarkan kelurahan - hist chart"
   ]
  },
  {
   "cell_type": "code",
   "execution_count": 45,
   "metadata": {},
   "outputs": [
    {
     "data": {
      "application/vnd.plotly.v1+json": {
       "config": {
        "plotlyServerURL": "https://plot.ly"
       },
       "data": [
        {
         "alignmentgroup": "True",
         "bingroup": "x",
         "histfunc": "sum",
         "hovertemplate": "kota_administrasi=Jakarta Barat<br>kelurahan=%{x}<br>sum of terjadi_banjir=%{y}<extra></extra>",
         "legendgroup": "Jakarta Barat",
         "marker": {
          "color": "rgb(8,48,107)",
          "pattern": {
           "shape": ""
          }
         },
         "name": "Jakarta Barat",
         "offsetgroup": "Jakarta Barat",
         "orientation": "v",
         "showlegend": true,
         "texttemplate": "%{value}",
         "type": "histogram",
         "x": [
          "CENGKARENG BARAT",
          "CENGKARENG TIMUR",
          "DURI KEPA",
          "DURI KOSAMBI",
          "JATI PULO",
          "JELAMBAR",
          "JELAMBAR BARU",
          "KAMAL",
          "KAPUK",
          "KEMBANGAN UTARA",
          "RAWA BUAYA",
          "TEGAL ALUR",
          "WIJAYA KUSUMA"
         ],
         "xaxis": "x",
         "y": [
          2,
          4,
          1,
          3,
          2,
          1,
          3,
          15,
          3,
          3,
          4,
          3,
          2
         ],
         "yaxis": "y"
        },
        {
         "alignmentgroup": "True",
         "bingroup": "x",
         "histfunc": "sum",
         "hovertemplate": "kota_administrasi=Jakarta Pusat<br>kelurahan=%{x}<br>sum of terjadi_banjir=%{y}<extra></extra>",
         "legendgroup": "Jakarta Pusat",
         "marker": {
          "color": "rgb(8,81,156)",
          "pattern": {
           "shape": ""
          }
         },
         "name": "Jakarta Pusat",
         "offsetgroup": "Jakarta Pusat",
         "orientation": "v",
         "showlegend": true,
         "texttemplate": "%{value}",
         "type": "histogram",
         "x": [
          "CEMPAKA PUTIH TIMUR",
          "GUNUNG SAHARI UTARA",
          "SERDANG"
         ],
         "xaxis": "x",
         "y": [
          2,
          1,
          1
         ],
         "yaxis": "y"
        },
        {
         "alignmentgroup": "True",
         "bingroup": "x",
         "histfunc": "sum",
         "hovertemplate": "kota_administrasi=Jakarta Selatan<br>kelurahan=%{x}<br>sum of terjadi_banjir=%{y}<extra></extra>",
         "legendgroup": "Jakarta Selatan",
         "marker": {
          "color": "rgb(33,113,181)",
          "pattern": {
           "shape": ""
          }
         },
         "name": "Jakarta Selatan",
         "offsetgroup": "Jakarta Selatan",
         "orientation": "v",
         "showlegend": true,
         "texttemplate": "%{value}",
         "type": "histogram",
         "x": [
          "BANGKA",
          "BUKIT DURI",
          "CILANDAK BARAT",
          "CILANDAK TIMUR",
          "CIPETE SELATAN",
          "CIPETE UTARA",
          "CIPULIR",
          "DUREN TIGA",
          "GANDARIA SELATAN",
          "JATI PADANG",
          "KALIBATA",
          "KEBON BARU",
          "LENTENG AGUNG",
          "MANGGARAI",
          "PEJATEN TIMUR",
          "PENGADEGAN",
          "PETOGOGAN",
          "PONDOK LABU",
          "PONDOK PINANG",
          "RAGUNAN",
          "RAWAJATI",
          "SRENGSENG SAWAH",
          "ULUJAMI"
         ],
         "xaxis": "x",
         "y": [
          5,
          1,
          1,
          4,
          1,
          1,
          2,
          2,
          1,
          1,
          1,
          5,
          1,
          3,
          10,
          7,
          4,
          4,
          2,
          1,
          5,
          2,
          3
         ],
         "yaxis": "y"
        },
        {
         "alignmentgroup": "True",
         "bingroup": "x",
         "histfunc": "sum",
         "hovertemplate": "kota_administrasi=Jakarta Timur<br>kelurahan=%{x}<br>sum of terjadi_banjir=%{y}<extra></extra>",
         "legendgroup": "Jakarta Timur",
         "marker": {
          "color": "rgb(66,146,198)",
          "pattern": {
           "shape": ""
          }
         },
         "name": "Jakarta Timur",
         "offsetgroup": "Jakarta Timur",
         "orientation": "v",
         "showlegend": true,
         "texttemplate": "%{value}",
         "type": "histogram",
         "x": [
          "BALE KAMBANG",
          "BIDARA CINA",
          "CAKUNG BARAT",
          "CAKUNG TIMUR",
          "CAWANG",
          "CILILITAN",
          "CIPINANG MELAYU",
          "CIPINANG MUARA",
          "GEDONG",
          "JATINEGARA",
          "KAMPUNG MELAYU",
          "KEBON MANGGIS",
          "MAKASAR",
          "PENGGILINGAN",
          "RAMBUTAN",
          "RAWA TERATE",
          "RAWAMANGUN"
         ],
         "xaxis": "x",
         "y": [
          6,
          15,
          2,
          1,
          16,
          6,
          5,
          3,
          2,
          3,
          20,
          2,
          2,
          1,
          2,
          8,
          1
         ],
         "yaxis": "y"
        },
        {
         "alignmentgroup": "True",
         "bingroup": "x",
         "histfunc": "sum",
         "hovertemplate": "kota_administrasi=Jakarta Utara<br>kelurahan=%{x}<br>sum of terjadi_banjir=%{y}<extra></extra>",
         "legendgroup": "Jakarta Utara",
         "marker": {
          "color": "rgb(107,174,214)",
          "pattern": {
           "shape": ""
          }
         },
         "name": "Jakarta Utara",
         "offsetgroup": "Jakarta Utara",
         "orientation": "v",
         "showlegend": true,
         "texttemplate": "%{value}",
         "type": "histogram",
         "x": [
          "KAMAL MUARA",
          "KAPUK MUARA",
          "PEGANGSAAN DUA",
          "PENJARINGAN",
          "PLUIT",
          "SUKAPURA",
          "TUGU SELATAN"
         ],
         "xaxis": "x",
         "y": [
          12,
          1,
          2,
          2,
          5,
          2,
          2
         ],
         "yaxis": "y"
        }
       ],
       "layout": {
        "barmode": "relative",
        "legend": {
         "title": {
          "text": "Kota Administrasi"
         },
         "tracegroupgap": 0
        },
        "margin": {
         "t": 60
        },
        "template": {
         "data": {
          "bar": [
           {
            "error_x": {
             "color": "#2a3f5f"
            },
            "error_y": {
             "color": "#2a3f5f"
            },
            "marker": {
             "line": {
              "color": "#E5ECF6",
              "width": 0.5
             },
             "pattern": {
              "fillmode": "overlay",
              "size": 10,
              "solidity": 0.2
             }
            },
            "type": "bar"
           }
          ],
          "barpolar": [
           {
            "marker": {
             "line": {
              "color": "#E5ECF6",
              "width": 0.5
             },
             "pattern": {
              "fillmode": "overlay",
              "size": 10,
              "solidity": 0.2
             }
            },
            "type": "barpolar"
           }
          ],
          "carpet": [
           {
            "aaxis": {
             "endlinecolor": "#2a3f5f",
             "gridcolor": "white",
             "linecolor": "white",
             "minorgridcolor": "white",
             "startlinecolor": "#2a3f5f"
            },
            "baxis": {
             "endlinecolor": "#2a3f5f",
             "gridcolor": "white",
             "linecolor": "white",
             "minorgridcolor": "white",
             "startlinecolor": "#2a3f5f"
            },
            "type": "carpet"
           }
          ],
          "choropleth": [
           {
            "colorbar": {
             "outlinewidth": 0,
             "ticks": ""
            },
            "type": "choropleth"
           }
          ],
          "contour": [
           {
            "colorbar": {
             "outlinewidth": 0,
             "ticks": ""
            },
            "colorscale": [
             [
              0,
              "#0d0887"
             ],
             [
              0.1111111111111111,
              "#46039f"
             ],
             [
              0.2222222222222222,
              "#7201a8"
             ],
             [
              0.3333333333333333,
              "#9c179e"
             ],
             [
              0.4444444444444444,
              "#bd3786"
             ],
             [
              0.5555555555555556,
              "#d8576b"
             ],
             [
              0.6666666666666666,
              "#ed7953"
             ],
             [
              0.7777777777777778,
              "#fb9f3a"
             ],
             [
              0.8888888888888888,
              "#fdca26"
             ],
             [
              1,
              "#f0f921"
             ]
            ],
            "type": "contour"
           }
          ],
          "contourcarpet": [
           {
            "colorbar": {
             "outlinewidth": 0,
             "ticks": ""
            },
            "type": "contourcarpet"
           }
          ],
          "heatmap": [
           {
            "colorbar": {
             "outlinewidth": 0,
             "ticks": ""
            },
            "colorscale": [
             [
              0,
              "#0d0887"
             ],
             [
              0.1111111111111111,
              "#46039f"
             ],
             [
              0.2222222222222222,
              "#7201a8"
             ],
             [
              0.3333333333333333,
              "#9c179e"
             ],
             [
              0.4444444444444444,
              "#bd3786"
             ],
             [
              0.5555555555555556,
              "#d8576b"
             ],
             [
              0.6666666666666666,
              "#ed7953"
             ],
             [
              0.7777777777777778,
              "#fb9f3a"
             ],
             [
              0.8888888888888888,
              "#fdca26"
             ],
             [
              1,
              "#f0f921"
             ]
            ],
            "type": "heatmap"
           }
          ],
          "heatmapgl": [
           {
            "colorbar": {
             "outlinewidth": 0,
             "ticks": ""
            },
            "colorscale": [
             [
              0,
              "#0d0887"
             ],
             [
              0.1111111111111111,
              "#46039f"
             ],
             [
              0.2222222222222222,
              "#7201a8"
             ],
             [
              0.3333333333333333,
              "#9c179e"
             ],
             [
              0.4444444444444444,
              "#bd3786"
             ],
             [
              0.5555555555555556,
              "#d8576b"
             ],
             [
              0.6666666666666666,
              "#ed7953"
             ],
             [
              0.7777777777777778,
              "#fb9f3a"
             ],
             [
              0.8888888888888888,
              "#fdca26"
             ],
             [
              1,
              "#f0f921"
             ]
            ],
            "type": "heatmapgl"
           }
          ],
          "histogram": [
           {
            "marker": {
             "pattern": {
              "fillmode": "overlay",
              "size": 10,
              "solidity": 0.2
             }
            },
            "type": "histogram"
           }
          ],
          "histogram2d": [
           {
            "colorbar": {
             "outlinewidth": 0,
             "ticks": ""
            },
            "colorscale": [
             [
              0,
              "#0d0887"
             ],
             [
              0.1111111111111111,
              "#46039f"
             ],
             [
              0.2222222222222222,
              "#7201a8"
             ],
             [
              0.3333333333333333,
              "#9c179e"
             ],
             [
              0.4444444444444444,
              "#bd3786"
             ],
             [
              0.5555555555555556,
              "#d8576b"
             ],
             [
              0.6666666666666666,
              "#ed7953"
             ],
             [
              0.7777777777777778,
              "#fb9f3a"
             ],
             [
              0.8888888888888888,
              "#fdca26"
             ],
             [
              1,
              "#f0f921"
             ]
            ],
            "type": "histogram2d"
           }
          ],
          "histogram2dcontour": [
           {
            "colorbar": {
             "outlinewidth": 0,
             "ticks": ""
            },
            "colorscale": [
             [
              0,
              "#0d0887"
             ],
             [
              0.1111111111111111,
              "#46039f"
             ],
             [
              0.2222222222222222,
              "#7201a8"
             ],
             [
              0.3333333333333333,
              "#9c179e"
             ],
             [
              0.4444444444444444,
              "#bd3786"
             ],
             [
              0.5555555555555556,
              "#d8576b"
             ],
             [
              0.6666666666666666,
              "#ed7953"
             ],
             [
              0.7777777777777778,
              "#fb9f3a"
             ],
             [
              0.8888888888888888,
              "#fdca26"
             ],
             [
              1,
              "#f0f921"
             ]
            ],
            "type": "histogram2dcontour"
           }
          ],
          "mesh3d": [
           {
            "colorbar": {
             "outlinewidth": 0,
             "ticks": ""
            },
            "type": "mesh3d"
           }
          ],
          "parcoords": [
           {
            "line": {
             "colorbar": {
              "outlinewidth": 0,
              "ticks": ""
             }
            },
            "type": "parcoords"
           }
          ],
          "pie": [
           {
            "automargin": true,
            "type": "pie"
           }
          ],
          "scatter": [
           {
            "fillpattern": {
             "fillmode": "overlay",
             "size": 10,
             "solidity": 0.2
            },
            "type": "scatter"
           }
          ],
          "scatter3d": [
           {
            "line": {
             "colorbar": {
              "outlinewidth": 0,
              "ticks": ""
             }
            },
            "marker": {
             "colorbar": {
              "outlinewidth": 0,
              "ticks": ""
             }
            },
            "type": "scatter3d"
           }
          ],
          "scattercarpet": [
           {
            "marker": {
             "colorbar": {
              "outlinewidth": 0,
              "ticks": ""
             }
            },
            "type": "scattercarpet"
           }
          ],
          "scattergeo": [
           {
            "marker": {
             "colorbar": {
              "outlinewidth": 0,
              "ticks": ""
             }
            },
            "type": "scattergeo"
           }
          ],
          "scattergl": [
           {
            "marker": {
             "colorbar": {
              "outlinewidth": 0,
              "ticks": ""
             }
            },
            "type": "scattergl"
           }
          ],
          "scattermapbox": [
           {
            "marker": {
             "colorbar": {
              "outlinewidth": 0,
              "ticks": ""
             }
            },
            "type": "scattermapbox"
           }
          ],
          "scatterpolar": [
           {
            "marker": {
             "colorbar": {
              "outlinewidth": 0,
              "ticks": ""
             }
            },
            "type": "scatterpolar"
           }
          ],
          "scatterpolargl": [
           {
            "marker": {
             "colorbar": {
              "outlinewidth": 0,
              "ticks": ""
             }
            },
            "type": "scatterpolargl"
           }
          ],
          "scatterternary": [
           {
            "marker": {
             "colorbar": {
              "outlinewidth": 0,
              "ticks": ""
             }
            },
            "type": "scatterternary"
           }
          ],
          "surface": [
           {
            "colorbar": {
             "outlinewidth": 0,
             "ticks": ""
            },
            "colorscale": [
             [
              0,
              "#0d0887"
             ],
             [
              0.1111111111111111,
              "#46039f"
             ],
             [
              0.2222222222222222,
              "#7201a8"
             ],
             [
              0.3333333333333333,
              "#9c179e"
             ],
             [
              0.4444444444444444,
              "#bd3786"
             ],
             [
              0.5555555555555556,
              "#d8576b"
             ],
             [
              0.6666666666666666,
              "#ed7953"
             ],
             [
              0.7777777777777778,
              "#fb9f3a"
             ],
             [
              0.8888888888888888,
              "#fdca26"
             ],
             [
              1,
              "#f0f921"
             ]
            ],
            "type": "surface"
           }
          ],
          "table": [
           {
            "cells": {
             "fill": {
              "color": "#EBF0F8"
             },
             "line": {
              "color": "white"
             }
            },
            "header": {
             "fill": {
              "color": "#C8D4E3"
             },
             "line": {
              "color": "white"
             }
            },
            "type": "table"
           }
          ]
         },
         "layout": {
          "annotationdefaults": {
           "arrowcolor": "#2a3f5f",
           "arrowhead": 0,
           "arrowwidth": 1
          },
          "autotypenumbers": "strict",
          "coloraxis": {
           "colorbar": {
            "outlinewidth": 0,
            "ticks": ""
           }
          },
          "colorscale": {
           "diverging": [
            [
             0,
             "#8e0152"
            ],
            [
             0.1,
             "#c51b7d"
            ],
            [
             0.2,
             "#de77ae"
            ],
            [
             0.3,
             "#f1b6da"
            ],
            [
             0.4,
             "#fde0ef"
            ],
            [
             0.5,
             "#f7f7f7"
            ],
            [
             0.6,
             "#e6f5d0"
            ],
            [
             0.7,
             "#b8e186"
            ],
            [
             0.8,
             "#7fbc41"
            ],
            [
             0.9,
             "#4d9221"
            ],
            [
             1,
             "#276419"
            ]
           ],
           "sequential": [
            [
             0,
             "#0d0887"
            ],
            [
             0.1111111111111111,
             "#46039f"
            ],
            [
             0.2222222222222222,
             "#7201a8"
            ],
            [
             0.3333333333333333,
             "#9c179e"
            ],
            [
             0.4444444444444444,
             "#bd3786"
            ],
            [
             0.5555555555555556,
             "#d8576b"
            ],
            [
             0.6666666666666666,
             "#ed7953"
            ],
            [
             0.7777777777777778,
             "#fb9f3a"
            ],
            [
             0.8888888888888888,
             "#fdca26"
            ],
            [
             1,
             "#f0f921"
            ]
           ],
           "sequentialminus": [
            [
             0,
             "#0d0887"
            ],
            [
             0.1111111111111111,
             "#46039f"
            ],
            [
             0.2222222222222222,
             "#7201a8"
            ],
            [
             0.3333333333333333,
             "#9c179e"
            ],
            [
             0.4444444444444444,
             "#bd3786"
            ],
            [
             0.5555555555555556,
             "#d8576b"
            ],
            [
             0.6666666666666666,
             "#ed7953"
            ],
            [
             0.7777777777777778,
             "#fb9f3a"
            ],
            [
             0.8888888888888888,
             "#fdca26"
            ],
            [
             1,
             "#f0f921"
            ]
           ]
          },
          "colorway": [
           "#636efa",
           "#EF553B",
           "#00cc96",
           "#ab63fa",
           "#FFA15A",
           "#19d3f3",
           "#FF6692",
           "#B6E880",
           "#FF97FF",
           "#FECB52"
          ],
          "font": {
           "color": "#2a3f5f"
          },
          "geo": {
           "bgcolor": "white",
           "lakecolor": "white",
           "landcolor": "#E5ECF6",
           "showlakes": true,
           "showland": true,
           "subunitcolor": "white"
          },
          "hoverlabel": {
           "align": "left"
          },
          "hovermode": "closest",
          "mapbox": {
           "style": "light"
          },
          "paper_bgcolor": "white",
          "plot_bgcolor": "#E5ECF6",
          "polar": {
           "angularaxis": {
            "gridcolor": "white",
            "linecolor": "white",
            "ticks": ""
           },
           "bgcolor": "#E5ECF6",
           "radialaxis": {
            "gridcolor": "white",
            "linecolor": "white",
            "ticks": ""
           }
          },
          "scene": {
           "xaxis": {
            "backgroundcolor": "#E5ECF6",
            "gridcolor": "white",
            "gridwidth": 2,
            "linecolor": "white",
            "showbackground": true,
            "ticks": "",
            "zerolinecolor": "white"
           },
           "yaxis": {
            "backgroundcolor": "#E5ECF6",
            "gridcolor": "white",
            "gridwidth": 2,
            "linecolor": "white",
            "showbackground": true,
            "ticks": "",
            "zerolinecolor": "white"
           },
           "zaxis": {
            "backgroundcolor": "#E5ECF6",
            "gridcolor": "white",
            "gridwidth": 2,
            "linecolor": "white",
            "showbackground": true,
            "ticks": "",
            "zerolinecolor": "white"
           }
          },
          "shapedefaults": {
           "line": {
            "color": "#2a3f5f"
           }
          },
          "ternary": {
           "aaxis": {
            "gridcolor": "white",
            "linecolor": "white",
            "ticks": ""
           },
           "baxis": {
            "gridcolor": "white",
            "linecolor": "white",
            "ticks": ""
           },
           "bgcolor": "#E5ECF6",
           "caxis": {
            "gridcolor": "white",
            "linecolor": "white",
            "ticks": ""
           }
          },
          "title": {
           "x": 0.05
          },
          "xaxis": {
           "automargin": true,
           "gridcolor": "white",
           "linecolor": "white",
           "ticks": "",
           "title": {
            "standoff": 15
           },
           "zerolinecolor": "white",
           "zerolinewidth": 2
          },
          "yaxis": {
           "automargin": true,
           "gridcolor": "white",
           "linecolor": "white",
           "ticks": "",
           "title": {
            "standoff": 15
           },
           "zerolinecolor": "white",
           "zerolinewidth": 2
          }
         }
        },
        "title": {
         "text": "Kelurahan Bar Chart"
        },
        "width": 800,
        "xaxis": {
         "anchor": "y",
         "domain": [
          0,
          1
         ],
         "title": {
          "text": ""
         }
        },
        "yaxis": {
         "anchor": "x",
         "domain": [
          0,
          1
         ],
         "title": {
          "text": "Jumlah"
         }
        }
       }
      }
     },
     "metadata": {},
     "output_type": "display_data"
    }
   ],
   "source": [
    "create_hist('kelurahan')"
   ]
  },
  {
   "attachments": {},
   "cell_type": "markdown",
   "metadata": {},
   "source": [
    "Jumlah terdampak RW per Kota Administrasi"
   ]
  },
  {
   "cell_type": "code",
   "execution_count": 46,
   "metadata": {},
   "outputs": [],
   "source": [
    "def create_bar(col):\n",
    "    df_bar = df.groupby('kota_administrasi', as_index=False)[[col]].sum()\n",
    "    fig_bar = px.bar(df_bar, x='kota_administrasi', y=[col],\n",
    "                            color_discrete_sequence = px.colors.sequential.Blues_r, color='kota_administrasi',\n",
    "                            title = f'{col.title()} per Kota Administrasi', text_auto=True)\n",
    "    fig_bar.update_xaxes(title = '')\n",
    "    fig_bar.update_yaxes(title = 'Jumlah')\n",
    "    return fig_bar"
   ]
  },
  {
   "cell_type": "code",
   "execution_count": 47,
   "metadata": {},
   "outputs": [
    {
     "data": {
      "application/vnd.plotly.v1+json": {
       "config": {
        "plotlyServerURL": "https://plot.ly"
       },
       "data": [
        {
         "alignmentgroup": "True",
         "hovertemplate": "kota_administrasi=%{x}<br>value=%{y}<extra></extra>",
         "legendgroup": "Jakarta Barat",
         "marker": {
          "color": "rgb(8,48,107)",
          "pattern": {
           "shape": ""
          }
         },
         "name": "Jakarta Barat",
         "offsetgroup": "Jakarta Barat",
         "orientation": "v",
         "showlegend": true,
         "textposition": "auto",
         "texttemplate": "%{y}",
         "type": "bar",
         "x": [
          "Jakarta Barat"
         ],
         "xaxis": "x",
         "y": [
          106
         ],
         "yaxis": "y"
        },
        {
         "alignmentgroup": "True",
         "hovertemplate": "kota_administrasi=%{x}<br>value=%{y}<extra></extra>",
         "legendgroup": "Jakarta Pusat",
         "marker": {
          "color": "rgb(8,81,156)",
          "pattern": {
           "shape": ""
          }
         },
         "name": "Jakarta Pusat",
         "offsetgroup": "Jakarta Pusat",
         "orientation": "v",
         "showlegend": true,
         "textposition": "auto",
         "texttemplate": "%{y}",
         "type": "bar",
         "x": [
          "Jakarta Pusat"
         ],
         "xaxis": "x",
         "y": [
          6
         ],
         "yaxis": "y"
        },
        {
         "alignmentgroup": "True",
         "hovertemplate": "kota_administrasi=%{x}<br>value=%{y}<extra></extra>",
         "legendgroup": "Jakarta Selatan",
         "marker": {
          "color": "rgb(33,113,181)",
          "pattern": {
           "shape": ""
          }
         },
         "name": "Jakarta Selatan",
         "offsetgroup": "Jakarta Selatan",
         "orientation": "v",
         "showlegend": true,
         "textposition": "auto",
         "texttemplate": "%{y}",
         "type": "bar",
         "x": [
          "Jakarta Selatan"
         ],
         "xaxis": "x",
         "y": [
          100
         ],
         "yaxis": "y"
        },
        {
         "alignmentgroup": "True",
         "hovertemplate": "kota_administrasi=%{x}<br>value=%{y}<extra></extra>",
         "legendgroup": "Jakarta Timur",
         "marker": {
          "color": "rgb(66,146,198)",
          "pattern": {
           "shape": ""
          }
         },
         "name": "Jakarta Timur",
         "offsetgroup": "Jakarta Timur",
         "orientation": "v",
         "showlegend": true,
         "textposition": "auto",
         "texttemplate": "%{y}",
         "type": "bar",
         "x": [
          "Jakarta Timur"
         ],
         "xaxis": "x",
         "y": [
          142
         ],
         "yaxis": "y"
        },
        {
         "alignmentgroup": "True",
         "hovertemplate": "kota_administrasi=%{x}<br>value=%{y}<extra></extra>",
         "legendgroup": "Jakarta Utara",
         "marker": {
          "color": "rgb(107,174,214)",
          "pattern": {
           "shape": ""
          }
         },
         "name": "Jakarta Utara",
         "offsetgroup": "Jakarta Utara",
         "orientation": "v",
         "showlegend": true,
         "textposition": "auto",
         "texttemplate": "%{y}",
         "type": "bar",
         "x": [
          "Jakarta Utara"
         ],
         "xaxis": "x",
         "y": [
          17
         ],
         "yaxis": "y"
        }
       ],
       "layout": {
        "barmode": "relative",
        "legend": {
         "title": {
          "text": "kota_administrasi"
         },
         "tracegroupgap": 0
        },
        "template": {
         "data": {
          "bar": [
           {
            "error_x": {
             "color": "#2a3f5f"
            },
            "error_y": {
             "color": "#2a3f5f"
            },
            "marker": {
             "line": {
              "color": "#E5ECF6",
              "width": 0.5
             },
             "pattern": {
              "fillmode": "overlay",
              "size": 10,
              "solidity": 0.2
             }
            },
            "type": "bar"
           }
          ],
          "barpolar": [
           {
            "marker": {
             "line": {
              "color": "#E5ECF6",
              "width": 0.5
             },
             "pattern": {
              "fillmode": "overlay",
              "size": 10,
              "solidity": 0.2
             }
            },
            "type": "barpolar"
           }
          ],
          "carpet": [
           {
            "aaxis": {
             "endlinecolor": "#2a3f5f",
             "gridcolor": "white",
             "linecolor": "white",
             "minorgridcolor": "white",
             "startlinecolor": "#2a3f5f"
            },
            "baxis": {
             "endlinecolor": "#2a3f5f",
             "gridcolor": "white",
             "linecolor": "white",
             "minorgridcolor": "white",
             "startlinecolor": "#2a3f5f"
            },
            "type": "carpet"
           }
          ],
          "choropleth": [
           {
            "colorbar": {
             "outlinewidth": 0,
             "ticks": ""
            },
            "type": "choropleth"
           }
          ],
          "contour": [
           {
            "colorbar": {
             "outlinewidth": 0,
             "ticks": ""
            },
            "colorscale": [
             [
              0,
              "#0d0887"
             ],
             [
              0.1111111111111111,
              "#46039f"
             ],
             [
              0.2222222222222222,
              "#7201a8"
             ],
             [
              0.3333333333333333,
              "#9c179e"
             ],
             [
              0.4444444444444444,
              "#bd3786"
             ],
             [
              0.5555555555555556,
              "#d8576b"
             ],
             [
              0.6666666666666666,
              "#ed7953"
             ],
             [
              0.7777777777777778,
              "#fb9f3a"
             ],
             [
              0.8888888888888888,
              "#fdca26"
             ],
             [
              1,
              "#f0f921"
             ]
            ],
            "type": "contour"
           }
          ],
          "contourcarpet": [
           {
            "colorbar": {
             "outlinewidth": 0,
             "ticks": ""
            },
            "type": "contourcarpet"
           }
          ],
          "heatmap": [
           {
            "colorbar": {
             "outlinewidth": 0,
             "ticks": ""
            },
            "colorscale": [
             [
              0,
              "#0d0887"
             ],
             [
              0.1111111111111111,
              "#46039f"
             ],
             [
              0.2222222222222222,
              "#7201a8"
             ],
             [
              0.3333333333333333,
              "#9c179e"
             ],
             [
              0.4444444444444444,
              "#bd3786"
             ],
             [
              0.5555555555555556,
              "#d8576b"
             ],
             [
              0.6666666666666666,
              "#ed7953"
             ],
             [
              0.7777777777777778,
              "#fb9f3a"
             ],
             [
              0.8888888888888888,
              "#fdca26"
             ],
             [
              1,
              "#f0f921"
             ]
            ],
            "type": "heatmap"
           }
          ],
          "heatmapgl": [
           {
            "colorbar": {
             "outlinewidth": 0,
             "ticks": ""
            },
            "colorscale": [
             [
              0,
              "#0d0887"
             ],
             [
              0.1111111111111111,
              "#46039f"
             ],
             [
              0.2222222222222222,
              "#7201a8"
             ],
             [
              0.3333333333333333,
              "#9c179e"
             ],
             [
              0.4444444444444444,
              "#bd3786"
             ],
             [
              0.5555555555555556,
              "#d8576b"
             ],
             [
              0.6666666666666666,
              "#ed7953"
             ],
             [
              0.7777777777777778,
              "#fb9f3a"
             ],
             [
              0.8888888888888888,
              "#fdca26"
             ],
             [
              1,
              "#f0f921"
             ]
            ],
            "type": "heatmapgl"
           }
          ],
          "histogram": [
           {
            "marker": {
             "pattern": {
              "fillmode": "overlay",
              "size": 10,
              "solidity": 0.2
             }
            },
            "type": "histogram"
           }
          ],
          "histogram2d": [
           {
            "colorbar": {
             "outlinewidth": 0,
             "ticks": ""
            },
            "colorscale": [
             [
              0,
              "#0d0887"
             ],
             [
              0.1111111111111111,
              "#46039f"
             ],
             [
              0.2222222222222222,
              "#7201a8"
             ],
             [
              0.3333333333333333,
              "#9c179e"
             ],
             [
              0.4444444444444444,
              "#bd3786"
             ],
             [
              0.5555555555555556,
              "#d8576b"
             ],
             [
              0.6666666666666666,
              "#ed7953"
             ],
             [
              0.7777777777777778,
              "#fb9f3a"
             ],
             [
              0.8888888888888888,
              "#fdca26"
             ],
             [
              1,
              "#f0f921"
             ]
            ],
            "type": "histogram2d"
           }
          ],
          "histogram2dcontour": [
           {
            "colorbar": {
             "outlinewidth": 0,
             "ticks": ""
            },
            "colorscale": [
             [
              0,
              "#0d0887"
             ],
             [
              0.1111111111111111,
              "#46039f"
             ],
             [
              0.2222222222222222,
              "#7201a8"
             ],
             [
              0.3333333333333333,
              "#9c179e"
             ],
             [
              0.4444444444444444,
              "#bd3786"
             ],
             [
              0.5555555555555556,
              "#d8576b"
             ],
             [
              0.6666666666666666,
              "#ed7953"
             ],
             [
              0.7777777777777778,
              "#fb9f3a"
             ],
             [
              0.8888888888888888,
              "#fdca26"
             ],
             [
              1,
              "#f0f921"
             ]
            ],
            "type": "histogram2dcontour"
           }
          ],
          "mesh3d": [
           {
            "colorbar": {
             "outlinewidth": 0,
             "ticks": ""
            },
            "type": "mesh3d"
           }
          ],
          "parcoords": [
           {
            "line": {
             "colorbar": {
              "outlinewidth": 0,
              "ticks": ""
             }
            },
            "type": "parcoords"
           }
          ],
          "pie": [
           {
            "automargin": true,
            "type": "pie"
           }
          ],
          "scatter": [
           {
            "fillpattern": {
             "fillmode": "overlay",
             "size": 10,
             "solidity": 0.2
            },
            "type": "scatter"
           }
          ],
          "scatter3d": [
           {
            "line": {
             "colorbar": {
              "outlinewidth": 0,
              "ticks": ""
             }
            },
            "marker": {
             "colorbar": {
              "outlinewidth": 0,
              "ticks": ""
             }
            },
            "type": "scatter3d"
           }
          ],
          "scattercarpet": [
           {
            "marker": {
             "colorbar": {
              "outlinewidth": 0,
              "ticks": ""
             }
            },
            "type": "scattercarpet"
           }
          ],
          "scattergeo": [
           {
            "marker": {
             "colorbar": {
              "outlinewidth": 0,
              "ticks": ""
             }
            },
            "type": "scattergeo"
           }
          ],
          "scattergl": [
           {
            "marker": {
             "colorbar": {
              "outlinewidth": 0,
              "ticks": ""
             }
            },
            "type": "scattergl"
           }
          ],
          "scattermapbox": [
           {
            "marker": {
             "colorbar": {
              "outlinewidth": 0,
              "ticks": ""
             }
            },
            "type": "scattermapbox"
           }
          ],
          "scatterpolar": [
           {
            "marker": {
             "colorbar": {
              "outlinewidth": 0,
              "ticks": ""
             }
            },
            "type": "scatterpolar"
           }
          ],
          "scatterpolargl": [
           {
            "marker": {
             "colorbar": {
              "outlinewidth": 0,
              "ticks": ""
             }
            },
            "type": "scatterpolargl"
           }
          ],
          "scatterternary": [
           {
            "marker": {
             "colorbar": {
              "outlinewidth": 0,
              "ticks": ""
             }
            },
            "type": "scatterternary"
           }
          ],
          "surface": [
           {
            "colorbar": {
             "outlinewidth": 0,
             "ticks": ""
            },
            "colorscale": [
             [
              0,
              "#0d0887"
             ],
             [
              0.1111111111111111,
              "#46039f"
             ],
             [
              0.2222222222222222,
              "#7201a8"
             ],
             [
              0.3333333333333333,
              "#9c179e"
             ],
             [
              0.4444444444444444,
              "#bd3786"
             ],
             [
              0.5555555555555556,
              "#d8576b"
             ],
             [
              0.6666666666666666,
              "#ed7953"
             ],
             [
              0.7777777777777778,
              "#fb9f3a"
             ],
             [
              0.8888888888888888,
              "#fdca26"
             ],
             [
              1,
              "#f0f921"
             ]
            ],
            "type": "surface"
           }
          ],
          "table": [
           {
            "cells": {
             "fill": {
              "color": "#EBF0F8"
             },
             "line": {
              "color": "white"
             }
            },
            "header": {
             "fill": {
              "color": "#C8D4E3"
             },
             "line": {
              "color": "white"
             }
            },
            "type": "table"
           }
          ]
         },
         "layout": {
          "annotationdefaults": {
           "arrowcolor": "#2a3f5f",
           "arrowhead": 0,
           "arrowwidth": 1
          },
          "autotypenumbers": "strict",
          "coloraxis": {
           "colorbar": {
            "outlinewidth": 0,
            "ticks": ""
           }
          },
          "colorscale": {
           "diverging": [
            [
             0,
             "#8e0152"
            ],
            [
             0.1,
             "#c51b7d"
            ],
            [
             0.2,
             "#de77ae"
            ],
            [
             0.3,
             "#f1b6da"
            ],
            [
             0.4,
             "#fde0ef"
            ],
            [
             0.5,
             "#f7f7f7"
            ],
            [
             0.6,
             "#e6f5d0"
            ],
            [
             0.7,
             "#b8e186"
            ],
            [
             0.8,
             "#7fbc41"
            ],
            [
             0.9,
             "#4d9221"
            ],
            [
             1,
             "#276419"
            ]
           ],
           "sequential": [
            [
             0,
             "#0d0887"
            ],
            [
             0.1111111111111111,
             "#46039f"
            ],
            [
             0.2222222222222222,
             "#7201a8"
            ],
            [
             0.3333333333333333,
             "#9c179e"
            ],
            [
             0.4444444444444444,
             "#bd3786"
            ],
            [
             0.5555555555555556,
             "#d8576b"
            ],
            [
             0.6666666666666666,
             "#ed7953"
            ],
            [
             0.7777777777777778,
             "#fb9f3a"
            ],
            [
             0.8888888888888888,
             "#fdca26"
            ],
            [
             1,
             "#f0f921"
            ]
           ],
           "sequentialminus": [
            [
             0,
             "#0d0887"
            ],
            [
             0.1111111111111111,
             "#46039f"
            ],
            [
             0.2222222222222222,
             "#7201a8"
            ],
            [
             0.3333333333333333,
             "#9c179e"
            ],
            [
             0.4444444444444444,
             "#bd3786"
            ],
            [
             0.5555555555555556,
             "#d8576b"
            ],
            [
             0.6666666666666666,
             "#ed7953"
            ],
            [
             0.7777777777777778,
             "#fb9f3a"
            ],
            [
             0.8888888888888888,
             "#fdca26"
            ],
            [
             1,
             "#f0f921"
            ]
           ]
          },
          "colorway": [
           "#636efa",
           "#EF553B",
           "#00cc96",
           "#ab63fa",
           "#FFA15A",
           "#19d3f3",
           "#FF6692",
           "#B6E880",
           "#FF97FF",
           "#FECB52"
          ],
          "font": {
           "color": "#2a3f5f"
          },
          "geo": {
           "bgcolor": "white",
           "lakecolor": "white",
           "landcolor": "#E5ECF6",
           "showlakes": true,
           "showland": true,
           "subunitcolor": "white"
          },
          "hoverlabel": {
           "align": "left"
          },
          "hovermode": "closest",
          "mapbox": {
           "style": "light"
          },
          "paper_bgcolor": "white",
          "plot_bgcolor": "#E5ECF6",
          "polar": {
           "angularaxis": {
            "gridcolor": "white",
            "linecolor": "white",
            "ticks": ""
           },
           "bgcolor": "#E5ECF6",
           "radialaxis": {
            "gridcolor": "white",
            "linecolor": "white",
            "ticks": ""
           }
          },
          "scene": {
           "xaxis": {
            "backgroundcolor": "#E5ECF6",
            "gridcolor": "white",
            "gridwidth": 2,
            "linecolor": "white",
            "showbackground": true,
            "ticks": "",
            "zerolinecolor": "white"
           },
           "yaxis": {
            "backgroundcolor": "#E5ECF6",
            "gridcolor": "white",
            "gridwidth": 2,
            "linecolor": "white",
            "showbackground": true,
            "ticks": "",
            "zerolinecolor": "white"
           },
           "zaxis": {
            "backgroundcolor": "#E5ECF6",
            "gridcolor": "white",
            "gridwidth": 2,
            "linecolor": "white",
            "showbackground": true,
            "ticks": "",
            "zerolinecolor": "white"
           }
          },
          "shapedefaults": {
           "line": {
            "color": "#2a3f5f"
           }
          },
          "ternary": {
           "aaxis": {
            "gridcolor": "white",
            "linecolor": "white",
            "ticks": ""
           },
           "baxis": {
            "gridcolor": "white",
            "linecolor": "white",
            "ticks": ""
           },
           "bgcolor": "#E5ECF6",
           "caxis": {
            "gridcolor": "white",
            "linecolor": "white",
            "ticks": ""
           }
          },
          "title": {
           "x": 0.05
          },
          "xaxis": {
           "automargin": true,
           "gridcolor": "white",
           "linecolor": "white",
           "ticks": "",
           "title": {
            "standoff": 15
           },
           "zerolinecolor": "white",
           "zerolinewidth": 2
          },
          "yaxis": {
           "automargin": true,
           "gridcolor": "white",
           "linecolor": "white",
           "ticks": "",
           "title": {
            "standoff": 15
           },
           "zerolinecolor": "white",
           "zerolinewidth": 2
          }
         }
        },
        "title": {
         "text": "Jumlah_Terdampak_Rw per Kota Administrasi"
        },
        "xaxis": {
         "anchor": "y",
         "categoryarray": [
          "Jakarta Barat",
          "Jakarta Pusat",
          "Jakarta Selatan",
          "Jakarta Timur",
          "Jakarta Utara"
         ],
         "categoryorder": "array",
         "domain": [
          0,
          1
         ],
         "title": {
          "text": ""
         }
        },
        "yaxis": {
         "anchor": "x",
         "domain": [
          0,
          1
         ],
         "title": {
          "text": "Jumlah"
         }
        }
       }
      }
     },
     "metadata": {},
     "output_type": "display_data"
    }
   ],
   "source": [
    "create_bar('jumlah_terdampak_rw')"
   ]
  },
  {
   "attachments": {},
   "cell_type": "markdown",
   "metadata": {},
   "source": [
    "Jumlah Terdampak RT per Kota Administrasi"
   ]
  },
  {
   "cell_type": "code",
   "execution_count": 48,
   "metadata": {},
   "outputs": [
    {
     "data": {
      "application/vnd.plotly.v1+json": {
       "config": {
        "plotlyServerURL": "https://plot.ly"
       },
       "data": [
        {
         "alignmentgroup": "True",
         "hovertemplate": "kota_administrasi=%{x}<br>value=%{y}<extra></extra>",
         "legendgroup": "Jakarta Barat",
         "marker": {
          "color": "rgb(8,48,107)",
          "pattern": {
           "shape": ""
          }
         },
         "name": "Jakarta Barat",
         "offsetgroup": "Jakarta Barat",
         "orientation": "v",
         "showlegend": true,
         "textposition": "auto",
         "texttemplate": "%{y}",
         "type": "bar",
         "x": [
          "Jakarta Barat"
         ],
         "xaxis": "x",
         "y": [
          344
         ],
         "yaxis": "y"
        },
        {
         "alignmentgroup": "True",
         "hovertemplate": "kota_administrasi=%{x}<br>value=%{y}<extra></extra>",
         "legendgroup": "Jakarta Pusat",
         "marker": {
          "color": "rgb(8,81,156)",
          "pattern": {
           "shape": ""
          }
         },
         "name": "Jakarta Pusat",
         "offsetgroup": "Jakarta Pusat",
         "orientation": "v",
         "showlegend": true,
         "textposition": "auto",
         "texttemplate": "%{y}",
         "type": "bar",
         "x": [
          "Jakarta Pusat"
         ],
         "xaxis": "x",
         "y": [
          16
         ],
         "yaxis": "y"
        },
        {
         "alignmentgroup": "True",
         "hovertemplate": "kota_administrasi=%{x}<br>value=%{y}<extra></extra>",
         "legendgroup": "Jakarta Selatan",
         "marker": {
          "color": "rgb(33,113,181)",
          "pattern": {
           "shape": ""
          }
         },
         "name": "Jakarta Selatan",
         "offsetgroup": "Jakarta Selatan",
         "orientation": "v",
         "showlegend": true,
         "textposition": "auto",
         "texttemplate": "%{y}",
         "type": "bar",
         "x": [
          "Jakarta Selatan"
         ],
         "xaxis": "x",
         "y": [
          194
         ],
         "yaxis": "y"
        },
        {
         "alignmentgroup": "True",
         "hovertemplate": "kota_administrasi=%{x}<br>value=%{y}<extra></extra>",
         "legendgroup": "Jakarta Timur",
         "marker": {
          "color": "rgb(66,146,198)",
          "pattern": {
           "shape": ""
          }
         },
         "name": "Jakarta Timur",
         "offsetgroup": "Jakarta Timur",
         "orientation": "v",
         "showlegend": true,
         "textposition": "auto",
         "texttemplate": "%{y}",
         "type": "bar",
         "x": [
          "Jakarta Timur"
         ],
         "xaxis": "x",
         "y": [
          467
         ],
         "yaxis": "y"
        },
        {
         "alignmentgroup": "True",
         "hovertemplate": "kota_administrasi=%{x}<br>value=%{y}<extra></extra>",
         "legendgroup": "Jakarta Utara",
         "marker": {
          "color": "rgb(107,174,214)",
          "pattern": {
           "shape": ""
          }
         },
         "name": "Jakarta Utara",
         "offsetgroup": "Jakarta Utara",
         "orientation": "v",
         "showlegend": true,
         "textposition": "auto",
         "texttemplate": "%{y}",
         "type": "bar",
         "x": [
          "Jakarta Utara"
         ],
         "xaxis": "x",
         "y": [
          42
         ],
         "yaxis": "y"
        }
       ],
       "layout": {
        "barmode": "relative",
        "legend": {
         "title": {
          "text": "kota_administrasi"
         },
         "tracegroupgap": 0
        },
        "template": {
         "data": {
          "bar": [
           {
            "error_x": {
             "color": "#2a3f5f"
            },
            "error_y": {
             "color": "#2a3f5f"
            },
            "marker": {
             "line": {
              "color": "#E5ECF6",
              "width": 0.5
             },
             "pattern": {
              "fillmode": "overlay",
              "size": 10,
              "solidity": 0.2
             }
            },
            "type": "bar"
           }
          ],
          "barpolar": [
           {
            "marker": {
             "line": {
              "color": "#E5ECF6",
              "width": 0.5
             },
             "pattern": {
              "fillmode": "overlay",
              "size": 10,
              "solidity": 0.2
             }
            },
            "type": "barpolar"
           }
          ],
          "carpet": [
           {
            "aaxis": {
             "endlinecolor": "#2a3f5f",
             "gridcolor": "white",
             "linecolor": "white",
             "minorgridcolor": "white",
             "startlinecolor": "#2a3f5f"
            },
            "baxis": {
             "endlinecolor": "#2a3f5f",
             "gridcolor": "white",
             "linecolor": "white",
             "minorgridcolor": "white",
             "startlinecolor": "#2a3f5f"
            },
            "type": "carpet"
           }
          ],
          "choropleth": [
           {
            "colorbar": {
             "outlinewidth": 0,
             "ticks": ""
            },
            "type": "choropleth"
           }
          ],
          "contour": [
           {
            "colorbar": {
             "outlinewidth": 0,
             "ticks": ""
            },
            "colorscale": [
             [
              0,
              "#0d0887"
             ],
             [
              0.1111111111111111,
              "#46039f"
             ],
             [
              0.2222222222222222,
              "#7201a8"
             ],
             [
              0.3333333333333333,
              "#9c179e"
             ],
             [
              0.4444444444444444,
              "#bd3786"
             ],
             [
              0.5555555555555556,
              "#d8576b"
             ],
             [
              0.6666666666666666,
              "#ed7953"
             ],
             [
              0.7777777777777778,
              "#fb9f3a"
             ],
             [
              0.8888888888888888,
              "#fdca26"
             ],
             [
              1,
              "#f0f921"
             ]
            ],
            "type": "contour"
           }
          ],
          "contourcarpet": [
           {
            "colorbar": {
             "outlinewidth": 0,
             "ticks": ""
            },
            "type": "contourcarpet"
           }
          ],
          "heatmap": [
           {
            "colorbar": {
             "outlinewidth": 0,
             "ticks": ""
            },
            "colorscale": [
             [
              0,
              "#0d0887"
             ],
             [
              0.1111111111111111,
              "#46039f"
             ],
             [
              0.2222222222222222,
              "#7201a8"
             ],
             [
              0.3333333333333333,
              "#9c179e"
             ],
             [
              0.4444444444444444,
              "#bd3786"
             ],
             [
              0.5555555555555556,
              "#d8576b"
             ],
             [
              0.6666666666666666,
              "#ed7953"
             ],
             [
              0.7777777777777778,
              "#fb9f3a"
             ],
             [
              0.8888888888888888,
              "#fdca26"
             ],
             [
              1,
              "#f0f921"
             ]
            ],
            "type": "heatmap"
           }
          ],
          "heatmapgl": [
           {
            "colorbar": {
             "outlinewidth": 0,
             "ticks": ""
            },
            "colorscale": [
             [
              0,
              "#0d0887"
             ],
             [
              0.1111111111111111,
              "#46039f"
             ],
             [
              0.2222222222222222,
              "#7201a8"
             ],
             [
              0.3333333333333333,
              "#9c179e"
             ],
             [
              0.4444444444444444,
              "#bd3786"
             ],
             [
              0.5555555555555556,
              "#d8576b"
             ],
             [
              0.6666666666666666,
              "#ed7953"
             ],
             [
              0.7777777777777778,
              "#fb9f3a"
             ],
             [
              0.8888888888888888,
              "#fdca26"
             ],
             [
              1,
              "#f0f921"
             ]
            ],
            "type": "heatmapgl"
           }
          ],
          "histogram": [
           {
            "marker": {
             "pattern": {
              "fillmode": "overlay",
              "size": 10,
              "solidity": 0.2
             }
            },
            "type": "histogram"
           }
          ],
          "histogram2d": [
           {
            "colorbar": {
             "outlinewidth": 0,
             "ticks": ""
            },
            "colorscale": [
             [
              0,
              "#0d0887"
             ],
             [
              0.1111111111111111,
              "#46039f"
             ],
             [
              0.2222222222222222,
              "#7201a8"
             ],
             [
              0.3333333333333333,
              "#9c179e"
             ],
             [
              0.4444444444444444,
              "#bd3786"
             ],
             [
              0.5555555555555556,
              "#d8576b"
             ],
             [
              0.6666666666666666,
              "#ed7953"
             ],
             [
              0.7777777777777778,
              "#fb9f3a"
             ],
             [
              0.8888888888888888,
              "#fdca26"
             ],
             [
              1,
              "#f0f921"
             ]
            ],
            "type": "histogram2d"
           }
          ],
          "histogram2dcontour": [
           {
            "colorbar": {
             "outlinewidth": 0,
             "ticks": ""
            },
            "colorscale": [
             [
              0,
              "#0d0887"
             ],
             [
              0.1111111111111111,
              "#46039f"
             ],
             [
              0.2222222222222222,
              "#7201a8"
             ],
             [
              0.3333333333333333,
              "#9c179e"
             ],
             [
              0.4444444444444444,
              "#bd3786"
             ],
             [
              0.5555555555555556,
              "#d8576b"
             ],
             [
              0.6666666666666666,
              "#ed7953"
             ],
             [
              0.7777777777777778,
              "#fb9f3a"
             ],
             [
              0.8888888888888888,
              "#fdca26"
             ],
             [
              1,
              "#f0f921"
             ]
            ],
            "type": "histogram2dcontour"
           }
          ],
          "mesh3d": [
           {
            "colorbar": {
             "outlinewidth": 0,
             "ticks": ""
            },
            "type": "mesh3d"
           }
          ],
          "parcoords": [
           {
            "line": {
             "colorbar": {
              "outlinewidth": 0,
              "ticks": ""
             }
            },
            "type": "parcoords"
           }
          ],
          "pie": [
           {
            "automargin": true,
            "type": "pie"
           }
          ],
          "scatter": [
           {
            "fillpattern": {
             "fillmode": "overlay",
             "size": 10,
             "solidity": 0.2
            },
            "type": "scatter"
           }
          ],
          "scatter3d": [
           {
            "line": {
             "colorbar": {
              "outlinewidth": 0,
              "ticks": ""
             }
            },
            "marker": {
             "colorbar": {
              "outlinewidth": 0,
              "ticks": ""
             }
            },
            "type": "scatter3d"
           }
          ],
          "scattercarpet": [
           {
            "marker": {
             "colorbar": {
              "outlinewidth": 0,
              "ticks": ""
             }
            },
            "type": "scattercarpet"
           }
          ],
          "scattergeo": [
           {
            "marker": {
             "colorbar": {
              "outlinewidth": 0,
              "ticks": ""
             }
            },
            "type": "scattergeo"
           }
          ],
          "scattergl": [
           {
            "marker": {
             "colorbar": {
              "outlinewidth": 0,
              "ticks": ""
             }
            },
            "type": "scattergl"
           }
          ],
          "scattermapbox": [
           {
            "marker": {
             "colorbar": {
              "outlinewidth": 0,
              "ticks": ""
             }
            },
            "type": "scattermapbox"
           }
          ],
          "scatterpolar": [
           {
            "marker": {
             "colorbar": {
              "outlinewidth": 0,
              "ticks": ""
             }
            },
            "type": "scatterpolar"
           }
          ],
          "scatterpolargl": [
           {
            "marker": {
             "colorbar": {
              "outlinewidth": 0,
              "ticks": ""
             }
            },
            "type": "scatterpolargl"
           }
          ],
          "scatterternary": [
           {
            "marker": {
             "colorbar": {
              "outlinewidth": 0,
              "ticks": ""
             }
            },
            "type": "scatterternary"
           }
          ],
          "surface": [
           {
            "colorbar": {
             "outlinewidth": 0,
             "ticks": ""
            },
            "colorscale": [
             [
              0,
              "#0d0887"
             ],
             [
              0.1111111111111111,
              "#46039f"
             ],
             [
              0.2222222222222222,
              "#7201a8"
             ],
             [
              0.3333333333333333,
              "#9c179e"
             ],
             [
              0.4444444444444444,
              "#bd3786"
             ],
             [
              0.5555555555555556,
              "#d8576b"
             ],
             [
              0.6666666666666666,
              "#ed7953"
             ],
             [
              0.7777777777777778,
              "#fb9f3a"
             ],
             [
              0.8888888888888888,
              "#fdca26"
             ],
             [
              1,
              "#f0f921"
             ]
            ],
            "type": "surface"
           }
          ],
          "table": [
           {
            "cells": {
             "fill": {
              "color": "#EBF0F8"
             },
             "line": {
              "color": "white"
             }
            },
            "header": {
             "fill": {
              "color": "#C8D4E3"
             },
             "line": {
              "color": "white"
             }
            },
            "type": "table"
           }
          ]
         },
         "layout": {
          "annotationdefaults": {
           "arrowcolor": "#2a3f5f",
           "arrowhead": 0,
           "arrowwidth": 1
          },
          "autotypenumbers": "strict",
          "coloraxis": {
           "colorbar": {
            "outlinewidth": 0,
            "ticks": ""
           }
          },
          "colorscale": {
           "diverging": [
            [
             0,
             "#8e0152"
            ],
            [
             0.1,
             "#c51b7d"
            ],
            [
             0.2,
             "#de77ae"
            ],
            [
             0.3,
             "#f1b6da"
            ],
            [
             0.4,
             "#fde0ef"
            ],
            [
             0.5,
             "#f7f7f7"
            ],
            [
             0.6,
             "#e6f5d0"
            ],
            [
             0.7,
             "#b8e186"
            ],
            [
             0.8,
             "#7fbc41"
            ],
            [
             0.9,
             "#4d9221"
            ],
            [
             1,
             "#276419"
            ]
           ],
           "sequential": [
            [
             0,
             "#0d0887"
            ],
            [
             0.1111111111111111,
             "#46039f"
            ],
            [
             0.2222222222222222,
             "#7201a8"
            ],
            [
             0.3333333333333333,
             "#9c179e"
            ],
            [
             0.4444444444444444,
             "#bd3786"
            ],
            [
             0.5555555555555556,
             "#d8576b"
            ],
            [
             0.6666666666666666,
             "#ed7953"
            ],
            [
             0.7777777777777778,
             "#fb9f3a"
            ],
            [
             0.8888888888888888,
             "#fdca26"
            ],
            [
             1,
             "#f0f921"
            ]
           ],
           "sequentialminus": [
            [
             0,
             "#0d0887"
            ],
            [
             0.1111111111111111,
             "#46039f"
            ],
            [
             0.2222222222222222,
             "#7201a8"
            ],
            [
             0.3333333333333333,
             "#9c179e"
            ],
            [
             0.4444444444444444,
             "#bd3786"
            ],
            [
             0.5555555555555556,
             "#d8576b"
            ],
            [
             0.6666666666666666,
             "#ed7953"
            ],
            [
             0.7777777777777778,
             "#fb9f3a"
            ],
            [
             0.8888888888888888,
             "#fdca26"
            ],
            [
             1,
             "#f0f921"
            ]
           ]
          },
          "colorway": [
           "#636efa",
           "#EF553B",
           "#00cc96",
           "#ab63fa",
           "#FFA15A",
           "#19d3f3",
           "#FF6692",
           "#B6E880",
           "#FF97FF",
           "#FECB52"
          ],
          "font": {
           "color": "#2a3f5f"
          },
          "geo": {
           "bgcolor": "white",
           "lakecolor": "white",
           "landcolor": "#E5ECF6",
           "showlakes": true,
           "showland": true,
           "subunitcolor": "white"
          },
          "hoverlabel": {
           "align": "left"
          },
          "hovermode": "closest",
          "mapbox": {
           "style": "light"
          },
          "paper_bgcolor": "white",
          "plot_bgcolor": "#E5ECF6",
          "polar": {
           "angularaxis": {
            "gridcolor": "white",
            "linecolor": "white",
            "ticks": ""
           },
           "bgcolor": "#E5ECF6",
           "radialaxis": {
            "gridcolor": "white",
            "linecolor": "white",
            "ticks": ""
           }
          },
          "scene": {
           "xaxis": {
            "backgroundcolor": "#E5ECF6",
            "gridcolor": "white",
            "gridwidth": 2,
            "linecolor": "white",
            "showbackground": true,
            "ticks": "",
            "zerolinecolor": "white"
           },
           "yaxis": {
            "backgroundcolor": "#E5ECF6",
            "gridcolor": "white",
            "gridwidth": 2,
            "linecolor": "white",
            "showbackground": true,
            "ticks": "",
            "zerolinecolor": "white"
           },
           "zaxis": {
            "backgroundcolor": "#E5ECF6",
            "gridcolor": "white",
            "gridwidth": 2,
            "linecolor": "white",
            "showbackground": true,
            "ticks": "",
            "zerolinecolor": "white"
           }
          },
          "shapedefaults": {
           "line": {
            "color": "#2a3f5f"
           }
          },
          "ternary": {
           "aaxis": {
            "gridcolor": "white",
            "linecolor": "white",
            "ticks": ""
           },
           "baxis": {
            "gridcolor": "white",
            "linecolor": "white",
            "ticks": ""
           },
           "bgcolor": "#E5ECF6",
           "caxis": {
            "gridcolor": "white",
            "linecolor": "white",
            "ticks": ""
           }
          },
          "title": {
           "x": 0.05
          },
          "xaxis": {
           "automargin": true,
           "gridcolor": "white",
           "linecolor": "white",
           "ticks": "",
           "title": {
            "standoff": 15
           },
           "zerolinecolor": "white",
           "zerolinewidth": 2
          },
          "yaxis": {
           "automargin": true,
           "gridcolor": "white",
           "linecolor": "white",
           "ticks": "",
           "title": {
            "standoff": 15
           },
           "zerolinecolor": "white",
           "zerolinewidth": 2
          }
         }
        },
        "title": {
         "text": "Jumlah_Terdampak_Rt per Kota Administrasi"
        },
        "xaxis": {
         "anchor": "y",
         "categoryarray": [
          "Jakarta Barat",
          "Jakarta Pusat",
          "Jakarta Selatan",
          "Jakarta Timur",
          "Jakarta Utara"
         ],
         "categoryorder": "array",
         "domain": [
          0,
          1
         ],
         "title": {
          "text": ""
         }
        },
        "yaxis": {
         "anchor": "x",
         "domain": [
          0,
          1
         ],
         "title": {
          "text": "Jumlah"
         }
        }
       }
      }
     },
     "metadata": {},
     "output_type": "display_data"
    }
   ],
   "source": [
    "create_bar('jumlah_terdampak_rt')"
   ]
  },
  {
   "attachments": {},
   "cell_type": "markdown",
   "metadata": {},
   "source": [
    "Jumlah Terdampak KK per Kota Administrasi"
   ]
  },
  {
   "cell_type": "code",
   "execution_count": 49,
   "metadata": {},
   "outputs": [
    {
     "data": {
      "application/vnd.plotly.v1+json": {
       "config": {
        "plotlyServerURL": "https://plot.ly"
       },
       "data": [
        {
         "alignmentgroup": "True",
         "hovertemplate": "kota_administrasi=%{x}<br>value=%{y}<extra></extra>",
         "legendgroup": "Jakarta Barat",
         "marker": {
          "color": "rgb(8,48,107)",
          "pattern": {
           "shape": ""
          }
         },
         "name": "Jakarta Barat",
         "offsetgroup": "Jakarta Barat",
         "orientation": "v",
         "showlegend": true,
         "textposition": "auto",
         "texttemplate": "%{y}",
         "type": "bar",
         "x": [
          "Jakarta Barat"
         ],
         "xaxis": "x",
         "y": [
          34
         ],
         "yaxis": "y"
        },
        {
         "alignmentgroup": "True",
         "hovertemplate": "kota_administrasi=%{x}<br>value=%{y}<extra></extra>",
         "legendgroup": "Jakarta Pusat",
         "marker": {
          "color": "rgb(8,81,156)",
          "pattern": {
           "shape": ""
          }
         },
         "name": "Jakarta Pusat",
         "offsetgroup": "Jakarta Pusat",
         "orientation": "v",
         "showlegend": true,
         "textposition": "auto",
         "texttemplate": "%{y}",
         "type": "bar",
         "x": [
          "Jakarta Pusat"
         ],
         "xaxis": "x",
         "y": [
          0
         ],
         "yaxis": "y"
        },
        {
         "alignmentgroup": "True",
         "hovertemplate": "kota_administrasi=%{x}<br>value=%{y}<extra></extra>",
         "legendgroup": "Jakarta Selatan",
         "marker": {
          "color": "rgb(33,113,181)",
          "pattern": {
           "shape": ""
          }
         },
         "name": "Jakarta Selatan",
         "offsetgroup": "Jakarta Selatan",
         "orientation": "v",
         "showlegend": true,
         "textposition": "auto",
         "texttemplate": "%{y}",
         "type": "bar",
         "x": [
          "Jakarta Selatan"
         ],
         "xaxis": "x",
         "y": [
          2991
         ],
         "yaxis": "y"
        },
        {
         "alignmentgroup": "True",
         "hovertemplate": "kota_administrasi=%{x}<br>value=%{y}<extra></extra>",
         "legendgroup": "Jakarta Timur",
         "marker": {
          "color": "rgb(66,146,198)",
          "pattern": {
           "shape": ""
          }
         },
         "name": "Jakarta Timur",
         "offsetgroup": "Jakarta Timur",
         "orientation": "v",
         "showlegend": true,
         "textposition": "auto",
         "texttemplate": "%{y}",
         "type": "bar",
         "x": [
          "Jakarta Timur"
         ],
         "xaxis": "x",
         "y": [
          5991
         ],
         "yaxis": "y"
        },
        {
         "alignmentgroup": "True",
         "hovertemplate": "kota_administrasi=%{x}<br>value=%{y}<extra></extra>",
         "legendgroup": "Jakarta Utara",
         "marker": {
          "color": "rgb(107,174,214)",
          "pattern": {
           "shape": ""
          }
         },
         "name": "Jakarta Utara",
         "offsetgroup": "Jakarta Utara",
         "orientation": "v",
         "showlegend": true,
         "textposition": "auto",
         "texttemplate": "%{y}",
         "type": "bar",
         "x": [
          "Jakarta Utara"
         ],
         "xaxis": "x",
         "y": [
          75
         ],
         "yaxis": "y"
        }
       ],
       "layout": {
        "barmode": "relative",
        "legend": {
         "title": {
          "text": "kota_administrasi"
         },
         "tracegroupgap": 0
        },
        "template": {
         "data": {
          "bar": [
           {
            "error_x": {
             "color": "#2a3f5f"
            },
            "error_y": {
             "color": "#2a3f5f"
            },
            "marker": {
             "line": {
              "color": "#E5ECF6",
              "width": 0.5
             },
             "pattern": {
              "fillmode": "overlay",
              "size": 10,
              "solidity": 0.2
             }
            },
            "type": "bar"
           }
          ],
          "barpolar": [
           {
            "marker": {
             "line": {
              "color": "#E5ECF6",
              "width": 0.5
             },
             "pattern": {
              "fillmode": "overlay",
              "size": 10,
              "solidity": 0.2
             }
            },
            "type": "barpolar"
           }
          ],
          "carpet": [
           {
            "aaxis": {
             "endlinecolor": "#2a3f5f",
             "gridcolor": "white",
             "linecolor": "white",
             "minorgridcolor": "white",
             "startlinecolor": "#2a3f5f"
            },
            "baxis": {
             "endlinecolor": "#2a3f5f",
             "gridcolor": "white",
             "linecolor": "white",
             "minorgridcolor": "white",
             "startlinecolor": "#2a3f5f"
            },
            "type": "carpet"
           }
          ],
          "choropleth": [
           {
            "colorbar": {
             "outlinewidth": 0,
             "ticks": ""
            },
            "type": "choropleth"
           }
          ],
          "contour": [
           {
            "colorbar": {
             "outlinewidth": 0,
             "ticks": ""
            },
            "colorscale": [
             [
              0,
              "#0d0887"
             ],
             [
              0.1111111111111111,
              "#46039f"
             ],
             [
              0.2222222222222222,
              "#7201a8"
             ],
             [
              0.3333333333333333,
              "#9c179e"
             ],
             [
              0.4444444444444444,
              "#bd3786"
             ],
             [
              0.5555555555555556,
              "#d8576b"
             ],
             [
              0.6666666666666666,
              "#ed7953"
             ],
             [
              0.7777777777777778,
              "#fb9f3a"
             ],
             [
              0.8888888888888888,
              "#fdca26"
             ],
             [
              1,
              "#f0f921"
             ]
            ],
            "type": "contour"
           }
          ],
          "contourcarpet": [
           {
            "colorbar": {
             "outlinewidth": 0,
             "ticks": ""
            },
            "type": "contourcarpet"
           }
          ],
          "heatmap": [
           {
            "colorbar": {
             "outlinewidth": 0,
             "ticks": ""
            },
            "colorscale": [
             [
              0,
              "#0d0887"
             ],
             [
              0.1111111111111111,
              "#46039f"
             ],
             [
              0.2222222222222222,
              "#7201a8"
             ],
             [
              0.3333333333333333,
              "#9c179e"
             ],
             [
              0.4444444444444444,
              "#bd3786"
             ],
             [
              0.5555555555555556,
              "#d8576b"
             ],
             [
              0.6666666666666666,
              "#ed7953"
             ],
             [
              0.7777777777777778,
              "#fb9f3a"
             ],
             [
              0.8888888888888888,
              "#fdca26"
             ],
             [
              1,
              "#f0f921"
             ]
            ],
            "type": "heatmap"
           }
          ],
          "heatmapgl": [
           {
            "colorbar": {
             "outlinewidth": 0,
             "ticks": ""
            },
            "colorscale": [
             [
              0,
              "#0d0887"
             ],
             [
              0.1111111111111111,
              "#46039f"
             ],
             [
              0.2222222222222222,
              "#7201a8"
             ],
             [
              0.3333333333333333,
              "#9c179e"
             ],
             [
              0.4444444444444444,
              "#bd3786"
             ],
             [
              0.5555555555555556,
              "#d8576b"
             ],
             [
              0.6666666666666666,
              "#ed7953"
             ],
             [
              0.7777777777777778,
              "#fb9f3a"
             ],
             [
              0.8888888888888888,
              "#fdca26"
             ],
             [
              1,
              "#f0f921"
             ]
            ],
            "type": "heatmapgl"
           }
          ],
          "histogram": [
           {
            "marker": {
             "pattern": {
              "fillmode": "overlay",
              "size": 10,
              "solidity": 0.2
             }
            },
            "type": "histogram"
           }
          ],
          "histogram2d": [
           {
            "colorbar": {
             "outlinewidth": 0,
             "ticks": ""
            },
            "colorscale": [
             [
              0,
              "#0d0887"
             ],
             [
              0.1111111111111111,
              "#46039f"
             ],
             [
              0.2222222222222222,
              "#7201a8"
             ],
             [
              0.3333333333333333,
              "#9c179e"
             ],
             [
              0.4444444444444444,
              "#bd3786"
             ],
             [
              0.5555555555555556,
              "#d8576b"
             ],
             [
              0.6666666666666666,
              "#ed7953"
             ],
             [
              0.7777777777777778,
              "#fb9f3a"
             ],
             [
              0.8888888888888888,
              "#fdca26"
             ],
             [
              1,
              "#f0f921"
             ]
            ],
            "type": "histogram2d"
           }
          ],
          "histogram2dcontour": [
           {
            "colorbar": {
             "outlinewidth": 0,
             "ticks": ""
            },
            "colorscale": [
             [
              0,
              "#0d0887"
             ],
             [
              0.1111111111111111,
              "#46039f"
             ],
             [
              0.2222222222222222,
              "#7201a8"
             ],
             [
              0.3333333333333333,
              "#9c179e"
             ],
             [
              0.4444444444444444,
              "#bd3786"
             ],
             [
              0.5555555555555556,
              "#d8576b"
             ],
             [
              0.6666666666666666,
              "#ed7953"
             ],
             [
              0.7777777777777778,
              "#fb9f3a"
             ],
             [
              0.8888888888888888,
              "#fdca26"
             ],
             [
              1,
              "#f0f921"
             ]
            ],
            "type": "histogram2dcontour"
           }
          ],
          "mesh3d": [
           {
            "colorbar": {
             "outlinewidth": 0,
             "ticks": ""
            },
            "type": "mesh3d"
           }
          ],
          "parcoords": [
           {
            "line": {
             "colorbar": {
              "outlinewidth": 0,
              "ticks": ""
             }
            },
            "type": "parcoords"
           }
          ],
          "pie": [
           {
            "automargin": true,
            "type": "pie"
           }
          ],
          "scatter": [
           {
            "fillpattern": {
             "fillmode": "overlay",
             "size": 10,
             "solidity": 0.2
            },
            "type": "scatter"
           }
          ],
          "scatter3d": [
           {
            "line": {
             "colorbar": {
              "outlinewidth": 0,
              "ticks": ""
             }
            },
            "marker": {
             "colorbar": {
              "outlinewidth": 0,
              "ticks": ""
             }
            },
            "type": "scatter3d"
           }
          ],
          "scattercarpet": [
           {
            "marker": {
             "colorbar": {
              "outlinewidth": 0,
              "ticks": ""
             }
            },
            "type": "scattercarpet"
           }
          ],
          "scattergeo": [
           {
            "marker": {
             "colorbar": {
              "outlinewidth": 0,
              "ticks": ""
             }
            },
            "type": "scattergeo"
           }
          ],
          "scattergl": [
           {
            "marker": {
             "colorbar": {
              "outlinewidth": 0,
              "ticks": ""
             }
            },
            "type": "scattergl"
           }
          ],
          "scattermapbox": [
           {
            "marker": {
             "colorbar": {
              "outlinewidth": 0,
              "ticks": ""
             }
            },
            "type": "scattermapbox"
           }
          ],
          "scatterpolar": [
           {
            "marker": {
             "colorbar": {
              "outlinewidth": 0,
              "ticks": ""
             }
            },
            "type": "scatterpolar"
           }
          ],
          "scatterpolargl": [
           {
            "marker": {
             "colorbar": {
              "outlinewidth": 0,
              "ticks": ""
             }
            },
            "type": "scatterpolargl"
           }
          ],
          "scatterternary": [
           {
            "marker": {
             "colorbar": {
              "outlinewidth": 0,
              "ticks": ""
             }
            },
            "type": "scatterternary"
           }
          ],
          "surface": [
           {
            "colorbar": {
             "outlinewidth": 0,
             "ticks": ""
            },
            "colorscale": [
             [
              0,
              "#0d0887"
             ],
             [
              0.1111111111111111,
              "#46039f"
             ],
             [
              0.2222222222222222,
              "#7201a8"
             ],
             [
              0.3333333333333333,
              "#9c179e"
             ],
             [
              0.4444444444444444,
              "#bd3786"
             ],
             [
              0.5555555555555556,
              "#d8576b"
             ],
             [
              0.6666666666666666,
              "#ed7953"
             ],
             [
              0.7777777777777778,
              "#fb9f3a"
             ],
             [
              0.8888888888888888,
              "#fdca26"
             ],
             [
              1,
              "#f0f921"
             ]
            ],
            "type": "surface"
           }
          ],
          "table": [
           {
            "cells": {
             "fill": {
              "color": "#EBF0F8"
             },
             "line": {
              "color": "white"
             }
            },
            "header": {
             "fill": {
              "color": "#C8D4E3"
             },
             "line": {
              "color": "white"
             }
            },
            "type": "table"
           }
          ]
         },
         "layout": {
          "annotationdefaults": {
           "arrowcolor": "#2a3f5f",
           "arrowhead": 0,
           "arrowwidth": 1
          },
          "autotypenumbers": "strict",
          "coloraxis": {
           "colorbar": {
            "outlinewidth": 0,
            "ticks": ""
           }
          },
          "colorscale": {
           "diverging": [
            [
             0,
             "#8e0152"
            ],
            [
             0.1,
             "#c51b7d"
            ],
            [
             0.2,
             "#de77ae"
            ],
            [
             0.3,
             "#f1b6da"
            ],
            [
             0.4,
             "#fde0ef"
            ],
            [
             0.5,
             "#f7f7f7"
            ],
            [
             0.6,
             "#e6f5d0"
            ],
            [
             0.7,
             "#b8e186"
            ],
            [
             0.8,
             "#7fbc41"
            ],
            [
             0.9,
             "#4d9221"
            ],
            [
             1,
             "#276419"
            ]
           ],
           "sequential": [
            [
             0,
             "#0d0887"
            ],
            [
             0.1111111111111111,
             "#46039f"
            ],
            [
             0.2222222222222222,
             "#7201a8"
            ],
            [
             0.3333333333333333,
             "#9c179e"
            ],
            [
             0.4444444444444444,
             "#bd3786"
            ],
            [
             0.5555555555555556,
             "#d8576b"
            ],
            [
             0.6666666666666666,
             "#ed7953"
            ],
            [
             0.7777777777777778,
             "#fb9f3a"
            ],
            [
             0.8888888888888888,
             "#fdca26"
            ],
            [
             1,
             "#f0f921"
            ]
           ],
           "sequentialminus": [
            [
             0,
             "#0d0887"
            ],
            [
             0.1111111111111111,
             "#46039f"
            ],
            [
             0.2222222222222222,
             "#7201a8"
            ],
            [
             0.3333333333333333,
             "#9c179e"
            ],
            [
             0.4444444444444444,
             "#bd3786"
            ],
            [
             0.5555555555555556,
             "#d8576b"
            ],
            [
             0.6666666666666666,
             "#ed7953"
            ],
            [
             0.7777777777777778,
             "#fb9f3a"
            ],
            [
             0.8888888888888888,
             "#fdca26"
            ],
            [
             1,
             "#f0f921"
            ]
           ]
          },
          "colorway": [
           "#636efa",
           "#EF553B",
           "#00cc96",
           "#ab63fa",
           "#FFA15A",
           "#19d3f3",
           "#FF6692",
           "#B6E880",
           "#FF97FF",
           "#FECB52"
          ],
          "font": {
           "color": "#2a3f5f"
          },
          "geo": {
           "bgcolor": "white",
           "lakecolor": "white",
           "landcolor": "#E5ECF6",
           "showlakes": true,
           "showland": true,
           "subunitcolor": "white"
          },
          "hoverlabel": {
           "align": "left"
          },
          "hovermode": "closest",
          "mapbox": {
           "style": "light"
          },
          "paper_bgcolor": "white",
          "plot_bgcolor": "#E5ECF6",
          "polar": {
           "angularaxis": {
            "gridcolor": "white",
            "linecolor": "white",
            "ticks": ""
           },
           "bgcolor": "#E5ECF6",
           "radialaxis": {
            "gridcolor": "white",
            "linecolor": "white",
            "ticks": ""
           }
          },
          "scene": {
           "xaxis": {
            "backgroundcolor": "#E5ECF6",
            "gridcolor": "white",
            "gridwidth": 2,
            "linecolor": "white",
            "showbackground": true,
            "ticks": "",
            "zerolinecolor": "white"
           },
           "yaxis": {
            "backgroundcolor": "#E5ECF6",
            "gridcolor": "white",
            "gridwidth": 2,
            "linecolor": "white",
            "showbackground": true,
            "ticks": "",
            "zerolinecolor": "white"
           },
           "zaxis": {
            "backgroundcolor": "#E5ECF6",
            "gridcolor": "white",
            "gridwidth": 2,
            "linecolor": "white",
            "showbackground": true,
            "ticks": "",
            "zerolinecolor": "white"
           }
          },
          "shapedefaults": {
           "line": {
            "color": "#2a3f5f"
           }
          },
          "ternary": {
           "aaxis": {
            "gridcolor": "white",
            "linecolor": "white",
            "ticks": ""
           },
           "baxis": {
            "gridcolor": "white",
            "linecolor": "white",
            "ticks": ""
           },
           "bgcolor": "#E5ECF6",
           "caxis": {
            "gridcolor": "white",
            "linecolor": "white",
            "ticks": ""
           }
          },
          "title": {
           "x": 0.05
          },
          "xaxis": {
           "automargin": true,
           "gridcolor": "white",
           "linecolor": "white",
           "ticks": "",
           "title": {
            "standoff": 15
           },
           "zerolinecolor": "white",
           "zerolinewidth": 2
          },
          "yaxis": {
           "automargin": true,
           "gridcolor": "white",
           "linecolor": "white",
           "ticks": "",
           "title": {
            "standoff": 15
           },
           "zerolinecolor": "white",
           "zerolinewidth": 2
          }
         }
        },
        "title": {
         "text": "Jumlah_Terdampak_Kk per Kota Administrasi"
        },
        "xaxis": {
         "anchor": "y",
         "categoryarray": [
          "Jakarta Barat",
          "Jakarta Pusat",
          "Jakarta Selatan",
          "Jakarta Timur",
          "Jakarta Utara"
         ],
         "categoryorder": "array",
         "domain": [
          0,
          1
         ],
         "title": {
          "text": ""
         }
        },
        "yaxis": {
         "anchor": "x",
         "domain": [
          0,
          1
         ],
         "title": {
          "text": "Jumlah"
         }
        }
       }
      }
     },
     "metadata": {},
     "output_type": "display_data"
    }
   ],
   "source": [
    "create_bar('jumlah_terdampak_kk')"
   ]
  },
  {
   "attachments": {},
   "cell_type": "markdown",
   "metadata": {},
   "source": [
    "Jumlah Terdampak Jiwa per Kota Administrasi"
   ]
  },
  {
   "cell_type": "code",
   "execution_count": 50,
   "metadata": {},
   "outputs": [
    {
     "data": {
      "application/vnd.plotly.v1+json": {
       "config": {
        "plotlyServerURL": "https://plot.ly"
       },
       "data": [
        {
         "alignmentgroup": "True",
         "hovertemplate": "kota_administrasi=%{x}<br>value=%{y}<extra></extra>",
         "legendgroup": "Jakarta Barat",
         "marker": {
          "color": "rgb(8,48,107)",
          "pattern": {
           "shape": ""
          }
         },
         "name": "Jakarta Barat",
         "offsetgroup": "Jakarta Barat",
         "orientation": "v",
         "showlegend": true,
         "textposition": "auto",
         "texttemplate": "%{y}",
         "type": "bar",
         "x": [
          "Jakarta Barat"
         ],
         "xaxis": "x",
         "y": [
          77
         ],
         "yaxis": "y"
        },
        {
         "alignmentgroup": "True",
         "hovertemplate": "kota_administrasi=%{x}<br>value=%{y}<extra></extra>",
         "legendgroup": "Jakarta Pusat",
         "marker": {
          "color": "rgb(8,81,156)",
          "pattern": {
           "shape": ""
          }
         },
         "name": "Jakarta Pusat",
         "offsetgroup": "Jakarta Pusat",
         "orientation": "v",
         "showlegend": true,
         "textposition": "auto",
         "texttemplate": "%{y}",
         "type": "bar",
         "x": [
          "Jakarta Pusat"
         ],
         "xaxis": "x",
         "y": [
          0
         ],
         "yaxis": "y"
        },
        {
         "alignmentgroup": "True",
         "hovertemplate": "kota_administrasi=%{x}<br>value=%{y}<extra></extra>",
         "legendgroup": "Jakarta Selatan",
         "marker": {
          "color": "rgb(33,113,181)",
          "pattern": {
           "shape": ""
          }
         },
         "name": "Jakarta Selatan",
         "offsetgroup": "Jakarta Selatan",
         "orientation": "v",
         "showlegend": true,
         "textposition": "auto",
         "texttemplate": "%{y}",
         "type": "bar",
         "x": [
          "Jakarta Selatan"
         ],
         "xaxis": "x",
         "y": [
          12636
         ],
         "yaxis": "y"
        },
        {
         "alignmentgroup": "True",
         "hovertemplate": "kota_administrasi=%{x}<br>value=%{y}<extra></extra>",
         "legendgroup": "Jakarta Timur",
         "marker": {
          "color": "rgb(66,146,198)",
          "pattern": {
           "shape": ""
          }
         },
         "name": "Jakarta Timur",
         "offsetgroup": "Jakarta Timur",
         "orientation": "v",
         "showlegend": true,
         "textposition": "auto",
         "texttemplate": "%{y}",
         "type": "bar",
         "x": [
          "Jakarta Timur"
         ],
         "xaxis": "x",
         "y": [
          19720
         ],
         "yaxis": "y"
        },
        {
         "alignmentgroup": "True",
         "hovertemplate": "kota_administrasi=%{x}<br>value=%{y}<extra></extra>",
         "legendgroup": "Jakarta Utara",
         "marker": {
          "color": "rgb(107,174,214)",
          "pattern": {
           "shape": ""
          }
         },
         "name": "Jakarta Utara",
         "offsetgroup": "Jakarta Utara",
         "orientation": "v",
         "showlegend": true,
         "textposition": "auto",
         "texttemplate": "%{y}",
         "type": "bar",
         "x": [
          "Jakarta Utara"
         ],
         "xaxis": "x",
         "y": [
          270
         ],
         "yaxis": "y"
        }
       ],
       "layout": {
        "barmode": "relative",
        "legend": {
         "title": {
          "text": "kota_administrasi"
         },
         "tracegroupgap": 0
        },
        "template": {
         "data": {
          "bar": [
           {
            "error_x": {
             "color": "#2a3f5f"
            },
            "error_y": {
             "color": "#2a3f5f"
            },
            "marker": {
             "line": {
              "color": "#E5ECF6",
              "width": 0.5
             },
             "pattern": {
              "fillmode": "overlay",
              "size": 10,
              "solidity": 0.2
             }
            },
            "type": "bar"
           }
          ],
          "barpolar": [
           {
            "marker": {
             "line": {
              "color": "#E5ECF6",
              "width": 0.5
             },
             "pattern": {
              "fillmode": "overlay",
              "size": 10,
              "solidity": 0.2
             }
            },
            "type": "barpolar"
           }
          ],
          "carpet": [
           {
            "aaxis": {
             "endlinecolor": "#2a3f5f",
             "gridcolor": "white",
             "linecolor": "white",
             "minorgridcolor": "white",
             "startlinecolor": "#2a3f5f"
            },
            "baxis": {
             "endlinecolor": "#2a3f5f",
             "gridcolor": "white",
             "linecolor": "white",
             "minorgridcolor": "white",
             "startlinecolor": "#2a3f5f"
            },
            "type": "carpet"
           }
          ],
          "choropleth": [
           {
            "colorbar": {
             "outlinewidth": 0,
             "ticks": ""
            },
            "type": "choropleth"
           }
          ],
          "contour": [
           {
            "colorbar": {
             "outlinewidth": 0,
             "ticks": ""
            },
            "colorscale": [
             [
              0,
              "#0d0887"
             ],
             [
              0.1111111111111111,
              "#46039f"
             ],
             [
              0.2222222222222222,
              "#7201a8"
             ],
             [
              0.3333333333333333,
              "#9c179e"
             ],
             [
              0.4444444444444444,
              "#bd3786"
             ],
             [
              0.5555555555555556,
              "#d8576b"
             ],
             [
              0.6666666666666666,
              "#ed7953"
             ],
             [
              0.7777777777777778,
              "#fb9f3a"
             ],
             [
              0.8888888888888888,
              "#fdca26"
             ],
             [
              1,
              "#f0f921"
             ]
            ],
            "type": "contour"
           }
          ],
          "contourcarpet": [
           {
            "colorbar": {
             "outlinewidth": 0,
             "ticks": ""
            },
            "type": "contourcarpet"
           }
          ],
          "heatmap": [
           {
            "colorbar": {
             "outlinewidth": 0,
             "ticks": ""
            },
            "colorscale": [
             [
              0,
              "#0d0887"
             ],
             [
              0.1111111111111111,
              "#46039f"
             ],
             [
              0.2222222222222222,
              "#7201a8"
             ],
             [
              0.3333333333333333,
              "#9c179e"
             ],
             [
              0.4444444444444444,
              "#bd3786"
             ],
             [
              0.5555555555555556,
              "#d8576b"
             ],
             [
              0.6666666666666666,
              "#ed7953"
             ],
             [
              0.7777777777777778,
              "#fb9f3a"
             ],
             [
              0.8888888888888888,
              "#fdca26"
             ],
             [
              1,
              "#f0f921"
             ]
            ],
            "type": "heatmap"
           }
          ],
          "heatmapgl": [
           {
            "colorbar": {
             "outlinewidth": 0,
             "ticks": ""
            },
            "colorscale": [
             [
              0,
              "#0d0887"
             ],
             [
              0.1111111111111111,
              "#46039f"
             ],
             [
              0.2222222222222222,
              "#7201a8"
             ],
             [
              0.3333333333333333,
              "#9c179e"
             ],
             [
              0.4444444444444444,
              "#bd3786"
             ],
             [
              0.5555555555555556,
              "#d8576b"
             ],
             [
              0.6666666666666666,
              "#ed7953"
             ],
             [
              0.7777777777777778,
              "#fb9f3a"
             ],
             [
              0.8888888888888888,
              "#fdca26"
             ],
             [
              1,
              "#f0f921"
             ]
            ],
            "type": "heatmapgl"
           }
          ],
          "histogram": [
           {
            "marker": {
             "pattern": {
              "fillmode": "overlay",
              "size": 10,
              "solidity": 0.2
             }
            },
            "type": "histogram"
           }
          ],
          "histogram2d": [
           {
            "colorbar": {
             "outlinewidth": 0,
             "ticks": ""
            },
            "colorscale": [
             [
              0,
              "#0d0887"
             ],
             [
              0.1111111111111111,
              "#46039f"
             ],
             [
              0.2222222222222222,
              "#7201a8"
             ],
             [
              0.3333333333333333,
              "#9c179e"
             ],
             [
              0.4444444444444444,
              "#bd3786"
             ],
             [
              0.5555555555555556,
              "#d8576b"
             ],
             [
              0.6666666666666666,
              "#ed7953"
             ],
             [
              0.7777777777777778,
              "#fb9f3a"
             ],
             [
              0.8888888888888888,
              "#fdca26"
             ],
             [
              1,
              "#f0f921"
             ]
            ],
            "type": "histogram2d"
           }
          ],
          "histogram2dcontour": [
           {
            "colorbar": {
             "outlinewidth": 0,
             "ticks": ""
            },
            "colorscale": [
             [
              0,
              "#0d0887"
             ],
             [
              0.1111111111111111,
              "#46039f"
             ],
             [
              0.2222222222222222,
              "#7201a8"
             ],
             [
              0.3333333333333333,
              "#9c179e"
             ],
             [
              0.4444444444444444,
              "#bd3786"
             ],
             [
              0.5555555555555556,
              "#d8576b"
             ],
             [
              0.6666666666666666,
              "#ed7953"
             ],
             [
              0.7777777777777778,
              "#fb9f3a"
             ],
             [
              0.8888888888888888,
              "#fdca26"
             ],
             [
              1,
              "#f0f921"
             ]
            ],
            "type": "histogram2dcontour"
           }
          ],
          "mesh3d": [
           {
            "colorbar": {
             "outlinewidth": 0,
             "ticks": ""
            },
            "type": "mesh3d"
           }
          ],
          "parcoords": [
           {
            "line": {
             "colorbar": {
              "outlinewidth": 0,
              "ticks": ""
             }
            },
            "type": "parcoords"
           }
          ],
          "pie": [
           {
            "automargin": true,
            "type": "pie"
           }
          ],
          "scatter": [
           {
            "fillpattern": {
             "fillmode": "overlay",
             "size": 10,
             "solidity": 0.2
            },
            "type": "scatter"
           }
          ],
          "scatter3d": [
           {
            "line": {
             "colorbar": {
              "outlinewidth": 0,
              "ticks": ""
             }
            },
            "marker": {
             "colorbar": {
              "outlinewidth": 0,
              "ticks": ""
             }
            },
            "type": "scatter3d"
           }
          ],
          "scattercarpet": [
           {
            "marker": {
             "colorbar": {
              "outlinewidth": 0,
              "ticks": ""
             }
            },
            "type": "scattercarpet"
           }
          ],
          "scattergeo": [
           {
            "marker": {
             "colorbar": {
              "outlinewidth": 0,
              "ticks": ""
             }
            },
            "type": "scattergeo"
           }
          ],
          "scattergl": [
           {
            "marker": {
             "colorbar": {
              "outlinewidth": 0,
              "ticks": ""
             }
            },
            "type": "scattergl"
           }
          ],
          "scattermapbox": [
           {
            "marker": {
             "colorbar": {
              "outlinewidth": 0,
              "ticks": ""
             }
            },
            "type": "scattermapbox"
           }
          ],
          "scatterpolar": [
           {
            "marker": {
             "colorbar": {
              "outlinewidth": 0,
              "ticks": ""
             }
            },
            "type": "scatterpolar"
           }
          ],
          "scatterpolargl": [
           {
            "marker": {
             "colorbar": {
              "outlinewidth": 0,
              "ticks": ""
             }
            },
            "type": "scatterpolargl"
           }
          ],
          "scatterternary": [
           {
            "marker": {
             "colorbar": {
              "outlinewidth": 0,
              "ticks": ""
             }
            },
            "type": "scatterternary"
           }
          ],
          "surface": [
           {
            "colorbar": {
             "outlinewidth": 0,
             "ticks": ""
            },
            "colorscale": [
             [
              0,
              "#0d0887"
             ],
             [
              0.1111111111111111,
              "#46039f"
             ],
             [
              0.2222222222222222,
              "#7201a8"
             ],
             [
              0.3333333333333333,
              "#9c179e"
             ],
             [
              0.4444444444444444,
              "#bd3786"
             ],
             [
              0.5555555555555556,
              "#d8576b"
             ],
             [
              0.6666666666666666,
              "#ed7953"
             ],
             [
              0.7777777777777778,
              "#fb9f3a"
             ],
             [
              0.8888888888888888,
              "#fdca26"
             ],
             [
              1,
              "#f0f921"
             ]
            ],
            "type": "surface"
           }
          ],
          "table": [
           {
            "cells": {
             "fill": {
              "color": "#EBF0F8"
             },
             "line": {
              "color": "white"
             }
            },
            "header": {
             "fill": {
              "color": "#C8D4E3"
             },
             "line": {
              "color": "white"
             }
            },
            "type": "table"
           }
          ]
         },
         "layout": {
          "annotationdefaults": {
           "arrowcolor": "#2a3f5f",
           "arrowhead": 0,
           "arrowwidth": 1
          },
          "autotypenumbers": "strict",
          "coloraxis": {
           "colorbar": {
            "outlinewidth": 0,
            "ticks": ""
           }
          },
          "colorscale": {
           "diverging": [
            [
             0,
             "#8e0152"
            ],
            [
             0.1,
             "#c51b7d"
            ],
            [
             0.2,
             "#de77ae"
            ],
            [
             0.3,
             "#f1b6da"
            ],
            [
             0.4,
             "#fde0ef"
            ],
            [
             0.5,
             "#f7f7f7"
            ],
            [
             0.6,
             "#e6f5d0"
            ],
            [
             0.7,
             "#b8e186"
            ],
            [
             0.8,
             "#7fbc41"
            ],
            [
             0.9,
             "#4d9221"
            ],
            [
             1,
             "#276419"
            ]
           ],
           "sequential": [
            [
             0,
             "#0d0887"
            ],
            [
             0.1111111111111111,
             "#46039f"
            ],
            [
             0.2222222222222222,
             "#7201a8"
            ],
            [
             0.3333333333333333,
             "#9c179e"
            ],
            [
             0.4444444444444444,
             "#bd3786"
            ],
            [
             0.5555555555555556,
             "#d8576b"
            ],
            [
             0.6666666666666666,
             "#ed7953"
            ],
            [
             0.7777777777777778,
             "#fb9f3a"
            ],
            [
             0.8888888888888888,
             "#fdca26"
            ],
            [
             1,
             "#f0f921"
            ]
           ],
           "sequentialminus": [
            [
             0,
             "#0d0887"
            ],
            [
             0.1111111111111111,
             "#46039f"
            ],
            [
             0.2222222222222222,
             "#7201a8"
            ],
            [
             0.3333333333333333,
             "#9c179e"
            ],
            [
             0.4444444444444444,
             "#bd3786"
            ],
            [
             0.5555555555555556,
             "#d8576b"
            ],
            [
             0.6666666666666666,
             "#ed7953"
            ],
            [
             0.7777777777777778,
             "#fb9f3a"
            ],
            [
             0.8888888888888888,
             "#fdca26"
            ],
            [
             1,
             "#f0f921"
            ]
           ]
          },
          "colorway": [
           "#636efa",
           "#EF553B",
           "#00cc96",
           "#ab63fa",
           "#FFA15A",
           "#19d3f3",
           "#FF6692",
           "#B6E880",
           "#FF97FF",
           "#FECB52"
          ],
          "font": {
           "color": "#2a3f5f"
          },
          "geo": {
           "bgcolor": "white",
           "lakecolor": "white",
           "landcolor": "#E5ECF6",
           "showlakes": true,
           "showland": true,
           "subunitcolor": "white"
          },
          "hoverlabel": {
           "align": "left"
          },
          "hovermode": "closest",
          "mapbox": {
           "style": "light"
          },
          "paper_bgcolor": "white",
          "plot_bgcolor": "#E5ECF6",
          "polar": {
           "angularaxis": {
            "gridcolor": "white",
            "linecolor": "white",
            "ticks": ""
           },
           "bgcolor": "#E5ECF6",
           "radialaxis": {
            "gridcolor": "white",
            "linecolor": "white",
            "ticks": ""
           }
          },
          "scene": {
           "xaxis": {
            "backgroundcolor": "#E5ECF6",
            "gridcolor": "white",
            "gridwidth": 2,
            "linecolor": "white",
            "showbackground": true,
            "ticks": "",
            "zerolinecolor": "white"
           },
           "yaxis": {
            "backgroundcolor": "#E5ECF6",
            "gridcolor": "white",
            "gridwidth": 2,
            "linecolor": "white",
            "showbackground": true,
            "ticks": "",
            "zerolinecolor": "white"
           },
           "zaxis": {
            "backgroundcolor": "#E5ECF6",
            "gridcolor": "white",
            "gridwidth": 2,
            "linecolor": "white",
            "showbackground": true,
            "ticks": "",
            "zerolinecolor": "white"
           }
          },
          "shapedefaults": {
           "line": {
            "color": "#2a3f5f"
           }
          },
          "ternary": {
           "aaxis": {
            "gridcolor": "white",
            "linecolor": "white",
            "ticks": ""
           },
           "baxis": {
            "gridcolor": "white",
            "linecolor": "white",
            "ticks": ""
           },
           "bgcolor": "#E5ECF6",
           "caxis": {
            "gridcolor": "white",
            "linecolor": "white",
            "ticks": ""
           }
          },
          "title": {
           "x": 0.05
          },
          "xaxis": {
           "automargin": true,
           "gridcolor": "white",
           "linecolor": "white",
           "ticks": "",
           "title": {
            "standoff": 15
           },
           "zerolinecolor": "white",
           "zerolinewidth": 2
          },
          "yaxis": {
           "automargin": true,
           "gridcolor": "white",
           "linecolor": "white",
           "ticks": "",
           "title": {
            "standoff": 15
           },
           "zerolinecolor": "white",
           "zerolinewidth": 2
          }
         }
        },
        "title": {
         "text": "Jumlah_Terdampak_Jiwa per Kota Administrasi"
        },
        "xaxis": {
         "anchor": "y",
         "categoryarray": [
          "Jakarta Barat",
          "Jakarta Pusat",
          "Jakarta Selatan",
          "Jakarta Timur",
          "Jakarta Utara"
         ],
         "categoryorder": "array",
         "domain": [
          0,
          1
         ],
         "title": {
          "text": ""
         }
        },
        "yaxis": {
         "anchor": "x",
         "domain": [
          0,
          1
         ],
         "title": {
          "text": "Jumlah"
         }
        }
       }
      }
     },
     "metadata": {},
     "output_type": "display_data"
    }
   ],
   "source": [
    "create_bar('jumlah_terdampak_jiwa')"
   ]
  },
  {
   "attachments": {},
   "cell_type": "markdown",
   "metadata": {},
   "source": [
    "Jumlah Kejadian Banjir per bulan berdasarkan Kota Administrasi"
   ]
  },
  {
   "attachments": {},
   "cell_type": "markdown",
   "metadata": {},
   "source": [
    "Jumlah Luka Ringan per Kota Administrasi"
   ]
  },
  {
   "cell_type": "code",
   "execution_count": 51,
   "metadata": {},
   "outputs": [
    {
     "data": {
      "application/vnd.plotly.v1+json": {
       "config": {
        "plotlyServerURL": "https://plot.ly"
       },
       "data": [
        {
         "alignmentgroup": "True",
         "hovertemplate": "kota_administrasi=%{x}<br>value=%{y}<extra></extra>",
         "legendgroup": "Jakarta Barat",
         "marker": {
          "color": "rgb(8,48,107)",
          "pattern": {
           "shape": ""
          }
         },
         "name": "Jakarta Barat",
         "offsetgroup": "Jakarta Barat",
         "orientation": "v",
         "showlegend": true,
         "textposition": "auto",
         "texttemplate": "%{y}",
         "type": "bar",
         "x": [
          "Jakarta Barat"
         ],
         "xaxis": "x",
         "y": [
          0
         ],
         "yaxis": "y"
        },
        {
         "alignmentgroup": "True",
         "hovertemplate": "kota_administrasi=%{x}<br>value=%{y}<extra></extra>",
         "legendgroup": "Jakarta Pusat",
         "marker": {
          "color": "rgb(8,81,156)",
          "pattern": {
           "shape": ""
          }
         },
         "name": "Jakarta Pusat",
         "offsetgroup": "Jakarta Pusat",
         "orientation": "v",
         "showlegend": true,
         "textposition": "auto",
         "texttemplate": "%{y}",
         "type": "bar",
         "x": [
          "Jakarta Pusat"
         ],
         "xaxis": "x",
         "y": [
          0
         ],
         "yaxis": "y"
        },
        {
         "alignmentgroup": "True",
         "hovertemplate": "kota_administrasi=%{x}<br>value=%{y}<extra></extra>",
         "legendgroup": "Jakarta Selatan",
         "marker": {
          "color": "rgb(33,113,181)",
          "pattern": {
           "shape": ""
          }
         },
         "name": "Jakarta Selatan",
         "offsetgroup": "Jakarta Selatan",
         "orientation": "v",
         "showlegend": true,
         "textposition": "auto",
         "texttemplate": "%{y}",
         "type": "bar",
         "x": [
          "Jakarta Selatan"
         ],
         "xaxis": "x",
         "y": [
          10485
         ],
         "yaxis": "y"
        },
        {
         "alignmentgroup": "True",
         "hovertemplate": "kota_administrasi=%{x}<br>value=%{y}<extra></extra>",
         "legendgroup": "Jakarta Timur",
         "marker": {
          "color": "rgb(66,146,198)",
          "pattern": {
           "shape": ""
          }
         },
         "name": "Jakarta Timur",
         "offsetgroup": "Jakarta Timur",
         "orientation": "v",
         "showlegend": true,
         "textposition": "auto",
         "texttemplate": "%{y}",
         "type": "bar",
         "x": [
          "Jakarta Timur"
         ],
         "xaxis": "x",
         "y": [
          4872
         ],
         "yaxis": "y"
        },
        {
         "alignmentgroup": "True",
         "hovertemplate": "kota_administrasi=%{x}<br>value=%{y}<extra></extra>",
         "legendgroup": "Jakarta Utara",
         "marker": {
          "color": "rgb(107,174,214)",
          "pattern": {
           "shape": ""
          }
         },
         "name": "Jakarta Utara",
         "offsetgroup": "Jakarta Utara",
         "orientation": "v",
         "showlegend": true,
         "textposition": "auto",
         "texttemplate": "%{y}",
         "type": "bar",
         "x": [
          "Jakarta Utara"
         ],
         "xaxis": "x",
         "y": [
          270
         ],
         "yaxis": "y"
        }
       ],
       "layout": {
        "barmode": "relative",
        "legend": {
         "title": {
          "text": "kota_administrasi"
         },
         "tracegroupgap": 0
        },
        "template": {
         "data": {
          "bar": [
           {
            "error_x": {
             "color": "#2a3f5f"
            },
            "error_y": {
             "color": "#2a3f5f"
            },
            "marker": {
             "line": {
              "color": "#E5ECF6",
              "width": 0.5
             },
             "pattern": {
              "fillmode": "overlay",
              "size": 10,
              "solidity": 0.2
             }
            },
            "type": "bar"
           }
          ],
          "barpolar": [
           {
            "marker": {
             "line": {
              "color": "#E5ECF6",
              "width": 0.5
             },
             "pattern": {
              "fillmode": "overlay",
              "size": 10,
              "solidity": 0.2
             }
            },
            "type": "barpolar"
           }
          ],
          "carpet": [
           {
            "aaxis": {
             "endlinecolor": "#2a3f5f",
             "gridcolor": "white",
             "linecolor": "white",
             "minorgridcolor": "white",
             "startlinecolor": "#2a3f5f"
            },
            "baxis": {
             "endlinecolor": "#2a3f5f",
             "gridcolor": "white",
             "linecolor": "white",
             "minorgridcolor": "white",
             "startlinecolor": "#2a3f5f"
            },
            "type": "carpet"
           }
          ],
          "choropleth": [
           {
            "colorbar": {
             "outlinewidth": 0,
             "ticks": ""
            },
            "type": "choropleth"
           }
          ],
          "contour": [
           {
            "colorbar": {
             "outlinewidth": 0,
             "ticks": ""
            },
            "colorscale": [
             [
              0,
              "#0d0887"
             ],
             [
              0.1111111111111111,
              "#46039f"
             ],
             [
              0.2222222222222222,
              "#7201a8"
             ],
             [
              0.3333333333333333,
              "#9c179e"
             ],
             [
              0.4444444444444444,
              "#bd3786"
             ],
             [
              0.5555555555555556,
              "#d8576b"
             ],
             [
              0.6666666666666666,
              "#ed7953"
             ],
             [
              0.7777777777777778,
              "#fb9f3a"
             ],
             [
              0.8888888888888888,
              "#fdca26"
             ],
             [
              1,
              "#f0f921"
             ]
            ],
            "type": "contour"
           }
          ],
          "contourcarpet": [
           {
            "colorbar": {
             "outlinewidth": 0,
             "ticks": ""
            },
            "type": "contourcarpet"
           }
          ],
          "heatmap": [
           {
            "colorbar": {
             "outlinewidth": 0,
             "ticks": ""
            },
            "colorscale": [
             [
              0,
              "#0d0887"
             ],
             [
              0.1111111111111111,
              "#46039f"
             ],
             [
              0.2222222222222222,
              "#7201a8"
             ],
             [
              0.3333333333333333,
              "#9c179e"
             ],
             [
              0.4444444444444444,
              "#bd3786"
             ],
             [
              0.5555555555555556,
              "#d8576b"
             ],
             [
              0.6666666666666666,
              "#ed7953"
             ],
             [
              0.7777777777777778,
              "#fb9f3a"
             ],
             [
              0.8888888888888888,
              "#fdca26"
             ],
             [
              1,
              "#f0f921"
             ]
            ],
            "type": "heatmap"
           }
          ],
          "heatmapgl": [
           {
            "colorbar": {
             "outlinewidth": 0,
             "ticks": ""
            },
            "colorscale": [
             [
              0,
              "#0d0887"
             ],
             [
              0.1111111111111111,
              "#46039f"
             ],
             [
              0.2222222222222222,
              "#7201a8"
             ],
             [
              0.3333333333333333,
              "#9c179e"
             ],
             [
              0.4444444444444444,
              "#bd3786"
             ],
             [
              0.5555555555555556,
              "#d8576b"
             ],
             [
              0.6666666666666666,
              "#ed7953"
             ],
             [
              0.7777777777777778,
              "#fb9f3a"
             ],
             [
              0.8888888888888888,
              "#fdca26"
             ],
             [
              1,
              "#f0f921"
             ]
            ],
            "type": "heatmapgl"
           }
          ],
          "histogram": [
           {
            "marker": {
             "pattern": {
              "fillmode": "overlay",
              "size": 10,
              "solidity": 0.2
             }
            },
            "type": "histogram"
           }
          ],
          "histogram2d": [
           {
            "colorbar": {
             "outlinewidth": 0,
             "ticks": ""
            },
            "colorscale": [
             [
              0,
              "#0d0887"
             ],
             [
              0.1111111111111111,
              "#46039f"
             ],
             [
              0.2222222222222222,
              "#7201a8"
             ],
             [
              0.3333333333333333,
              "#9c179e"
             ],
             [
              0.4444444444444444,
              "#bd3786"
             ],
             [
              0.5555555555555556,
              "#d8576b"
             ],
             [
              0.6666666666666666,
              "#ed7953"
             ],
             [
              0.7777777777777778,
              "#fb9f3a"
             ],
             [
              0.8888888888888888,
              "#fdca26"
             ],
             [
              1,
              "#f0f921"
             ]
            ],
            "type": "histogram2d"
           }
          ],
          "histogram2dcontour": [
           {
            "colorbar": {
             "outlinewidth": 0,
             "ticks": ""
            },
            "colorscale": [
             [
              0,
              "#0d0887"
             ],
             [
              0.1111111111111111,
              "#46039f"
             ],
             [
              0.2222222222222222,
              "#7201a8"
             ],
             [
              0.3333333333333333,
              "#9c179e"
             ],
             [
              0.4444444444444444,
              "#bd3786"
             ],
             [
              0.5555555555555556,
              "#d8576b"
             ],
             [
              0.6666666666666666,
              "#ed7953"
             ],
             [
              0.7777777777777778,
              "#fb9f3a"
             ],
             [
              0.8888888888888888,
              "#fdca26"
             ],
             [
              1,
              "#f0f921"
             ]
            ],
            "type": "histogram2dcontour"
           }
          ],
          "mesh3d": [
           {
            "colorbar": {
             "outlinewidth": 0,
             "ticks": ""
            },
            "type": "mesh3d"
           }
          ],
          "parcoords": [
           {
            "line": {
             "colorbar": {
              "outlinewidth": 0,
              "ticks": ""
             }
            },
            "type": "parcoords"
           }
          ],
          "pie": [
           {
            "automargin": true,
            "type": "pie"
           }
          ],
          "scatter": [
           {
            "fillpattern": {
             "fillmode": "overlay",
             "size": 10,
             "solidity": 0.2
            },
            "type": "scatter"
           }
          ],
          "scatter3d": [
           {
            "line": {
             "colorbar": {
              "outlinewidth": 0,
              "ticks": ""
             }
            },
            "marker": {
             "colorbar": {
              "outlinewidth": 0,
              "ticks": ""
             }
            },
            "type": "scatter3d"
           }
          ],
          "scattercarpet": [
           {
            "marker": {
             "colorbar": {
              "outlinewidth": 0,
              "ticks": ""
             }
            },
            "type": "scattercarpet"
           }
          ],
          "scattergeo": [
           {
            "marker": {
             "colorbar": {
              "outlinewidth": 0,
              "ticks": ""
             }
            },
            "type": "scattergeo"
           }
          ],
          "scattergl": [
           {
            "marker": {
             "colorbar": {
              "outlinewidth": 0,
              "ticks": ""
             }
            },
            "type": "scattergl"
           }
          ],
          "scattermapbox": [
           {
            "marker": {
             "colorbar": {
              "outlinewidth": 0,
              "ticks": ""
             }
            },
            "type": "scattermapbox"
           }
          ],
          "scatterpolar": [
           {
            "marker": {
             "colorbar": {
              "outlinewidth": 0,
              "ticks": ""
             }
            },
            "type": "scatterpolar"
           }
          ],
          "scatterpolargl": [
           {
            "marker": {
             "colorbar": {
              "outlinewidth": 0,
              "ticks": ""
             }
            },
            "type": "scatterpolargl"
           }
          ],
          "scatterternary": [
           {
            "marker": {
             "colorbar": {
              "outlinewidth": 0,
              "ticks": ""
             }
            },
            "type": "scatterternary"
           }
          ],
          "surface": [
           {
            "colorbar": {
             "outlinewidth": 0,
             "ticks": ""
            },
            "colorscale": [
             [
              0,
              "#0d0887"
             ],
             [
              0.1111111111111111,
              "#46039f"
             ],
             [
              0.2222222222222222,
              "#7201a8"
             ],
             [
              0.3333333333333333,
              "#9c179e"
             ],
             [
              0.4444444444444444,
              "#bd3786"
             ],
             [
              0.5555555555555556,
              "#d8576b"
             ],
             [
              0.6666666666666666,
              "#ed7953"
             ],
             [
              0.7777777777777778,
              "#fb9f3a"
             ],
             [
              0.8888888888888888,
              "#fdca26"
             ],
             [
              1,
              "#f0f921"
             ]
            ],
            "type": "surface"
           }
          ],
          "table": [
           {
            "cells": {
             "fill": {
              "color": "#EBF0F8"
             },
             "line": {
              "color": "white"
             }
            },
            "header": {
             "fill": {
              "color": "#C8D4E3"
             },
             "line": {
              "color": "white"
             }
            },
            "type": "table"
           }
          ]
         },
         "layout": {
          "annotationdefaults": {
           "arrowcolor": "#2a3f5f",
           "arrowhead": 0,
           "arrowwidth": 1
          },
          "autotypenumbers": "strict",
          "coloraxis": {
           "colorbar": {
            "outlinewidth": 0,
            "ticks": ""
           }
          },
          "colorscale": {
           "diverging": [
            [
             0,
             "#8e0152"
            ],
            [
             0.1,
             "#c51b7d"
            ],
            [
             0.2,
             "#de77ae"
            ],
            [
             0.3,
             "#f1b6da"
            ],
            [
             0.4,
             "#fde0ef"
            ],
            [
             0.5,
             "#f7f7f7"
            ],
            [
             0.6,
             "#e6f5d0"
            ],
            [
             0.7,
             "#b8e186"
            ],
            [
             0.8,
             "#7fbc41"
            ],
            [
             0.9,
             "#4d9221"
            ],
            [
             1,
             "#276419"
            ]
           ],
           "sequential": [
            [
             0,
             "#0d0887"
            ],
            [
             0.1111111111111111,
             "#46039f"
            ],
            [
             0.2222222222222222,
             "#7201a8"
            ],
            [
             0.3333333333333333,
             "#9c179e"
            ],
            [
             0.4444444444444444,
             "#bd3786"
            ],
            [
             0.5555555555555556,
             "#d8576b"
            ],
            [
             0.6666666666666666,
             "#ed7953"
            ],
            [
             0.7777777777777778,
             "#fb9f3a"
            ],
            [
             0.8888888888888888,
             "#fdca26"
            ],
            [
             1,
             "#f0f921"
            ]
           ],
           "sequentialminus": [
            [
             0,
             "#0d0887"
            ],
            [
             0.1111111111111111,
             "#46039f"
            ],
            [
             0.2222222222222222,
             "#7201a8"
            ],
            [
             0.3333333333333333,
             "#9c179e"
            ],
            [
             0.4444444444444444,
             "#bd3786"
            ],
            [
             0.5555555555555556,
             "#d8576b"
            ],
            [
             0.6666666666666666,
             "#ed7953"
            ],
            [
             0.7777777777777778,
             "#fb9f3a"
            ],
            [
             0.8888888888888888,
             "#fdca26"
            ],
            [
             1,
             "#f0f921"
            ]
           ]
          },
          "colorway": [
           "#636efa",
           "#EF553B",
           "#00cc96",
           "#ab63fa",
           "#FFA15A",
           "#19d3f3",
           "#FF6692",
           "#B6E880",
           "#FF97FF",
           "#FECB52"
          ],
          "font": {
           "color": "#2a3f5f"
          },
          "geo": {
           "bgcolor": "white",
           "lakecolor": "white",
           "landcolor": "#E5ECF6",
           "showlakes": true,
           "showland": true,
           "subunitcolor": "white"
          },
          "hoverlabel": {
           "align": "left"
          },
          "hovermode": "closest",
          "mapbox": {
           "style": "light"
          },
          "paper_bgcolor": "white",
          "plot_bgcolor": "#E5ECF6",
          "polar": {
           "angularaxis": {
            "gridcolor": "white",
            "linecolor": "white",
            "ticks": ""
           },
           "bgcolor": "#E5ECF6",
           "radialaxis": {
            "gridcolor": "white",
            "linecolor": "white",
            "ticks": ""
           }
          },
          "scene": {
           "xaxis": {
            "backgroundcolor": "#E5ECF6",
            "gridcolor": "white",
            "gridwidth": 2,
            "linecolor": "white",
            "showbackground": true,
            "ticks": "",
            "zerolinecolor": "white"
           },
           "yaxis": {
            "backgroundcolor": "#E5ECF6",
            "gridcolor": "white",
            "gridwidth": 2,
            "linecolor": "white",
            "showbackground": true,
            "ticks": "",
            "zerolinecolor": "white"
           },
           "zaxis": {
            "backgroundcolor": "#E5ECF6",
            "gridcolor": "white",
            "gridwidth": 2,
            "linecolor": "white",
            "showbackground": true,
            "ticks": "",
            "zerolinecolor": "white"
           }
          },
          "shapedefaults": {
           "line": {
            "color": "#2a3f5f"
           }
          },
          "ternary": {
           "aaxis": {
            "gridcolor": "white",
            "linecolor": "white",
            "ticks": ""
           },
           "baxis": {
            "gridcolor": "white",
            "linecolor": "white",
            "ticks": ""
           },
           "bgcolor": "#E5ECF6",
           "caxis": {
            "gridcolor": "white",
            "linecolor": "white",
            "ticks": ""
           }
          },
          "title": {
           "x": 0.05
          },
          "xaxis": {
           "automargin": true,
           "gridcolor": "white",
           "linecolor": "white",
           "ticks": "",
           "title": {
            "standoff": 15
           },
           "zerolinecolor": "white",
           "zerolinewidth": 2
          },
          "yaxis": {
           "automargin": true,
           "gridcolor": "white",
           "linecolor": "white",
           "ticks": "",
           "title": {
            "standoff": 15
           },
           "zerolinecolor": "white",
           "zerolinewidth": 2
          }
         }
        },
        "title": {
         "text": "Jumlah_Luka_Ringan per Kota Administrasi"
        },
        "xaxis": {
         "anchor": "y",
         "categoryarray": [
          "Jakarta Barat",
          "Jakarta Pusat",
          "Jakarta Selatan",
          "Jakarta Timur",
          "Jakarta Utara"
         ],
         "categoryorder": "array",
         "domain": [
          0,
          1
         ],
         "title": {
          "text": ""
         }
        },
        "yaxis": {
         "anchor": "x",
         "domain": [
          0,
          1
         ],
         "title": {
          "text": "Jumlah"
         }
        }
       }
      }
     },
     "metadata": {},
     "output_type": "display_data"
    }
   ],
   "source": [
    "create_bar('jumlah_luka_ringan')"
   ]
  },
  {
   "attachments": {},
   "cell_type": "markdown",
   "metadata": {},
   "source": [
    "Jumlah Pengungsi Tertinggi per Kota Administrasi"
   ]
  },
  {
   "cell_type": "code",
   "execution_count": 52,
   "metadata": {},
   "outputs": [
    {
     "data": {
      "application/vnd.plotly.v1+json": {
       "config": {
        "plotlyServerURL": "https://plot.ly"
       },
       "data": [
        {
         "alignmentgroup": "True",
         "hovertemplate": "kota_administrasi=%{x}<br>value=%{y}<extra></extra>",
         "legendgroup": "Jakarta Barat",
         "marker": {
          "color": "rgb(8,48,107)",
          "pattern": {
           "shape": ""
          }
         },
         "name": "Jakarta Barat",
         "offsetgroup": "Jakarta Barat",
         "orientation": "v",
         "showlegend": true,
         "textposition": "auto",
         "texttemplate": "%{y}",
         "type": "bar",
         "x": [
          "Jakarta Barat"
         ],
         "xaxis": "x",
         "y": [
          0
         ],
         "yaxis": "y"
        },
        {
         "alignmentgroup": "True",
         "hovertemplate": "kota_administrasi=%{x}<br>value=%{y}<extra></extra>",
         "legendgroup": "Jakarta Pusat",
         "marker": {
          "color": "rgb(8,81,156)",
          "pattern": {
           "shape": ""
          }
         },
         "name": "Jakarta Pusat",
         "offsetgroup": "Jakarta Pusat",
         "orientation": "v",
         "showlegend": true,
         "textposition": "auto",
         "texttemplate": "%{y}",
         "type": "bar",
         "x": [
          "Jakarta Pusat"
         ],
         "xaxis": "x",
         "y": [
          0
         ],
         "yaxis": "y"
        },
        {
         "alignmentgroup": "True",
         "hovertemplate": "kota_administrasi=%{x}<br>value=%{y}<extra></extra>",
         "legendgroup": "Jakarta Selatan",
         "marker": {
          "color": "rgb(33,113,181)",
          "pattern": {
           "shape": ""
          }
         },
         "name": "Jakarta Selatan",
         "offsetgroup": "Jakarta Selatan",
         "orientation": "v",
         "showlegend": true,
         "textposition": "auto",
         "texttemplate": "%{y}",
         "type": "bar",
         "x": [
          "Jakarta Selatan"
         ],
         "xaxis": "x",
         "y": [
          27
         ],
         "yaxis": "y"
        },
        {
         "alignmentgroup": "True",
         "hovertemplate": "kota_administrasi=%{x}<br>value=%{y}<extra></extra>",
         "legendgroup": "Jakarta Timur",
         "marker": {
          "color": "rgb(66,146,198)",
          "pattern": {
           "shape": ""
          }
         },
         "name": "Jakarta Timur",
         "offsetgroup": "Jakarta Timur",
         "orientation": "v",
         "showlegend": true,
         "textposition": "auto",
         "texttemplate": "%{y}",
         "type": "bar",
         "x": [
          "Jakarta Timur"
         ],
         "xaxis": "x",
         "y": [
          32
         ],
         "yaxis": "y"
        },
        {
         "alignmentgroup": "True",
         "hovertemplate": "kota_administrasi=%{x}<br>value=%{y}<extra></extra>",
         "legendgroup": "Jakarta Utara",
         "marker": {
          "color": "rgb(107,174,214)",
          "pattern": {
           "shape": ""
          }
         },
         "name": "Jakarta Utara",
         "offsetgroup": "Jakarta Utara",
         "orientation": "v",
         "showlegend": true,
         "textposition": "auto",
         "texttemplate": "%{y}",
         "type": "bar",
         "x": [
          "Jakarta Utara"
         ],
         "xaxis": "x",
         "y": [
          3
         ],
         "yaxis": "y"
        }
       ],
       "layout": {
        "barmode": "relative",
        "legend": {
         "title": {
          "text": "kota_administrasi"
         },
         "tracegroupgap": 0
        },
        "template": {
         "data": {
          "bar": [
           {
            "error_x": {
             "color": "#2a3f5f"
            },
            "error_y": {
             "color": "#2a3f5f"
            },
            "marker": {
             "line": {
              "color": "#E5ECF6",
              "width": 0.5
             },
             "pattern": {
              "fillmode": "overlay",
              "size": 10,
              "solidity": 0.2
             }
            },
            "type": "bar"
           }
          ],
          "barpolar": [
           {
            "marker": {
             "line": {
              "color": "#E5ECF6",
              "width": 0.5
             },
             "pattern": {
              "fillmode": "overlay",
              "size": 10,
              "solidity": 0.2
             }
            },
            "type": "barpolar"
           }
          ],
          "carpet": [
           {
            "aaxis": {
             "endlinecolor": "#2a3f5f",
             "gridcolor": "white",
             "linecolor": "white",
             "minorgridcolor": "white",
             "startlinecolor": "#2a3f5f"
            },
            "baxis": {
             "endlinecolor": "#2a3f5f",
             "gridcolor": "white",
             "linecolor": "white",
             "minorgridcolor": "white",
             "startlinecolor": "#2a3f5f"
            },
            "type": "carpet"
           }
          ],
          "choropleth": [
           {
            "colorbar": {
             "outlinewidth": 0,
             "ticks": ""
            },
            "type": "choropleth"
           }
          ],
          "contour": [
           {
            "colorbar": {
             "outlinewidth": 0,
             "ticks": ""
            },
            "colorscale": [
             [
              0,
              "#0d0887"
             ],
             [
              0.1111111111111111,
              "#46039f"
             ],
             [
              0.2222222222222222,
              "#7201a8"
             ],
             [
              0.3333333333333333,
              "#9c179e"
             ],
             [
              0.4444444444444444,
              "#bd3786"
             ],
             [
              0.5555555555555556,
              "#d8576b"
             ],
             [
              0.6666666666666666,
              "#ed7953"
             ],
             [
              0.7777777777777778,
              "#fb9f3a"
             ],
             [
              0.8888888888888888,
              "#fdca26"
             ],
             [
              1,
              "#f0f921"
             ]
            ],
            "type": "contour"
           }
          ],
          "contourcarpet": [
           {
            "colorbar": {
             "outlinewidth": 0,
             "ticks": ""
            },
            "type": "contourcarpet"
           }
          ],
          "heatmap": [
           {
            "colorbar": {
             "outlinewidth": 0,
             "ticks": ""
            },
            "colorscale": [
             [
              0,
              "#0d0887"
             ],
             [
              0.1111111111111111,
              "#46039f"
             ],
             [
              0.2222222222222222,
              "#7201a8"
             ],
             [
              0.3333333333333333,
              "#9c179e"
             ],
             [
              0.4444444444444444,
              "#bd3786"
             ],
             [
              0.5555555555555556,
              "#d8576b"
             ],
             [
              0.6666666666666666,
              "#ed7953"
             ],
             [
              0.7777777777777778,
              "#fb9f3a"
             ],
             [
              0.8888888888888888,
              "#fdca26"
             ],
             [
              1,
              "#f0f921"
             ]
            ],
            "type": "heatmap"
           }
          ],
          "heatmapgl": [
           {
            "colorbar": {
             "outlinewidth": 0,
             "ticks": ""
            },
            "colorscale": [
             [
              0,
              "#0d0887"
             ],
             [
              0.1111111111111111,
              "#46039f"
             ],
             [
              0.2222222222222222,
              "#7201a8"
             ],
             [
              0.3333333333333333,
              "#9c179e"
             ],
             [
              0.4444444444444444,
              "#bd3786"
             ],
             [
              0.5555555555555556,
              "#d8576b"
             ],
             [
              0.6666666666666666,
              "#ed7953"
             ],
             [
              0.7777777777777778,
              "#fb9f3a"
             ],
             [
              0.8888888888888888,
              "#fdca26"
             ],
             [
              1,
              "#f0f921"
             ]
            ],
            "type": "heatmapgl"
           }
          ],
          "histogram": [
           {
            "marker": {
             "pattern": {
              "fillmode": "overlay",
              "size": 10,
              "solidity": 0.2
             }
            },
            "type": "histogram"
           }
          ],
          "histogram2d": [
           {
            "colorbar": {
             "outlinewidth": 0,
             "ticks": ""
            },
            "colorscale": [
             [
              0,
              "#0d0887"
             ],
             [
              0.1111111111111111,
              "#46039f"
             ],
             [
              0.2222222222222222,
              "#7201a8"
             ],
             [
              0.3333333333333333,
              "#9c179e"
             ],
             [
              0.4444444444444444,
              "#bd3786"
             ],
             [
              0.5555555555555556,
              "#d8576b"
             ],
             [
              0.6666666666666666,
              "#ed7953"
             ],
             [
              0.7777777777777778,
              "#fb9f3a"
             ],
             [
              0.8888888888888888,
              "#fdca26"
             ],
             [
              1,
              "#f0f921"
             ]
            ],
            "type": "histogram2d"
           }
          ],
          "histogram2dcontour": [
           {
            "colorbar": {
             "outlinewidth": 0,
             "ticks": ""
            },
            "colorscale": [
             [
              0,
              "#0d0887"
             ],
             [
              0.1111111111111111,
              "#46039f"
             ],
             [
              0.2222222222222222,
              "#7201a8"
             ],
             [
              0.3333333333333333,
              "#9c179e"
             ],
             [
              0.4444444444444444,
              "#bd3786"
             ],
             [
              0.5555555555555556,
              "#d8576b"
             ],
             [
              0.6666666666666666,
              "#ed7953"
             ],
             [
              0.7777777777777778,
              "#fb9f3a"
             ],
             [
              0.8888888888888888,
              "#fdca26"
             ],
             [
              1,
              "#f0f921"
             ]
            ],
            "type": "histogram2dcontour"
           }
          ],
          "mesh3d": [
           {
            "colorbar": {
             "outlinewidth": 0,
             "ticks": ""
            },
            "type": "mesh3d"
           }
          ],
          "parcoords": [
           {
            "line": {
             "colorbar": {
              "outlinewidth": 0,
              "ticks": ""
             }
            },
            "type": "parcoords"
           }
          ],
          "pie": [
           {
            "automargin": true,
            "type": "pie"
           }
          ],
          "scatter": [
           {
            "fillpattern": {
             "fillmode": "overlay",
             "size": 10,
             "solidity": 0.2
            },
            "type": "scatter"
           }
          ],
          "scatter3d": [
           {
            "line": {
             "colorbar": {
              "outlinewidth": 0,
              "ticks": ""
             }
            },
            "marker": {
             "colorbar": {
              "outlinewidth": 0,
              "ticks": ""
             }
            },
            "type": "scatter3d"
           }
          ],
          "scattercarpet": [
           {
            "marker": {
             "colorbar": {
              "outlinewidth": 0,
              "ticks": ""
             }
            },
            "type": "scattercarpet"
           }
          ],
          "scattergeo": [
           {
            "marker": {
             "colorbar": {
              "outlinewidth": 0,
              "ticks": ""
             }
            },
            "type": "scattergeo"
           }
          ],
          "scattergl": [
           {
            "marker": {
             "colorbar": {
              "outlinewidth": 0,
              "ticks": ""
             }
            },
            "type": "scattergl"
           }
          ],
          "scattermapbox": [
           {
            "marker": {
             "colorbar": {
              "outlinewidth": 0,
              "ticks": ""
             }
            },
            "type": "scattermapbox"
           }
          ],
          "scatterpolar": [
           {
            "marker": {
             "colorbar": {
              "outlinewidth": 0,
              "ticks": ""
             }
            },
            "type": "scatterpolar"
           }
          ],
          "scatterpolargl": [
           {
            "marker": {
             "colorbar": {
              "outlinewidth": 0,
              "ticks": ""
             }
            },
            "type": "scatterpolargl"
           }
          ],
          "scatterternary": [
           {
            "marker": {
             "colorbar": {
              "outlinewidth": 0,
              "ticks": ""
             }
            },
            "type": "scatterternary"
           }
          ],
          "surface": [
           {
            "colorbar": {
             "outlinewidth": 0,
             "ticks": ""
            },
            "colorscale": [
             [
              0,
              "#0d0887"
             ],
             [
              0.1111111111111111,
              "#46039f"
             ],
             [
              0.2222222222222222,
              "#7201a8"
             ],
             [
              0.3333333333333333,
              "#9c179e"
             ],
             [
              0.4444444444444444,
              "#bd3786"
             ],
             [
              0.5555555555555556,
              "#d8576b"
             ],
             [
              0.6666666666666666,
              "#ed7953"
             ],
             [
              0.7777777777777778,
              "#fb9f3a"
             ],
             [
              0.8888888888888888,
              "#fdca26"
             ],
             [
              1,
              "#f0f921"
             ]
            ],
            "type": "surface"
           }
          ],
          "table": [
           {
            "cells": {
             "fill": {
              "color": "#EBF0F8"
             },
             "line": {
              "color": "white"
             }
            },
            "header": {
             "fill": {
              "color": "#C8D4E3"
             },
             "line": {
              "color": "white"
             }
            },
            "type": "table"
           }
          ]
         },
         "layout": {
          "annotationdefaults": {
           "arrowcolor": "#2a3f5f",
           "arrowhead": 0,
           "arrowwidth": 1
          },
          "autotypenumbers": "strict",
          "coloraxis": {
           "colorbar": {
            "outlinewidth": 0,
            "ticks": ""
           }
          },
          "colorscale": {
           "diverging": [
            [
             0,
             "#8e0152"
            ],
            [
             0.1,
             "#c51b7d"
            ],
            [
             0.2,
             "#de77ae"
            ],
            [
             0.3,
             "#f1b6da"
            ],
            [
             0.4,
             "#fde0ef"
            ],
            [
             0.5,
             "#f7f7f7"
            ],
            [
             0.6,
             "#e6f5d0"
            ],
            [
             0.7,
             "#b8e186"
            ],
            [
             0.8,
             "#7fbc41"
            ],
            [
             0.9,
             "#4d9221"
            ],
            [
             1,
             "#276419"
            ]
           ],
           "sequential": [
            [
             0,
             "#0d0887"
            ],
            [
             0.1111111111111111,
             "#46039f"
            ],
            [
             0.2222222222222222,
             "#7201a8"
            ],
            [
             0.3333333333333333,
             "#9c179e"
            ],
            [
             0.4444444444444444,
             "#bd3786"
            ],
            [
             0.5555555555555556,
             "#d8576b"
            ],
            [
             0.6666666666666666,
             "#ed7953"
            ],
            [
             0.7777777777777778,
             "#fb9f3a"
            ],
            [
             0.8888888888888888,
             "#fdca26"
            ],
            [
             1,
             "#f0f921"
            ]
           ],
           "sequentialminus": [
            [
             0,
             "#0d0887"
            ],
            [
             0.1111111111111111,
             "#46039f"
            ],
            [
             0.2222222222222222,
             "#7201a8"
            ],
            [
             0.3333333333333333,
             "#9c179e"
            ],
            [
             0.4444444444444444,
             "#bd3786"
            ],
            [
             0.5555555555555556,
             "#d8576b"
            ],
            [
             0.6666666666666666,
             "#ed7953"
            ],
            [
             0.7777777777777778,
             "#fb9f3a"
            ],
            [
             0.8888888888888888,
             "#fdca26"
            ],
            [
             1,
             "#f0f921"
            ]
           ]
          },
          "colorway": [
           "#636efa",
           "#EF553B",
           "#00cc96",
           "#ab63fa",
           "#FFA15A",
           "#19d3f3",
           "#FF6692",
           "#B6E880",
           "#FF97FF",
           "#FECB52"
          ],
          "font": {
           "color": "#2a3f5f"
          },
          "geo": {
           "bgcolor": "white",
           "lakecolor": "white",
           "landcolor": "#E5ECF6",
           "showlakes": true,
           "showland": true,
           "subunitcolor": "white"
          },
          "hoverlabel": {
           "align": "left"
          },
          "hovermode": "closest",
          "mapbox": {
           "style": "light"
          },
          "paper_bgcolor": "white",
          "plot_bgcolor": "#E5ECF6",
          "polar": {
           "angularaxis": {
            "gridcolor": "white",
            "linecolor": "white",
            "ticks": ""
           },
           "bgcolor": "#E5ECF6",
           "radialaxis": {
            "gridcolor": "white",
            "linecolor": "white",
            "ticks": ""
           }
          },
          "scene": {
           "xaxis": {
            "backgroundcolor": "#E5ECF6",
            "gridcolor": "white",
            "gridwidth": 2,
            "linecolor": "white",
            "showbackground": true,
            "ticks": "",
            "zerolinecolor": "white"
           },
           "yaxis": {
            "backgroundcolor": "#E5ECF6",
            "gridcolor": "white",
            "gridwidth": 2,
            "linecolor": "white",
            "showbackground": true,
            "ticks": "",
            "zerolinecolor": "white"
           },
           "zaxis": {
            "backgroundcolor": "#E5ECF6",
            "gridcolor": "white",
            "gridwidth": 2,
            "linecolor": "white",
            "showbackground": true,
            "ticks": "",
            "zerolinecolor": "white"
           }
          },
          "shapedefaults": {
           "line": {
            "color": "#2a3f5f"
           }
          },
          "ternary": {
           "aaxis": {
            "gridcolor": "white",
            "linecolor": "white",
            "ticks": ""
           },
           "baxis": {
            "gridcolor": "white",
            "linecolor": "white",
            "ticks": ""
           },
           "bgcolor": "#E5ECF6",
           "caxis": {
            "gridcolor": "white",
            "linecolor": "white",
            "ticks": ""
           }
          },
          "title": {
           "x": 0.05
          },
          "xaxis": {
           "automargin": true,
           "gridcolor": "white",
           "linecolor": "white",
           "ticks": "",
           "title": {
            "standoff": 15
           },
           "zerolinecolor": "white",
           "zerolinewidth": 2
          },
          "yaxis": {
           "automargin": true,
           "gridcolor": "white",
           "linecolor": "white",
           "ticks": "",
           "title": {
            "standoff": 15
           },
           "zerolinecolor": "white",
           "zerolinewidth": 2
          }
         }
        },
        "title": {
         "text": "Jumlah_Pengungsi_Tertinggi per Kota Administrasi"
        },
        "xaxis": {
         "anchor": "y",
         "categoryarray": [
          "Jakarta Barat",
          "Jakarta Pusat",
          "Jakarta Selatan",
          "Jakarta Timur",
          "Jakarta Utara"
         ],
         "categoryorder": "array",
         "domain": [
          0,
          1
         ],
         "title": {
          "text": ""
         }
        },
        "yaxis": {
         "anchor": "x",
         "domain": [
          0,
          1
         ],
         "title": {
          "text": "Jumlah"
         }
        }
       }
      }
     },
     "metadata": {},
     "output_type": "display_data"
    }
   ],
   "source": [
    "create_bar('jumlah_pengungsi_tertinggi')"
   ]
  },
  {
   "attachments": {},
   "cell_type": "markdown",
   "metadata": {},
   "source": [
    "Lama Genangan"
   ]
  },
  {
   "cell_type": "code",
   "execution_count": 53,
   "metadata": {},
   "outputs": [
    {
     "data": {
      "application/vnd.plotly.v1+json": {
       "config": {
        "plotlyServerURL": "https://plot.ly"
       },
       "data": [
        {
         "alignmentgroup": "True",
         "hovertemplate": "kota_administrasi=%{x}<br>value=%{y}<extra></extra>",
         "legendgroup": "Jakarta Barat",
         "marker": {
          "color": "rgb(8,48,107)",
          "pattern": {
           "shape": ""
          }
         },
         "name": "Jakarta Barat",
         "offsetgroup": "Jakarta Barat",
         "orientation": "v",
         "showlegend": true,
         "textposition": "auto",
         "texttemplate": "%{y}",
         "type": "bar",
         "x": [
          "Jakarta Barat"
         ],
         "xaxis": "x",
         "y": [
          0
         ],
         "yaxis": "y"
        },
        {
         "alignmentgroup": "True",
         "hovertemplate": "kota_administrasi=%{x}<br>value=%{y}<extra></extra>",
         "legendgroup": "Jakarta Pusat",
         "marker": {
          "color": "rgb(8,81,156)",
          "pattern": {
           "shape": ""
          }
         },
         "name": "Jakarta Pusat",
         "offsetgroup": "Jakarta Pusat",
         "orientation": "v",
         "showlegend": true,
         "textposition": "auto",
         "texttemplate": "%{y}",
         "type": "bar",
         "x": [
          "Jakarta Pusat"
         ],
         "xaxis": "x",
         "y": [
          0
         ],
         "yaxis": "y"
        },
        {
         "alignmentgroup": "True",
         "hovertemplate": "kota_administrasi=%{x}<br>value=%{y}<extra></extra>",
         "legendgroup": "Jakarta Selatan",
         "marker": {
          "color": "rgb(33,113,181)",
          "pattern": {
           "shape": ""
          }
         },
         "name": "Jakarta Selatan",
         "offsetgroup": "Jakarta Selatan",
         "orientation": "v",
         "showlegend": true,
         "textposition": "auto",
         "texttemplate": "%{y}",
         "type": "bar",
         "x": [
          "Jakarta Selatan"
         ],
         "xaxis": "x",
         "y": [
          0
         ],
         "yaxis": "y"
        },
        {
         "alignmentgroup": "True",
         "hovertemplate": "kota_administrasi=%{x}<br>value=%{y}<extra></extra>",
         "legendgroup": "Jakarta Timur",
         "marker": {
          "color": "rgb(66,146,198)",
          "pattern": {
           "shape": ""
          }
         },
         "name": "Jakarta Timur",
         "offsetgroup": "Jakarta Timur",
         "orientation": "v",
         "showlegend": true,
         "textposition": "auto",
         "texttemplate": "%{y}",
         "type": "bar",
         "x": [
          "Jakarta Timur"
         ],
         "xaxis": "x",
         "y": [
          1
         ],
         "yaxis": "y"
        },
        {
         "alignmentgroup": "True",
         "hovertemplate": "kota_administrasi=%{x}<br>value=%{y}<extra></extra>",
         "legendgroup": "Jakarta Utara",
         "marker": {
          "color": "rgb(107,174,214)",
          "pattern": {
           "shape": ""
          }
         },
         "name": "Jakarta Utara",
         "offsetgroup": "Jakarta Utara",
         "orientation": "v",
         "showlegend": true,
         "textposition": "auto",
         "texttemplate": "%{y}",
         "type": "bar",
         "x": [
          "Jakarta Utara"
         ],
         "xaxis": "x",
         "y": [
          0
         ],
         "yaxis": "y"
        }
       ],
       "layout": {
        "barmode": "relative",
        "legend": {
         "title": {
          "text": "kota_administrasi"
         },
         "tracegroupgap": 0
        },
        "template": {
         "data": {
          "bar": [
           {
            "error_x": {
             "color": "#2a3f5f"
            },
            "error_y": {
             "color": "#2a3f5f"
            },
            "marker": {
             "line": {
              "color": "#E5ECF6",
              "width": 0.5
             },
             "pattern": {
              "fillmode": "overlay",
              "size": 10,
              "solidity": 0.2
             }
            },
            "type": "bar"
           }
          ],
          "barpolar": [
           {
            "marker": {
             "line": {
              "color": "#E5ECF6",
              "width": 0.5
             },
             "pattern": {
              "fillmode": "overlay",
              "size": 10,
              "solidity": 0.2
             }
            },
            "type": "barpolar"
           }
          ],
          "carpet": [
           {
            "aaxis": {
             "endlinecolor": "#2a3f5f",
             "gridcolor": "white",
             "linecolor": "white",
             "minorgridcolor": "white",
             "startlinecolor": "#2a3f5f"
            },
            "baxis": {
             "endlinecolor": "#2a3f5f",
             "gridcolor": "white",
             "linecolor": "white",
             "minorgridcolor": "white",
             "startlinecolor": "#2a3f5f"
            },
            "type": "carpet"
           }
          ],
          "choropleth": [
           {
            "colorbar": {
             "outlinewidth": 0,
             "ticks": ""
            },
            "type": "choropleth"
           }
          ],
          "contour": [
           {
            "colorbar": {
             "outlinewidth": 0,
             "ticks": ""
            },
            "colorscale": [
             [
              0,
              "#0d0887"
             ],
             [
              0.1111111111111111,
              "#46039f"
             ],
             [
              0.2222222222222222,
              "#7201a8"
             ],
             [
              0.3333333333333333,
              "#9c179e"
             ],
             [
              0.4444444444444444,
              "#bd3786"
             ],
             [
              0.5555555555555556,
              "#d8576b"
             ],
             [
              0.6666666666666666,
              "#ed7953"
             ],
             [
              0.7777777777777778,
              "#fb9f3a"
             ],
             [
              0.8888888888888888,
              "#fdca26"
             ],
             [
              1,
              "#f0f921"
             ]
            ],
            "type": "contour"
           }
          ],
          "contourcarpet": [
           {
            "colorbar": {
             "outlinewidth": 0,
             "ticks": ""
            },
            "type": "contourcarpet"
           }
          ],
          "heatmap": [
           {
            "colorbar": {
             "outlinewidth": 0,
             "ticks": ""
            },
            "colorscale": [
             [
              0,
              "#0d0887"
             ],
             [
              0.1111111111111111,
              "#46039f"
             ],
             [
              0.2222222222222222,
              "#7201a8"
             ],
             [
              0.3333333333333333,
              "#9c179e"
             ],
             [
              0.4444444444444444,
              "#bd3786"
             ],
             [
              0.5555555555555556,
              "#d8576b"
             ],
             [
              0.6666666666666666,
              "#ed7953"
             ],
             [
              0.7777777777777778,
              "#fb9f3a"
             ],
             [
              0.8888888888888888,
              "#fdca26"
             ],
             [
              1,
              "#f0f921"
             ]
            ],
            "type": "heatmap"
           }
          ],
          "heatmapgl": [
           {
            "colorbar": {
             "outlinewidth": 0,
             "ticks": ""
            },
            "colorscale": [
             [
              0,
              "#0d0887"
             ],
             [
              0.1111111111111111,
              "#46039f"
             ],
             [
              0.2222222222222222,
              "#7201a8"
             ],
             [
              0.3333333333333333,
              "#9c179e"
             ],
             [
              0.4444444444444444,
              "#bd3786"
             ],
             [
              0.5555555555555556,
              "#d8576b"
             ],
             [
              0.6666666666666666,
              "#ed7953"
             ],
             [
              0.7777777777777778,
              "#fb9f3a"
             ],
             [
              0.8888888888888888,
              "#fdca26"
             ],
             [
              1,
              "#f0f921"
             ]
            ],
            "type": "heatmapgl"
           }
          ],
          "histogram": [
           {
            "marker": {
             "pattern": {
              "fillmode": "overlay",
              "size": 10,
              "solidity": 0.2
             }
            },
            "type": "histogram"
           }
          ],
          "histogram2d": [
           {
            "colorbar": {
             "outlinewidth": 0,
             "ticks": ""
            },
            "colorscale": [
             [
              0,
              "#0d0887"
             ],
             [
              0.1111111111111111,
              "#46039f"
             ],
             [
              0.2222222222222222,
              "#7201a8"
             ],
             [
              0.3333333333333333,
              "#9c179e"
             ],
             [
              0.4444444444444444,
              "#bd3786"
             ],
             [
              0.5555555555555556,
              "#d8576b"
             ],
             [
              0.6666666666666666,
              "#ed7953"
             ],
             [
              0.7777777777777778,
              "#fb9f3a"
             ],
             [
              0.8888888888888888,
              "#fdca26"
             ],
             [
              1,
              "#f0f921"
             ]
            ],
            "type": "histogram2d"
           }
          ],
          "histogram2dcontour": [
           {
            "colorbar": {
             "outlinewidth": 0,
             "ticks": ""
            },
            "colorscale": [
             [
              0,
              "#0d0887"
             ],
             [
              0.1111111111111111,
              "#46039f"
             ],
             [
              0.2222222222222222,
              "#7201a8"
             ],
             [
              0.3333333333333333,
              "#9c179e"
             ],
             [
              0.4444444444444444,
              "#bd3786"
             ],
             [
              0.5555555555555556,
              "#d8576b"
             ],
             [
              0.6666666666666666,
              "#ed7953"
             ],
             [
              0.7777777777777778,
              "#fb9f3a"
             ],
             [
              0.8888888888888888,
              "#fdca26"
             ],
             [
              1,
              "#f0f921"
             ]
            ],
            "type": "histogram2dcontour"
           }
          ],
          "mesh3d": [
           {
            "colorbar": {
             "outlinewidth": 0,
             "ticks": ""
            },
            "type": "mesh3d"
           }
          ],
          "parcoords": [
           {
            "line": {
             "colorbar": {
              "outlinewidth": 0,
              "ticks": ""
             }
            },
            "type": "parcoords"
           }
          ],
          "pie": [
           {
            "automargin": true,
            "type": "pie"
           }
          ],
          "scatter": [
           {
            "fillpattern": {
             "fillmode": "overlay",
             "size": 10,
             "solidity": 0.2
            },
            "type": "scatter"
           }
          ],
          "scatter3d": [
           {
            "line": {
             "colorbar": {
              "outlinewidth": 0,
              "ticks": ""
             }
            },
            "marker": {
             "colorbar": {
              "outlinewidth": 0,
              "ticks": ""
             }
            },
            "type": "scatter3d"
           }
          ],
          "scattercarpet": [
           {
            "marker": {
             "colorbar": {
              "outlinewidth": 0,
              "ticks": ""
             }
            },
            "type": "scattercarpet"
           }
          ],
          "scattergeo": [
           {
            "marker": {
             "colorbar": {
              "outlinewidth": 0,
              "ticks": ""
             }
            },
            "type": "scattergeo"
           }
          ],
          "scattergl": [
           {
            "marker": {
             "colorbar": {
              "outlinewidth": 0,
              "ticks": ""
             }
            },
            "type": "scattergl"
           }
          ],
          "scattermapbox": [
           {
            "marker": {
             "colorbar": {
              "outlinewidth": 0,
              "ticks": ""
             }
            },
            "type": "scattermapbox"
           }
          ],
          "scatterpolar": [
           {
            "marker": {
             "colorbar": {
              "outlinewidth": 0,
              "ticks": ""
             }
            },
            "type": "scatterpolar"
           }
          ],
          "scatterpolargl": [
           {
            "marker": {
             "colorbar": {
              "outlinewidth": 0,
              "ticks": ""
             }
            },
            "type": "scatterpolargl"
           }
          ],
          "scatterternary": [
           {
            "marker": {
             "colorbar": {
              "outlinewidth": 0,
              "ticks": ""
             }
            },
            "type": "scatterternary"
           }
          ],
          "surface": [
           {
            "colorbar": {
             "outlinewidth": 0,
             "ticks": ""
            },
            "colorscale": [
             [
              0,
              "#0d0887"
             ],
             [
              0.1111111111111111,
              "#46039f"
             ],
             [
              0.2222222222222222,
              "#7201a8"
             ],
             [
              0.3333333333333333,
              "#9c179e"
             ],
             [
              0.4444444444444444,
              "#bd3786"
             ],
             [
              0.5555555555555556,
              "#d8576b"
             ],
             [
              0.6666666666666666,
              "#ed7953"
             ],
             [
              0.7777777777777778,
              "#fb9f3a"
             ],
             [
              0.8888888888888888,
              "#fdca26"
             ],
             [
              1,
              "#f0f921"
             ]
            ],
            "type": "surface"
           }
          ],
          "table": [
           {
            "cells": {
             "fill": {
              "color": "#EBF0F8"
             },
             "line": {
              "color": "white"
             }
            },
            "header": {
             "fill": {
              "color": "#C8D4E3"
             },
             "line": {
              "color": "white"
             }
            },
            "type": "table"
           }
          ]
         },
         "layout": {
          "annotationdefaults": {
           "arrowcolor": "#2a3f5f",
           "arrowhead": 0,
           "arrowwidth": 1
          },
          "autotypenumbers": "strict",
          "coloraxis": {
           "colorbar": {
            "outlinewidth": 0,
            "ticks": ""
           }
          },
          "colorscale": {
           "diverging": [
            [
             0,
             "#8e0152"
            ],
            [
             0.1,
             "#c51b7d"
            ],
            [
             0.2,
             "#de77ae"
            ],
            [
             0.3,
             "#f1b6da"
            ],
            [
             0.4,
             "#fde0ef"
            ],
            [
             0.5,
             "#f7f7f7"
            ],
            [
             0.6,
             "#e6f5d0"
            ],
            [
             0.7,
             "#b8e186"
            ],
            [
             0.8,
             "#7fbc41"
            ],
            [
             0.9,
             "#4d9221"
            ],
            [
             1,
             "#276419"
            ]
           ],
           "sequential": [
            [
             0,
             "#0d0887"
            ],
            [
             0.1111111111111111,
             "#46039f"
            ],
            [
             0.2222222222222222,
             "#7201a8"
            ],
            [
             0.3333333333333333,
             "#9c179e"
            ],
            [
             0.4444444444444444,
             "#bd3786"
            ],
            [
             0.5555555555555556,
             "#d8576b"
            ],
            [
             0.6666666666666666,
             "#ed7953"
            ],
            [
             0.7777777777777778,
             "#fb9f3a"
            ],
            [
             0.8888888888888888,
             "#fdca26"
            ],
            [
             1,
             "#f0f921"
            ]
           ],
           "sequentialminus": [
            [
             0,
             "#0d0887"
            ],
            [
             0.1111111111111111,
             "#46039f"
            ],
            [
             0.2222222222222222,
             "#7201a8"
            ],
            [
             0.3333333333333333,
             "#9c179e"
            ],
            [
             0.4444444444444444,
             "#bd3786"
            ],
            [
             0.5555555555555556,
             "#d8576b"
            ],
            [
             0.6666666666666666,
             "#ed7953"
            ],
            [
             0.7777777777777778,
             "#fb9f3a"
            ],
            [
             0.8888888888888888,
             "#fdca26"
            ],
            [
             1,
             "#f0f921"
            ]
           ]
          },
          "colorway": [
           "#636efa",
           "#EF553B",
           "#00cc96",
           "#ab63fa",
           "#FFA15A",
           "#19d3f3",
           "#FF6692",
           "#B6E880",
           "#FF97FF",
           "#FECB52"
          ],
          "font": {
           "color": "#2a3f5f"
          },
          "geo": {
           "bgcolor": "white",
           "lakecolor": "white",
           "landcolor": "#E5ECF6",
           "showlakes": true,
           "showland": true,
           "subunitcolor": "white"
          },
          "hoverlabel": {
           "align": "left"
          },
          "hovermode": "closest",
          "mapbox": {
           "style": "light"
          },
          "paper_bgcolor": "white",
          "plot_bgcolor": "#E5ECF6",
          "polar": {
           "angularaxis": {
            "gridcolor": "white",
            "linecolor": "white",
            "ticks": ""
           },
           "bgcolor": "#E5ECF6",
           "radialaxis": {
            "gridcolor": "white",
            "linecolor": "white",
            "ticks": ""
           }
          },
          "scene": {
           "xaxis": {
            "backgroundcolor": "#E5ECF6",
            "gridcolor": "white",
            "gridwidth": 2,
            "linecolor": "white",
            "showbackground": true,
            "ticks": "",
            "zerolinecolor": "white"
           },
           "yaxis": {
            "backgroundcolor": "#E5ECF6",
            "gridcolor": "white",
            "gridwidth": 2,
            "linecolor": "white",
            "showbackground": true,
            "ticks": "",
            "zerolinecolor": "white"
           },
           "zaxis": {
            "backgroundcolor": "#E5ECF6",
            "gridcolor": "white",
            "gridwidth": 2,
            "linecolor": "white",
            "showbackground": true,
            "ticks": "",
            "zerolinecolor": "white"
           }
          },
          "shapedefaults": {
           "line": {
            "color": "#2a3f5f"
           }
          },
          "ternary": {
           "aaxis": {
            "gridcolor": "white",
            "linecolor": "white",
            "ticks": ""
           },
           "baxis": {
            "gridcolor": "white",
            "linecolor": "white",
            "ticks": ""
           },
           "bgcolor": "#E5ECF6",
           "caxis": {
            "gridcolor": "white",
            "linecolor": "white",
            "ticks": ""
           }
          },
          "title": {
           "x": 0.05
          },
          "xaxis": {
           "automargin": true,
           "gridcolor": "white",
           "linecolor": "white",
           "ticks": "",
           "title": {
            "standoff": 15
           },
           "zerolinecolor": "white",
           "zerolinewidth": 2
          },
          "yaxis": {
           "automargin": true,
           "gridcolor": "white",
           "linecolor": "white",
           "ticks": "",
           "title": {
            "standoff": 15
           },
           "zerolinecolor": "white",
           "zerolinewidth": 2
          }
         }
        },
        "title": {
         "text": "Lama_Genangan per Kota Administrasi"
        },
        "xaxis": {
         "anchor": "y",
         "categoryarray": [
          "Jakarta Barat",
          "Jakarta Pusat",
          "Jakarta Selatan",
          "Jakarta Timur",
          "Jakarta Utara"
         ],
         "categoryorder": "array",
         "domain": [
          0,
          1
         ],
         "title": {
          "text": ""
         }
        },
        "yaxis": {
         "anchor": "x",
         "domain": [
          0,
          1
         ],
         "title": {
          "text": "Jumlah"
         }
        }
       }
      }
     },
     "metadata": {},
     "output_type": "display_data"
    }
   ],
   "source": [
    "create_bar('lama_genangan')"
   ]
  },
  {
   "attachments": {},
   "cell_type": "markdown",
   "metadata": {},
   "source": [
    "Jumlah Orang Hilang"
   ]
  },
  {
   "cell_type": "code",
   "execution_count": 54,
   "metadata": {},
   "outputs": [
    {
     "data": {
      "application/vnd.plotly.v1+json": {
       "config": {
        "plotlyServerURL": "https://plot.ly"
       },
       "data": [
        {
         "alignmentgroup": "True",
         "hovertemplate": "kota_administrasi=%{x}<br>value=%{y}<extra></extra>",
         "legendgroup": "Jakarta Barat",
         "marker": {
          "color": "rgb(8,48,107)",
          "pattern": {
           "shape": ""
          }
         },
         "name": "Jakarta Barat",
         "offsetgroup": "Jakarta Barat",
         "orientation": "v",
         "showlegend": true,
         "textposition": "auto",
         "texttemplate": "%{y}",
         "type": "bar",
         "x": [
          "Jakarta Barat"
         ],
         "xaxis": "x",
         "y": [
          0
         ],
         "yaxis": "y"
        },
        {
         "alignmentgroup": "True",
         "hovertemplate": "kota_administrasi=%{x}<br>value=%{y}<extra></extra>",
         "legendgroup": "Jakarta Pusat",
         "marker": {
          "color": "rgb(8,81,156)",
          "pattern": {
           "shape": ""
          }
         },
         "name": "Jakarta Pusat",
         "offsetgroup": "Jakarta Pusat",
         "orientation": "v",
         "showlegend": true,
         "textposition": "auto",
         "texttemplate": "%{y}",
         "type": "bar",
         "x": [
          "Jakarta Pusat"
         ],
         "xaxis": "x",
         "y": [
          0
         ],
         "yaxis": "y"
        },
        {
         "alignmentgroup": "True",
         "hovertemplate": "kota_administrasi=%{x}<br>value=%{y}<extra></extra>",
         "legendgroup": "Jakarta Selatan",
         "marker": {
          "color": "rgb(33,113,181)",
          "pattern": {
           "shape": ""
          }
         },
         "name": "Jakarta Selatan",
         "offsetgroup": "Jakarta Selatan",
         "orientation": "v",
         "showlegend": true,
         "textposition": "auto",
         "texttemplate": "%{y}",
         "type": "bar",
         "x": [
          "Jakarta Selatan"
         ],
         "xaxis": "x",
         "y": [
          1
         ],
         "yaxis": "y"
        },
        {
         "alignmentgroup": "True",
         "hovertemplate": "kota_administrasi=%{x}<br>value=%{y}<extra></extra>",
         "legendgroup": "Jakarta Timur",
         "marker": {
          "color": "rgb(66,146,198)",
          "pattern": {
           "shape": ""
          }
         },
         "name": "Jakarta Timur",
         "offsetgroup": "Jakarta Timur",
         "orientation": "v",
         "showlegend": true,
         "textposition": "auto",
         "texttemplate": "%{y}",
         "type": "bar",
         "x": [
          "Jakarta Timur"
         ],
         "xaxis": "x",
         "y": [
          0
         ],
         "yaxis": "y"
        },
        {
         "alignmentgroup": "True",
         "hovertemplate": "kota_administrasi=%{x}<br>value=%{y}<extra></extra>",
         "legendgroup": "Jakarta Utara",
         "marker": {
          "color": "rgb(107,174,214)",
          "pattern": {
           "shape": ""
          }
         },
         "name": "Jakarta Utara",
         "offsetgroup": "Jakarta Utara",
         "orientation": "v",
         "showlegend": true,
         "textposition": "auto",
         "texttemplate": "%{y}",
         "type": "bar",
         "x": [
          "Jakarta Utara"
         ],
         "xaxis": "x",
         "y": [
          0
         ],
         "yaxis": "y"
        }
       ],
       "layout": {
        "barmode": "relative",
        "legend": {
         "title": {
          "text": "kota_administrasi"
         },
         "tracegroupgap": 0
        },
        "template": {
         "data": {
          "bar": [
           {
            "error_x": {
             "color": "#2a3f5f"
            },
            "error_y": {
             "color": "#2a3f5f"
            },
            "marker": {
             "line": {
              "color": "#E5ECF6",
              "width": 0.5
             },
             "pattern": {
              "fillmode": "overlay",
              "size": 10,
              "solidity": 0.2
             }
            },
            "type": "bar"
           }
          ],
          "barpolar": [
           {
            "marker": {
             "line": {
              "color": "#E5ECF6",
              "width": 0.5
             },
             "pattern": {
              "fillmode": "overlay",
              "size": 10,
              "solidity": 0.2
             }
            },
            "type": "barpolar"
           }
          ],
          "carpet": [
           {
            "aaxis": {
             "endlinecolor": "#2a3f5f",
             "gridcolor": "white",
             "linecolor": "white",
             "minorgridcolor": "white",
             "startlinecolor": "#2a3f5f"
            },
            "baxis": {
             "endlinecolor": "#2a3f5f",
             "gridcolor": "white",
             "linecolor": "white",
             "minorgridcolor": "white",
             "startlinecolor": "#2a3f5f"
            },
            "type": "carpet"
           }
          ],
          "choropleth": [
           {
            "colorbar": {
             "outlinewidth": 0,
             "ticks": ""
            },
            "type": "choropleth"
           }
          ],
          "contour": [
           {
            "colorbar": {
             "outlinewidth": 0,
             "ticks": ""
            },
            "colorscale": [
             [
              0,
              "#0d0887"
             ],
             [
              0.1111111111111111,
              "#46039f"
             ],
             [
              0.2222222222222222,
              "#7201a8"
             ],
             [
              0.3333333333333333,
              "#9c179e"
             ],
             [
              0.4444444444444444,
              "#bd3786"
             ],
             [
              0.5555555555555556,
              "#d8576b"
             ],
             [
              0.6666666666666666,
              "#ed7953"
             ],
             [
              0.7777777777777778,
              "#fb9f3a"
             ],
             [
              0.8888888888888888,
              "#fdca26"
             ],
             [
              1,
              "#f0f921"
             ]
            ],
            "type": "contour"
           }
          ],
          "contourcarpet": [
           {
            "colorbar": {
             "outlinewidth": 0,
             "ticks": ""
            },
            "type": "contourcarpet"
           }
          ],
          "heatmap": [
           {
            "colorbar": {
             "outlinewidth": 0,
             "ticks": ""
            },
            "colorscale": [
             [
              0,
              "#0d0887"
             ],
             [
              0.1111111111111111,
              "#46039f"
             ],
             [
              0.2222222222222222,
              "#7201a8"
             ],
             [
              0.3333333333333333,
              "#9c179e"
             ],
             [
              0.4444444444444444,
              "#bd3786"
             ],
             [
              0.5555555555555556,
              "#d8576b"
             ],
             [
              0.6666666666666666,
              "#ed7953"
             ],
             [
              0.7777777777777778,
              "#fb9f3a"
             ],
             [
              0.8888888888888888,
              "#fdca26"
             ],
             [
              1,
              "#f0f921"
             ]
            ],
            "type": "heatmap"
           }
          ],
          "heatmapgl": [
           {
            "colorbar": {
             "outlinewidth": 0,
             "ticks": ""
            },
            "colorscale": [
             [
              0,
              "#0d0887"
             ],
             [
              0.1111111111111111,
              "#46039f"
             ],
             [
              0.2222222222222222,
              "#7201a8"
             ],
             [
              0.3333333333333333,
              "#9c179e"
             ],
             [
              0.4444444444444444,
              "#bd3786"
             ],
             [
              0.5555555555555556,
              "#d8576b"
             ],
             [
              0.6666666666666666,
              "#ed7953"
             ],
             [
              0.7777777777777778,
              "#fb9f3a"
             ],
             [
              0.8888888888888888,
              "#fdca26"
             ],
             [
              1,
              "#f0f921"
             ]
            ],
            "type": "heatmapgl"
           }
          ],
          "histogram": [
           {
            "marker": {
             "pattern": {
              "fillmode": "overlay",
              "size": 10,
              "solidity": 0.2
             }
            },
            "type": "histogram"
           }
          ],
          "histogram2d": [
           {
            "colorbar": {
             "outlinewidth": 0,
             "ticks": ""
            },
            "colorscale": [
             [
              0,
              "#0d0887"
             ],
             [
              0.1111111111111111,
              "#46039f"
             ],
             [
              0.2222222222222222,
              "#7201a8"
             ],
             [
              0.3333333333333333,
              "#9c179e"
             ],
             [
              0.4444444444444444,
              "#bd3786"
             ],
             [
              0.5555555555555556,
              "#d8576b"
             ],
             [
              0.6666666666666666,
              "#ed7953"
             ],
             [
              0.7777777777777778,
              "#fb9f3a"
             ],
             [
              0.8888888888888888,
              "#fdca26"
             ],
             [
              1,
              "#f0f921"
             ]
            ],
            "type": "histogram2d"
           }
          ],
          "histogram2dcontour": [
           {
            "colorbar": {
             "outlinewidth": 0,
             "ticks": ""
            },
            "colorscale": [
             [
              0,
              "#0d0887"
             ],
             [
              0.1111111111111111,
              "#46039f"
             ],
             [
              0.2222222222222222,
              "#7201a8"
             ],
             [
              0.3333333333333333,
              "#9c179e"
             ],
             [
              0.4444444444444444,
              "#bd3786"
             ],
             [
              0.5555555555555556,
              "#d8576b"
             ],
             [
              0.6666666666666666,
              "#ed7953"
             ],
             [
              0.7777777777777778,
              "#fb9f3a"
             ],
             [
              0.8888888888888888,
              "#fdca26"
             ],
             [
              1,
              "#f0f921"
             ]
            ],
            "type": "histogram2dcontour"
           }
          ],
          "mesh3d": [
           {
            "colorbar": {
             "outlinewidth": 0,
             "ticks": ""
            },
            "type": "mesh3d"
           }
          ],
          "parcoords": [
           {
            "line": {
             "colorbar": {
              "outlinewidth": 0,
              "ticks": ""
             }
            },
            "type": "parcoords"
           }
          ],
          "pie": [
           {
            "automargin": true,
            "type": "pie"
           }
          ],
          "scatter": [
           {
            "fillpattern": {
             "fillmode": "overlay",
             "size": 10,
             "solidity": 0.2
            },
            "type": "scatter"
           }
          ],
          "scatter3d": [
           {
            "line": {
             "colorbar": {
              "outlinewidth": 0,
              "ticks": ""
             }
            },
            "marker": {
             "colorbar": {
              "outlinewidth": 0,
              "ticks": ""
             }
            },
            "type": "scatter3d"
           }
          ],
          "scattercarpet": [
           {
            "marker": {
             "colorbar": {
              "outlinewidth": 0,
              "ticks": ""
             }
            },
            "type": "scattercarpet"
           }
          ],
          "scattergeo": [
           {
            "marker": {
             "colorbar": {
              "outlinewidth": 0,
              "ticks": ""
             }
            },
            "type": "scattergeo"
           }
          ],
          "scattergl": [
           {
            "marker": {
             "colorbar": {
              "outlinewidth": 0,
              "ticks": ""
             }
            },
            "type": "scattergl"
           }
          ],
          "scattermapbox": [
           {
            "marker": {
             "colorbar": {
              "outlinewidth": 0,
              "ticks": ""
             }
            },
            "type": "scattermapbox"
           }
          ],
          "scatterpolar": [
           {
            "marker": {
             "colorbar": {
              "outlinewidth": 0,
              "ticks": ""
             }
            },
            "type": "scatterpolar"
           }
          ],
          "scatterpolargl": [
           {
            "marker": {
             "colorbar": {
              "outlinewidth": 0,
              "ticks": ""
             }
            },
            "type": "scatterpolargl"
           }
          ],
          "scatterternary": [
           {
            "marker": {
             "colorbar": {
              "outlinewidth": 0,
              "ticks": ""
             }
            },
            "type": "scatterternary"
           }
          ],
          "surface": [
           {
            "colorbar": {
             "outlinewidth": 0,
             "ticks": ""
            },
            "colorscale": [
             [
              0,
              "#0d0887"
             ],
             [
              0.1111111111111111,
              "#46039f"
             ],
             [
              0.2222222222222222,
              "#7201a8"
             ],
             [
              0.3333333333333333,
              "#9c179e"
             ],
             [
              0.4444444444444444,
              "#bd3786"
             ],
             [
              0.5555555555555556,
              "#d8576b"
             ],
             [
              0.6666666666666666,
              "#ed7953"
             ],
             [
              0.7777777777777778,
              "#fb9f3a"
             ],
             [
              0.8888888888888888,
              "#fdca26"
             ],
             [
              1,
              "#f0f921"
             ]
            ],
            "type": "surface"
           }
          ],
          "table": [
           {
            "cells": {
             "fill": {
              "color": "#EBF0F8"
             },
             "line": {
              "color": "white"
             }
            },
            "header": {
             "fill": {
              "color": "#C8D4E3"
             },
             "line": {
              "color": "white"
             }
            },
            "type": "table"
           }
          ]
         },
         "layout": {
          "annotationdefaults": {
           "arrowcolor": "#2a3f5f",
           "arrowhead": 0,
           "arrowwidth": 1
          },
          "autotypenumbers": "strict",
          "coloraxis": {
           "colorbar": {
            "outlinewidth": 0,
            "ticks": ""
           }
          },
          "colorscale": {
           "diverging": [
            [
             0,
             "#8e0152"
            ],
            [
             0.1,
             "#c51b7d"
            ],
            [
             0.2,
             "#de77ae"
            ],
            [
             0.3,
             "#f1b6da"
            ],
            [
             0.4,
             "#fde0ef"
            ],
            [
             0.5,
             "#f7f7f7"
            ],
            [
             0.6,
             "#e6f5d0"
            ],
            [
             0.7,
             "#b8e186"
            ],
            [
             0.8,
             "#7fbc41"
            ],
            [
             0.9,
             "#4d9221"
            ],
            [
             1,
             "#276419"
            ]
           ],
           "sequential": [
            [
             0,
             "#0d0887"
            ],
            [
             0.1111111111111111,
             "#46039f"
            ],
            [
             0.2222222222222222,
             "#7201a8"
            ],
            [
             0.3333333333333333,
             "#9c179e"
            ],
            [
             0.4444444444444444,
             "#bd3786"
            ],
            [
             0.5555555555555556,
             "#d8576b"
            ],
            [
             0.6666666666666666,
             "#ed7953"
            ],
            [
             0.7777777777777778,
             "#fb9f3a"
            ],
            [
             0.8888888888888888,
             "#fdca26"
            ],
            [
             1,
             "#f0f921"
            ]
           ],
           "sequentialminus": [
            [
             0,
             "#0d0887"
            ],
            [
             0.1111111111111111,
             "#46039f"
            ],
            [
             0.2222222222222222,
             "#7201a8"
            ],
            [
             0.3333333333333333,
             "#9c179e"
            ],
            [
             0.4444444444444444,
             "#bd3786"
            ],
            [
             0.5555555555555556,
             "#d8576b"
            ],
            [
             0.6666666666666666,
             "#ed7953"
            ],
            [
             0.7777777777777778,
             "#fb9f3a"
            ],
            [
             0.8888888888888888,
             "#fdca26"
            ],
            [
             1,
             "#f0f921"
            ]
           ]
          },
          "colorway": [
           "#636efa",
           "#EF553B",
           "#00cc96",
           "#ab63fa",
           "#FFA15A",
           "#19d3f3",
           "#FF6692",
           "#B6E880",
           "#FF97FF",
           "#FECB52"
          ],
          "font": {
           "color": "#2a3f5f"
          },
          "geo": {
           "bgcolor": "white",
           "lakecolor": "white",
           "landcolor": "#E5ECF6",
           "showlakes": true,
           "showland": true,
           "subunitcolor": "white"
          },
          "hoverlabel": {
           "align": "left"
          },
          "hovermode": "closest",
          "mapbox": {
           "style": "light"
          },
          "paper_bgcolor": "white",
          "plot_bgcolor": "#E5ECF6",
          "polar": {
           "angularaxis": {
            "gridcolor": "white",
            "linecolor": "white",
            "ticks": ""
           },
           "bgcolor": "#E5ECF6",
           "radialaxis": {
            "gridcolor": "white",
            "linecolor": "white",
            "ticks": ""
           }
          },
          "scene": {
           "xaxis": {
            "backgroundcolor": "#E5ECF6",
            "gridcolor": "white",
            "gridwidth": 2,
            "linecolor": "white",
            "showbackground": true,
            "ticks": "",
            "zerolinecolor": "white"
           },
           "yaxis": {
            "backgroundcolor": "#E5ECF6",
            "gridcolor": "white",
            "gridwidth": 2,
            "linecolor": "white",
            "showbackground": true,
            "ticks": "",
            "zerolinecolor": "white"
           },
           "zaxis": {
            "backgroundcolor": "#E5ECF6",
            "gridcolor": "white",
            "gridwidth": 2,
            "linecolor": "white",
            "showbackground": true,
            "ticks": "",
            "zerolinecolor": "white"
           }
          },
          "shapedefaults": {
           "line": {
            "color": "#2a3f5f"
           }
          },
          "ternary": {
           "aaxis": {
            "gridcolor": "white",
            "linecolor": "white",
            "ticks": ""
           },
           "baxis": {
            "gridcolor": "white",
            "linecolor": "white",
            "ticks": ""
           },
           "bgcolor": "#E5ECF6",
           "caxis": {
            "gridcolor": "white",
            "linecolor": "white",
            "ticks": ""
           }
          },
          "title": {
           "x": 0.05
          },
          "xaxis": {
           "automargin": true,
           "gridcolor": "white",
           "linecolor": "white",
           "ticks": "",
           "title": {
            "standoff": 15
           },
           "zerolinecolor": "white",
           "zerolinewidth": 2
          },
          "yaxis": {
           "automargin": true,
           "gridcolor": "white",
           "linecolor": "white",
           "ticks": "",
           "title": {
            "standoff": 15
           },
           "zerolinecolor": "white",
           "zerolinewidth": 2
          }
         }
        },
        "title": {
         "text": "Jumlah_Hilang per Kota Administrasi"
        },
        "xaxis": {
         "anchor": "y",
         "categoryarray": [
          "Jakarta Barat",
          "Jakarta Pusat",
          "Jakarta Selatan",
          "Jakarta Timur",
          "Jakarta Utara"
         ],
         "categoryorder": "array",
         "domain": [
          0,
          1
         ],
         "title": {
          "text": ""
         }
        },
        "yaxis": {
         "anchor": "x",
         "domain": [
          0,
          1
         ],
         "title": {
          "text": "Jumlah"
         }
        }
       }
      }
     },
     "metadata": {},
     "output_type": "display_data"
    }
   ],
   "source": [
    "create_bar('jumlah_hilang')"
   ]
  },
  {
   "attachments": {},
   "cell_type": "markdown",
   "metadata": {},
   "source": [
    "Maksimal Ketinggian Air"
   ]
  },
  {
   "cell_type": "code",
   "execution_count": 55,
   "metadata": {},
   "outputs": [
    {
     "data": {
      "application/vnd.plotly.v1+json": {
       "config": {
        "plotlyServerURL": "https://plot.ly"
       },
       "data": [
        {
         "alignmentgroup": "True",
         "hovertemplate": "kota_administrasi=%{x}<br>value=%{y}<extra></extra>",
         "legendgroup": "Jakarta Barat",
         "marker": {
          "color": "rgb(8,48,107)",
          "pattern": {
           "shape": ""
          }
         },
         "name": "Jakarta Barat",
         "offsetgroup": "Jakarta Barat",
         "orientation": "v",
         "showlegend": true,
         "textposition": "auto",
         "texttemplate": "%{y}",
         "type": "bar",
         "x": [
          "Jakarta Barat"
         ],
         "xaxis": "x",
         "y": [
          80
         ],
         "yaxis": "y"
        },
        {
         "alignmentgroup": "True",
         "hovertemplate": "kota_administrasi=%{x}<br>value=%{y}<extra></extra>",
         "legendgroup": "Jakarta Pusat",
         "marker": {
          "color": "rgb(8,81,156)",
          "pattern": {
           "shape": ""
          }
         },
         "name": "Jakarta Pusat",
         "offsetgroup": "Jakarta Pusat",
         "orientation": "v",
         "showlegend": true,
         "textposition": "auto",
         "texttemplate": "%{y}",
         "type": "bar",
         "x": [
          "Jakarta Pusat"
         ],
         "xaxis": "x",
         "y": [
          50
         ],
         "yaxis": "y"
        },
        {
         "alignmentgroup": "True",
         "hovertemplate": "kota_administrasi=%{x}<br>value=%{y}<extra></extra>",
         "legendgroup": "Jakarta Selatan",
         "marker": {
          "color": "rgb(33,113,181)",
          "pattern": {
           "shape": ""
          }
         },
         "name": "Jakarta Selatan",
         "offsetgroup": "Jakarta Selatan",
         "orientation": "v",
         "showlegend": true,
         "textposition": "auto",
         "texttemplate": "%{y}",
         "type": "bar",
         "x": [
          "Jakarta Selatan"
         ],
         "xaxis": "x",
         "y": [
          300
         ],
         "yaxis": "y"
        },
        {
         "alignmentgroup": "True",
         "hovertemplate": "kota_administrasi=%{x}<br>value=%{y}<extra></extra>",
         "legendgroup": "Jakarta Timur",
         "marker": {
          "color": "rgb(66,146,198)",
          "pattern": {
           "shape": ""
          }
         },
         "name": "Jakarta Timur",
         "offsetgroup": "Jakarta Timur",
         "orientation": "v",
         "showlegend": true,
         "textposition": "auto",
         "texttemplate": "%{y}",
         "type": "bar",
         "x": [
          "Jakarta Timur"
         ],
         "xaxis": "x",
         "y": [
          300
         ],
         "yaxis": "y"
        },
        {
         "alignmentgroup": "True",
         "hovertemplate": "kota_administrasi=%{x}<br>value=%{y}<extra></extra>",
         "legendgroup": "Jakarta Utara",
         "marker": {
          "color": "rgb(107,174,214)",
          "pattern": {
           "shape": ""
          }
         },
         "name": "Jakarta Utara",
         "offsetgroup": "Jakarta Utara",
         "orientation": "v",
         "showlegend": true,
         "textposition": "auto",
         "texttemplate": "%{y}",
         "type": "bar",
         "x": [
          "Jakarta Utara"
         ],
         "xaxis": "x",
         "y": [
          70
         ],
         "yaxis": "y"
        }
       ],
       "layout": {
        "barmode": "relative",
        "legend": {
         "title": {
          "text": "kota_administrasi"
         },
         "tracegroupgap": 0
        },
        "template": {
         "data": {
          "bar": [
           {
            "error_x": {
             "color": "#2a3f5f"
            },
            "error_y": {
             "color": "#2a3f5f"
            },
            "marker": {
             "line": {
              "color": "#E5ECF6",
              "width": 0.5
             },
             "pattern": {
              "fillmode": "overlay",
              "size": 10,
              "solidity": 0.2
             }
            },
            "type": "bar"
           }
          ],
          "barpolar": [
           {
            "marker": {
             "line": {
              "color": "#E5ECF6",
              "width": 0.5
             },
             "pattern": {
              "fillmode": "overlay",
              "size": 10,
              "solidity": 0.2
             }
            },
            "type": "barpolar"
           }
          ],
          "carpet": [
           {
            "aaxis": {
             "endlinecolor": "#2a3f5f",
             "gridcolor": "white",
             "linecolor": "white",
             "minorgridcolor": "white",
             "startlinecolor": "#2a3f5f"
            },
            "baxis": {
             "endlinecolor": "#2a3f5f",
             "gridcolor": "white",
             "linecolor": "white",
             "minorgridcolor": "white",
             "startlinecolor": "#2a3f5f"
            },
            "type": "carpet"
           }
          ],
          "choropleth": [
           {
            "colorbar": {
             "outlinewidth": 0,
             "ticks": ""
            },
            "type": "choropleth"
           }
          ],
          "contour": [
           {
            "colorbar": {
             "outlinewidth": 0,
             "ticks": ""
            },
            "colorscale": [
             [
              0,
              "#0d0887"
             ],
             [
              0.1111111111111111,
              "#46039f"
             ],
             [
              0.2222222222222222,
              "#7201a8"
             ],
             [
              0.3333333333333333,
              "#9c179e"
             ],
             [
              0.4444444444444444,
              "#bd3786"
             ],
             [
              0.5555555555555556,
              "#d8576b"
             ],
             [
              0.6666666666666666,
              "#ed7953"
             ],
             [
              0.7777777777777778,
              "#fb9f3a"
             ],
             [
              0.8888888888888888,
              "#fdca26"
             ],
             [
              1,
              "#f0f921"
             ]
            ],
            "type": "contour"
           }
          ],
          "contourcarpet": [
           {
            "colorbar": {
             "outlinewidth": 0,
             "ticks": ""
            },
            "type": "contourcarpet"
           }
          ],
          "heatmap": [
           {
            "colorbar": {
             "outlinewidth": 0,
             "ticks": ""
            },
            "colorscale": [
             [
              0,
              "#0d0887"
             ],
             [
              0.1111111111111111,
              "#46039f"
             ],
             [
              0.2222222222222222,
              "#7201a8"
             ],
             [
              0.3333333333333333,
              "#9c179e"
             ],
             [
              0.4444444444444444,
              "#bd3786"
             ],
             [
              0.5555555555555556,
              "#d8576b"
             ],
             [
              0.6666666666666666,
              "#ed7953"
             ],
             [
              0.7777777777777778,
              "#fb9f3a"
             ],
             [
              0.8888888888888888,
              "#fdca26"
             ],
             [
              1,
              "#f0f921"
             ]
            ],
            "type": "heatmap"
           }
          ],
          "heatmapgl": [
           {
            "colorbar": {
             "outlinewidth": 0,
             "ticks": ""
            },
            "colorscale": [
             [
              0,
              "#0d0887"
             ],
             [
              0.1111111111111111,
              "#46039f"
             ],
             [
              0.2222222222222222,
              "#7201a8"
             ],
             [
              0.3333333333333333,
              "#9c179e"
             ],
             [
              0.4444444444444444,
              "#bd3786"
             ],
             [
              0.5555555555555556,
              "#d8576b"
             ],
             [
              0.6666666666666666,
              "#ed7953"
             ],
             [
              0.7777777777777778,
              "#fb9f3a"
             ],
             [
              0.8888888888888888,
              "#fdca26"
             ],
             [
              1,
              "#f0f921"
             ]
            ],
            "type": "heatmapgl"
           }
          ],
          "histogram": [
           {
            "marker": {
             "pattern": {
              "fillmode": "overlay",
              "size": 10,
              "solidity": 0.2
             }
            },
            "type": "histogram"
           }
          ],
          "histogram2d": [
           {
            "colorbar": {
             "outlinewidth": 0,
             "ticks": ""
            },
            "colorscale": [
             [
              0,
              "#0d0887"
             ],
             [
              0.1111111111111111,
              "#46039f"
             ],
             [
              0.2222222222222222,
              "#7201a8"
             ],
             [
              0.3333333333333333,
              "#9c179e"
             ],
             [
              0.4444444444444444,
              "#bd3786"
             ],
             [
              0.5555555555555556,
              "#d8576b"
             ],
             [
              0.6666666666666666,
              "#ed7953"
             ],
             [
              0.7777777777777778,
              "#fb9f3a"
             ],
             [
              0.8888888888888888,
              "#fdca26"
             ],
             [
              1,
              "#f0f921"
             ]
            ],
            "type": "histogram2d"
           }
          ],
          "histogram2dcontour": [
           {
            "colorbar": {
             "outlinewidth": 0,
             "ticks": ""
            },
            "colorscale": [
             [
              0,
              "#0d0887"
             ],
             [
              0.1111111111111111,
              "#46039f"
             ],
             [
              0.2222222222222222,
              "#7201a8"
             ],
             [
              0.3333333333333333,
              "#9c179e"
             ],
             [
              0.4444444444444444,
              "#bd3786"
             ],
             [
              0.5555555555555556,
              "#d8576b"
             ],
             [
              0.6666666666666666,
              "#ed7953"
             ],
             [
              0.7777777777777778,
              "#fb9f3a"
             ],
             [
              0.8888888888888888,
              "#fdca26"
             ],
             [
              1,
              "#f0f921"
             ]
            ],
            "type": "histogram2dcontour"
           }
          ],
          "mesh3d": [
           {
            "colorbar": {
             "outlinewidth": 0,
             "ticks": ""
            },
            "type": "mesh3d"
           }
          ],
          "parcoords": [
           {
            "line": {
             "colorbar": {
              "outlinewidth": 0,
              "ticks": ""
             }
            },
            "type": "parcoords"
           }
          ],
          "pie": [
           {
            "automargin": true,
            "type": "pie"
           }
          ],
          "scatter": [
           {
            "fillpattern": {
             "fillmode": "overlay",
             "size": 10,
             "solidity": 0.2
            },
            "type": "scatter"
           }
          ],
          "scatter3d": [
           {
            "line": {
             "colorbar": {
              "outlinewidth": 0,
              "ticks": ""
             }
            },
            "marker": {
             "colorbar": {
              "outlinewidth": 0,
              "ticks": ""
             }
            },
            "type": "scatter3d"
           }
          ],
          "scattercarpet": [
           {
            "marker": {
             "colorbar": {
              "outlinewidth": 0,
              "ticks": ""
             }
            },
            "type": "scattercarpet"
           }
          ],
          "scattergeo": [
           {
            "marker": {
             "colorbar": {
              "outlinewidth": 0,
              "ticks": ""
             }
            },
            "type": "scattergeo"
           }
          ],
          "scattergl": [
           {
            "marker": {
             "colorbar": {
              "outlinewidth": 0,
              "ticks": ""
             }
            },
            "type": "scattergl"
           }
          ],
          "scattermapbox": [
           {
            "marker": {
             "colorbar": {
              "outlinewidth": 0,
              "ticks": ""
             }
            },
            "type": "scattermapbox"
           }
          ],
          "scatterpolar": [
           {
            "marker": {
             "colorbar": {
              "outlinewidth": 0,
              "ticks": ""
             }
            },
            "type": "scatterpolar"
           }
          ],
          "scatterpolargl": [
           {
            "marker": {
             "colorbar": {
              "outlinewidth": 0,
              "ticks": ""
             }
            },
            "type": "scatterpolargl"
           }
          ],
          "scatterternary": [
           {
            "marker": {
             "colorbar": {
              "outlinewidth": 0,
              "ticks": ""
             }
            },
            "type": "scatterternary"
           }
          ],
          "surface": [
           {
            "colorbar": {
             "outlinewidth": 0,
             "ticks": ""
            },
            "colorscale": [
             [
              0,
              "#0d0887"
             ],
             [
              0.1111111111111111,
              "#46039f"
             ],
             [
              0.2222222222222222,
              "#7201a8"
             ],
             [
              0.3333333333333333,
              "#9c179e"
             ],
             [
              0.4444444444444444,
              "#bd3786"
             ],
             [
              0.5555555555555556,
              "#d8576b"
             ],
             [
              0.6666666666666666,
              "#ed7953"
             ],
             [
              0.7777777777777778,
              "#fb9f3a"
             ],
             [
              0.8888888888888888,
              "#fdca26"
             ],
             [
              1,
              "#f0f921"
             ]
            ],
            "type": "surface"
           }
          ],
          "table": [
           {
            "cells": {
             "fill": {
              "color": "#EBF0F8"
             },
             "line": {
              "color": "white"
             }
            },
            "header": {
             "fill": {
              "color": "#C8D4E3"
             },
             "line": {
              "color": "white"
             }
            },
            "type": "table"
           }
          ]
         },
         "layout": {
          "annotationdefaults": {
           "arrowcolor": "#2a3f5f",
           "arrowhead": 0,
           "arrowwidth": 1
          },
          "autotypenumbers": "strict",
          "coloraxis": {
           "colorbar": {
            "outlinewidth": 0,
            "ticks": ""
           }
          },
          "colorscale": {
           "diverging": [
            [
             0,
             "#8e0152"
            ],
            [
             0.1,
             "#c51b7d"
            ],
            [
             0.2,
             "#de77ae"
            ],
            [
             0.3,
             "#f1b6da"
            ],
            [
             0.4,
             "#fde0ef"
            ],
            [
             0.5,
             "#f7f7f7"
            ],
            [
             0.6,
             "#e6f5d0"
            ],
            [
             0.7,
             "#b8e186"
            ],
            [
             0.8,
             "#7fbc41"
            ],
            [
             0.9,
             "#4d9221"
            ],
            [
             1,
             "#276419"
            ]
           ],
           "sequential": [
            [
             0,
             "#0d0887"
            ],
            [
             0.1111111111111111,
             "#46039f"
            ],
            [
             0.2222222222222222,
             "#7201a8"
            ],
            [
             0.3333333333333333,
             "#9c179e"
            ],
            [
             0.4444444444444444,
             "#bd3786"
            ],
            [
             0.5555555555555556,
             "#d8576b"
            ],
            [
             0.6666666666666666,
             "#ed7953"
            ],
            [
             0.7777777777777778,
             "#fb9f3a"
            ],
            [
             0.8888888888888888,
             "#fdca26"
            ],
            [
             1,
             "#f0f921"
            ]
           ],
           "sequentialminus": [
            [
             0,
             "#0d0887"
            ],
            [
             0.1111111111111111,
             "#46039f"
            ],
            [
             0.2222222222222222,
             "#7201a8"
            ],
            [
             0.3333333333333333,
             "#9c179e"
            ],
            [
             0.4444444444444444,
             "#bd3786"
            ],
            [
             0.5555555555555556,
             "#d8576b"
            ],
            [
             0.6666666666666666,
             "#ed7953"
            ],
            [
             0.7777777777777778,
             "#fb9f3a"
            ],
            [
             0.8888888888888888,
             "#fdca26"
            ],
            [
             1,
             "#f0f921"
            ]
           ]
          },
          "colorway": [
           "#636efa",
           "#EF553B",
           "#00cc96",
           "#ab63fa",
           "#FFA15A",
           "#19d3f3",
           "#FF6692",
           "#B6E880",
           "#FF97FF",
           "#FECB52"
          ],
          "font": {
           "color": "#2a3f5f"
          },
          "geo": {
           "bgcolor": "white",
           "lakecolor": "white",
           "landcolor": "#E5ECF6",
           "showlakes": true,
           "showland": true,
           "subunitcolor": "white"
          },
          "hoverlabel": {
           "align": "left"
          },
          "hovermode": "closest",
          "mapbox": {
           "style": "light"
          },
          "paper_bgcolor": "white",
          "plot_bgcolor": "#E5ECF6",
          "polar": {
           "angularaxis": {
            "gridcolor": "white",
            "linecolor": "white",
            "ticks": ""
           },
           "bgcolor": "#E5ECF6",
           "radialaxis": {
            "gridcolor": "white",
            "linecolor": "white",
            "ticks": ""
           }
          },
          "scene": {
           "xaxis": {
            "backgroundcolor": "#E5ECF6",
            "gridcolor": "white",
            "gridwidth": 2,
            "linecolor": "white",
            "showbackground": true,
            "ticks": "",
            "zerolinecolor": "white"
           },
           "yaxis": {
            "backgroundcolor": "#E5ECF6",
            "gridcolor": "white",
            "gridwidth": 2,
            "linecolor": "white",
            "showbackground": true,
            "ticks": "",
            "zerolinecolor": "white"
           },
           "zaxis": {
            "backgroundcolor": "#E5ECF6",
            "gridcolor": "white",
            "gridwidth": 2,
            "linecolor": "white",
            "showbackground": true,
            "ticks": "",
            "zerolinecolor": "white"
           }
          },
          "shapedefaults": {
           "line": {
            "color": "#2a3f5f"
           }
          },
          "ternary": {
           "aaxis": {
            "gridcolor": "white",
            "linecolor": "white",
            "ticks": ""
           },
           "baxis": {
            "gridcolor": "white",
            "linecolor": "white",
            "ticks": ""
           },
           "bgcolor": "#E5ECF6",
           "caxis": {
            "gridcolor": "white",
            "linecolor": "white",
            "ticks": ""
           }
          },
          "title": {
           "x": 0.05
          },
          "xaxis": {
           "automargin": true,
           "gridcolor": "white",
           "linecolor": "white",
           "ticks": "",
           "title": {
            "standoff": 15
           },
           "zerolinecolor": "white",
           "zerolinewidth": 2
          },
          "yaxis": {
           "automargin": true,
           "gridcolor": "white",
           "linecolor": "white",
           "ticks": "",
           "title": {
            "standoff": 15
           },
           "zerolinecolor": "white",
           "zerolinewidth": 2
          }
         }
        },
        "title": {
         "text": "Maksimal Ketinggian Air per Kota Administrasi"
        },
        "xaxis": {
         "anchor": "y",
         "categoryarray": [
          "Jakarta Barat",
          "Jakarta Pusat",
          "Jakarta Selatan",
          "Jakarta Timur",
          "Jakarta Utara"
         ],
         "categoryorder": "array",
         "domain": [
          0,
          1
         ],
         "title": {
          "text": ""
         }
        },
        "yaxis": {
         "anchor": "x",
         "domain": [
          0,
          1
         ],
         "title": {
          "text": "Nilai Maksimal"
         }
        }
       }
      }
     },
     "metadata": {},
     "output_type": "display_data"
    }
   ],
   "source": [
    "df_bar = df.groupby('kota_administrasi', as_index=False)[['ketinggian_air_max']].max()\n",
    "fig_bar = px.bar(df_bar, x='kota_administrasi', y=['ketinggian_air_max'],\n",
    "                        color_discrete_sequence = px.colors.sequential.Blues_r, color='kota_administrasi',\n",
    "                        title = f'Maksimal Ketinggian Air per Kota Administrasi', text_auto=True)\n",
    "fig_bar.update_xaxes(title = '')\n",
    "fig_bar.update_yaxes(title = 'Nilai Maksimal')\n",
    "fig_bar.show()"
   ]
  },
  {
   "attachments": {},
   "cell_type": "markdown",
   "metadata": {},
   "source": [
    "Minimal Ketinggian Air"
   ]
  },
  {
   "cell_type": "code",
   "execution_count": 56,
   "metadata": {},
   "outputs": [
    {
     "data": {
      "application/vnd.plotly.v1+json": {
       "config": {
        "plotlyServerURL": "https://plot.ly"
       },
       "data": [
        {
         "alignmentgroup": "True",
         "hovertemplate": "kota_administrasi=%{x}<br>value=%{y}<extra></extra>",
         "legendgroup": "Jakarta Barat",
         "marker": {
          "color": "rgb(8,48,107)",
          "pattern": {
           "shape": ""
          }
         },
         "name": "Jakarta Barat",
         "offsetgroup": "Jakarta Barat",
         "orientation": "v",
         "showlegend": true,
         "textposition": "auto",
         "texttemplate": "%{y}",
         "type": "bar",
         "x": [
          "Jakarta Barat"
         ],
         "xaxis": "x",
         "y": [
          5
         ],
         "yaxis": "y"
        },
        {
         "alignmentgroup": "True",
         "hovertemplate": "kota_administrasi=%{x}<br>value=%{y}<extra></extra>",
         "legendgroup": "Jakarta Pusat",
         "marker": {
          "color": "rgb(8,81,156)",
          "pattern": {
           "shape": ""
          }
         },
         "name": "Jakarta Pusat",
         "offsetgroup": "Jakarta Pusat",
         "orientation": "v",
         "showlegend": true,
         "textposition": "auto",
         "texttemplate": "%{y}",
         "type": "bar",
         "x": [
          "Jakarta Pusat"
         ],
         "xaxis": "x",
         "y": [
          10
         ],
         "yaxis": "y"
        },
        {
         "alignmentgroup": "True",
         "hovertemplate": "kota_administrasi=%{x}<br>value=%{y}<extra></extra>",
         "legendgroup": "Jakarta Selatan",
         "marker": {
          "color": "rgb(33,113,181)",
          "pattern": {
           "shape": ""
          }
         },
         "name": "Jakarta Selatan",
         "offsetgroup": "Jakarta Selatan",
         "orientation": "v",
         "showlegend": true,
         "textposition": "auto",
         "texttemplate": "%{y}",
         "type": "bar",
         "x": [
          "Jakarta Selatan"
         ],
         "xaxis": "x",
         "y": [
          10
         ],
         "yaxis": "y"
        },
        {
         "alignmentgroup": "True",
         "hovertemplate": "kota_administrasi=%{x}<br>value=%{y}<extra></extra>",
         "legendgroup": "Jakarta Timur",
         "marker": {
          "color": "rgb(66,146,198)",
          "pattern": {
           "shape": ""
          }
         },
         "name": "Jakarta Timur",
         "offsetgroup": "Jakarta Timur",
         "orientation": "v",
         "showlegend": true,
         "textposition": "auto",
         "texttemplate": "%{y}",
         "type": "bar",
         "x": [
          "Jakarta Timur"
         ],
         "xaxis": "x",
         "y": [
          5
         ],
         "yaxis": "y"
        },
        {
         "alignmentgroup": "True",
         "hovertemplate": "kota_administrasi=%{x}<br>value=%{y}<extra></extra>",
         "legendgroup": "Jakarta Utara",
         "marker": {
          "color": "rgb(107,174,214)",
          "pattern": {
           "shape": ""
          }
         },
         "name": "Jakarta Utara",
         "offsetgroup": "Jakarta Utara",
         "orientation": "v",
         "showlegend": true,
         "textposition": "auto",
         "texttemplate": "%{y}",
         "type": "bar",
         "x": [
          "Jakarta Utara"
         ],
         "xaxis": "x",
         "y": [
          2
         ],
         "yaxis": "y"
        }
       ],
       "layout": {
        "barmode": "relative",
        "legend": {
         "title": {
          "text": "kota_administrasi"
         },
         "tracegroupgap": 0
        },
        "template": {
         "data": {
          "bar": [
           {
            "error_x": {
             "color": "#2a3f5f"
            },
            "error_y": {
             "color": "#2a3f5f"
            },
            "marker": {
             "line": {
              "color": "#E5ECF6",
              "width": 0.5
             },
             "pattern": {
              "fillmode": "overlay",
              "size": 10,
              "solidity": 0.2
             }
            },
            "type": "bar"
           }
          ],
          "barpolar": [
           {
            "marker": {
             "line": {
              "color": "#E5ECF6",
              "width": 0.5
             },
             "pattern": {
              "fillmode": "overlay",
              "size": 10,
              "solidity": 0.2
             }
            },
            "type": "barpolar"
           }
          ],
          "carpet": [
           {
            "aaxis": {
             "endlinecolor": "#2a3f5f",
             "gridcolor": "white",
             "linecolor": "white",
             "minorgridcolor": "white",
             "startlinecolor": "#2a3f5f"
            },
            "baxis": {
             "endlinecolor": "#2a3f5f",
             "gridcolor": "white",
             "linecolor": "white",
             "minorgridcolor": "white",
             "startlinecolor": "#2a3f5f"
            },
            "type": "carpet"
           }
          ],
          "choropleth": [
           {
            "colorbar": {
             "outlinewidth": 0,
             "ticks": ""
            },
            "type": "choropleth"
           }
          ],
          "contour": [
           {
            "colorbar": {
             "outlinewidth": 0,
             "ticks": ""
            },
            "colorscale": [
             [
              0,
              "#0d0887"
             ],
             [
              0.1111111111111111,
              "#46039f"
             ],
             [
              0.2222222222222222,
              "#7201a8"
             ],
             [
              0.3333333333333333,
              "#9c179e"
             ],
             [
              0.4444444444444444,
              "#bd3786"
             ],
             [
              0.5555555555555556,
              "#d8576b"
             ],
             [
              0.6666666666666666,
              "#ed7953"
             ],
             [
              0.7777777777777778,
              "#fb9f3a"
             ],
             [
              0.8888888888888888,
              "#fdca26"
             ],
             [
              1,
              "#f0f921"
             ]
            ],
            "type": "contour"
           }
          ],
          "contourcarpet": [
           {
            "colorbar": {
             "outlinewidth": 0,
             "ticks": ""
            },
            "type": "contourcarpet"
           }
          ],
          "heatmap": [
           {
            "colorbar": {
             "outlinewidth": 0,
             "ticks": ""
            },
            "colorscale": [
             [
              0,
              "#0d0887"
             ],
             [
              0.1111111111111111,
              "#46039f"
             ],
             [
              0.2222222222222222,
              "#7201a8"
             ],
             [
              0.3333333333333333,
              "#9c179e"
             ],
             [
              0.4444444444444444,
              "#bd3786"
             ],
             [
              0.5555555555555556,
              "#d8576b"
             ],
             [
              0.6666666666666666,
              "#ed7953"
             ],
             [
              0.7777777777777778,
              "#fb9f3a"
             ],
             [
              0.8888888888888888,
              "#fdca26"
             ],
             [
              1,
              "#f0f921"
             ]
            ],
            "type": "heatmap"
           }
          ],
          "heatmapgl": [
           {
            "colorbar": {
             "outlinewidth": 0,
             "ticks": ""
            },
            "colorscale": [
             [
              0,
              "#0d0887"
             ],
             [
              0.1111111111111111,
              "#46039f"
             ],
             [
              0.2222222222222222,
              "#7201a8"
             ],
             [
              0.3333333333333333,
              "#9c179e"
             ],
             [
              0.4444444444444444,
              "#bd3786"
             ],
             [
              0.5555555555555556,
              "#d8576b"
             ],
             [
              0.6666666666666666,
              "#ed7953"
             ],
             [
              0.7777777777777778,
              "#fb9f3a"
             ],
             [
              0.8888888888888888,
              "#fdca26"
             ],
             [
              1,
              "#f0f921"
             ]
            ],
            "type": "heatmapgl"
           }
          ],
          "histogram": [
           {
            "marker": {
             "pattern": {
              "fillmode": "overlay",
              "size": 10,
              "solidity": 0.2
             }
            },
            "type": "histogram"
           }
          ],
          "histogram2d": [
           {
            "colorbar": {
             "outlinewidth": 0,
             "ticks": ""
            },
            "colorscale": [
             [
              0,
              "#0d0887"
             ],
             [
              0.1111111111111111,
              "#46039f"
             ],
             [
              0.2222222222222222,
              "#7201a8"
             ],
             [
              0.3333333333333333,
              "#9c179e"
             ],
             [
              0.4444444444444444,
              "#bd3786"
             ],
             [
              0.5555555555555556,
              "#d8576b"
             ],
             [
              0.6666666666666666,
              "#ed7953"
             ],
             [
              0.7777777777777778,
              "#fb9f3a"
             ],
             [
              0.8888888888888888,
              "#fdca26"
             ],
             [
              1,
              "#f0f921"
             ]
            ],
            "type": "histogram2d"
           }
          ],
          "histogram2dcontour": [
           {
            "colorbar": {
             "outlinewidth": 0,
             "ticks": ""
            },
            "colorscale": [
             [
              0,
              "#0d0887"
             ],
             [
              0.1111111111111111,
              "#46039f"
             ],
             [
              0.2222222222222222,
              "#7201a8"
             ],
             [
              0.3333333333333333,
              "#9c179e"
             ],
             [
              0.4444444444444444,
              "#bd3786"
             ],
             [
              0.5555555555555556,
              "#d8576b"
             ],
             [
              0.6666666666666666,
              "#ed7953"
             ],
             [
              0.7777777777777778,
              "#fb9f3a"
             ],
             [
              0.8888888888888888,
              "#fdca26"
             ],
             [
              1,
              "#f0f921"
             ]
            ],
            "type": "histogram2dcontour"
           }
          ],
          "mesh3d": [
           {
            "colorbar": {
             "outlinewidth": 0,
             "ticks": ""
            },
            "type": "mesh3d"
           }
          ],
          "parcoords": [
           {
            "line": {
             "colorbar": {
              "outlinewidth": 0,
              "ticks": ""
             }
            },
            "type": "parcoords"
           }
          ],
          "pie": [
           {
            "automargin": true,
            "type": "pie"
           }
          ],
          "scatter": [
           {
            "fillpattern": {
             "fillmode": "overlay",
             "size": 10,
             "solidity": 0.2
            },
            "type": "scatter"
           }
          ],
          "scatter3d": [
           {
            "line": {
             "colorbar": {
              "outlinewidth": 0,
              "ticks": ""
             }
            },
            "marker": {
             "colorbar": {
              "outlinewidth": 0,
              "ticks": ""
             }
            },
            "type": "scatter3d"
           }
          ],
          "scattercarpet": [
           {
            "marker": {
             "colorbar": {
              "outlinewidth": 0,
              "ticks": ""
             }
            },
            "type": "scattercarpet"
           }
          ],
          "scattergeo": [
           {
            "marker": {
             "colorbar": {
              "outlinewidth": 0,
              "ticks": ""
             }
            },
            "type": "scattergeo"
           }
          ],
          "scattergl": [
           {
            "marker": {
             "colorbar": {
              "outlinewidth": 0,
              "ticks": ""
             }
            },
            "type": "scattergl"
           }
          ],
          "scattermapbox": [
           {
            "marker": {
             "colorbar": {
              "outlinewidth": 0,
              "ticks": ""
             }
            },
            "type": "scattermapbox"
           }
          ],
          "scatterpolar": [
           {
            "marker": {
             "colorbar": {
              "outlinewidth": 0,
              "ticks": ""
             }
            },
            "type": "scatterpolar"
           }
          ],
          "scatterpolargl": [
           {
            "marker": {
             "colorbar": {
              "outlinewidth": 0,
              "ticks": ""
             }
            },
            "type": "scatterpolargl"
           }
          ],
          "scatterternary": [
           {
            "marker": {
             "colorbar": {
              "outlinewidth": 0,
              "ticks": ""
             }
            },
            "type": "scatterternary"
           }
          ],
          "surface": [
           {
            "colorbar": {
             "outlinewidth": 0,
             "ticks": ""
            },
            "colorscale": [
             [
              0,
              "#0d0887"
             ],
             [
              0.1111111111111111,
              "#46039f"
             ],
             [
              0.2222222222222222,
              "#7201a8"
             ],
             [
              0.3333333333333333,
              "#9c179e"
             ],
             [
              0.4444444444444444,
              "#bd3786"
             ],
             [
              0.5555555555555556,
              "#d8576b"
             ],
             [
              0.6666666666666666,
              "#ed7953"
             ],
             [
              0.7777777777777778,
              "#fb9f3a"
             ],
             [
              0.8888888888888888,
              "#fdca26"
             ],
             [
              1,
              "#f0f921"
             ]
            ],
            "type": "surface"
           }
          ],
          "table": [
           {
            "cells": {
             "fill": {
              "color": "#EBF0F8"
             },
             "line": {
              "color": "white"
             }
            },
            "header": {
             "fill": {
              "color": "#C8D4E3"
             },
             "line": {
              "color": "white"
             }
            },
            "type": "table"
           }
          ]
         },
         "layout": {
          "annotationdefaults": {
           "arrowcolor": "#2a3f5f",
           "arrowhead": 0,
           "arrowwidth": 1
          },
          "autotypenumbers": "strict",
          "coloraxis": {
           "colorbar": {
            "outlinewidth": 0,
            "ticks": ""
           }
          },
          "colorscale": {
           "diverging": [
            [
             0,
             "#8e0152"
            ],
            [
             0.1,
             "#c51b7d"
            ],
            [
             0.2,
             "#de77ae"
            ],
            [
             0.3,
             "#f1b6da"
            ],
            [
             0.4,
             "#fde0ef"
            ],
            [
             0.5,
             "#f7f7f7"
            ],
            [
             0.6,
             "#e6f5d0"
            ],
            [
             0.7,
             "#b8e186"
            ],
            [
             0.8,
             "#7fbc41"
            ],
            [
             0.9,
             "#4d9221"
            ],
            [
             1,
             "#276419"
            ]
           ],
           "sequential": [
            [
             0,
             "#0d0887"
            ],
            [
             0.1111111111111111,
             "#46039f"
            ],
            [
             0.2222222222222222,
             "#7201a8"
            ],
            [
             0.3333333333333333,
             "#9c179e"
            ],
            [
             0.4444444444444444,
             "#bd3786"
            ],
            [
             0.5555555555555556,
             "#d8576b"
            ],
            [
             0.6666666666666666,
             "#ed7953"
            ],
            [
             0.7777777777777778,
             "#fb9f3a"
            ],
            [
             0.8888888888888888,
             "#fdca26"
            ],
            [
             1,
             "#f0f921"
            ]
           ],
           "sequentialminus": [
            [
             0,
             "#0d0887"
            ],
            [
             0.1111111111111111,
             "#46039f"
            ],
            [
             0.2222222222222222,
             "#7201a8"
            ],
            [
             0.3333333333333333,
             "#9c179e"
            ],
            [
             0.4444444444444444,
             "#bd3786"
            ],
            [
             0.5555555555555556,
             "#d8576b"
            ],
            [
             0.6666666666666666,
             "#ed7953"
            ],
            [
             0.7777777777777778,
             "#fb9f3a"
            ],
            [
             0.8888888888888888,
             "#fdca26"
            ],
            [
             1,
             "#f0f921"
            ]
           ]
          },
          "colorway": [
           "#636efa",
           "#EF553B",
           "#00cc96",
           "#ab63fa",
           "#FFA15A",
           "#19d3f3",
           "#FF6692",
           "#B6E880",
           "#FF97FF",
           "#FECB52"
          ],
          "font": {
           "color": "#2a3f5f"
          },
          "geo": {
           "bgcolor": "white",
           "lakecolor": "white",
           "landcolor": "#E5ECF6",
           "showlakes": true,
           "showland": true,
           "subunitcolor": "white"
          },
          "hoverlabel": {
           "align": "left"
          },
          "hovermode": "closest",
          "mapbox": {
           "style": "light"
          },
          "paper_bgcolor": "white",
          "plot_bgcolor": "#E5ECF6",
          "polar": {
           "angularaxis": {
            "gridcolor": "white",
            "linecolor": "white",
            "ticks": ""
           },
           "bgcolor": "#E5ECF6",
           "radialaxis": {
            "gridcolor": "white",
            "linecolor": "white",
            "ticks": ""
           }
          },
          "scene": {
           "xaxis": {
            "backgroundcolor": "#E5ECF6",
            "gridcolor": "white",
            "gridwidth": 2,
            "linecolor": "white",
            "showbackground": true,
            "ticks": "",
            "zerolinecolor": "white"
           },
           "yaxis": {
            "backgroundcolor": "#E5ECF6",
            "gridcolor": "white",
            "gridwidth": 2,
            "linecolor": "white",
            "showbackground": true,
            "ticks": "",
            "zerolinecolor": "white"
           },
           "zaxis": {
            "backgroundcolor": "#E5ECF6",
            "gridcolor": "white",
            "gridwidth": 2,
            "linecolor": "white",
            "showbackground": true,
            "ticks": "",
            "zerolinecolor": "white"
           }
          },
          "shapedefaults": {
           "line": {
            "color": "#2a3f5f"
           }
          },
          "ternary": {
           "aaxis": {
            "gridcolor": "white",
            "linecolor": "white",
            "ticks": ""
           },
           "baxis": {
            "gridcolor": "white",
            "linecolor": "white",
            "ticks": ""
           },
           "bgcolor": "#E5ECF6",
           "caxis": {
            "gridcolor": "white",
            "linecolor": "white",
            "ticks": ""
           }
          },
          "title": {
           "x": 0.05
          },
          "xaxis": {
           "automargin": true,
           "gridcolor": "white",
           "linecolor": "white",
           "ticks": "",
           "title": {
            "standoff": 15
           },
           "zerolinecolor": "white",
           "zerolinewidth": 2
          },
          "yaxis": {
           "automargin": true,
           "gridcolor": "white",
           "linecolor": "white",
           "ticks": "",
           "title": {
            "standoff": 15
           },
           "zerolinecolor": "white",
           "zerolinewidth": 2
          }
         }
        },
        "title": {
         "text": "Minimal Ketinggian Air per Kota Administrasi"
        },
        "xaxis": {
         "anchor": "y",
         "categoryarray": [
          "Jakarta Barat",
          "Jakarta Pusat",
          "Jakarta Selatan",
          "Jakarta Timur",
          "Jakarta Utara"
         ],
         "categoryorder": "array",
         "domain": [
          0,
          1
         ],
         "title": {
          "text": ""
         }
        },
        "yaxis": {
         "anchor": "x",
         "domain": [
          0,
          1
         ],
         "title": {
          "text": "Nilai Minimal"
         }
        }
       }
      }
     },
     "metadata": {},
     "output_type": "display_data"
    }
   ],
   "source": [
    "df_bar = df.groupby('kota_administrasi', as_index=False)[['ketinggian_air_min']].min()\n",
    "fig_bar = px.bar(df_bar, x='kota_administrasi', y=['ketinggian_air_min'],\n",
    "                        color_discrete_sequence = px.colors.sequential.Blues_r, color='kota_administrasi',\n",
    "                        title = 'Minimal Ketinggian Air per Kota Administrasi', text_auto=True)\n",
    "fig_bar.update_xaxes(title = '')\n",
    "fig_bar.update_yaxes(title = 'Nilai Minimal')\n",
    "fig_bar.show()"
   ]
  },
  {
   "cell_type": "code",
   "execution_count": 57,
   "metadata": {},
   "outputs": [
    {
     "data": {
      "text/html": [
       "<div>\n",
       "<style scoped>\n",
       "    .dataframe tbody tr th:only-of-type {\n",
       "        vertical-align: middle;\n",
       "    }\n",
       "\n",
       "    .dataframe tbody tr th {\n",
       "        vertical-align: top;\n",
       "    }\n",
       "\n",
       "    .dataframe thead th {\n",
       "        text-align: right;\n",
       "    }\n",
       "</style>\n",
       "<table border=\"1\" class=\"dataframe\">\n",
       "  <thead>\n",
       "    <tr style=\"text-align: right;\">\n",
       "      <th></th>\n",
       "      <th>kota_administrasi</th>\n",
       "      <th>kecamatan</th>\n",
       "      <th>kelurahan</th>\n",
       "      <th>rw</th>\n",
       "      <th>jumlah_terdampak_rw</th>\n",
       "      <th>jumlah_terdampak_rt</th>\n",
       "      <th>jumlah_terdampak_kk</th>\n",
       "      <th>jumlah_terdampak_jiwa</th>\n",
       "      <th>tanggal_kejadian</th>\n",
       "      <th>lama_genangan</th>\n",
       "      <th>jumlah_hilang</th>\n",
       "      <th>jumlah_luka_ringan</th>\n",
       "      <th>jumlah_pengungsi_tertinggi</th>\n",
       "      <th>bulan_kejadian</th>\n",
       "      <th>ketinggian_air_min</th>\n",
       "      <th>ketinggian_air_max</th>\n",
       "      <th>terjadi_banjir</th>\n",
       "    </tr>\n",
       "  </thead>\n",
       "  <tbody>\n",
       "    <tr>\n",
       "      <th>0</th>\n",
       "      <td>Jakarta Utara</td>\n",
       "      <td>PENJARINGAN</td>\n",
       "      <td>KAMAL MUARA</td>\n",
       "      <td>01, 04</td>\n",
       "      <td>2</td>\n",
       "      <td>12</td>\n",
       "      <td>0</td>\n",
       "      <td>0</td>\n",
       "      <td>02</td>\n",
       "      <td>0</td>\n",
       "      <td>0</td>\n",
       "      <td>0</td>\n",
       "      <td>0</td>\n",
       "      <td>1</td>\n",
       "      <td>20</td>\n",
       "      <td>30</td>\n",
       "      <td>1</td>\n",
       "    </tr>\n",
       "    <tr>\n",
       "      <th>1</th>\n",
       "      <td>Jakarta Barat</td>\n",
       "      <td>KALIDERES</td>\n",
       "      <td>KAMAL</td>\n",
       "      <td>1, 4</td>\n",
       "      <td>2</td>\n",
       "      <td>3</td>\n",
       "      <td>0</td>\n",
       "      <td>0</td>\n",
       "      <td>03, 04, 05, 18, 31</td>\n",
       "      <td>0</td>\n",
       "      <td>0</td>\n",
       "      <td>0</td>\n",
       "      <td>0</td>\n",
       "      <td>1</td>\n",
       "      <td>10</td>\n",
       "      <td>25</td>\n",
       "      <td>5</td>\n",
       "    </tr>\n",
       "    <tr>\n",
       "      <th>2</th>\n",
       "      <td>Jakarta Barat</td>\n",
       "      <td>GROGOL PETAMBURAN</td>\n",
       "      <td>JELAMBAR BARU</td>\n",
       "      <td>1</td>\n",
       "      <td>1</td>\n",
       "      <td>2</td>\n",
       "      <td>0</td>\n",
       "      <td>0</td>\n",
       "      <td>03</td>\n",
       "      <td>0</td>\n",
       "      <td>0</td>\n",
       "      <td>0</td>\n",
       "      <td>0</td>\n",
       "      <td>1</td>\n",
       "      <td>15</td>\n",
       "      <td>15</td>\n",
       "      <td>1</td>\n",
       "    </tr>\n",
       "    <tr>\n",
       "      <th>3</th>\n",
       "      <td>Jakarta Barat</td>\n",
       "      <td>GROGOL PETAMBURAN</td>\n",
       "      <td>JELAMBAR</td>\n",
       "      <td>7</td>\n",
       "      <td>1</td>\n",
       "      <td>1</td>\n",
       "      <td>0</td>\n",
       "      <td>0</td>\n",
       "      <td>03</td>\n",
       "      <td>0</td>\n",
       "      <td>0</td>\n",
       "      <td>0</td>\n",
       "      <td>0</td>\n",
       "      <td>1</td>\n",
       "      <td>20</td>\n",
       "      <td>20</td>\n",
       "      <td>1</td>\n",
       "    </tr>\n",
       "    <tr>\n",
       "      <th>4</th>\n",
       "      <td>Jakarta Barat</td>\n",
       "      <td>KEMBANGAN</td>\n",
       "      <td>KEMBANGAN UTARA</td>\n",
       "      <td>3, 4, 5, 6</td>\n",
       "      <td>4</td>\n",
       "      <td>2</td>\n",
       "      <td>0</td>\n",
       "      <td>0</td>\n",
       "      <td>18</td>\n",
       "      <td>0</td>\n",
       "      <td>0</td>\n",
       "      <td>0</td>\n",
       "      <td>0</td>\n",
       "      <td>1</td>\n",
       "      <td>5</td>\n",
       "      <td>20</td>\n",
       "      <td>1</td>\n",
       "    </tr>\n",
       "    <tr>\n",
       "      <th>...</th>\n",
       "      <td>...</td>\n",
       "      <td>...</td>\n",
       "      <td>...</td>\n",
       "      <td>...</td>\n",
       "      <td>...</td>\n",
       "      <td>...</td>\n",
       "      <td>...</td>\n",
       "      <td>...</td>\n",
       "      <td>...</td>\n",
       "      <td>...</td>\n",
       "      <td>...</td>\n",
       "      <td>...</td>\n",
       "      <td>...</td>\n",
       "      <td>...</td>\n",
       "      <td>...</td>\n",
       "      <td>...</td>\n",
       "      <td>...</td>\n",
       "    </tr>\n",
       "    <tr>\n",
       "      <th>130</th>\n",
       "      <td>Jakarta Selatan</td>\n",
       "      <td>PESANGGRAHAN</td>\n",
       "      <td>ULUJAMI</td>\n",
       "      <td>1</td>\n",
       "      <td>1</td>\n",
       "      <td>8</td>\n",
       "      <td>0</td>\n",
       "      <td>0</td>\n",
       "      <td>11</td>\n",
       "      <td>0</td>\n",
       "      <td>0</td>\n",
       "      <td>0</td>\n",
       "      <td>0</td>\n",
       "      <td>12</td>\n",
       "      <td>20</td>\n",
       "      <td>40</td>\n",
       "      <td>1</td>\n",
       "    </tr>\n",
       "    <tr>\n",
       "      <th>131</th>\n",
       "      <td>Jakarta Timur</td>\n",
       "      <td>CAKUNG</td>\n",
       "      <td>RAWA TERATE</td>\n",
       "      <td>5</td>\n",
       "      <td>1</td>\n",
       "      <td>1</td>\n",
       "      <td>0</td>\n",
       "      <td>0</td>\n",
       "      <td>3</td>\n",
       "      <td>0</td>\n",
       "      <td>0</td>\n",
       "      <td>0</td>\n",
       "      <td>0</td>\n",
       "      <td>12</td>\n",
       "      <td>10</td>\n",
       "      <td>100</td>\n",
       "      <td>1</td>\n",
       "    </tr>\n",
       "    <tr>\n",
       "      <th>132</th>\n",
       "      <td>Jakarta Timur</td>\n",
       "      <td>CAKUNG</td>\n",
       "      <td>CAKUNG TIMUR</td>\n",
       "      <td>9</td>\n",
       "      <td>1</td>\n",
       "      <td>4</td>\n",
       "      <td>210</td>\n",
       "      <td>800</td>\n",
       "      <td>3</td>\n",
       "      <td>0</td>\n",
       "      <td>0</td>\n",
       "      <td>0</td>\n",
       "      <td>0</td>\n",
       "      <td>12</td>\n",
       "      <td>20</td>\n",
       "      <td>20</td>\n",
       "      <td>1</td>\n",
       "    </tr>\n",
       "    <tr>\n",
       "      <th>133</th>\n",
       "      <td>Jakarta Timur</td>\n",
       "      <td>MAKASAR</td>\n",
       "      <td>CIPINANG MELAYU</td>\n",
       "      <td>4</td>\n",
       "      <td>1</td>\n",
       "      <td>1</td>\n",
       "      <td>0</td>\n",
       "      <td>0</td>\n",
       "      <td>6</td>\n",
       "      <td>0</td>\n",
       "      <td>0</td>\n",
       "      <td>0</td>\n",
       "      <td>0</td>\n",
       "      <td>12</td>\n",
       "      <td>10</td>\n",
       "      <td>30</td>\n",
       "      <td>1</td>\n",
       "    </tr>\n",
       "    <tr>\n",
       "      <th>134</th>\n",
       "      <td>Jakarta Timur</td>\n",
       "      <td>CIRACAS</td>\n",
       "      <td>RAMBUTAN</td>\n",
       "      <td>03, 05</td>\n",
       "      <td>2</td>\n",
       "      <td>4</td>\n",
       "      <td>0</td>\n",
       "      <td>0</td>\n",
       "      <td>11</td>\n",
       "      <td>0</td>\n",
       "      <td>0</td>\n",
       "      <td>0</td>\n",
       "      <td>0</td>\n",
       "      <td>12</td>\n",
       "      <td>10</td>\n",
       "      <td>50</td>\n",
       "      <td>1</td>\n",
       "    </tr>\n",
       "  </tbody>\n",
       "</table>\n",
       "<p>135 rows × 17 columns</p>\n",
       "</div>"
      ],
      "text/plain": [
       "    kota_administrasi          kecamatan        kelurahan          rw  \\\n",
       "0       Jakarta Utara        PENJARINGAN      KAMAL MUARA      01, 04   \n",
       "1       Jakarta Barat          KALIDERES            KAMAL        1, 4   \n",
       "2       Jakarta Barat  GROGOL PETAMBURAN    JELAMBAR BARU           1   \n",
       "3       Jakarta Barat  GROGOL PETAMBURAN         JELAMBAR           7   \n",
       "4       Jakarta Barat          KEMBANGAN  KEMBANGAN UTARA  3, 4, 5, 6   \n",
       "..                ...                ...              ...         ...   \n",
       "130   Jakarta Selatan       PESANGGRAHAN          ULUJAMI           1   \n",
       "131     Jakarta Timur             CAKUNG      RAWA TERATE           5   \n",
       "132     Jakarta Timur             CAKUNG     CAKUNG TIMUR           9   \n",
       "133     Jakarta Timur            MAKASAR  CIPINANG MELAYU           4   \n",
       "134     Jakarta Timur            CIRACAS         RAMBUTAN      03, 05   \n",
       "\n",
       "     jumlah_terdampak_rw  jumlah_terdampak_rt  jumlah_terdampak_kk  \\\n",
       "0                      2                   12                    0   \n",
       "1                      2                    3                    0   \n",
       "2                      1                    2                    0   \n",
       "3                      1                    1                    0   \n",
       "4                      4                    2                    0   \n",
       "..                   ...                  ...                  ...   \n",
       "130                    1                    8                    0   \n",
       "131                    1                    1                    0   \n",
       "132                    1                    4                  210   \n",
       "133                    1                    1                    0   \n",
       "134                    2                    4                    0   \n",
       "\n",
       "     jumlah_terdampak_jiwa     tanggal_kejadian  lama_genangan  jumlah_hilang  \\\n",
       "0                        0                   02              0              0   \n",
       "1                        0   03, 04, 05, 18, 31              0              0   \n",
       "2                        0                   03              0              0   \n",
       "3                        0                   03              0              0   \n",
       "4                        0                   18              0              0   \n",
       "..                     ...                  ...            ...            ...   \n",
       "130                      0                   11              0              0   \n",
       "131                      0                    3              0              0   \n",
       "132                    800                    3              0              0   \n",
       "133                      0                    6              0              0   \n",
       "134                      0                   11              0              0   \n",
       "\n",
       "     jumlah_luka_ringan  jumlah_pengungsi_tertinggi  bulan_kejadian  \\\n",
       "0                     0                           0               1   \n",
       "1                     0                           0               1   \n",
       "2                     0                           0               1   \n",
       "3                     0                           0               1   \n",
       "4                     0                           0               1   \n",
       "..                  ...                         ...             ...   \n",
       "130                   0                           0              12   \n",
       "131                   0                           0              12   \n",
       "132                   0                           0              12   \n",
       "133                   0                           0              12   \n",
       "134                   0                           0              12   \n",
       "\n",
       "     ketinggian_air_min  ketinggian_air_max  terjadi_banjir  \n",
       "0                    20                  30               1  \n",
       "1                    10                  25               5  \n",
       "2                    15                  15               1  \n",
       "3                    20                  20               1  \n",
       "4                     5                  20               1  \n",
       "..                  ...                 ...             ...  \n",
       "130                  20                  40               1  \n",
       "131                  10                 100               1  \n",
       "132                  20                  20               1  \n",
       "133                  10                  30               1  \n",
       "134                  10                  50               1  \n",
       "\n",
       "[135 rows x 17 columns]"
      ]
     },
     "execution_count": 57,
     "metadata": {},
     "output_type": "execute_result"
    }
   ],
   "source": [
    "df"
   ]
  },
  {
   "attachments": {},
   "cell_type": "markdown",
   "metadata": {},
   "source": [
    "# Normalization Table"
   ]
  },
  {
   "cell_type": "code",
   "execution_count": 58,
   "metadata": {},
   "outputs": [
    {
     "data": {
      "text/plain": [
       "Index(['kota_administrasi', 'kecamatan', 'kelurahan', 'rw',\n",
       "       'jumlah_terdampak_rw', 'jumlah_terdampak_rt', 'jumlah_terdampak_kk',\n",
       "       'jumlah_terdampak_jiwa', 'tanggal_kejadian', 'lama_genangan',\n",
       "       'jumlah_hilang', 'jumlah_luka_ringan', 'jumlah_pengungsi_tertinggi',\n",
       "       'bulan_kejadian', 'ketinggian_air_min', 'ketinggian_air_max',\n",
       "       'terjadi_banjir'],\n",
       "      dtype='object')"
      ]
     },
     "execution_count": 58,
     "metadata": {},
     "output_type": "execute_result"
    }
   ],
   "source": [
    "df.columns"
   ]
  },
  {
   "cell_type": "code",
   "execution_count": 59,
   "metadata": {},
   "outputs": [
    {
     "name": "stdout",
     "output_type": "stream",
     "text": [
      "Tabel Kota Administrasi:\n"
     ]
    },
    {
     "data": {
      "text/html": [
       "<div>\n",
       "<style scoped>\n",
       "    .dataframe tbody tr th:only-of-type {\n",
       "        vertical-align: middle;\n",
       "    }\n",
       "\n",
       "    .dataframe tbody tr th {\n",
       "        vertical-align: top;\n",
       "    }\n",
       "\n",
       "    .dataframe thead th {\n",
       "        text-align: right;\n",
       "    }\n",
       "</style>\n",
       "<table border=\"1\" class=\"dataframe\">\n",
       "  <thead>\n",
       "    <tr style=\"text-align: right;\">\n",
       "      <th></th>\n",
       "      <th>kota_administrasi</th>\n",
       "      <th>kota_id</th>\n",
       "    </tr>\n",
       "  </thead>\n",
       "  <tbody>\n",
       "    <tr>\n",
       "      <th>0</th>\n",
       "      <td>Jakarta Utara</td>\n",
       "      <td>1</td>\n",
       "    </tr>\n",
       "    <tr>\n",
       "      <th>1</th>\n",
       "      <td>Jakarta Barat</td>\n",
       "      <td>2</td>\n",
       "    </tr>\n",
       "    <tr>\n",
       "      <th>2</th>\n",
       "      <td>Jakarta Pusat</td>\n",
       "      <td>3</td>\n",
       "    </tr>\n",
       "    <tr>\n",
       "      <th>3</th>\n",
       "      <td>Jakarta Selatan</td>\n",
       "      <td>4</td>\n",
       "    </tr>\n",
       "    <tr>\n",
       "      <th>4</th>\n",
       "      <td>Jakarta Timur</td>\n",
       "      <td>5</td>\n",
       "    </tr>\n",
       "  </tbody>\n",
       "</table>\n",
       "</div>"
      ],
      "text/plain": [
       "  kota_administrasi  kota_id\n",
       "0     Jakarta Utara        1\n",
       "1     Jakarta Barat        2\n",
       "2     Jakarta Pusat        3\n",
       "3   Jakarta Selatan        4\n",
       "4     Jakarta Timur        5"
      ]
     },
     "execution_count": 59,
     "metadata": {},
     "output_type": "execute_result"
    }
   ],
   "source": [
    "# Dimension table 'Kota Administrasi'\n",
    "kota_table = df[['kota_administrasi']]\n",
    "kota_table = kota_table.drop_duplicates().reset_index(drop=True)\n",
    "kota_table['kota_id'] = range(1, len(kota_table) + 1)\n",
    "\n",
    "print(\"Tabel Kota Administrasi:\")\n",
    "kota_table"
   ]
  },
  {
   "cell_type": "code",
   "execution_count": 60,
   "metadata": {},
   "outputs": [
    {
     "name": "stdout",
     "output_type": "stream",
     "text": [
      "Tabel Kecamatan:\n"
     ]
    },
    {
     "data": {
      "text/html": [
       "<div>\n",
       "<style scoped>\n",
       "    .dataframe tbody tr th:only-of-type {\n",
       "        vertical-align: middle;\n",
       "    }\n",
       "\n",
       "    .dataframe tbody tr th {\n",
       "        vertical-align: top;\n",
       "    }\n",
       "\n",
       "    .dataframe thead th {\n",
       "        text-align: right;\n",
       "    }\n",
       "</style>\n",
       "<table border=\"1\" class=\"dataframe\">\n",
       "  <thead>\n",
       "    <tr style=\"text-align: right;\">\n",
       "      <th></th>\n",
       "      <th>kecamatan</th>\n",
       "      <th>kota_id</th>\n",
       "      <th>kecamatan_id</th>\n",
       "    </tr>\n",
       "  </thead>\n",
       "  <tbody>\n",
       "    <tr>\n",
       "      <th>0</th>\n",
       "      <td>PENJARINGAN</td>\n",
       "      <td>1</td>\n",
       "      <td>1</td>\n",
       "    </tr>\n",
       "    <tr>\n",
       "      <th>1</th>\n",
       "      <td>CILINCING</td>\n",
       "      <td>1</td>\n",
       "      <td>2</td>\n",
       "    </tr>\n",
       "    <tr>\n",
       "      <th>2</th>\n",
       "      <td>KELAPA GADING</td>\n",
       "      <td>1</td>\n",
       "      <td>3</td>\n",
       "    </tr>\n",
       "    <tr>\n",
       "      <th>3</th>\n",
       "      <td>KOJA</td>\n",
       "      <td>1</td>\n",
       "      <td>4</td>\n",
       "    </tr>\n",
       "    <tr>\n",
       "      <th>4</th>\n",
       "      <td>KALIDERES</td>\n",
       "      <td>2</td>\n",
       "      <td>5</td>\n",
       "    </tr>\n",
       "    <tr>\n",
       "      <th>5</th>\n",
       "      <td>GROGOL PETAMBURAN</td>\n",
       "      <td>2</td>\n",
       "      <td>6</td>\n",
       "    </tr>\n",
       "    <tr>\n",
       "      <th>6</th>\n",
       "      <td>KEMBANGAN</td>\n",
       "      <td>2</td>\n",
       "      <td>7</td>\n",
       "    </tr>\n",
       "    <tr>\n",
       "      <th>7</th>\n",
       "      <td>CENGKARENG</td>\n",
       "      <td>2</td>\n",
       "      <td>8</td>\n",
       "    </tr>\n",
       "    <tr>\n",
       "      <th>8</th>\n",
       "      <td>KEBON JERUK</td>\n",
       "      <td>2</td>\n",
       "      <td>9</td>\n",
       "    </tr>\n",
       "    <tr>\n",
       "      <th>9</th>\n",
       "      <td>PALMERAH</td>\n",
       "      <td>2</td>\n",
       "      <td>10</td>\n",
       "    </tr>\n",
       "    <tr>\n",
       "      <th>10</th>\n",
       "      <td>CEMPAKA PUTIH</td>\n",
       "      <td>3</td>\n",
       "      <td>11</td>\n",
       "    </tr>\n",
       "    <tr>\n",
       "      <th>11</th>\n",
       "      <td>KEMAYORAN</td>\n",
       "      <td>3</td>\n",
       "      <td>12</td>\n",
       "    </tr>\n",
       "    <tr>\n",
       "      <th>12</th>\n",
       "      <td>SAWAH BESAR</td>\n",
       "      <td>3</td>\n",
       "      <td>13</td>\n",
       "    </tr>\n",
       "    <tr>\n",
       "      <th>13</th>\n",
       "      <td>CILANDAK</td>\n",
       "      <td>4</td>\n",
       "      <td>14</td>\n",
       "    </tr>\n",
       "    <tr>\n",
       "      <th>14</th>\n",
       "      <td>PANCORAN</td>\n",
       "      <td>4</td>\n",
       "      <td>15</td>\n",
       "    </tr>\n",
       "    <tr>\n",
       "      <th>15</th>\n",
       "      <td>PASAR MINGGU</td>\n",
       "      <td>4</td>\n",
       "      <td>16</td>\n",
       "    </tr>\n",
       "    <tr>\n",
       "      <th>16</th>\n",
       "      <td>TEBET</td>\n",
       "      <td>4</td>\n",
       "      <td>17</td>\n",
       "    </tr>\n",
       "    <tr>\n",
       "      <th>17</th>\n",
       "      <td>JAGAKARSA</td>\n",
       "      <td>4</td>\n",
       "      <td>18</td>\n",
       "    </tr>\n",
       "    <tr>\n",
       "      <th>18</th>\n",
       "      <td>MAMPANG PRAPATAN</td>\n",
       "      <td>4</td>\n",
       "      <td>19</td>\n",
       "    </tr>\n",
       "    <tr>\n",
       "      <th>19</th>\n",
       "      <td>PESANGGRAHAN</td>\n",
       "      <td>4</td>\n",
       "      <td>20</td>\n",
       "    </tr>\n",
       "    <tr>\n",
       "      <th>20</th>\n",
       "      <td>KEBAYORAN BARU</td>\n",
       "      <td>4</td>\n",
       "      <td>21</td>\n",
       "    </tr>\n",
       "    <tr>\n",
       "      <th>21</th>\n",
       "      <td>KEBAYORAN LAMA</td>\n",
       "      <td>4</td>\n",
       "      <td>22</td>\n",
       "    </tr>\n",
       "    <tr>\n",
       "      <th>22</th>\n",
       "      <td>CAKUNG</td>\n",
       "      <td>5</td>\n",
       "      <td>23</td>\n",
       "    </tr>\n",
       "    <tr>\n",
       "      <th>23</th>\n",
       "      <td>JATINEGARA</td>\n",
       "      <td>5</td>\n",
       "      <td>24</td>\n",
       "    </tr>\n",
       "    <tr>\n",
       "      <th>24</th>\n",
       "      <td>MAKASAR</td>\n",
       "      <td>5</td>\n",
       "      <td>25</td>\n",
       "    </tr>\n",
       "    <tr>\n",
       "      <th>25</th>\n",
       "      <td>KRAMAT JATI</td>\n",
       "      <td>5</td>\n",
       "      <td>26</td>\n",
       "    </tr>\n",
       "    <tr>\n",
       "      <th>26</th>\n",
       "      <td>PASAR REBO</td>\n",
       "      <td>5</td>\n",
       "      <td>27</td>\n",
       "    </tr>\n",
       "    <tr>\n",
       "      <th>27</th>\n",
       "      <td>MATRAMAN</td>\n",
       "      <td>5</td>\n",
       "      <td>28</td>\n",
       "    </tr>\n",
       "    <tr>\n",
       "      <th>28</th>\n",
       "      <td>PULOGADUNG</td>\n",
       "      <td>5</td>\n",
       "      <td>29</td>\n",
       "    </tr>\n",
       "    <tr>\n",
       "      <th>29</th>\n",
       "      <td>CIRACAS</td>\n",
       "      <td>5</td>\n",
       "      <td>30</td>\n",
       "    </tr>\n",
       "  </tbody>\n",
       "</table>\n",
       "</div>"
      ],
      "text/plain": [
       "            kecamatan  kota_id  kecamatan_id\n",
       "0         PENJARINGAN        1             1\n",
       "1           CILINCING        1             2\n",
       "2       KELAPA GADING        1             3\n",
       "3                KOJA        1             4\n",
       "4           KALIDERES        2             5\n",
       "5   GROGOL PETAMBURAN        2             6\n",
       "6           KEMBANGAN        2             7\n",
       "7          CENGKARENG        2             8\n",
       "8         KEBON JERUK        2             9\n",
       "9            PALMERAH        2            10\n",
       "10      CEMPAKA PUTIH        3            11\n",
       "11          KEMAYORAN        3            12\n",
       "12        SAWAH BESAR        3            13\n",
       "13           CILANDAK        4            14\n",
       "14           PANCORAN        4            15\n",
       "15       PASAR MINGGU        4            16\n",
       "16              TEBET        4            17\n",
       "17          JAGAKARSA        4            18\n",
       "18   MAMPANG PRAPATAN        4            19\n",
       "19       PESANGGRAHAN        4            20\n",
       "20     KEBAYORAN BARU        4            21\n",
       "21     KEBAYORAN LAMA        4            22\n",
       "22             CAKUNG        5            23\n",
       "23         JATINEGARA        5            24\n",
       "24            MAKASAR        5            25\n",
       "25        KRAMAT JATI        5            26\n",
       "26         PASAR REBO        5            27\n",
       "27           MATRAMAN        5            28\n",
       "28         PULOGADUNG        5            29\n",
       "29            CIRACAS        5            30"
      ]
     },
     "execution_count": 60,
     "metadata": {},
     "output_type": "execute_result"
    }
   ],
   "source": [
    "kecamatan_table = df[['kecamatan','kota_administrasi']].drop_duplicates().reset_index(drop=True)\n",
    "kecamatan_table = kecamatan_table.merge(kota_table, on=['kota_administrasi'])\n",
    "kecamatan_table['kecamatan_id'] = range(1, len(kecamatan_table) + 1)\n",
    "kecamatan_table = kecamatan_table[['kecamatan','kota_id','kecamatan_id']]\n",
    "\n",
    "print(\"Tabel Kecamatan:\")\n",
    "kecamatan_table"
   ]
  },
  {
   "cell_type": "code",
   "execution_count": 61,
   "metadata": {},
   "outputs": [
    {
     "name": "stdout",
     "output_type": "stream",
     "text": [
      "Tabel Kelurahan:\n"
     ]
    },
    {
     "data": {
      "text/html": [
       "<div>\n",
       "<style scoped>\n",
       "    .dataframe tbody tr th:only-of-type {\n",
       "        vertical-align: middle;\n",
       "    }\n",
       "\n",
       "    .dataframe tbody tr th {\n",
       "        vertical-align: top;\n",
       "    }\n",
       "\n",
       "    .dataframe thead th {\n",
       "        text-align: right;\n",
       "    }\n",
       "</style>\n",
       "<table border=\"1\" class=\"dataframe\">\n",
       "  <thead>\n",
       "    <tr style=\"text-align: right;\">\n",
       "      <th></th>\n",
       "      <th>kelurahan</th>\n",
       "      <th>kecamatan_id</th>\n",
       "      <th>kelurahan_id</th>\n",
       "    </tr>\n",
       "  </thead>\n",
       "  <tbody>\n",
       "    <tr>\n",
       "      <th>0</th>\n",
       "      <td>KAMAL MUARA</td>\n",
       "      <td>1</td>\n",
       "      <td>1</td>\n",
       "    </tr>\n",
       "    <tr>\n",
       "      <th>1</th>\n",
       "      <td>PENJARINGAN</td>\n",
       "      <td>1</td>\n",
       "      <td>2</td>\n",
       "    </tr>\n",
       "    <tr>\n",
       "      <th>2</th>\n",
       "      <td>KAPUK MUARA</td>\n",
       "      <td>1</td>\n",
       "      <td>3</td>\n",
       "    </tr>\n",
       "    <tr>\n",
       "      <th>3</th>\n",
       "      <td>PLUIT</td>\n",
       "      <td>1</td>\n",
       "      <td>4</td>\n",
       "    </tr>\n",
       "    <tr>\n",
       "      <th>4</th>\n",
       "      <td>KAMAL</td>\n",
       "      <td>5</td>\n",
       "      <td>5</td>\n",
       "    </tr>\n",
       "    <tr>\n",
       "      <th>...</th>\n",
       "      <td>...</td>\n",
       "      <td>...</td>\n",
       "      <td>...</td>\n",
       "    </tr>\n",
       "    <tr>\n",
       "      <th>58</th>\n",
       "      <td>CIPETE UTARA</td>\n",
       "      <td>21</td>\n",
       "      <td>59</td>\n",
       "    </tr>\n",
       "    <tr>\n",
       "      <th>59</th>\n",
       "      <td>PONDOK PINANG</td>\n",
       "      <td>22</td>\n",
       "      <td>60</td>\n",
       "    </tr>\n",
       "    <tr>\n",
       "      <th>60</th>\n",
       "      <td>CIPULIR</td>\n",
       "      <td>22</td>\n",
       "      <td>61</td>\n",
       "    </tr>\n",
       "    <tr>\n",
       "      <th>61</th>\n",
       "      <td>GUNUNG SAHARI UTARA</td>\n",
       "      <td>13</td>\n",
       "      <td>62</td>\n",
       "    </tr>\n",
       "    <tr>\n",
       "      <th>62</th>\n",
       "      <td>RAMBUTAN</td>\n",
       "      <td>30</td>\n",
       "      <td>63</td>\n",
       "    </tr>\n",
       "  </tbody>\n",
       "</table>\n",
       "<p>63 rows × 3 columns</p>\n",
       "</div>"
      ],
      "text/plain": [
       "              kelurahan  kecamatan_id  kelurahan_id\n",
       "0           KAMAL MUARA             1             1\n",
       "1           PENJARINGAN             1             2\n",
       "2           KAPUK MUARA             1             3\n",
       "3                 PLUIT             1             4\n",
       "4                 KAMAL             5             5\n",
       "..                  ...           ...           ...\n",
       "58         CIPETE UTARA            21            59\n",
       "59        PONDOK PINANG            22            60\n",
       "60              CIPULIR            22            61\n",
       "61  GUNUNG SAHARI UTARA            13            62\n",
       "62             RAMBUTAN            30            63\n",
       "\n",
       "[63 rows x 3 columns]"
      ]
     },
     "execution_count": 61,
     "metadata": {},
     "output_type": "execute_result"
    }
   ],
   "source": [
    "kelurahan_table = df[['kelurahan','kecamatan']].drop_duplicates().reset_index(drop=True)\n",
    "kelurahan_table = kelurahan_table.merge(kecamatan_table, on=['kecamatan'])\n",
    "kelurahan_table['kelurahan_id'] = range(1, len(kelurahan_table) + 1)\n",
    "kelurahan_table = kelurahan_table[['kelurahan','kecamatan_id','kelurahan_id']]\n",
    "\n",
    "print(\"Tabel Kelurahan:\")\n",
    "kelurahan_table"
   ]
  },
  {
   "cell_type": "code",
   "execution_count": 62,
   "metadata": {},
   "outputs": [
    {
     "name": "stdout",
     "output_type": "stream",
     "text": [
      "Tabel Dampak Banjir:\n"
     ]
    },
    {
     "data": {
      "text/html": [
       "<div>\n",
       "<style scoped>\n",
       "    .dataframe tbody tr th:only-of-type {\n",
       "        vertical-align: middle;\n",
       "    }\n",
       "\n",
       "    .dataframe tbody tr th {\n",
       "        vertical-align: top;\n",
       "    }\n",
       "\n",
       "    .dataframe thead th {\n",
       "        text-align: right;\n",
       "    }\n",
       "</style>\n",
       "<table border=\"1\" class=\"dataframe\">\n",
       "  <thead>\n",
       "    <tr style=\"text-align: right;\">\n",
       "      <th></th>\n",
       "      <th>kelurahan_id</th>\n",
       "      <th>rw</th>\n",
       "      <th>jumlah_terdampak_rw</th>\n",
       "      <th>jumlah_terdampak_rt</th>\n",
       "      <th>jumlah_terdampak_kk</th>\n",
       "      <th>jumlah_terdampak_jiwa</th>\n",
       "      <th>tanggal_kejadian</th>\n",
       "      <th>lama_genangan</th>\n",
       "      <th>jumlah_hilang</th>\n",
       "      <th>jumlah_luka_ringan</th>\n",
       "      <th>jumlah_pengungsi_tertinggi</th>\n",
       "      <th>bulan_kejadian</th>\n",
       "      <th>terjadi_banjir</th>\n",
       "      <th>ketinggian_air_min</th>\n",
       "      <th>ketinggian_air_max</th>\n",
       "    </tr>\n",
       "  </thead>\n",
       "  <tbody>\n",
       "    <tr>\n",
       "      <th>0</th>\n",
       "      <td>1</td>\n",
       "      <td>01, 04</td>\n",
       "      <td>2</td>\n",
       "      <td>12</td>\n",
       "      <td>0</td>\n",
       "      <td>0</td>\n",
       "      <td>02</td>\n",
       "      <td>0</td>\n",
       "      <td>0</td>\n",
       "      <td>0</td>\n",
       "      <td>0</td>\n",
       "      <td>1</td>\n",
       "      <td>1</td>\n",
       "      <td>20</td>\n",
       "      <td>30</td>\n",
       "    </tr>\n",
       "    <tr>\n",
       "      <th>1</th>\n",
       "      <td>1</td>\n",
       "      <td>01, 02, 04</td>\n",
       "      <td>3</td>\n",
       "      <td>5</td>\n",
       "      <td>0</td>\n",
       "      <td>0</td>\n",
       "      <td>01, 15</td>\n",
       "      <td>0</td>\n",
       "      <td>0</td>\n",
       "      <td>0</td>\n",
       "      <td>0</td>\n",
       "      <td>2</td>\n",
       "      <td>2</td>\n",
       "      <td>5</td>\n",
       "      <td>10</td>\n",
       "    </tr>\n",
       "    <tr>\n",
       "      <th>2</th>\n",
       "      <td>1</td>\n",
       "      <td>4</td>\n",
       "      <td>1</td>\n",
       "      <td>5</td>\n",
       "      <td>0</td>\n",
       "      <td>0</td>\n",
       "      <td>26, 27</td>\n",
       "      <td>0</td>\n",
       "      <td>0</td>\n",
       "      <td>0</td>\n",
       "      <td>0</td>\n",
       "      <td>11</td>\n",
       "      <td>2</td>\n",
       "      <td>5</td>\n",
       "      <td>10</td>\n",
       "    </tr>\n",
       "    <tr>\n",
       "      <th>3</th>\n",
       "      <td>1</td>\n",
       "      <td>4</td>\n",
       "      <td>1</td>\n",
       "      <td>3</td>\n",
       "      <td>0</td>\n",
       "      <td>0</td>\n",
       "      <td>4, 5, 6, 7, 8, 11, 13</td>\n",
       "      <td>0</td>\n",
       "      <td>0</td>\n",
       "      <td>0</td>\n",
       "      <td>0</td>\n",
       "      <td>12</td>\n",
       "      <td>7</td>\n",
       "      <td>3</td>\n",
       "      <td>10</td>\n",
       "    </tr>\n",
       "    <tr>\n",
       "      <th>4</th>\n",
       "      <td>5</td>\n",
       "      <td>1, 4</td>\n",
       "      <td>2</td>\n",
       "      <td>3</td>\n",
       "      <td>0</td>\n",
       "      <td>0</td>\n",
       "      <td>03, 04, 05, 18, 31</td>\n",
       "      <td>0</td>\n",
       "      <td>0</td>\n",
       "      <td>0</td>\n",
       "      <td>0</td>\n",
       "      <td>1</td>\n",
       "      <td>5</td>\n",
       "      <td>10</td>\n",
       "      <td>25</td>\n",
       "    </tr>\n",
       "    <tr>\n",
       "      <th>...</th>\n",
       "      <td>...</td>\n",
       "      <td>...</td>\n",
       "      <td>...</td>\n",
       "      <td>...</td>\n",
       "      <td>...</td>\n",
       "      <td>...</td>\n",
       "      <td>...</td>\n",
       "      <td>...</td>\n",
       "      <td>...</td>\n",
       "      <td>...</td>\n",
       "      <td>...</td>\n",
       "      <td>...</td>\n",
       "      <td>...</td>\n",
       "      <td>...</td>\n",
       "      <td>...</td>\n",
       "    </tr>\n",
       "    <tr>\n",
       "      <th>130</th>\n",
       "      <td>63</td>\n",
       "      <td>03, 05</td>\n",
       "      <td>2</td>\n",
       "      <td>4</td>\n",
       "      <td>0</td>\n",
       "      <td>0</td>\n",
       "      <td>11</td>\n",
       "      <td>0</td>\n",
       "      <td>0</td>\n",
       "      <td>0</td>\n",
       "      <td>0</td>\n",
       "      <td>12</td>\n",
       "      <td>1</td>\n",
       "      <td>10</td>\n",
       "      <td>50</td>\n",
       "    </tr>\n",
       "    <tr>\n",
       "      <th>131</th>\n",
       "      <td>26</td>\n",
       "      <td>02, 06</td>\n",
       "      <td>2</td>\n",
       "      <td>2</td>\n",
       "      <td>0</td>\n",
       "      <td>0</td>\n",
       "      <td>4</td>\n",
       "      <td>0</td>\n",
       "      <td>0</td>\n",
       "      <td>0</td>\n",
       "      <td>0</td>\n",
       "      <td>12</td>\n",
       "      <td>1</td>\n",
       "      <td>20</td>\n",
       "      <td>60</td>\n",
       "    </tr>\n",
       "    <tr>\n",
       "      <th>132</th>\n",
       "      <td>30</td>\n",
       "      <td>9</td>\n",
       "      <td>1</td>\n",
       "      <td>5</td>\n",
       "      <td>0</td>\n",
       "      <td>0</td>\n",
       "      <td>10</td>\n",
       "      <td>0</td>\n",
       "      <td>0</td>\n",
       "      <td>0</td>\n",
       "      <td>0</td>\n",
       "      <td>12</td>\n",
       "      <td>1</td>\n",
       "      <td>30</td>\n",
       "      <td>30</td>\n",
       "    </tr>\n",
       "    <tr>\n",
       "      <th>133</th>\n",
       "      <td>59</td>\n",
       "      <td>6</td>\n",
       "      <td>1</td>\n",
       "      <td>1</td>\n",
       "      <td>0</td>\n",
       "      <td>0</td>\n",
       "      <td>13</td>\n",
       "      <td>0</td>\n",
       "      <td>0</td>\n",
       "      <td>0</td>\n",
       "      <td>0</td>\n",
       "      <td>12</td>\n",
       "      <td>1</td>\n",
       "      <td>20</td>\n",
       "      <td>40</td>\n",
       "    </tr>\n",
       "    <tr>\n",
       "      <th>134</th>\n",
       "      <td>45</td>\n",
       "      <td>9</td>\n",
       "      <td>1</td>\n",
       "      <td>4</td>\n",
       "      <td>210</td>\n",
       "      <td>800</td>\n",
       "      <td>3</td>\n",
       "      <td>0</td>\n",
       "      <td>0</td>\n",
       "      <td>0</td>\n",
       "      <td>0</td>\n",
       "      <td>12</td>\n",
       "      <td>1</td>\n",
       "      <td>20</td>\n",
       "      <td>20</td>\n",
       "    </tr>\n",
       "  </tbody>\n",
       "</table>\n",
       "<p>135 rows × 15 columns</p>\n",
       "</div>"
      ],
      "text/plain": [
       "     kelurahan_id          rw  jumlah_terdampak_rw  jumlah_terdampak_rt  \\\n",
       "0               1      01, 04                    2                   12   \n",
       "1               1  01, 02, 04                    3                    5   \n",
       "2               1           4                    1                    5   \n",
       "3               1           4                    1                    3   \n",
       "4               5        1, 4                    2                    3   \n",
       "..            ...         ...                  ...                  ...   \n",
       "130            63      03, 05                    2                    4   \n",
       "131            26      02, 06                    2                    2   \n",
       "132            30           9                    1                    5   \n",
       "133            59           6                    1                    1   \n",
       "134            45           9                    1                    4   \n",
       "\n",
       "     jumlah_terdampak_kk  jumlah_terdampak_jiwa        tanggal_kejadian  \\\n",
       "0                      0                      0                      02   \n",
       "1                      0                      0                  01, 15   \n",
       "2                      0                      0                  26, 27   \n",
       "3                      0                      0   4, 5, 6, 7, 8, 11, 13   \n",
       "4                      0                      0      03, 04, 05, 18, 31   \n",
       "..                   ...                    ...                     ...   \n",
       "130                    0                      0                      11   \n",
       "131                    0                      0                       4   \n",
       "132                    0                      0                      10   \n",
       "133                    0                      0                      13   \n",
       "134                  210                    800                       3   \n",
       "\n",
       "     lama_genangan  jumlah_hilang  jumlah_luka_ringan  \\\n",
       "0                0              0                   0   \n",
       "1                0              0                   0   \n",
       "2                0              0                   0   \n",
       "3                0              0                   0   \n",
       "4                0              0                   0   \n",
       "..             ...            ...                 ...   \n",
       "130              0              0                   0   \n",
       "131              0              0                   0   \n",
       "132              0              0                   0   \n",
       "133              0              0                   0   \n",
       "134              0              0                   0   \n",
       "\n",
       "     jumlah_pengungsi_tertinggi  bulan_kejadian  terjadi_banjir  \\\n",
       "0                             0               1               1   \n",
       "1                             0               2               2   \n",
       "2                             0              11               2   \n",
       "3                             0              12               7   \n",
       "4                             0               1               5   \n",
       "..                          ...             ...             ...   \n",
       "130                           0              12               1   \n",
       "131                           0              12               1   \n",
       "132                           0              12               1   \n",
       "133                           0              12               1   \n",
       "134                           0              12               1   \n",
       "\n",
       "     ketinggian_air_min  ketinggian_air_max  \n",
       "0                    20                  30  \n",
       "1                     5                  10  \n",
       "2                     5                  10  \n",
       "3                     3                  10  \n",
       "4                    10                  25  \n",
       "..                  ...                 ...  \n",
       "130                  10                  50  \n",
       "131                  20                  60  \n",
       "132                  30                  30  \n",
       "133                  20                  40  \n",
       "134                  20                  20  \n",
       "\n",
       "[135 rows x 15 columns]"
      ]
     },
     "execution_count": 62,
     "metadata": {},
     "output_type": "execute_result"
    }
   ],
   "source": [
    "dampak_banjir = df[['kelurahan', 'rw',\n",
    "                  'jumlah_terdampak_rw', 'jumlah_terdampak_rt', 'jumlah_terdampak_kk','jumlah_terdampak_jiwa', 'tanggal_kejadian',\n",
    "                  'lama_genangan','jumlah_hilang', 'jumlah_luka_ringan', 'jumlah_pengungsi_tertinggi','bulan_kejadian', 'terjadi_banjir', \n",
    "                  'ketinggian_air_min','ketinggian_air_max']].drop_duplicates().reset_index(drop=True)\n",
    "dampak_banjir = dampak_banjir.merge(kelurahan_table, on=['kelurahan'])\n",
    "dampak_banjir = dampak_banjir[['kelurahan_id','rw','jumlah_terdampak_rw','jumlah_terdampak_rt', 'jumlah_terdampak_kk',\n",
    "                               'jumlah_terdampak_jiwa','tanggal_kejadian','lama_genangan','jumlah_hilang', 'jumlah_luka_ringan', \n",
    "                               'jumlah_pengungsi_tertinggi','bulan_kejadian', 'terjadi_banjir', 'ketinggian_air_min','ketinggian_air_max']]\n",
    "\n",
    "print(\"Tabel Dampak Banjir:\")\n",
    "dampak_banjir"
   ]
  },
  {
   "cell_type": "code",
   "execution_count": 63,
   "metadata": {},
   "outputs": [],
   "source": [
    "kota_table.to_csv('Banjir/Kota_Table.csv', index=False)\n",
    "kecamatan_table.to_csv('Banjir/Kecamatan_Table.csv', index=False)\n",
    "kelurahan_table.to_csv('Banjir/Kelurahan_Table.csv', index=False)\n",
    "dampak_banjir.to_csv('Banjir/Dampak_Banjir.csv', index=False)"
   ]
  },
  {
   "cell_type": "code",
   "execution_count": 64,
   "metadata": {},
   "outputs": [
    {
     "data": {
      "text/plain": [
       "{'angka': [1, 2, 3, 4, 5, 6, 7, 8, 9, 10, 11, 12],\n",
       " 'bulan': ['Januari',\n",
       "  'Februari',\n",
       "  'Maret',\n",
       "  'April',\n",
       "  'Mei',\n",
       "  'Juni',\n",
       "  'Juli',\n",
       "  'Agustus',\n",
       "  'September',\n",
       "  'Oktober',\n",
       "  'November',\n",
       "  'Desember']}"
      ]
     },
     "execution_count": 64,
     "metadata": {},
     "output_type": "execute_result"
    }
   ],
   "source": [
    "angka = range(1,13)\n",
    "nama_bulan = ['Januari', 'Februari', 'Maret', 'April', 'Mei', 'Juni', 'Juli','Agustus','September','Oktober','November','Desember']\n",
    "dict_bulan = {'angka':list(angka), 'bulan': nama_bulan}\n",
    "dict_bulan"
   ]
  },
  {
   "cell_type": "code",
   "execution_count": 65,
   "metadata": {},
   "outputs": [
    {
     "data": {
      "text/html": [
       "<div>\n",
       "<style scoped>\n",
       "    .dataframe tbody tr th:only-of-type {\n",
       "        vertical-align: middle;\n",
       "    }\n",
       "\n",
       "    .dataframe tbody tr th {\n",
       "        vertical-align: top;\n",
       "    }\n",
       "\n",
       "    .dataframe thead th {\n",
       "        text-align: right;\n",
       "    }\n",
       "</style>\n",
       "<table border=\"1\" class=\"dataframe\">\n",
       "  <thead>\n",
       "    <tr style=\"text-align: right;\">\n",
       "      <th></th>\n",
       "      <th>angka</th>\n",
       "      <th>bulan</th>\n",
       "    </tr>\n",
       "  </thead>\n",
       "  <tbody>\n",
       "    <tr>\n",
       "      <th>0</th>\n",
       "      <td>1</td>\n",
       "      <td>Januari</td>\n",
       "    </tr>\n",
       "    <tr>\n",
       "      <th>1</th>\n",
       "      <td>2</td>\n",
       "      <td>Februari</td>\n",
       "    </tr>\n",
       "    <tr>\n",
       "      <th>2</th>\n",
       "      <td>3</td>\n",
       "      <td>Maret</td>\n",
       "    </tr>\n",
       "    <tr>\n",
       "      <th>3</th>\n",
       "      <td>4</td>\n",
       "      <td>April</td>\n",
       "    </tr>\n",
       "    <tr>\n",
       "      <th>4</th>\n",
       "      <td>5</td>\n",
       "      <td>Mei</td>\n",
       "    </tr>\n",
       "    <tr>\n",
       "      <th>5</th>\n",
       "      <td>6</td>\n",
       "      <td>Juni</td>\n",
       "    </tr>\n",
       "    <tr>\n",
       "      <th>6</th>\n",
       "      <td>7</td>\n",
       "      <td>Juli</td>\n",
       "    </tr>\n",
       "    <tr>\n",
       "      <th>7</th>\n",
       "      <td>8</td>\n",
       "      <td>Agustus</td>\n",
       "    </tr>\n",
       "    <tr>\n",
       "      <th>8</th>\n",
       "      <td>9</td>\n",
       "      <td>September</td>\n",
       "    </tr>\n",
       "    <tr>\n",
       "      <th>9</th>\n",
       "      <td>10</td>\n",
       "      <td>Oktober</td>\n",
       "    </tr>\n",
       "    <tr>\n",
       "      <th>10</th>\n",
       "      <td>11</td>\n",
       "      <td>November</td>\n",
       "    </tr>\n",
       "    <tr>\n",
       "      <th>11</th>\n",
       "      <td>12</td>\n",
       "      <td>Desember</td>\n",
       "    </tr>\n",
       "  </tbody>\n",
       "</table>\n",
       "</div>"
      ],
      "text/plain": [
       "    angka      bulan\n",
       "0       1    Januari\n",
       "1       2   Februari\n",
       "2       3      Maret\n",
       "3       4      April\n",
       "4       5        Mei\n",
       "5       6       Juni\n",
       "6       7       Juli\n",
       "7       8    Agustus\n",
       "8       9  September\n",
       "9      10    Oktober\n",
       "10     11   November\n",
       "11     12   Desember"
      ]
     },
     "execution_count": 65,
     "metadata": {},
     "output_type": "execute_result"
    }
   ],
   "source": [
    "df_bulan = pd.DataFrame(dict_bulan)\n",
    "df_bulan"
   ]
  },
  {
   "cell_type": "code",
   "execution_count": 66,
   "metadata": {},
   "outputs": [],
   "source": [
    "df_bulan.to_csv('Banjir/Bulan.csv', index=False)"
   ]
  }
 ],
 "metadata": {
  "kernelspec": {
   "display_name": "Python 3",
   "language": "python",
   "name": "python3"
  },
  "language_info": {
   "codemirror_mode": {
    "name": "ipython",
    "version": 3
   },
   "file_extension": ".py",
   "mimetype": "text/x-python",
   "name": "python",
   "nbconvert_exporter": "python",
   "pygments_lexer": "ipython3",
   "version": "3.11.2"
  },
  "orig_nbformat": 4
 },
 "nbformat": 4,
 "nbformat_minor": 2
}
